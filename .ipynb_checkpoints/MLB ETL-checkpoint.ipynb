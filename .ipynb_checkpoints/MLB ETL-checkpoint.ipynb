{
 "cells": [
  {
   "cell_type": "code",
   "execution_count": 1,
   "metadata": {},
   "outputs": [],
   "source": [
    "#Dependencies \n",
    "import pandas as pd \n",
    "import sqlalchemy\n",
    "from sqlalchemy.ext.automap import automap_base\n",
    "from sqlalchemy.orm import Session\n",
    "from sqlalchemy import create_engine, func\n",
    "from api_keys import g_key\n",
    "import requests\n",
    "import json\n",
    "import time\n",
    "from bs4 import BeautifulSoup as bs\n"
   ]
  },
  {
   "cell_type": "code",
   "execution_count": 2,
   "metadata": {},
   "outputs": [],
   "source": [
    "s = requests.Session()\n",
    "url = \"https://en.wikipedia.org/wiki/2019_Major_League_Baseball_season\"\n"
   ]
  },
  {
   "cell_type": "code",
   "execution_count": 3,
   "metadata": {},
   "outputs": [
    {
     "data": {
      "text/plain": [
       "<Response [200]>"
      ]
     },
     "execution_count": 3,
     "metadata": {},
     "output_type": "execute_result"
    }
   ],
   "source": [
    "response = s.get(url, timeout=10)\n",
    "response"
   ]
  },
  {
   "cell_type": "code",
   "execution_count": 4,
   "metadata": {},
   "outputs": [],
   "source": [
    "soup = bs(response.text, 'html.parser')\n"
   ]
  },
  {
   "cell_type": "code",
   "execution_count": 5,
   "metadata": {},
   "outputs": [],
   "source": [
    "# response.text"
   ]
  },
  {
   "cell_type": "code",
   "execution_count": null,
   "metadata": {},
   "outputs": [],
   "source": []
  },
  {
   "cell_type": "code",
   "execution_count": 6,
   "metadata": {},
   "outputs": [
    {
     "name": "stdout",
     "output_type": "stream",
     "text": [
      "2019 Major League Baseball season\n"
     ]
    }
   ],
   "source": [
    "# # testing scraping\n",
    "title = soup.find(id=\"firstHeading\")\n",
    "print(title.string)"
   ]
  },
  {
   "cell_type": "code",
   "execution_count": 7,
   "metadata": {
    "scrolled": true
   },
   "outputs": [],
   "source": [
    "attendance_table = soup.find('table', {'class': 'wikitable sortable'})\n",
    "# attendance_table()"
   ]
  },
  {
   "cell_type": "code",
   "execution_count": 8,
   "metadata": {},
   "outputs": [],
   "source": [
    "# text_items = attendance_table.findAll(text=True)\n",
    "# no_footnotes = [text for text in text_items if text[0] != '[']\n",
    "# puretext = ''.join(no_footnotes)\n",
    "# puretext"
   ]
  },
  {
   "cell_type": "code",
   "execution_count": 9,
   "metadata": {
    "scrolled": true
   },
   "outputs": [],
   "source": [
    "# # row_headers = attendance_table.findAll(lambda tag: tag.name=='th')\n",
    "# row_headers"
   ]
  },
  {
   "cell_type": "code",
   "execution_count": 10,
   "metadata": {
    "scrolled": true
   },
   "outputs": [],
   "source": [
    "# # header = [string.rstrip() for th in rows[0].find_all('th')]\n",
    "# full_table = attendance_table.findAll(lambda tag: tag.name=='tr')\n",
    "# print(full_table)\n",
    "# # print(soup.get_text())"
   ]
  },
  {
   "cell_type": "code",
   "execution_count": 11,
   "metadata": {},
   "outputs": [],
   "source": [
    "# c1=[]\n",
    "# c2=[]\n",
    "# c3=[]\n",
    "# c4=[]\n",
    "# c5=[]\n",
    "# c6=[]\n",
    "# c7=[]\n",
    "# c8=[]"
   ]
  },
  {
   "cell_type": "code",
   "execution_count": 12,
   "metadata": {
    "scrolled": true
   },
   "outputs": [],
   "source": [
    "\n",
    "\n",
    "# for row in attendance_table.findAll(\"tr\"):\n",
    "#     cells = row.findAll('td')\n",
    "#     if len(cells)==7:\n",
    "#         c1.append([0])\n",
    "#         c2.append([1])\n",
    "#         c3.append([2])\n",
    "#         c4.append([3])\n",
    "#         c5.append([4])\n",
    "#         c6.append([5])\n",
    "#         c7.append([6])\n",
    "                  \n",
    "# print(row)\n",
    "                  \n"
   ]
  },
  {
   "cell_type": "code",
   "execution_count": 13,
   "metadata": {},
   "outputs": [
    {
     "data": {
      "text/plain": [
       "'https://en.wikipedia.org/wiki/2019_Major_League_Baseball_season'"
      ]
     },
     "execution_count": 13,
     "metadata": {},
     "output_type": "execute_result"
    }
   ],
   "source": [
    "url"
   ]
  },
  {
   "cell_type": "code",
   "execution_count": 14,
   "metadata": {},
   "outputs": [
    {
     "data": {
      "text/plain": [
       "[]"
      ]
     },
     "execution_count": 14,
     "metadata": {},
     "output_type": "execute_result"
    }
   ],
   "source": [
    "table=soup.find('table', class_='sortable')\n",
    "table_rows=table.findAll('tr')\n",
    "all_data=[]\n",
    "for each_row in table_rows: \n",
    "    try: \n",
    "        all_data.append(each_row.findAll('td').text)\n",
    "    except: \n",
    "        pass\n",
    "all_data"
   ]
  },
  {
   "cell_type": "code",
   "execution_count": 15,
   "metadata": {},
   "outputs": [],
   "source": [
    "# table"
   ]
  },
  {
   "cell_type": "code",
   "execution_count": 16,
   "metadata": {
    "scrolled": true
   },
   "outputs": [],
   "source": [
    "# table.findall('tbody')"
   ]
  },
  {
   "cell_type": "code",
   "execution_count": 17,
   "metadata": {},
   "outputs": [
    {
     "name": "stdout",
     "output_type": "stream",
     "text": [
      "0\n",
      "Index(['2019 MLB season', '2019 MLB season.1'], dtype='object')\n",
      "1\n",
      "Int64Index([0, 1, 2, 3, 4, 5, 6], dtype='int64')\n",
      "2\n",
      "Index(['vteAL East', 'W', 'L', 'Pct.', 'GB', 'Home', 'Road'], dtype='object')\n",
      "3\n",
      "Index(['vteAL Central', 'W', 'L', 'Pct.', 'GB', 'Home', 'Road'], dtype='object')\n",
      "4\n",
      "Index(['vteAL West', 'W', 'L', 'Pct.', 'GB', 'Home', 'Road'], dtype='object')\n",
      "5\n",
      "Index(['vteNL East', 'W', 'L', 'Pct.', 'GB', 'Home', 'Road'], dtype='object')\n",
      "6\n",
      "Index(['vteNL Central', 'W', 'L', 'Pct.', 'GB', 'Home', 'Road'], dtype='object')\n",
      "7\n",
      "Index(['vteNL West', 'W', 'L', 'Pct.', 'GB', 'Home', 'Road'], dtype='object')\n",
      "8\n",
      "Int64Index([0, 1, 2, 3, 4, 5, 6, 7, 8, 9, 10, 11, 12, 13, 14, 15, 16, 17, 18,\n",
      "            19],\n",
      "           dtype='int64')\n",
      "9\n",
      "Index(['Team', 'Former GM', 'Reason for leaving', 'New GM', 'Notes'], dtype='object')\n",
      "10\n",
      "Index(['Date', 'Team', 'Former GM', 'Reason for leaving', 'New GM', 'Notes'], dtype='object')\n",
      "11\n",
      "Index(['Team', 'Former manager', 'Interim manager', 'Reason for leaving',\n",
      "       'New Manager', 'Notes'],\n",
      "      dtype='object')\n",
      "12\n",
      "Index(['Team', 'Former manager', 'Interim manager', 'Reason for leaving',\n",
      "       'New manager', 'Notes'],\n",
      "      dtype='object')\n",
      "13\n",
      "Int64Index([0, 1, 2], dtype='int64')\n",
      "14\n",
      "Index(['Stat', 'Player', 'Total'], dtype='object')\n",
      "15\n",
      "Index(['Stat', 'Player', 'Total'], dtype='object')\n",
      "16\n",
      "Int64Index([0, 1, 2], dtype='int64')\n",
      "17\n",
      "Index(['Stat', 'Player', 'Total'], dtype='object')\n",
      "18\n",
      "Index(['Stat', 'Player', 'Total'], dtype='object')\n",
      "19\n",
      "MultiIndex([('Baseball Writers' Association of America Awards', ...),\n",
      "            ('Baseball Writers' Association of America Awards', ...),\n",
      "            ('Baseball Writers' Association of America Awards', ...),\n",
      "            ('Baseball Writers' Association of America Awards', ...),\n",
      "            ('Baseball Writers' Association of America Awards', ...),\n",
      "            ('Baseball Writers' Association of America Awards', ...),\n",
      "            ('Baseball Writers' Association of America Awards', ...),\n",
      "            ('Baseball Writers' Association of America Awards', ...),\n",
      "            ('Baseball Writers' Association of America Awards', ...)],\n",
      "           )\n",
      "20\n",
      "MultiIndex([('All-MLB First Team',           'Position'),\n",
      "            ('All-MLB First Team',      'Player (Team)'),\n",
      "            ('All-MLB First Team', 'Unnamed: 2_level_1'),\n",
      "            ('All-MLB First Team', 'Unnamed: 3_level_1'),\n",
      "            ('All-MLB First Team', 'Unnamed: 4_level_1'),\n",
      "            ('All-MLB First Team', 'Unnamed: 5_level_1'),\n",
      "            ('All-MLB First Team', 'Unnamed: 6_level_1'),\n",
      "            ('All-MLB First Team', 'Unnamed: 7_level_1'),\n",
      "            ('All-MLB First Team', 'Unnamed: 8_level_1')],\n",
      "           )\n",
      "21\n",
      "MultiIndex([('Fielding Bible Awards',           'Position'),\n",
      "            ('Fielding Bible Awards',             'Player'),\n",
      "            ('Fielding Bible Awards', 'Unnamed: 2_level_1'),\n",
      "            ('Fielding Bible Awards', 'Unnamed: 3_level_1'),\n",
      "            ('Fielding Bible Awards', 'Unnamed: 4_level_1'),\n",
      "            ('Fielding Bible Awards', 'Unnamed: 5_level_1'),\n",
      "            ('Fielding Bible Awards', 'Unnamed: 6_level_1'),\n",
      "            ('Fielding Bible Awards', 'Unnamed: 7_level_1'),\n",
      "            ('Fielding Bible Awards', 'Unnamed: 8_level_1')],\n",
      "           )\n",
      "22\n",
      "Int64Index([0, 1, 2], dtype='int64')\n",
      "23\n",
      "Index(['Month', 'American League', 'National League'], dtype='object')\n",
      "24\n",
      "Index(['Month', 'American League', 'National League'], dtype='object')\n",
      "25\n",
      "Index(['Month', 'American League', 'National League'], dtype='object')\n",
      "26\n",
      "Index(['Team Name', 'Wins', '%±', 'Home attendance', '%±.1', 'Per Game',\n",
      "       'Est. Payroll', '%±.2'],\n",
      "      dtype='object')\n",
      "27\n",
      "Index(['Team', 'Special occasion'], dtype='object')\n",
      "28\n",
      "Int64Index([0, 1], dtype='int64')\n",
      "29\n",
      "Index(['vte2019 MLB season by team', 'vte2019 MLB season by team.1'], dtype='object')\n",
      "30\n",
      "Int64Index([0, 1], dtype='int64')\n",
      "31\n",
      "Int64Index([0, 1], dtype='int64')\n",
      "32\n",
      "Int64Index([0, 1], dtype='int64')\n",
      "33\n",
      "Index(['vteMajor League Baseball seasons', 'vteMajor League Baseball seasons.1'], dtype='object')\n",
      "34\n",
      "Int64Index([0, 1], dtype='int64')\n",
      "35\n",
      "Int64Index([0, 1], dtype='int64')\n",
      "36\n",
      "Index(['vte2019 Major League Baseball postseason', 'vte2019 Major League Baseball postseason.1'], dtype='object')\n"
     ]
    }
   ],
   "source": [
    "# import pandas as pd\n",
    "tables=pd.read_html(url)\n",
    "for idx, each_table in enumerate(tables): \n",
    "    print(idx)\n",
    "    print(each_table.columns)"
   ]
  },
  {
   "cell_type": "code",
   "execution_count": 23,
   "metadata": {},
   "outputs": [],
   "source": [
    "mlb_attendance = tables[26]"
   ]
  },
  {
   "cell_type": "code",
   "execution_count": 24,
   "metadata": {
    "scrolled": true
   },
   "outputs": [
    {
     "data": {
      "text/plain": [
       "0       Los Angeles Dodgers\n",
       "1       St. Louis Cardinals\n",
       "2          New York Yankees\n",
       "3              Chicago Cubs\n",
       "4        Los Angeles Angels\n",
       "5          Colorado Rockies\n",
       "6         Milwaukee Brewers\n",
       "7            Boston Red Sox\n",
       "8            Houston Astros\n",
       "9     Philadelphia Phillies\n",
       "10     San Francisco Giants\n",
       "11           Atlanta Braves\n",
       "12            New York Mets\n",
       "13         San Diego Padres\n",
       "14          Minnesota Twins\n",
       "15     Washington Nationals\n",
       "16     Arizona Diamondbacks\n",
       "17            Texas Rangers\n",
       "18          Cincinnati Reds\n",
       "19         Seattle Mariners\n",
       "20        Toronto Blue Jays\n",
       "21        Cleveland Indians\n",
       "22        Oakland Athletics\n",
       "23        Chicago White Sox\n",
       "24           Detroit Tigers\n",
       "25       Pittsburgh Pirates\n",
       "26       Kansas City Royals\n",
       "27        Baltimore Orioles\n",
       "28           Tampa Bay Rays\n",
       "29            Miami Marlins\n",
       "Name: Team Name, dtype: object"
      ]
     },
     "execution_count": 24,
     "metadata": {},
     "output_type": "execute_result"
    }
   ],
   "source": [
    "mlb_attendance = pd.DataFrame(mlb_attendance)\n",
    "TNC = mlb_attendance[\"Team Name\"].str[:-5]\n",
    "TNC"
   ]
  },
  {
   "cell_type": "code",
   "execution_count": 25,
   "metadata": {},
   "outputs": [],
   "source": [
    "mlb_attendance.insert(0,\"Team Names\",TNC)\n"
   ]
  },
  {
   "cell_type": "code",
   "execution_count": 26,
   "metadata": {
    "scrolled": true
   },
   "outputs": [
    {
     "data": {
      "text/html": [
       "<div>\n",
       "<style scoped>\n",
       "    .dataframe tbody tr th:only-of-type {\n",
       "        vertical-align: middle;\n",
       "    }\n",
       "\n",
       "    .dataframe tbody tr th {\n",
       "        vertical-align: top;\n",
       "    }\n",
       "\n",
       "    .dataframe thead th {\n",
       "        text-align: right;\n",
       "    }\n",
       "</style>\n",
       "<table border=\"1\" class=\"dataframe\">\n",
       "  <thead>\n",
       "    <tr style=\"text-align: right;\">\n",
       "      <th></th>\n",
       "      <th>Team Names</th>\n",
       "      <th>Home attendance</th>\n",
       "      <th>Per Game</th>\n",
       "    </tr>\n",
       "  </thead>\n",
       "  <tbody>\n",
       "    <tr>\n",
       "      <th>0</th>\n",
       "      <td>Los Angeles Dodgers</td>\n",
       "      <td>3974309</td>\n",
       "      <td>49066</td>\n",
       "    </tr>\n",
       "    <tr>\n",
       "      <th>1</th>\n",
       "      <td>St. Louis Cardinals</td>\n",
       "      <td>3480393</td>\n",
       "      <td>42968</td>\n",
       "    </tr>\n",
       "    <tr>\n",
       "      <th>2</th>\n",
       "      <td>New York Yankees</td>\n",
       "      <td>3304404</td>\n",
       "      <td>40795</td>\n",
       "    </tr>\n",
       "    <tr>\n",
       "      <th>3</th>\n",
       "      <td>Chicago Cubs</td>\n",
       "      <td>3094865</td>\n",
       "      <td>38208</td>\n",
       "    </tr>\n",
       "    <tr>\n",
       "      <th>4</th>\n",
       "      <td>Los Angeles Angels</td>\n",
       "      <td>3023012</td>\n",
       "      <td>37321</td>\n",
       "    </tr>\n",
       "    <tr>\n",
       "      <th>5</th>\n",
       "      <td>Colorado Rockies</td>\n",
       "      <td>2993244</td>\n",
       "      <td>36954</td>\n",
       "    </tr>\n",
       "    <tr>\n",
       "      <th>6</th>\n",
       "      <td>Milwaukee Brewers</td>\n",
       "      <td>2923333</td>\n",
       "      <td>36091</td>\n",
       "    </tr>\n",
       "    <tr>\n",
       "      <th>7</th>\n",
       "      <td>Boston Red Sox</td>\n",
       "      <td>2915502</td>\n",
       "      <td>35994</td>\n",
       "    </tr>\n",
       "    <tr>\n",
       "      <th>8</th>\n",
       "      <td>Houston Astros</td>\n",
       "      <td>2857367</td>\n",
       "      <td>35276</td>\n",
       "    </tr>\n",
       "    <tr>\n",
       "      <th>9</th>\n",
       "      <td>Philadelphia Phillies</td>\n",
       "      <td>2727421</td>\n",
       "      <td>33672</td>\n",
       "    </tr>\n",
       "    <tr>\n",
       "      <th>10</th>\n",
       "      <td>San Francisco Giants</td>\n",
       "      <td>2707760</td>\n",
       "      <td>33429</td>\n",
       "    </tr>\n",
       "    <tr>\n",
       "      <th>11</th>\n",
       "      <td>Atlanta Braves</td>\n",
       "      <td>2654920</td>\n",
       "      <td>32777</td>\n",
       "    </tr>\n",
       "    <tr>\n",
       "      <th>12</th>\n",
       "      <td>New York Mets</td>\n",
       "      <td>2442532</td>\n",
       "      <td>30155</td>\n",
       "    </tr>\n",
       "    <tr>\n",
       "      <th>13</th>\n",
       "      <td>San Diego Padres</td>\n",
       "      <td>2396399</td>\n",
       "      <td>29585</td>\n",
       "    </tr>\n",
       "    <tr>\n",
       "      <th>14</th>\n",
       "      <td>Minnesota Twins</td>\n",
       "      <td>2303299</td>\n",
       "      <td>28436</td>\n",
       "    </tr>\n",
       "    <tr>\n",
       "      <th>15</th>\n",
       "      <td>Washington Nationals</td>\n",
       "      <td>2259781</td>\n",
       "      <td>27899</td>\n",
       "    </tr>\n",
       "    <tr>\n",
       "      <th>16</th>\n",
       "      <td>Arizona Diamondbacks</td>\n",
       "      <td>2135510</td>\n",
       "      <td>26364</td>\n",
       "    </tr>\n",
       "    <tr>\n",
       "      <th>17</th>\n",
       "      <td>Texas Rangers</td>\n",
       "      <td>2132994</td>\n",
       "      <td>26333</td>\n",
       "    </tr>\n",
       "    <tr>\n",
       "      <th>18</th>\n",
       "      <td>Cincinnati Reds</td>\n",
       "      <td>1809075</td>\n",
       "      <td>22334</td>\n",
       "    </tr>\n",
       "    <tr>\n",
       "      <th>19</th>\n",
       "      <td>Seattle Mariners</td>\n",
       "      <td>1791109</td>\n",
       "      <td>22112</td>\n",
       "    </tr>\n",
       "    <tr>\n",
       "      <th>20</th>\n",
       "      <td>Toronto Blue Jays</td>\n",
       "      <td>1750144</td>\n",
       "      <td>21607</td>\n",
       "    </tr>\n",
       "    <tr>\n",
       "      <th>21</th>\n",
       "      <td>Cleveland Indians</td>\n",
       "      <td>1738642</td>\n",
       "      <td>21465</td>\n",
       "    </tr>\n",
       "    <tr>\n",
       "      <th>22</th>\n",
       "      <td>Oakland Athletics</td>\n",
       "      <td>1670734</td>\n",
       "      <td>20626</td>\n",
       "    </tr>\n",
       "    <tr>\n",
       "      <th>23</th>\n",
       "      <td>Chicago White Sox</td>\n",
       "      <td>1649775</td>\n",
       "      <td>20622</td>\n",
       "    </tr>\n",
       "    <tr>\n",
       "      <th>24</th>\n",
       "      <td>Detroit Tigers</td>\n",
       "      <td>1501430</td>\n",
       "      <td>18536</td>\n",
       "    </tr>\n",
       "    <tr>\n",
       "      <th>25</th>\n",
       "      <td>Pittsburgh Pirates</td>\n",
       "      <td>1491439</td>\n",
       "      <td>18413</td>\n",
       "    </tr>\n",
       "    <tr>\n",
       "      <th>26</th>\n",
       "      <td>Kansas City Royals</td>\n",
       "      <td>1479659</td>\n",
       "      <td>18267</td>\n",
       "    </tr>\n",
       "    <tr>\n",
       "      <th>27</th>\n",
       "      <td>Baltimore Orioles</td>\n",
       "      <td>1307807</td>\n",
       "      <td>16146</td>\n",
       "    </tr>\n",
       "    <tr>\n",
       "      <th>28</th>\n",
       "      <td>Tampa Bay Rays</td>\n",
       "      <td>1178735</td>\n",
       "      <td>14552</td>\n",
       "    </tr>\n",
       "    <tr>\n",
       "      <th>29</th>\n",
       "      <td>Miami Marlins</td>\n",
       "      <td>811302</td>\n",
       "      <td>10016</td>\n",
       "    </tr>\n",
       "  </tbody>\n",
       "</table>\n",
       "</div>"
      ],
      "text/plain": [
       "               Team Names  Home attendance  Per Game\n",
       "0     Los Angeles Dodgers          3974309     49066\n",
       "1     St. Louis Cardinals          3480393     42968\n",
       "2        New York Yankees          3304404     40795\n",
       "3            Chicago Cubs          3094865     38208\n",
       "4      Los Angeles Angels          3023012     37321\n",
       "5        Colorado Rockies          2993244     36954\n",
       "6       Milwaukee Brewers          2923333     36091\n",
       "7          Boston Red Sox          2915502     35994\n",
       "8          Houston Astros          2857367     35276\n",
       "9   Philadelphia Phillies          2727421     33672\n",
       "10   San Francisco Giants          2707760     33429\n",
       "11         Atlanta Braves          2654920     32777\n",
       "12          New York Mets          2442532     30155\n",
       "13       San Diego Padres          2396399     29585\n",
       "14        Minnesota Twins          2303299     28436\n",
       "15   Washington Nationals          2259781     27899\n",
       "16   Arizona Diamondbacks          2135510     26364\n",
       "17          Texas Rangers          2132994     26333\n",
       "18        Cincinnati Reds          1809075     22334\n",
       "19       Seattle Mariners          1791109     22112\n",
       "20      Toronto Blue Jays          1750144     21607\n",
       "21      Cleveland Indians          1738642     21465\n",
       "22      Oakland Athletics          1670734     20626\n",
       "23      Chicago White Sox          1649775     20622\n",
       "24         Detroit Tigers          1501430     18536\n",
       "25     Pittsburgh Pirates          1491439     18413\n",
       "26     Kansas City Royals          1479659     18267\n",
       "27      Baltimore Orioles          1307807     16146\n",
       "28         Tampa Bay Rays          1178735     14552\n",
       "29          Miami Marlins           811302     10016"
      ]
     },
     "execution_count": 26,
     "metadata": {},
     "output_type": "execute_result"
    }
   ],
   "source": [
    "mlb_attendance = mlb_attendance[['Team Names','Home attendance', 'Per Game']]\n",
    "mlb_attendance"
   ]
  },
  {
   "cell_type": "code",
   "execution_count": 20,
   "metadata": {},
   "outputs": [],
   "source": [
    "# d['Team Name'] = c1\n",
    "# d['Wins'] = c2\n",
    "# d['Percent change'] = c3\n",
    "# d['Home attendance'] = c4\n",
    "# d['Average Home Attendance Per Game'] = c5\n",
    "# d['Est. Payroll'] = c6\n"
   ]
  },
  {
   "cell_type": "code",
   "execution_count": 21,
   "metadata": {},
   "outputs": [],
   "source": [
    "# print(d)"
   ]
  },
  {
   "cell_type": "code",
   "execution_count": 27,
   "metadata": {
    "scrolled": false
   },
   "outputs": [],
   "source": [
    "# mlb_attendance = pd.DataFrame(mlb_attendance)\n",
    "# mlb_attendance"
   ]
  },
  {
   "cell_type": "code",
   "execution_count": 227,
   "metadata": {},
   "outputs": [],
   "source": [
    "# # mlb_attendance_clean = mlb_attendance.insert(team_names)\n",
    "# # mlb_attendance[\"Team Name\"] = team_names\n",
    "# mlb_attendance"
   ]
  },
  {
   "cell_type": "code",
   "execution_count": null,
   "metadata": {},
   "outputs": [],
   "source": []
  },
  {
   "cell_type": "code",
   "execution_count": null,
   "metadata": {},
   "outputs": [],
   "source": []
  },
  {
   "cell_type": "code",
   "execution_count": 113,
   "metadata": {},
   "outputs": [
    {
     "data": {
      "text/html": [
       "<div>\n",
       "<style scoped>\n",
       "    .dataframe tbody tr th:only-of-type {\n",
       "        vertical-align: middle;\n",
       "    }\n",
       "\n",
       "    .dataframe tbody tr th {\n",
       "        vertical-align: top;\n",
       "    }\n",
       "\n",
       "    .dataframe thead th {\n",
       "        text-align: right;\n",
       "    }\n",
       "</style>\n",
       "<table border=\"1\" class=\"dataframe\">\n",
       "  <thead>\n",
       "    <tr style=\"text-align: right;\">\n",
       "      <th></th>\n",
       "      <th>Team_Names</th>\n",
       "      <th>Home_attendance</th>\n",
       "      <th>Per_Game</th>\n",
       "      <th>Lat</th>\n",
       "      <th>Long</th>\n",
       "    </tr>\n",
       "  </thead>\n",
       "  <tbody>\n",
       "    <tr>\n",
       "      <th>0</th>\n",
       "      <td>Los Angeles Dodgers</td>\n",
       "      <td>3974309</td>\n",
       "      <td>49066</td>\n",
       "      <td>34.072437</td>\n",
       "      <td>-118.246879</td>\n",
       "    </tr>\n",
       "    <tr>\n",
       "      <th>1</th>\n",
       "      <td>St. Louis Cardinals</td>\n",
       "      <td>3480393</td>\n",
       "      <td>42968</td>\n",
       "      <td>38.629683</td>\n",
       "      <td>-90.188247</td>\n",
       "    </tr>\n",
       "    <tr>\n",
       "      <th>2</th>\n",
       "      <td>New York Yankees</td>\n",
       "      <td>3304404</td>\n",
       "      <td>40795</td>\n",
       "      <td>40.819782</td>\n",
       "      <td>-73.929939</td>\n",
       "    </tr>\n",
       "    <tr>\n",
       "      <th>3</th>\n",
       "      <td>Chicago Cubs</td>\n",
       "      <td>3094865</td>\n",
       "      <td>38208</td>\n",
       "      <td>41.947201</td>\n",
       "      <td>-87.656413</td>\n",
       "    </tr>\n",
       "    <tr>\n",
       "      <th>4</th>\n",
       "      <td>Los Angeles Angels</td>\n",
       "      <td>3023012</td>\n",
       "      <td>37321</td>\n",
       "      <td>33.799572</td>\n",
       "      <td>-117.889031</td>\n",
       "    </tr>\n",
       "    <tr>\n",
       "      <th>5</th>\n",
       "      <td>Colorado Rockies</td>\n",
       "      <td>2993244</td>\n",
       "      <td>36954</td>\n",
       "      <td>39.756980</td>\n",
       "      <td>-104.965329</td>\n",
       "    </tr>\n",
       "    <tr>\n",
       "      <th>6</th>\n",
       "      <td>Milwaukee Brewers</td>\n",
       "      <td>2923333</td>\n",
       "      <td>36091</td>\n",
       "      <td>43.042050</td>\n",
       "      <td>-87.905599</td>\n",
       "    </tr>\n",
       "    <tr>\n",
       "      <th>7</th>\n",
       "      <td>Boston Red Sox</td>\n",
       "      <td>2915502</td>\n",
       "      <td>35994</td>\n",
       "      <td>42.346613</td>\n",
       "      <td>-71.098817</td>\n",
       "    </tr>\n",
       "    <tr>\n",
       "      <th>8</th>\n",
       "      <td>Houston Astros</td>\n",
       "      <td>2857367</td>\n",
       "      <td>35276</td>\n",
       "      <td>29.760450</td>\n",
       "      <td>-95.369784</td>\n",
       "    </tr>\n",
       "    <tr>\n",
       "      <th>9</th>\n",
       "      <td>Philadelphia Phillies</td>\n",
       "      <td>2727421</td>\n",
       "      <td>33672</td>\n",
       "      <td>39.952313</td>\n",
       "      <td>-75.162392</td>\n",
       "    </tr>\n",
       "    <tr>\n",
       "      <th>10</th>\n",
       "      <td>San Francisco Giants</td>\n",
       "      <td>2707760</td>\n",
       "      <td>33429</td>\n",
       "      <td>37.779870</td>\n",
       "      <td>-122.389754</td>\n",
       "    </tr>\n",
       "    <tr>\n",
       "      <th>11</th>\n",
       "      <td>Atlanta Braves</td>\n",
       "      <td>2654920</td>\n",
       "      <td>32777</td>\n",
       "      <td>33.746910</td>\n",
       "      <td>-84.391239</td>\n",
       "    </tr>\n",
       "    <tr>\n",
       "      <th>12</th>\n",
       "      <td>New York Mets</td>\n",
       "      <td>2442532</td>\n",
       "      <td>30155</td>\n",
       "      <td>40.755350</td>\n",
       "      <td>-73.843219</td>\n",
       "    </tr>\n",
       "    <tr>\n",
       "      <th>13</th>\n",
       "      <td>San Diego Padres</td>\n",
       "      <td>2396399</td>\n",
       "      <td>29585</td>\n",
       "      <td>32.752148</td>\n",
       "      <td>-117.143635</td>\n",
       "    </tr>\n",
       "    <tr>\n",
       "      <th>14</th>\n",
       "      <td>Minnesota Twins</td>\n",
       "      <td>2303299</td>\n",
       "      <td>28436</td>\n",
       "      <td>44.974346</td>\n",
       "      <td>-93.259616</td>\n",
       "    </tr>\n",
       "    <tr>\n",
       "      <th>15</th>\n",
       "      <td>Washington Nationals</td>\n",
       "      <td>2259781</td>\n",
       "      <td>27899</td>\n",
       "      <td>38.870000</td>\n",
       "      <td>-77.010000</td>\n",
       "    </tr>\n",
       "    <tr>\n",
       "      <th>16</th>\n",
       "      <td>Arizona Diamondbacks</td>\n",
       "      <td>2135510</td>\n",
       "      <td>26364</td>\n",
       "      <td>33.452922</td>\n",
       "      <td>-112.038669</td>\n",
       "    </tr>\n",
       "    <tr>\n",
       "      <th>17</th>\n",
       "      <td>Texas Rangers</td>\n",
       "      <td>2132994</td>\n",
       "      <td>26333</td>\n",
       "      <td>32.750156</td>\n",
       "      <td>-97.081117</td>\n",
       "    </tr>\n",
       "    <tr>\n",
       "      <th>18</th>\n",
       "      <td>Cincinnati Reds</td>\n",
       "      <td>1809075</td>\n",
       "      <td>22334</td>\n",
       "      <td>39.107183</td>\n",
       "      <td>-84.507713</td>\n",
       "    </tr>\n",
       "    <tr>\n",
       "      <th>19</th>\n",
       "      <td>Seattle Mariners</td>\n",
       "      <td>1791109</td>\n",
       "      <td>22112</td>\n",
       "      <td>47.601740</td>\n",
       "      <td>-122.330829</td>\n",
       "    </tr>\n",
       "    <tr>\n",
       "      <th>20</th>\n",
       "      <td>Toronto Blue Jays</td>\n",
       "      <td>1750144</td>\n",
       "      <td>21607</td>\n",
       "      <td>43.641653</td>\n",
       "      <td>-79.391700</td>\n",
       "    </tr>\n",
       "    <tr>\n",
       "      <th>21</th>\n",
       "      <td>Cleveland Indians</td>\n",
       "      <td>1738642</td>\n",
       "      <td>21465</td>\n",
       "      <td>41.495149</td>\n",
       "      <td>-81.687090</td>\n",
       "    </tr>\n",
       "    <tr>\n",
       "      <th>22</th>\n",
       "      <td>Oakland Athletics</td>\n",
       "      <td>1670734</td>\n",
       "      <td>20626</td>\n",
       "      <td>37.749230</td>\n",
       "      <td>-122.196487</td>\n",
       "    </tr>\n",
       "    <tr>\n",
       "      <th>23</th>\n",
       "      <td>Chicago White Sox</td>\n",
       "      <td>1649775</td>\n",
       "      <td>20622</td>\n",
       "      <td>41.830883</td>\n",
       "      <td>-87.635083</td>\n",
       "    </tr>\n",
       "    <tr>\n",
       "      <th>24</th>\n",
       "      <td>Detroit Tigers</td>\n",
       "      <td>1501430</td>\n",
       "      <td>18536</td>\n",
       "      <td>42.346354</td>\n",
       "      <td>-83.059619</td>\n",
       "    </tr>\n",
       "    <tr>\n",
       "      <th>25</th>\n",
       "      <td>Pittsburgh Pirates</td>\n",
       "      <td>1491439</td>\n",
       "      <td>18413</td>\n",
       "      <td>40.461503</td>\n",
       "      <td>-80.008924</td>\n",
       "    </tr>\n",
       "    <tr>\n",
       "      <th>26</th>\n",
       "      <td>Kansas City Royals</td>\n",
       "      <td>1479659</td>\n",
       "      <td>18267</td>\n",
       "      <td>39.102220</td>\n",
       "      <td>-94.583559</td>\n",
       "    </tr>\n",
       "    <tr>\n",
       "      <th>27</th>\n",
       "      <td>Baltimore Orioles</td>\n",
       "      <td>1307807</td>\n",
       "      <td>16146</td>\n",
       "      <td>39.285243</td>\n",
       "      <td>-76.620103</td>\n",
       "    </tr>\n",
       "    <tr>\n",
       "      <th>28</th>\n",
       "      <td>Tampa Bay Rays</td>\n",
       "      <td>1178735</td>\n",
       "      <td>14552</td>\n",
       "      <td>27.768487</td>\n",
       "      <td>-82.648191</td>\n",
       "    </tr>\n",
       "    <tr>\n",
       "      <th>29</th>\n",
       "      <td>Miami Marlins</td>\n",
       "      <td>811302</td>\n",
       "      <td>10016</td>\n",
       "      <td>25.954428</td>\n",
       "      <td>-80.238164</td>\n",
       "    </tr>\n",
       "  </tbody>\n",
       "</table>\n",
       "</div>"
      ],
      "text/plain": [
       "               Team_Names  Home_attendance  Per_Game        Lat        Long\n",
       "0     Los Angeles Dodgers          3974309     49066  34.072437 -118.246879\n",
       "1     St. Louis Cardinals          3480393     42968  38.629683  -90.188247\n",
       "2        New York Yankees          3304404     40795  40.819782  -73.929939\n",
       "3            Chicago Cubs          3094865     38208  41.947201  -87.656413\n",
       "4      Los Angeles Angels          3023012     37321  33.799572 -117.889031\n",
       "5        Colorado Rockies          2993244     36954  39.756980 -104.965329\n",
       "6       Milwaukee Brewers          2923333     36091  43.042050  -87.905599\n",
       "7          Boston Red Sox          2915502     35994  42.346613  -71.098817\n",
       "8          Houston Astros          2857367     35276  29.760450  -95.369784\n",
       "9   Philadelphia Phillies          2727421     33672  39.952313  -75.162392\n",
       "10   San Francisco Giants          2707760     33429  37.779870 -122.389754\n",
       "11         Atlanta Braves          2654920     32777  33.746910  -84.391239\n",
       "12          New York Mets          2442532     30155  40.755350  -73.843219\n",
       "13       San Diego Padres          2396399     29585  32.752148 -117.143635\n",
       "14        Minnesota Twins          2303299     28436  44.974346  -93.259616\n",
       "15   Washington Nationals          2259781     27899  38.870000  -77.010000\n",
       "16   Arizona Diamondbacks          2135510     26364  33.452922 -112.038669\n",
       "17          Texas Rangers          2132994     26333  32.750156  -97.081117\n",
       "18        Cincinnati Reds          1809075     22334  39.107183  -84.507713\n",
       "19       Seattle Mariners          1791109     22112  47.601740 -122.330829\n",
       "20      Toronto Blue Jays          1750144     21607  43.641653  -79.391700\n",
       "21      Cleveland Indians          1738642     21465  41.495149  -81.687090\n",
       "22      Oakland Athletics          1670734     20626  37.749230 -122.196487\n",
       "23      Chicago White Sox          1649775     20622  41.830883  -87.635083\n",
       "24         Detroit Tigers          1501430     18536  42.346354  -83.059619\n",
       "25     Pittsburgh Pirates          1491439     18413  40.461503  -80.008924\n",
       "26     Kansas City Royals          1479659     18267  39.102220  -94.583559\n",
       "27      Baltimore Orioles          1307807     16146  39.285243  -76.620103\n",
       "28         Tampa Bay Rays          1178735     14552  27.768487  -82.648191\n",
       "29          Miami Marlins           811302     10016  25.954428  -80.238164"
      ]
     },
     "execution_count": 113,
     "metadata": {},
     "output_type": "execute_result"
    }
   ],
   "source": [
    "import csv\n",
    "mlb_table = pd.read_csv(\"mlb_attendance.csv\")\n",
    "# mlb_table = mlb_table[['Team Names','Home attendance', 'Per Game', 'Lat', 'Long']]\n",
    "# mlb_table.drop([\"Unnamed: 0\"], axis = 1)\n",
    "del mlb_table[\"Unnamed: 0\"]\n",
    "mlb_table.columns\n",
    "# mlb_table\n",
    "mlb_table"
   ]
  },
  {
   "cell_type": "code",
   "execution_count": 114,
   "metadata": {
    "scrolled": false
   },
   "outputs": [
    {
     "name": "stdout",
     "output_type": "stream",
     "text": [
      "2020-10-17 12:53:41,784 INFO sqlalchemy.engine.base.Engine SELECT CAST('test plain returns' AS VARCHAR(60)) AS anon_1\n",
      "2020-10-17 12:53:41,785 INFO sqlalchemy.engine.base.Engine ()\n",
      "2020-10-17 12:53:41,786 INFO sqlalchemy.engine.base.Engine SELECT CAST('test unicode returns' AS VARCHAR(60)) AS anon_1\n",
      "2020-10-17 12:53:41,787 INFO sqlalchemy.engine.base.Engine ()\n"
     ]
    }
   ],
   "source": [
    "engine = create_engine('sqlite:///sports.db', echo = True)\n",
    "sqlite_connection = engine.connect()"
   ]
  },
  {
   "cell_type": "code",
   "execution_count": 115,
   "metadata": {
    "scrolled": true
   },
   "outputs": [
    {
     "name": "stdout",
     "output_type": "stream",
     "text": [
      "2020-10-17 12:53:48,338 INFO sqlalchemy.engine.base.Engine PRAGMA main.table_info(\"mlb_data\")\n",
      "2020-10-17 12:53:48,339 INFO sqlalchemy.engine.base.Engine ()\n",
      "2020-10-17 12:53:48,341 INFO sqlalchemy.engine.base.Engine PRAGMA temp.table_info(\"mlb_data\")\n",
      "2020-10-17 12:53:48,341 INFO sqlalchemy.engine.base.Engine ()\n",
      "2020-10-17 12:53:48,344 INFO sqlalchemy.engine.base.Engine \n",
      "CREATE TABLE mlb_data (\n",
      "\t\"index\" BIGINT, \n",
      "\t\"Team_Names\" TEXT, \n",
      "\t\"Home_attendance\" BIGINT, \n",
      "\t\"Per_Game\" BIGINT, \n",
      "\t\"Lat\" FLOAT, \n",
      "\t\"Long\" FLOAT\n",
      ")\n",
      "\n",
      "\n",
      "2020-10-17 12:53:48,345 INFO sqlalchemy.engine.base.Engine ()\n",
      "2020-10-17 12:53:48,382 INFO sqlalchemy.engine.base.Engine COMMIT\n",
      "2020-10-17 12:53:48,383 INFO sqlalchemy.engine.base.Engine CREATE INDEX ix_mlb_data_index ON mlb_data (\"index\")\n",
      "2020-10-17 12:53:48,384 INFO sqlalchemy.engine.base.Engine ()\n",
      "2020-10-17 12:53:48,403 INFO sqlalchemy.engine.base.Engine COMMIT\n",
      "2020-10-17 12:53:48,406 INFO sqlalchemy.engine.base.Engine BEGIN (implicit)\n",
      "2020-10-17 12:53:48,409 INFO sqlalchemy.engine.base.Engine INSERT INTO mlb_data (\"index\", \"Team_Names\", \"Home_attendance\", \"Per_Game\", \"Lat\", \"Long\") VALUES (?, ?, ?, ?, ?, ?)\n",
      "2020-10-17 12:53:48,412 INFO sqlalchemy.engine.base.Engine ((0, 'Los Angeles Dodgers', 3974309, 49066, 34.072437, -118.246879), (1, 'St. Louis Cardinals', 3480393, 42968, 38.629683, -90.188247), (2, 'New York Yankees', 3304404, 40795, 40.819782000000004, -73.929939), (3, 'Chicago Cubs', 3094865, 38208, 41.947201, -87.656413), (4, 'Los Angeles Angels', 3023012, 37321, 33.799572, -117.889031), (5, 'Colorado Rockies', 2993244, 36954, 39.75698, -104.965329), (6, 'Milwaukee Brewers', 2923333, 36091, 43.04205, -87.905599), (7, 'Boston Red Sox', 2915502, 35994, 42.346613, -71.09881700000001)  ... displaying 10 of 30 total bound parameter sets ...  (28, 'Tampa Bay Rays', 1178735, 14552, 27.768487, -82.648191), (29, 'Miami Marlins', 811302, 10016, 25.954428, -80.238164))\n",
      "2020-10-17 12:53:48,416 INFO sqlalchemy.engine.base.Engine COMMIT\n"
     ]
    }
   ],
   "source": [
    "mlb_data = \"mlb_data\"\n",
    "mlb_table.to_sql(mlb_data, sqlite_connection, if_exists = 'fail')"
   ]
  },
  {
   "cell_type": "code",
   "execution_count": 116,
   "metadata": {
    "scrolled": false
   },
   "outputs": [
    {
     "name": "stdout",
     "output_type": "stream",
     "text": [
      "2020-10-17 12:53:53,663 INFO sqlalchemy.engine.base.Engine SELECT CAST('test plain returns' AS VARCHAR(60)) AS anon_1\n",
      "2020-10-17 12:53:53,664 INFO sqlalchemy.engine.base.Engine ()\n",
      "2020-10-17 12:53:53,666 INFO sqlalchemy.engine.base.Engine SELECT CAST('test unicode returns' AS VARCHAR(60)) AS anon_1\n",
      "2020-10-17 12:53:53,667 INFO sqlalchemy.engine.base.Engine ()\n"
     ]
    }
   ],
   "source": [
    "engine = create_engine('sqlite:///sports.db', echo = True)\n",
    "sqlite_connection = engine.connect()"
   ]
  },
  {
   "cell_type": "code",
   "execution_count": 117,
   "metadata": {},
   "outputs": [
    {
     "name": "stdout",
     "output_type": "stream",
     "text": [
      "2020-10-17 12:53:58,002 INFO sqlalchemy.engine.base.Engine select * from mlb_data limit 5;\n",
      "2020-10-17 12:53:58,003 INFO sqlalchemy.engine.base.Engine ()\n"
     ]
    },
    {
     "data": {
      "text/plain": [
       "[(0, 'Los Angeles Dodgers', 3974309, 49066, 34.072437, -118.246879),\n",
       " (1, 'St. Louis Cardinals', 3480393, 42968, 38.629683, -90.188247),\n",
       " (2, 'New York Yankees', 3304404, 40795, 40.819782000000004, -73.929939),\n",
       " (3, 'Chicago Cubs', 3094865, 38208, 41.947201, -87.656413),\n",
       " (4, 'Los Angeles Angels', 3023012, 37321, 33.799572, -117.889031)]"
      ]
     },
     "execution_count": 117,
     "metadata": {},
     "output_type": "execute_result"
    }
   ],
   "source": [
    "engine.execute('select * from mlb_data limit 5;').fetchall()\n"
   ]
  },
  {
   "cell_type": "code",
   "execution_count": 92,
   "metadata": {},
   "outputs": [
    {
     "name": "stdout",
     "output_type": "stream",
     "text": [
      "2020-10-17 12:19:12,289 INFO sqlalchemy.engine.base.Engine PRAGMA main.table_info(\"mlb\")\n",
      "2020-10-17 12:19:12,290 INFO sqlalchemy.engine.base.Engine ()\n",
      "2020-10-17 12:19:12,292 INFO sqlalchemy.engine.base.Engine PRAGMA main.table_info(\"mlb_data\")\n",
      "2020-10-17 12:19:12,293 INFO sqlalchemy.engine.base.Engine ()\n",
      "2020-10-17 12:19:12,295 INFO sqlalchemy.engine.base.Engine \n",
      "DROP TABLE mlb_data\n",
      "2020-10-17 12:19:12,297 INFO sqlalchemy.engine.base.Engine ()\n",
      "2020-10-17 12:19:12,336 INFO sqlalchemy.engine.base.Engine COMMIT\n",
      "2020-10-17 12:19:12,337 INFO sqlalchemy.engine.base.Engine \n",
      "DROP TABLE mlb\n",
      "2020-10-17 12:19:12,338 INFO sqlalchemy.engine.base.Engine ()\n",
      "2020-10-17 12:19:12,352 INFO sqlalchemy.engine.base.Engine COMMIT\n"
     ]
    }
   ],
   "source": [
    "Base.metadata.drop_all(engine)"
   ]
  },
  {
   "cell_type": "code",
   "execution_count": null,
   "metadata": {},
   "outputs": [],
   "source": []
  },
  {
   "cell_type": "code",
   "execution_count": 123,
   "metadata": {},
   "outputs": [
    {
     "name": "stdout",
     "output_type": "stream",
     "text": [
      "2020-10-17 12:54:49,718 INFO sqlalchemy.engine.base.Engine create table mlb3 (id_num bigint primary key,Team_Names text,Home_attendance\t bigint,Per_Game text,Lat double,Long double);\n",
      "2020-10-17 12:54:49,719 INFO sqlalchemy.engine.base.Engine ()\n",
      "2020-10-17 12:54:49,761 INFO sqlalchemy.engine.base.Engine COMMIT\n"
     ]
    },
    {
     "data": {
      "text/plain": [
       "<sqlalchemy.engine.result.ResultProxy at 0x1797c30>"
      ]
     },
     "execution_count": 123,
     "metadata": {},
     "output_type": "execute_result"
    }
   ],
   "source": [
    "# sql = text('DROP TABLE IF EXISTS mlb;')\n",
    "# result = engine.execute(sql)\n",
    "# mycursor.execute(drop)\n",
    "create_query_sql='create table mlb3 (\\\n",
    "id_num bigint primary key,\\\n",
    "Team_Names text,\\\n",
    "Home_attendance\t bigint,\\\n",
    "Per_Game text,\\\n",
    "Lat double,\\\n",
    "Long double\\\n",
    ");'\n",
    "sqlite_connection.execute(create_query_sql)"
   ]
  },
  {
   "cell_type": "code",
   "execution_count": 124,
   "metadata": {
    "scrolled": true
   },
   "outputs": [
    {
     "name": "stdout",
     "output_type": "stream",
     "text": [
      "2020-10-17 12:54:52,871 INFO sqlalchemy.engine.base.Engine SELECT name FROM sqlite_master WHERE type='table' ORDER BY name\n",
      "2020-10-17 12:54:52,872 INFO sqlalchemy.engine.base.Engine ()\n",
      "2020-10-17 12:54:52,873 INFO sqlalchemy.engine.base.Engine PRAGMA main.table_info(\"mlb1\")\n",
      "2020-10-17 12:54:52,874 INFO sqlalchemy.engine.base.Engine ()\n",
      "2020-10-17 12:54:52,877 INFO sqlalchemy.engine.base.Engine SELECT sql FROM  (SELECT * FROM sqlite_master UNION ALL   SELECT * FROM sqlite_temp_master) WHERE name = 'mlb1' AND type = 'table'\n",
      "2020-10-17 12:54:52,878 INFO sqlalchemy.engine.base.Engine ()\n",
      "2020-10-17 12:54:52,880 INFO sqlalchemy.engine.base.Engine PRAGMA main.foreign_key_list(\"mlb1\")\n",
      "2020-10-17 12:54:52,880 INFO sqlalchemy.engine.base.Engine ()\n",
      "2020-10-17 12:54:52,881 INFO sqlalchemy.engine.base.Engine PRAGMA temp.foreign_key_list(\"mlb1\")\n",
      "2020-10-17 12:54:52,882 INFO sqlalchemy.engine.base.Engine ()\n",
      "2020-10-17 12:54:52,883 INFO sqlalchemy.engine.base.Engine SELECT sql FROM  (SELECT * FROM sqlite_master UNION ALL   SELECT * FROM sqlite_temp_master) WHERE name = 'mlb1' AND type = 'table'\n",
      "2020-10-17 12:54:52,884 INFO sqlalchemy.engine.base.Engine ()\n",
      "2020-10-17 12:54:52,889 INFO sqlalchemy.engine.base.Engine PRAGMA main.index_list(\"mlb1\")\n",
      "2020-10-17 12:54:52,890 INFO sqlalchemy.engine.base.Engine ()\n",
      "2020-10-17 12:54:52,891 INFO sqlalchemy.engine.base.Engine PRAGMA main.index_list(\"mlb1\")\n",
      "2020-10-17 12:54:52,892 INFO sqlalchemy.engine.base.Engine ()\n",
      "2020-10-17 12:54:52,894 INFO sqlalchemy.engine.base.Engine PRAGMA main.index_info(\"sqlite_autoindex_mlb1_1\")\n",
      "2020-10-17 12:54:52,895 INFO sqlalchemy.engine.base.Engine ()\n",
      "2020-10-17 12:54:52,896 INFO sqlalchemy.engine.base.Engine SELECT sql FROM  (SELECT * FROM sqlite_master UNION ALL   SELECT * FROM sqlite_temp_master) WHERE name = 'mlb1' AND type = 'table'\n",
      "2020-10-17 12:54:52,896 INFO sqlalchemy.engine.base.Engine ()\n",
      "2020-10-17 12:54:52,898 INFO sqlalchemy.engine.base.Engine PRAGMA main.table_info(\"mlb2\")\n",
      "2020-10-17 12:54:52,899 INFO sqlalchemy.engine.base.Engine ()\n",
      "2020-10-17 12:54:52,905 INFO sqlalchemy.engine.base.Engine SELECT sql FROM  (SELECT * FROM sqlite_master UNION ALL   SELECT * FROM sqlite_temp_master) WHERE name = 'mlb2' AND type = 'table'\n",
      "2020-10-17 12:54:52,906 INFO sqlalchemy.engine.base.Engine ()\n",
      "2020-10-17 12:54:52,908 INFO sqlalchemy.engine.base.Engine PRAGMA main.foreign_key_list(\"mlb2\")\n",
      "2020-10-17 12:54:52,908 INFO sqlalchemy.engine.base.Engine ()\n",
      "2020-10-17 12:54:52,909 INFO sqlalchemy.engine.base.Engine PRAGMA temp.foreign_key_list(\"mlb2\")\n",
      "2020-10-17 12:54:52,910 INFO sqlalchemy.engine.base.Engine ()\n",
      "2020-10-17 12:54:52,911 INFO sqlalchemy.engine.base.Engine SELECT sql FROM  (SELECT * FROM sqlite_master UNION ALL   SELECT * FROM sqlite_temp_master) WHERE name = 'mlb2' AND type = 'table'\n",
      "2020-10-17 12:54:52,912 INFO sqlalchemy.engine.base.Engine ()\n",
      "2020-10-17 12:54:52,914 INFO sqlalchemy.engine.base.Engine PRAGMA main.index_list(\"mlb2\")\n",
      "2020-10-17 12:54:52,915 INFO sqlalchemy.engine.base.Engine ()\n",
      "2020-10-17 12:54:52,916 INFO sqlalchemy.engine.base.Engine PRAGMA main.index_list(\"mlb2\")\n",
      "2020-10-17 12:54:52,917 INFO sqlalchemy.engine.base.Engine ()\n",
      "2020-10-17 12:54:52,918 INFO sqlalchemy.engine.base.Engine PRAGMA main.index_info(\"sqlite_autoindex_mlb2_1\")\n",
      "2020-10-17 12:54:52,919 INFO sqlalchemy.engine.base.Engine ()\n",
      "2020-10-17 12:54:52,921 INFO sqlalchemy.engine.base.Engine SELECT sql FROM  (SELECT * FROM sqlite_master UNION ALL   SELECT * FROM sqlite_temp_master) WHERE name = 'mlb2' AND type = 'table'\n",
      "2020-10-17 12:54:52,922 INFO sqlalchemy.engine.base.Engine ()\n",
      "2020-10-17 12:54:52,924 INFO sqlalchemy.engine.base.Engine PRAGMA main.table_info(\"mlb3\")\n",
      "2020-10-17 12:54:52,924 INFO sqlalchemy.engine.base.Engine ()\n",
      "2020-10-17 12:54:52,927 INFO sqlalchemy.engine.base.Engine SELECT sql FROM  (SELECT * FROM sqlite_master UNION ALL   SELECT * FROM sqlite_temp_master) WHERE name = 'mlb3' AND type = 'table'\n",
      "2020-10-17 12:54:52,931 INFO sqlalchemy.engine.base.Engine ()\n",
      "2020-10-17 12:54:52,934 INFO sqlalchemy.engine.base.Engine PRAGMA main.foreign_key_list(\"mlb3\")\n",
      "2020-10-17 12:54:52,935 INFO sqlalchemy.engine.base.Engine ()\n",
      "2020-10-17 12:54:52,936 INFO sqlalchemy.engine.base.Engine PRAGMA temp.foreign_key_list(\"mlb3\")\n",
      "2020-10-17 12:54:52,937 INFO sqlalchemy.engine.base.Engine ()\n",
      "2020-10-17 12:54:52,938 INFO sqlalchemy.engine.base.Engine SELECT sql FROM  (SELECT * FROM sqlite_master UNION ALL   SELECT * FROM sqlite_temp_master) WHERE name = 'mlb3' AND type = 'table'\n",
      "2020-10-17 12:54:52,938 INFO sqlalchemy.engine.base.Engine ()\n",
      "2020-10-17 12:54:52,940 INFO sqlalchemy.engine.base.Engine PRAGMA main.index_list(\"mlb3\")\n",
      "2020-10-17 12:54:52,940 INFO sqlalchemy.engine.base.Engine ()\n",
      "2020-10-17 12:54:52,942 INFO sqlalchemy.engine.base.Engine PRAGMA main.index_list(\"mlb3\")\n",
      "2020-10-17 12:54:52,943 INFO sqlalchemy.engine.base.Engine ()\n",
      "2020-10-17 12:54:52,944 INFO sqlalchemy.engine.base.Engine PRAGMA main.index_info(\"sqlite_autoindex_mlb3_1\")\n",
      "2020-10-17 12:54:52,945 INFO sqlalchemy.engine.base.Engine ()\n",
      "2020-10-17 12:54:52,947 INFO sqlalchemy.engine.base.Engine SELECT sql FROM  (SELECT * FROM sqlite_master UNION ALL   SELECT * FROM sqlite_temp_master) WHERE name = 'mlb3' AND type = 'table'\n",
      "2020-10-17 12:54:52,948 INFO sqlalchemy.engine.base.Engine ()\n",
      "2020-10-17 12:54:52,950 INFO sqlalchemy.engine.base.Engine PRAGMA main.table_info(\"mlb_data\")\n",
      "2020-10-17 12:54:52,951 INFO sqlalchemy.engine.base.Engine ()\n",
      "2020-10-17 12:54:52,954 INFO sqlalchemy.engine.base.Engine SELECT sql FROM  (SELECT * FROM sqlite_master UNION ALL   SELECT * FROM sqlite_temp_master) WHERE name = 'mlb_data' AND type = 'table'\n",
      "2020-10-17 12:54:52,955 INFO sqlalchemy.engine.base.Engine ()\n",
      "2020-10-17 12:54:52,956 INFO sqlalchemy.engine.base.Engine PRAGMA main.foreign_key_list(\"mlb_data\")\n",
      "2020-10-17 12:54:52,957 INFO sqlalchemy.engine.base.Engine ()\n",
      "2020-10-17 12:54:52,959 INFO sqlalchemy.engine.base.Engine PRAGMA temp.foreign_key_list(\"mlb_data\")\n",
      "2020-10-17 12:54:52,959 INFO sqlalchemy.engine.base.Engine ()\n",
      "2020-10-17 12:54:52,960 INFO sqlalchemy.engine.base.Engine SELECT sql FROM  (SELECT * FROM sqlite_master UNION ALL   SELECT * FROM sqlite_temp_master) WHERE name = 'mlb_data' AND type = 'table'\n",
      "2020-10-17 12:54:52,962 INFO sqlalchemy.engine.base.Engine ()\n",
      "2020-10-17 12:54:52,963 INFO sqlalchemy.engine.base.Engine PRAGMA main.index_list(\"mlb_data\")\n",
      "2020-10-17 12:54:52,964 INFO sqlalchemy.engine.base.Engine ()\n",
      "2020-10-17 12:54:52,965 INFO sqlalchemy.engine.base.Engine PRAGMA main.index_info(\"ix_mlb_data_index\")\n",
      "2020-10-17 12:54:52,966 INFO sqlalchemy.engine.base.Engine ()\n",
      "2020-10-17 12:54:52,967 INFO sqlalchemy.engine.base.Engine PRAGMA main.index_list(\"mlb_data\")\n",
      "2020-10-17 12:54:52,968 INFO sqlalchemy.engine.base.Engine ()\n",
      "2020-10-17 12:54:52,969 INFO sqlalchemy.engine.base.Engine PRAGMA main.index_info(\"ix_mlb_data_index\")\n",
      "2020-10-17 12:54:52,970 INFO sqlalchemy.engine.base.Engine ()\n",
      "2020-10-17 12:54:52,971 INFO sqlalchemy.engine.base.Engine SELECT sql FROM  (SELECT * FROM sqlite_master UNION ALL   SELECT * FROM sqlite_temp_master) WHERE name = 'mlb_data' AND type = 'table'\n",
      "2020-10-17 12:54:52,971 INFO sqlalchemy.engine.base.Engine ()\n"
     ]
    },
    {
     "data": {
      "text/plain": [
       "['mlb1', 'mlb2', 'mlb3']"
      ]
     },
     "execution_count": 124,
     "metadata": {},
     "output_type": "execute_result"
    }
   ],
   "source": [
    "\n",
    "Base=automap_base()\n",
    "Base.prepare(sqlite_connection, reflect=True)\n",
    "Base.classes.keys()"
   ]
  },
  {
   "cell_type": "code",
   "execution_count": 126,
   "metadata": {
    "scrolled": true
   },
   "outputs": [
    {
     "name": "stdout",
     "output_type": "stream",
     "text": [
      "2020-10-17 12:54:58,688 INFO sqlalchemy.engine.base.Engine insert into mlb3 select * from mlb_data\n",
      "2020-10-17 12:54:58,689 INFO sqlalchemy.engine.base.Engine ()\n",
      "2020-10-17 12:54:58,701 INFO sqlalchemy.engine.base.Engine COMMIT\n"
     ]
    },
    {
     "data": {
      "text/plain": [
       "<sqlalchemy.engine.result.ResultProxy at 0x1719ff0>"
      ]
     },
     "execution_count": 126,
     "metadata": {},
     "output_type": "execute_result"
    }
   ],
   "source": [
    "sqlite_connection.execute('insert into mlb3 select * from mlb_data')\n"
   ]
  },
  {
   "cell_type": "code",
   "execution_count": 128,
   "metadata": {
    "scrolled": true
   },
   "outputs": [
    {
     "name": "stdout",
     "output_type": "stream",
     "text": [
      "2020-10-17 12:55:26,131 INFO sqlalchemy.engine.base.Engine select * from mlb3\n",
      "2020-10-17 12:55:26,132 INFO sqlalchemy.engine.base.Engine ()\n"
     ]
    },
    {
     "data": {
      "text/plain": [
       "[(0, 'Los Angeles Dodgers', 3974309, '49066', 34.072437, -118.246879),\n",
       " (1, 'St. Louis Cardinals', 3480393, '42968', 38.629683, -90.188247),\n",
       " (2, 'New York Yankees', 3304404, '40795', 40.819782000000004, -73.929939),\n",
       " (3, 'Chicago Cubs', 3094865, '38208', 41.947201, -87.656413),\n",
       " (4, 'Los Angeles Angels', 3023012, '37321', 33.799572, -117.889031),\n",
       " (5, 'Colorado Rockies', 2993244, '36954', 39.75698, -104.965329),\n",
       " (6, 'Milwaukee Brewers', 2923333, '36091', 43.04205, -87.905599),\n",
       " (7, 'Boston Red Sox', 2915502, '35994', 42.346613, -71.09881700000001),\n",
       " (8, 'Houston Astros', 2857367, '35276', 29.76045, -95.369784),\n",
       " (9, 'Philadelphia Phillies', 2727421, '33672', 39.952313000000004, -75.16239200000001),\n",
       " (10, 'San Francisco Giants', 2707760, '33429', 37.77987, -122.38975400000001),\n",
       " (11, 'Atlanta Braves', 2654920, '32777', 33.74691, -84.391239),\n",
       " (12, 'New York Mets', 2442532, '30155', 40.75535, -73.84321899999999),\n",
       " (13, 'San Diego Padres', 2396399, '29585', 32.752148, -117.143635),\n",
       " (14, 'Minnesota Twins', 2303299, '28436', 44.974346000000004, -93.25961600000001),\n",
       " (15, 'Washington Nationals', 2259781, '27899', 38.87, -77.01),\n",
       " (16, 'Arizona Diamondbacks', 2135510, '26364', 33.452921999999994, -112.038669),\n",
       " (17, 'Texas Rangers', 2132994, '26333', 32.750156, -97.081117),\n",
       " (18, 'Cincinnati Reds', 1809075, '22334', 39.107183, -84.507713),\n",
       " (19, 'Seattle Mariners', 1791109, '22112', 47.60174, -122.33082900000001),\n",
       " (20, 'Toronto Blue Jays', 1750144, '21607', 43.641653000000005, -79.3917),\n",
       " (21, 'Cleveland Indians', 1738642, '21465', 41.495149, -81.68709),\n",
       " (22, 'Oakland Athletics', 1670734, '20626', 37.74923, -122.196487),\n",
       " (23, 'Chicago White Sox', 1649775, '20622', 41.830883, -87.635083),\n",
       " (24, 'Detroit Tigers', 1501430, '18536', 42.346354, -83.059619),\n",
       " (25, 'Pittsburgh Pirates', 1491439, '18413', 40.461503, -80.008924),\n",
       " (26, 'Kansas City Royals', 1479659, '18267', 39.10222, -94.583559),\n",
       " (27, 'Baltimore Orioles', 1307807, '16146', 39.285243, -76.620103),\n",
       " (28, 'Tampa Bay Rays', 1178735, '14552', 27.768487, -82.648191),\n",
       " (29, 'Miami Marlins', 811302, '10016', 25.954428, -80.238164)]"
      ]
     },
     "execution_count": 128,
     "metadata": {},
     "output_type": "execute_result"
    }
   ],
   "source": [
    "sqlite_connection.execute('select * from mlb3').fetchall()\n"
   ]
  }
 ],
 "metadata": {
  "kernelspec": {
   "display_name": "Python 3",
   "language": "python",
   "name": "python3"
  },
  "language_info": {
   "codemirror_mode": {
    "name": "ipython",
    "version": 3
   },
   "file_extension": ".py",
   "mimetype": "text/x-python",
   "name": "python",
   "nbconvert_exporter": "python",
   "pygments_lexer": "ipython3",
   "version": "3.7.6"
  }
 },
 "nbformat": 4,
 "nbformat_minor": 4
}
