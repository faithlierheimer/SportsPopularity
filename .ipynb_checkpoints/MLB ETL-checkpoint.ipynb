{
 "cells": [
  {
   "cell_type": "code",
   "execution_count": 29,
   "metadata": {},
   "outputs": [],
   "source": [
    "#Dependencies \n",
    "import pandas as pd \n",
    "import sqlalchemy\n",
    "from sqlalchemy.ext.automap import automap_base\n",
    "from sqlalchemy.orm import Session\n",
    "from sqlalchemy import create_engine, func\n",
    "import wikipedia\n",
    "import requests\n",
    "from bs4 import BeautifulSoup as bs\n"
   ]
  },
  {
   "cell_type": "code",
   "execution_count": 62,
   "metadata": {},
   "outputs": [],
   "source": [
    "s = requests.Session()\n",
    "url = \"https://en.wikipedia.org/wiki/2019_Major_League_Baseball_season\"\n"
   ]
  },
  {
   "cell_type": "code",
   "execution_count": 63,
   "metadata": {},
   "outputs": [
    {
     "data": {
      "text/plain": [
       "<Response [200]>"
      ]
     },
     "execution_count": 63,
     "metadata": {},
     "output_type": "execute_result"
    }
   ],
   "source": [
    "response = s.get(url, timeout=10)\n",
    "response"
   ]
  },
  {
   "cell_type": "code",
   "execution_count": 65,
   "metadata": {},
   "outputs": [
    {
     "name": "stdout",
     "output_type": "stream",
     "text": [
      "2019 Major League Baseball season\n"
     ]
    }
   ],
   "source": [
    "# # testing scraping\n",
    "title = soup.find(id=\"firstHeading\")\n",
    "print(title.string)"
   ]
  },
  {
   "cell_type": "code",
   "execution_count": 76,
   "metadata": {
    "scrolled": true
   },
   "outputs": [
    {
     "data": {
      "text/plain": [
       "bs4.element.Tag"
      ]
     },
     "execution_count": 76,
     "metadata": {},
     "output_type": "execute_result"
    }
   ],
   "source": [
    "attendance_table = soup.find('table', {'class': 'wikitable sortable'})\n",
    "# attendance_table()"
   ]
  },
  {
   "cell_type": "code",
   "execution_count": 91,
   "metadata": {},
   "outputs": [
    {
     "data": {
      "text/plain": [
       "[<th>Team Name\n",
       " </th>,\n",
       " <th>Wins\n",
       " </th>,\n",
       " <th><abbr title=\"Percent change\">%±</abbr>\n",
       " </th>,\n",
       " <th>Home attendance\n",
       " </th>,\n",
       " <th><abbr title=\"Percent change\">%±</abbr>\n",
       " </th>,\n",
       " <th><abbr title=\"Average Home Attendance Per Game\">Per Game</abbr>\n",
       " </th>,\n",
       " <th>Est. Payroll\n",
       " </th>,\n",
       " <th><abbr title=\"Percent change\">%±</abbr>\n",
       " </th>]"
      ]
     },
     "execution_count": 91,
     "metadata": {},
     "output_type": "execute_result"
    }
   ],
   "source": [
    "row_headers = attendance_table.findAll(lambda tag: tag.name=='th')\n",
    "row_headers"
   ]
  },
  {
   "cell_type": "code",
   "execution_count": 113,
   "metadata": {},
   "outputs": [],
   "source": [
    "# header = [th.text.rstrip() for th in rows[0].find_all('th')]\n",
    "# print(header)\n",
    "# print(soup.get_text())"
   ]
  },
  {
   "cell_type": "code",
   "execution_count": 106,
   "metadata": {},
   "outputs": [
    {
     "name": "stdout",
     "output_type": "stream",
     "text": [
      "<tr>\n",
      "<td><a href=\"/wiki/Miami_Marlins\" title=\"Miami Marlins\">Miami Marlins</a><sup class=\"reference\" id=\"cite_ref-207\"><a href=\"#cite_note-207\">[207]</a></sup>\n",
      "</td>\n",
      "<td>57\n",
      "</td>\n",
      "<td>-9.5%\n",
      "</td>\n",
      "<td>811,302\n",
      "</td>\n",
      "<td>0.0%\n",
      "</td>\n",
      "<td>10,016\n",
      "</td>\n",
      "<td>$74,683,643\n",
      "</td>\n",
      "<td>-13.7%\n",
      "</td></tr>\n"
     ]
    }
   ],
   "source": [
    "c1=[]\n",
    "c2=[]\n",
    "c3=[]\n",
    "c4=[]\n",
    "c5=[]\n",
    "c6=[]\n",
    "c7=[]\n",
    "c8=[]\n",
    "\n",
    "for row in attendance_table.findAll(\"tr\"):\n",
    "    cells = row.findAll('td')\n",
    "    if len(cells)==7:\n",
    "        c1.append(cells[0].find(text=True))\n",
    "        c2.append(cells[1].find('a').text)\n",
    "        c3.append(cells[2].find(text=True))\n",
    "        c4.append(cells[3].find(text=True))\n",
    "        c5.append(cells[4].find(text=True))\n",
    "        c6.append(cells[5].find(text=True))\n",
    "        c7.append(cells[6].find(text=True))\n",
    "        c8.append(cells[7].find('a').get('href'))\n",
    "print (row)"
   ]
  },
  {
   "cell_type": "code",
   "execution_count": 118,
   "metadata": {},
   "outputs": [
    {
     "data": {
      "text/plain": [
       "{<th>Team Name\n",
       " </th>: 0,\n",
       " <th>Wins\n",
       " </th>: 0,\n",
       " <th><abbr title=\"Percent change\">%±</abbr>\n",
       " </th>: 0,\n",
       " <th>Home attendance\n",
       " </th>: 0,\n",
       " <th><abbr title=\"Average Home Attendance Per Game\">Per Game</abbr>\n",
       " </th>: 0,\n",
       " <th>Est. Payroll\n",
       " </th>: 0}"
      ]
     },
     "execution_count": 118,
     "metadata": {},
     "output_type": "execute_result"
    }
   ],
   "source": [
    "d = dict([(x,0) for x in row_headers])\n",
    "d"
   ]
  },
  {
   "cell_type": "code",
   "execution_count": 125,
   "metadata": {},
   "outputs": [],
   "source": [
    "d['Team Name'] = c1\n",
    "d['Wins'] = c2\n",
    "d['Percent change'] = c3\n",
    "d['Home attendance'] = c4\n",
    "d['Average Home Attendance Per Game'] = c5\n",
    "c6 = d['Est. Payroll']\n"
   ]
  },
  {
   "cell_type": "code",
   "execution_count": 126,
   "metadata": {},
   "outputs": [
    {
     "name": "stdout",
     "output_type": "stream",
     "text": [
      "[]\n"
     ]
    }
   ],
   "source": [
    "print(c6)"
   ]
  },
  {
   "cell_type": "code",
   "execution_count": 134,
   "metadata": {
    "scrolled": true
   },
   "outputs": [
    {
     "ename": "TypeError",
     "evalue": "'RangeIndex' object is not callable",
     "output_type": "error",
     "traceback": [
      "\u001b[1;31m---------------------------------------------------------------------------\u001b[0m",
      "\u001b[1;31mTypeError\u001b[0m                                 Traceback (most recent call last)",
      "\u001b[1;32m<ipython-input-134-2ee3b1a20e49>\u001b[0m in \u001b[0;36m<module>\u001b[1;34m\u001b[0m\n\u001b[1;32m----> 1\u001b[1;33m \u001b[0mdf_table\u001b[0m \u001b[1;33m=\u001b[0m \u001b[0mpd\u001b[0m\u001b[1;33m.\u001b[0m\u001b[0mDataFrame\u001b[0m\u001b[1;33m(\u001b[0m\u001b[0mrow\u001b[0m\u001b[1;33m)\u001b[0m\u001b[1;33m.\u001b[0m\u001b[0mindex\u001b[0m\u001b[1;33m(\u001b[0m\u001b[1;33m)\u001b[0m\u001b[1;33m\u001b[0m\u001b[1;33m\u001b[0m\u001b[0m\n\u001b[0m\u001b[0;32m      2\u001b[0m \u001b[0mdf_table\u001b[0m\u001b[1;33m.\u001b[0m\u001b[0mhead\u001b[0m\u001b[1;33m(\u001b[0m\u001b[1;33m)\u001b[0m\u001b[1;33m\u001b[0m\u001b[1;33m\u001b[0m\u001b[0m\n",
      "\u001b[1;31mTypeError\u001b[0m: 'RangeIndex' object is not callable"
     ]
    }
   ],
   "source": [
    "df_table = pd.DataFrame(row)\n",
    "df_table.head()"
   ]
  }
 ],
 "metadata": {
  "kernelspec": {
   "display_name": "Python 3",
   "language": "python",
   "name": "python3"
  },
  "language_info": {
   "codemirror_mode": {
    "name": "ipython",
    "version": 3
   },
   "file_extension": ".py",
   "mimetype": "text/x-python",
   "name": "python",
   "nbconvert_exporter": "python",
   "pygments_lexer": "ipython3",
   "version": "3.7.6"
  }
 },
 "nbformat": 4,
 "nbformat_minor": 4
}
