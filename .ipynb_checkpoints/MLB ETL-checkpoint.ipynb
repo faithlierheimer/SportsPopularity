{
 "cells": [
  {
   "cell_type": "code",
   "execution_count": 21,
   "metadata": {},
   "outputs": [],
   "source": [
    "#Dependencies \n",
    "import pandas as pd \n",
    "import sqlalchemy\n",
    "from sqlalchemy.ext.automap import automap_base\n",
    "from sqlalchemy.orm import Session\n",
    "from sqlalchemy import create_engine, func\n",
    "import wikipedia\n",
    "import requests\n",
    "from bs4 import BeautifulSoup as bs\n"
   ]
  },
  {
   "cell_type": "code",
   "execution_count": 40,
   "metadata": {},
   "outputs": [],
   "source": [
    "s = requests.Session()\n",
    "url = \"https://en.wikipedia.org/wiki/2019_Major_League_Baseball_season\"\n"
   ]
  },
  {
   "cell_type": "code",
   "execution_count": 23,
   "metadata": {},
   "outputs": [
    {
     "data": {
      "text/plain": [
       "<Response [200]>"
      ]
     },
     "execution_count": 23,
     "metadata": {},
     "output_type": "execute_result"
    }
   ],
   "source": [
    "response = s.get(url, timeout=10)\n",
    "response"
   ]
  },
  {
   "cell_type": "code",
   "execution_count": 41,
   "metadata": {},
   "outputs": [],
   "source": [
    "soup = bs(response.text, 'html.parser')\n"
   ]
  },
  {
   "cell_type": "code",
   "execution_count": 80,
   "metadata": {},
   "outputs": [],
   "source": [
    "# response.text"
   ]
  },
  {
   "cell_type": "code",
   "execution_count": null,
   "metadata": {},
   "outputs": [],
   "source": []
  },
  {
   "cell_type": "code",
   "execution_count": 42,
   "metadata": {},
   "outputs": [
    {
     "name": "stdout",
     "output_type": "stream",
     "text": [
      "2019 Major League Baseball season\n"
     ]
    }
   ],
   "source": [
    "# # testing scraping\n",
    "title = soup.find(id=\"firstHeading\")\n",
    "print(title.string)"
   ]
  },
  {
   "cell_type": "code",
   "execution_count": 100,
   "metadata": {
    "scrolled": true
   },
   "outputs": [],
   "source": [
    "attendance_table = soup.find('table', {'class': 'wikitable sortable'})\n",
    "# attendance_table()"
   ]
  },
  {
   "cell_type": "code",
   "execution_count": 102,
   "metadata": {},
   "outputs": [
    {
     "data": {
      "text/plain": [
       "'\\n\\nTeam Name\\n\\nWins\\n\\n%±\\n\\nHome attendance\\n\\n%±\\n\\nPer Game\\n\\nEst. Payroll\\n\\n%±\\n\\n\\nLos Angeles Dodgers\\n\\n106\\n\\n15.2%\\n\\n3,974,309\\n\\n3.0%\\n\\n49,066\\n\\n$193,553,333\\n\\n17.5%\\n\\n\\nSt. Louis Cardinals\\n\\n91\\n\\n3.4%\\n\\n3,480,393\\n\\n2.3%\\n\\n42,968\\n\\n$161,120,267\\n\\n2.2%\\n\\n\\nNew York Yankees\\n\\n103\\n\\n3.0%\\n\\n3,304,404\\n\\n-5.1%\\n\\n40,795\\n\\n$228,442,421\\n\\n42.1%\\n\\n\\nChicago Cubs\\n\\n84\\n\\n-11.6%\\n\\n3,094,865\\n\\n-2.7%\\n\\n38,208\\n\\n$217,805,215\\n\\n6.1%\\n\\n\\nLos Angeles Angels\\n\\n72\\n\\n-10.0%\\n\\n3,023,012\\n\\n0.1%\\n\\n37,321\\n\\n$177,345,250\\n\\n6.3%\\n\\n\\nColorado Rockies\\n\\n71\\n\\n-22.0%\\n\\n2,993,244\\n\\n-0.8%\\n\\n36,954\\n\\n$145,348,500\\n\\n6.4%\\n\\n\\nMilwaukee Brewers\\n\\n89\\n\\n-7.3%\\n\\n2,923,333\\n\\n2.5%\\n\\n36,091\\n\\n$128,842,900\\n\\n17.9%\\n\\n\\nBoston Red Sox\\n\\n84\\n\\n-22.2%\\n\\n2,915,502\\n\\n0.7%\\n\\n35,994\\n\\n$218,978,142\\n\\n-1.5%\\n\\n\\nHouston Astros\\n\\n107\\n\\n3.9%\\n\\n2,857,367\\n\\n-4.1%\\n\\n35,276\\n\\n$166,042,500\\n\\n-3.9%\\n\\n\\nPhiladelphia Phillies\\n\\n81\\n\\n1.3%\\n\\n2,727,421\\n\\n26.4%\\n\\n33,672\\n\\n$141,786,962\\n\\n51.0%\\n\\n\\nSan Francisco Giants\\n\\n77\\n\\n5.5%\\n\\n2,707,760\\n\\n-14.2%\\n\\n33,429\\n\\n$175,550,753\\n\\n-13.1%\\n\\n\\nAtlanta Braves\\n\\n97\\n\\n7.8%\\n\\n2,654,920\\n\\n3.9%\\n\\n32,777\\n\\n$133,186,667\\n\\n15.0%\\n\\n\\nNew York Mets\\n\\n86\\n\\n11.7%\\n\\n2,442,532\\n\\n9.8%\\n\\n30,155\\n\\n$154,837,230\\n\\n-4.1%\\n\\n\\nSan Diego Padres\\n\\n70\\n\\n6.1%\\n\\n2,396,399\\n\\n10.5%\\n\\n29,585\\n\\n$90,260,767\\n\\n-3.8%\\n\\n\\nMinnesota Twins\\n\\n101\\n\\n29.5%\\n\\n2,303,299\\n\\n17.6%\\n\\n28,436\\n\\n$113,758,333\\n\\n3.2%\\n\\n\\nWashington Nationals\\n\\n93\\n\\n13.4%\\n\\n2,259,781\\n\\n-10.7%\\n\\n27,899\\n\\n$203,016,595\\n\\n7.5%\\n\\n\\nArizona Diamondbacks\\n\\n85\\n\\n3.7%\\n\\n2,135,510\\n\\n-4.8%\\n\\n26,364\\n\\n$124,016,266\\n\\n-8.0%\\n\\n\\nTexas Rangers\\n\\n78\\n\\n16.4%\\n\\n2,132,994\\n\\n1.2%\\n\\n26,333\\n\\n$104,433,499\\n\\n-1.6%\\n\\n\\nCincinnati Reds\\n\\n75\\n\\n11.9%\\n\\n1,809,075\\n\\n11.0%\\n\\n22,334\\n\\n$109,737,499\\n\\n16.0%\\n\\n\\nSeattle Mariners\\n\\n68\\n\\n-23.6%\\n\\n1,791,109\\n\\n-22.1%\\n\\n22,112\\n\\n$126,874,600\\n\\n-19.2%\\n\\n\\nToronto Blue Jays\\n\\n67\\n\\n-8.2%\\n\\n1,750,144\\n\\n-24.7%\\n\\n21,607\\n\\n$64,680,671\\n\\n-57.4%\\n\\n\\nCleveland Indians\\n\\n93\\n\\n2.2%\\n\\n1,738,642\\n\\n-9.8%\\n\\n21,465\\n\\n$151,257,783\\n\\n5.5%\\n\\n\\nOakland Athletics\\n\\n97\\n\\n0.0%\\n\\n1,670,734\\n\\n6.2%\\n\\n20,626\\n\\n$102,935,833\\n\\n47.3%\\n\\n\\nChicago White Sox\\n\\n72\\n\\n16.1%\\n\\n1,649,775\\n\\n2.5%\\n\\n20,622\\n\\n$80,846,333\\n\\n7.7%\\n\\n\\nDetroit Tigers\\n\\n47\\n\\n-26.6%\\n\\n1,501,430\\n\\n-19.1%\\n\\n18,536\\n\\n$100,618,500\\n\\n-9.8%\\n\\n\\nPittsburgh Pirates\\n\\n69\\n\\n-15.9%\\n\\n1,491,439\\n\\n1.8%\\n\\n18,413\\n\\n$72,915,501\\n\\n-17.3%\\n\\n\\nKansas City Royals\\n\\n59\\n\\n1.7%\\n\\n1,479,659\\n\\n-11.1%\\n\\n18,267\\n\\n$98,183,242\\n\\n3.1%\\n\\n\\nBaltimore Orioles\\n\\n54\\n\\n14.9%\\n\\n1,307,807\\n\\n-16.4%\\n\\n16,146\\n\\n$82,696,100\\n\\n-41.6%\\n\\n\\nTampa Bay Rays\\n\\n96\\n\\n6.7%\\n\\n1,178,735\\n\\n2.1%\\n\\n14,552\\n\\n$56,071,767\\n\\n21.9%\\n\\n\\nMiami Marlins\\n\\n57\\n\\n-9.5%\\n\\n811,302\\n\\n0.0%\\n\\n10,016\\n\\n$74,683,643\\n\\n-13.7%\\n'"
      ]
     },
     "execution_count": 102,
     "metadata": {},
     "output_type": "execute_result"
    }
   ],
   "source": [
    "text_items = attendance_table.findAll(text=True)\n",
    "no_footnotes = [text for text in text_items if text[0] != '[']\n",
    "puretext = ''.join(no_footnotes)\n",
    "puretext"
   ]
  },
  {
   "cell_type": "code",
   "execution_count": 85,
   "metadata": {
    "scrolled": true
   },
   "outputs": [],
   "source": [
    "# # row_headers = attendance_table.findAll(lambda tag: tag.name=='th')\n",
    "# row_headers"
   ]
  },
  {
   "cell_type": "code",
   "execution_count": 84,
   "metadata": {
    "scrolled": true
   },
   "outputs": [],
   "source": [
    "# # header = [string.rstrip() for th in rows[0].find_all('th')]\n",
    "# full_table = attendance_table.findAll(lambda tag: tag.name=='tr')\n",
    "# print(full_table)\n",
    "# # print(soup.get_text())"
   ]
  },
  {
   "cell_type": "code",
   "execution_count": 83,
   "metadata": {},
   "outputs": [],
   "source": [
    "# c1=[]\n",
    "# c2=[]\n",
    "# c3=[]\n",
    "# c4=[]\n",
    "# c5=[]\n",
    "# c6=[]\n",
    "# c7=[]\n",
    "# c8=[]"
   ]
  },
  {
   "cell_type": "code",
   "execution_count": 82,
   "metadata": {
    "scrolled": true
   },
   "outputs": [],
   "source": [
    "\n",
    "\n",
    "# for row in attendance_table.findAll(\"tr\"):\n",
    "#     cells = row.findAll('td')\n",
    "#     if len(cells)==7:\n",
    "#         c1.append([0])\n",
    "#         c2.append([1])\n",
    "#         c3.append([2])\n",
    "#         c4.append([3])\n",
    "#         c5.append([4])\n",
    "#         c6.append([5])\n",
    "#         c7.append([6])\n",
    "                  \n",
    "# print(row)\n",
    "                  \n"
   ]
  },
  {
   "cell_type": "code",
   "execution_count": 58,
   "metadata": {},
   "outputs": [
    {
     "data": {
      "text/plain": [
       "'https://en.wikipedia.org/wiki/2019_Major_League_Baseball_season'"
      ]
     },
     "execution_count": 58,
     "metadata": {},
     "output_type": "execute_result"
    }
   ],
   "source": [
    "url"
   ]
  },
  {
   "cell_type": "code",
   "execution_count": 106,
   "metadata": {},
   "outputs": [
    {
     "ename": "TypeError",
     "evalue": "find() takes no keyword arguments",
     "output_type": "error",
     "traceback": [
      "\u001b[1;31m---------------------------------------------------------------------------\u001b[0m",
      "\u001b[1;31mTypeError\u001b[0m                                 Traceback (most recent call last)",
      "\u001b[1;32m<ipython-input-106-96af2c45b3f1>\u001b[0m in \u001b[0;36m<module>\u001b[1;34m\u001b[0m\n\u001b[1;32m----> 1\u001b[1;33m \u001b[0mtable\u001b[0m\u001b[1;33m=\u001b[0m\u001b[0mpuretext\u001b[0m\u001b[1;33m.\u001b[0m\u001b[0mfind\u001b[0m\u001b[1;33m(\u001b[0m\u001b[1;34m'table'\u001b[0m\u001b[1;33m,\u001b[0m \u001b[0mclass_\u001b[0m\u001b[1;33m=\u001b[0m\u001b[1;34m'sortable'\u001b[0m\u001b[1;33m)\u001b[0m\u001b[1;33m\u001b[0m\u001b[1;33m\u001b[0m\u001b[0m\n\u001b[0m\u001b[0;32m      2\u001b[0m \u001b[0mtable_rows\u001b[0m\u001b[1;33m=\u001b[0m\u001b[0mtable\u001b[0m\u001b[1;33m.\u001b[0m\u001b[0mfindAll\u001b[0m\u001b[1;33m(\u001b[0m\u001b[1;34m'tr'\u001b[0m\u001b[1;33m)\u001b[0m\u001b[1;33m\u001b[0m\u001b[1;33m\u001b[0m\u001b[0m\n\u001b[0;32m      3\u001b[0m \u001b[0mall_data\u001b[0m\u001b[1;33m=\u001b[0m\u001b[1;33m[\u001b[0m\u001b[1;33m]\u001b[0m\u001b[1;33m\u001b[0m\u001b[1;33m\u001b[0m\u001b[0m\n\u001b[0;32m      4\u001b[0m \u001b[1;32mfor\u001b[0m \u001b[0meach_row\u001b[0m \u001b[1;32min\u001b[0m \u001b[0mtable_rows\u001b[0m\u001b[1;33m:\u001b[0m\u001b[1;33m\u001b[0m\u001b[1;33m\u001b[0m\u001b[0m\n\u001b[0;32m      5\u001b[0m     \u001b[1;32mtry\u001b[0m\u001b[1;33m:\u001b[0m\u001b[1;33m\u001b[0m\u001b[1;33m\u001b[0m\u001b[0m\n",
      "\u001b[1;31mTypeError\u001b[0m: find() takes no keyword arguments"
     ]
    }
   ],
   "source": [
    "table=soup.find('table', class_='sortable')\n",
    "table_rows=table.findAll('tr')\n",
    "all_data=[]\n",
    "for each_row in table_rows: \n",
    "    try: \n",
    "        all_data.append(each_row.findAll('td').text)\n",
    "    except: \n",
    "        pass\n",
    "all_data"
   ]
  },
  {
   "cell_type": "code",
   "execution_count": 78,
   "metadata": {},
   "outputs": [],
   "source": [
    "# table"
   ]
  },
  {
   "cell_type": "code",
   "execution_count": 79,
   "metadata": {
    "scrolled": true
   },
   "outputs": [],
   "source": [
    "# table.findall('tbody')"
   ]
  },
  {
   "cell_type": "code",
   "execution_count": 104,
   "metadata": {},
   "outputs": [
    {
     "name": "stdout",
     "output_type": "stream",
     "text": [
      "0\n",
      "Index(['2019 MLB season', '2019 MLB season.1'], dtype='object')\n",
      "1\n",
      "Int64Index([0, 1, 2, 3, 4, 5, 6], dtype='int64')\n",
      "2\n",
      "Index(['vteAL East', 'W', 'L', 'Pct.', 'GB', 'Home', 'Road'], dtype='object')\n",
      "3\n",
      "Index(['vteAL Central', 'W', 'L', 'Pct.', 'GB', 'Home', 'Road'], dtype='object')\n",
      "4\n",
      "Index(['vteAL West', 'W', 'L', 'Pct.', 'GB', 'Home', 'Road'], dtype='object')\n",
      "5\n",
      "Index(['vteNL East', 'W', 'L', 'Pct.', 'GB', 'Home', 'Road'], dtype='object')\n",
      "6\n",
      "Index(['vteNL Central', 'W', 'L', 'Pct.', 'GB', 'Home', 'Road'], dtype='object')\n",
      "7\n",
      "Index(['vteNL West', 'W', 'L', 'Pct.', 'GB', 'Home', 'Road'], dtype='object')\n",
      "8\n",
      "Int64Index([0, 1, 2, 3, 4, 5, 6, 7, 8, 9, 10, 11, 12, 13, 14, 15, 16, 17, 18,\n",
      "            19],\n",
      "           dtype='int64')\n",
      "9\n",
      "Index(['Team', 'Former GM', 'Reason for leaving', 'New GM', 'Notes'], dtype='object')\n",
      "10\n",
      "Index(['Date', 'Team', 'Former GM', 'Reason for leaving', 'New GM', 'Notes'], dtype='object')\n",
      "11\n",
      "Index(['Team', 'Former manager', 'Interim manager', 'Reason for leaving',\n",
      "       'New Manager', 'Notes'],\n",
      "      dtype='object')\n",
      "12\n",
      "Index(['Team', 'Former manager', 'Interim manager', 'Reason for leaving',\n",
      "       'New manager', 'Notes'],\n",
      "      dtype='object')\n",
      "13\n",
      "Int64Index([0, 1, 2], dtype='int64')\n",
      "14\n",
      "Index(['Stat', 'Player', 'Total'], dtype='object')\n",
      "15\n",
      "Index(['Stat', 'Player', 'Total'], dtype='object')\n",
      "16\n",
      "Int64Index([0, 1, 2], dtype='int64')\n",
      "17\n",
      "Index(['Stat', 'Player', 'Total'], dtype='object')\n",
      "18\n",
      "Index(['Stat', 'Player', 'Total'], dtype='object')\n",
      "19\n",
      "MultiIndex([('Baseball Writers' Association of America Awards', ...),\n",
      "            ('Baseball Writers' Association of America Awards', ...),\n",
      "            ('Baseball Writers' Association of America Awards', ...),\n",
      "            ('Baseball Writers' Association of America Awards', ...),\n",
      "            ('Baseball Writers' Association of America Awards', ...),\n",
      "            ('Baseball Writers' Association of America Awards', ...),\n",
      "            ('Baseball Writers' Association of America Awards', ...),\n",
      "            ('Baseball Writers' Association of America Awards', ...),\n",
      "            ('Baseball Writers' Association of America Awards', ...)],\n",
      "           )\n",
      "20\n",
      "MultiIndex([('All-MLB First Team',           'Position'),\n",
      "            ('All-MLB First Team',      'Player (Team)'),\n",
      "            ('All-MLB First Team', 'Unnamed: 2_level_1'),\n",
      "            ('All-MLB First Team', 'Unnamed: 3_level_1'),\n",
      "            ('All-MLB First Team', 'Unnamed: 4_level_1'),\n",
      "            ('All-MLB First Team', 'Unnamed: 5_level_1'),\n",
      "            ('All-MLB First Team', 'Unnamed: 6_level_1'),\n",
      "            ('All-MLB First Team', 'Unnamed: 7_level_1'),\n",
      "            ('All-MLB First Team', 'Unnamed: 8_level_1')],\n",
      "           )\n",
      "21\n",
      "MultiIndex([('Fielding Bible Awards',           'Position'),\n",
      "            ('Fielding Bible Awards',             'Player'),\n",
      "            ('Fielding Bible Awards', 'Unnamed: 2_level_1'),\n",
      "            ('Fielding Bible Awards', 'Unnamed: 3_level_1'),\n",
      "            ('Fielding Bible Awards', 'Unnamed: 4_level_1'),\n",
      "            ('Fielding Bible Awards', 'Unnamed: 5_level_1'),\n",
      "            ('Fielding Bible Awards', 'Unnamed: 6_level_1'),\n",
      "            ('Fielding Bible Awards', 'Unnamed: 7_level_1'),\n",
      "            ('Fielding Bible Awards', 'Unnamed: 8_level_1')],\n",
      "           )\n",
      "22\n",
      "Int64Index([0, 1, 2], dtype='int64')\n",
      "23\n",
      "Index(['Month', 'American League', 'National League'], dtype='object')\n",
      "24\n",
      "Index(['Month', 'American League', 'National League'], dtype='object')\n",
      "25\n",
      "Index(['Month', 'American League', 'National League'], dtype='object')\n",
      "26\n",
      "Index(['Team Name', 'Wins', '%±', 'Home attendance', '%±.1', 'Per Game',\n",
      "       'Est. Payroll', '%±.2'],\n",
      "      dtype='object')\n",
      "27\n",
      "Index(['Team', 'Special occasion'], dtype='object')\n",
      "28\n",
      "Int64Index([0, 1], dtype='int64')\n",
      "29\n",
      "Index(['vte2019 MLB season by team', 'vte2019 MLB season by team.1'], dtype='object')\n",
      "30\n",
      "Int64Index([0, 1], dtype='int64')\n",
      "31\n",
      "Int64Index([0, 1], dtype='int64')\n",
      "32\n",
      "Int64Index([0, 1], dtype='int64')\n",
      "33\n",
      "Index(['vteMajor League Baseball seasons', 'vteMajor League Baseball seasons.1'], dtype='object')\n",
      "34\n",
      "Int64Index([0, 1], dtype='int64')\n",
      "35\n",
      "Int64Index([0, 1], dtype='int64')\n",
      "36\n",
      "Index(['vte2019 Major League Baseball postseason', 'vte2019 Major League Baseball postseason.1'], dtype='object')\n"
     ]
    }
   ],
   "source": [
    "# import pandas as pd\n",
    "tables=pd.read_html(url)\n",
    "for idx, each_table in enumerate(tables): \n",
    "    print(idx)\n",
    "    print(each_table.columns)"
   ]
  },
  {
   "cell_type": "code",
   "execution_count": 98,
   "metadata": {},
   "outputs": [],
   "source": [
    "mlb_attendance = tables[26]"
   ]
  },
  {
   "cell_type": "code",
   "execution_count": 72,
   "metadata": {
    "scrolled": false
   },
   "outputs": [],
   "source": [
    "# d = dict([(x,0) for x in full_table])\n",
    "# d"
   ]
  },
  {
   "cell_type": "code",
   "execution_count": 73,
   "metadata": {},
   "outputs": [],
   "source": [
    "# d['Team Name'] = c1\n",
    "# d['Wins'] = c2\n",
    "# d['Percent change'] = c3\n",
    "# d['Home attendance'] = c4\n",
    "# d['Average Home Attendance Per Game'] = c5\n",
    "# d['Est. Payroll'] = c6\n"
   ]
  },
  {
   "cell_type": "code",
   "execution_count": 74,
   "metadata": {},
   "outputs": [],
   "source": [
    "# print(d)"
   ]
  },
  {
   "cell_type": "code",
   "execution_count": 119,
   "metadata": {
    "scrolled": true
   },
   "outputs": [
    {
     "ename": "ValueError",
     "evalue": "DataFrame constructor not properly called!",
     "output_type": "error",
     "traceback": [
      "\u001b[1;31m---------------------------------------------------------------------------\u001b[0m",
      "\u001b[1;31mValueError\u001b[0m                                Traceback (most recent call last)",
      "\u001b[1;32m<ipython-input-119-52780496358d>\u001b[0m in \u001b[0;36m<module>\u001b[1;34m\u001b[0m\n\u001b[1;32m----> 1\u001b[1;33m \u001b[0mmlb_attendance\u001b[0m \u001b[1;33m=\u001b[0m \u001b[0mpd\u001b[0m\u001b[1;33m.\u001b[0m\u001b[0mDataFrame\u001b[0m\u001b[1;33m(\u001b[0m\u001b[0mmlb_attendance\u001b[0m\u001b[1;33m)\u001b[0m\u001b[1;33m\u001b[0m\u001b[1;33m\u001b[0m\u001b[0m\n\u001b[0m\u001b[0;32m      2\u001b[0m \u001b[0mmlb_attendance\u001b[0m\u001b[1;33m[\u001b[0m\u001b[1;34m\"Team Name\"\u001b[0m\u001b[1;33m]\u001b[0m\u001b[1;33m\u001b[0m\u001b[1;33m\u001b[0m\u001b[0m\n",
      "\u001b[1;32m~\\anaconda3.7\\lib\\site-packages\\pandas\\core\\frame.py\u001b[0m in \u001b[0;36m__init__\u001b[1;34m(self, data, index, columns, dtype, copy)\u001b[0m\n\u001b[0;32m    507\u001b[0m                 )\n\u001b[0;32m    508\u001b[0m             \u001b[1;32melse\u001b[0m\u001b[1;33m:\u001b[0m\u001b[1;33m\u001b[0m\u001b[1;33m\u001b[0m\u001b[0m\n\u001b[1;32m--> 509\u001b[1;33m                 \u001b[1;32mraise\u001b[0m \u001b[0mValueError\u001b[0m\u001b[1;33m(\u001b[0m\u001b[1;34m\"DataFrame constructor not properly called!\"\u001b[0m\u001b[1;33m)\u001b[0m\u001b[1;33m\u001b[0m\u001b[1;33m\u001b[0m\u001b[0m\n\u001b[0m\u001b[0;32m    510\u001b[0m \u001b[1;33m\u001b[0m\u001b[0m\n\u001b[0;32m    511\u001b[0m         \u001b[0mNDFrame\u001b[0m\u001b[1;33m.\u001b[0m\u001b[0m__init__\u001b[0m\u001b[1;33m(\u001b[0m\u001b[0mself\u001b[0m\u001b[1;33m,\u001b[0m \u001b[0mmgr\u001b[0m\u001b[1;33m,\u001b[0m \u001b[0mfastpath\u001b[0m\u001b[1;33m=\u001b[0m\u001b[1;32mTrue\u001b[0m\u001b[1;33m)\u001b[0m\u001b[1;33m\u001b[0m\u001b[1;33m\u001b[0m\u001b[0m\n",
      "\u001b[1;31mValueError\u001b[0m: DataFrame constructor not properly called!"
     ]
    }
   ],
   "source": [
    "mlb_attendance = pd.DataFrame(mlb_attendance)\n",
    "mlb_attendance[\"Team Name\"]"
   ]
  },
  {
   "cell_type": "code",
   "execution_count": 117,
   "metadata": {},
   "outputs": [
    {
     "ename": "TypeError",
     "evalue": "string indices must be integers",
     "output_type": "error",
     "traceback": [
      "\u001b[1;31m---------------------------------------------------------------------------\u001b[0m",
      "\u001b[1;31mTypeError\u001b[0m                                 Traceback (most recent call last)",
      "\u001b[1;32m<ipython-input-117-e47f7f88a909>\u001b[0m in \u001b[0;36m<module>\u001b[1;34m\u001b[0m\n\u001b[1;32m----> 1\u001b[1;33m \u001b[0mtext_items\u001b[0m \u001b[1;33m=\u001b[0m \u001b[0mmlb_attendance\u001b[0m\u001b[1;33m[\u001b[0m\u001b[1;34m\"Team Name\"\u001b[0m\u001b[1;33m]\u001b[0m\u001b[1;33m\u001b[0m\u001b[1;33m\u001b[0m\u001b[0m\n\u001b[0m\u001b[0;32m      2\u001b[0m \u001b[0mno_footnotes\u001b[0m \u001b[1;33m=\u001b[0m \u001b[1;33m[\u001b[0m\u001b[0mtext\u001b[0m \u001b[1;32mfor\u001b[0m \u001b[0mtext\u001b[0m \u001b[1;32min\u001b[0m \u001b[0mtext_items\u001b[0m \u001b[1;32mif\u001b[0m \u001b[0mtext\u001b[0m\u001b[1;33m[\u001b[0m\u001b[1;36m0\u001b[0m\u001b[1;33m]\u001b[0m \u001b[1;33m!=\u001b[0m \u001b[1;34m'['\u001b[0m\u001b[1;33m]\u001b[0m\u001b[1;33m\u001b[0m\u001b[1;33m\u001b[0m\u001b[0m\n\u001b[0;32m      3\u001b[0m \u001b[0mmlb_attendance\u001b[0m \u001b[1;33m=\u001b[0m \u001b[1;34m''\u001b[0m\u001b[1;33m.\u001b[0m\u001b[0mjoin\u001b[0m\u001b[1;33m(\u001b[0m\u001b[0mno_footnotes\u001b[0m\u001b[1;33m)\u001b[0m\u001b[1;33m\u001b[0m\u001b[1;33m\u001b[0m\u001b[0m\n\u001b[0;32m      4\u001b[0m \u001b[0mmlb_attendance\u001b[0m \u001b[1;33m=\u001b[0m \u001b[0mpd\u001b[0m\u001b[1;33m.\u001b[0m\u001b[0mDataFrame\u001b[0m\u001b[1;33m(\u001b[0m\u001b[0mmlb_attendance\u001b[0m\u001b[1;33m)\u001b[0m\u001b[1;33m\u001b[0m\u001b[1;33m\u001b[0m\u001b[0m\n",
      "\u001b[1;31mTypeError\u001b[0m: string indices must be integers"
     ]
    }
   ],
   "source": [
    "\n",
    "\n",
    "text_items = mlb_attendance[\"Team Name\"]\n",
    "no_footnotes = [text for text in text_items if text[0] != '[']\n",
    "mlb_attendance = ''.join(no_footnotes)\n",
    "mlb_attendance = pd.DataFrame(mlb_attendance)"
   ]
  }
 ],
 "metadata": {
  "kernelspec": {
   "display_name": "Python 3",
   "language": "python",
   "name": "python3"
  },
  "language_info": {
   "codemirror_mode": {
    "name": "ipython",
    "version": 3
   },
   "file_extension": ".py",
   "mimetype": "text/x-python",
   "name": "python",
   "nbconvert_exporter": "python",
   "pygments_lexer": "ipython3",
   "version": "3.7.6"
  }
 },
 "nbformat": 4,
 "nbformat_minor": 4
}
