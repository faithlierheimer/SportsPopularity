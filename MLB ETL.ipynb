{
 "cells": [
  {
   "cell_type": "code",
   "execution_count": 29,
   "metadata": {},
   "outputs": [],
   "source": [
    "#Dependencies \n",
    "import pandas as pd \n",
    "import sqlalchemy\n",
    "from sqlalchemy.ext.automap import automap_base\n",
    "from sqlalchemy.orm import Session\n",
    "from sqlalchemy import create_engine, func\n",
    "import wikipedia\n",
    "import requests\n",
    "from bs4 import BeautifulSoup as bs\n"
   ]
  },
  {
   "cell_type": "code",
   "execution_count": 62,
   "metadata": {},
   "outputs": [],
   "source": [
    "s = requests.Session()\n",
    "url = \"https://en.wikipedia.org/wiki/2019_Major_League_Baseball_season\"\n"
   ]
  },
  {
   "cell_type": "code",
   "execution_count": 63,
   "metadata": {},
   "outputs": [
    {
     "data": {
      "text/plain": [
       "<Response [200]>"
      ]
     },
     "execution_count": 63,
     "metadata": {},
     "output_type": "execute_result"
    }
   ],
   "source": [
    "response = s.get(url, timeout=10)\n",
    "response"
   ]
  },
  {
   "cell_type": "code",
   "execution_count": 65,
   "metadata": {},
   "outputs": [
    {
     "name": "stdout",
     "output_type": "stream",
     "text": [
      "2019 Major League Baseball season\n"
     ]
    }
   ],
   "source": [
    "# # testing scraping\n",
    "title = soup.find(id=\"firstHeading\")\n",
    "print(title.string)"
   ]
  },
  {
   "cell_type": "code",
   "execution_count": 76,
   "metadata": {
    "scrolled": true
   },
   "outputs": [
    {
     "data": {
      "text/plain": [
       "bs4.element.Tag"
      ]
     },
     "execution_count": 76,
     "metadata": {},
     "output_type": "execute_result"
    }
   ],
   "source": [
    "attendance_table = soup.find('table', {'class': 'wikitable sortable'})\n",
    "# attendance_table()"
   ]
  },
  {
   "cell_type": "code",
   "execution_count": 91,
   "metadata": {},
   "outputs": [
    {
     "data": {
      "text/plain": [
       "[<th>Team Name\n",
       " </th>,\n",
       " <th>Wins\n",
       " </th>,\n",
       " <th><abbr title=\"Percent change\">%±</abbr>\n",
       " </th>,\n",
       " <th>Home attendance\n",
       " </th>,\n",
       " <th><abbr title=\"Percent change\">%±</abbr>\n",
       " </th>,\n",
       " <th><abbr title=\"Average Home Attendance Per Game\">Per Game</abbr>\n",
       " </th>,\n",
       " <th>Est. Payroll\n",
       " </th>,\n",
       " <th><abbr title=\"Percent change\">%±</abbr>\n",
       " </th>]"
      ]
     },
     "execution_count": 91,
     "metadata": {},
     "output_type": "execute_result"
    }
   ],
   "source": [
    "row_headers = attendance_table.findAll(lambda tag: tag.name=='th')\n",
    "row_headers"
   ]
  },
  {
   "cell_type": "code",
   "execution_count": 113,
   "metadata": {},
   "outputs": [],
   "source": [
    "# header = [th.text.rstrip() for th in rows[0].find_all('th')]\n",
    "# print(header)\n",
    "# print(soup.get_text())"
   ]
  },
  {
   "cell_type": "code",
   "execution_count": 174,
   "metadata": {},
   "outputs": [
    {
     "ename": "SyntaxError",
     "evalue": "invalid syntax (<ipython-input-174-5c079f790218>, line 21)",
     "output_type": "error",
     "traceback": [
      "\u001b[1;36m  File \u001b[1;32m\"<ipython-input-174-5c079f790218>\"\u001b[1;36m, line \u001b[1;32m21\u001b[0m\n\u001b[1;33m    print (row())\u001b[0m\n\u001b[1;37m        ^\u001b[0m\n\u001b[1;31mSyntaxError\u001b[0m\u001b[1;31m:\u001b[0m invalid syntax\n"
     ]
    }
   ],
   "source": [
    "c1=[]\n",
    "c2=[]\n",
    "c3=[]\n",
    "c4=[]\n",
    "c5=[]\n",
    "c6=[]\n",
    "c7=[]\n",
    "c8=[]\n",
    "\n",
    "for row in attendance_table.findAll(\"tr\"):\n",
    "    cells = row.findAll('td')\n",
    "    if len(cells)==7:\n",
    "        c1.append(cells[0],\n",
    "        c2.append(cells[1],\n",
    "        c3.append(cells[2],\n",
    "        c4.append(cells[3],\n",
    "        c5.append(cells[4],\n",
    "        c6.append(cells[5],\n",
    "        c7.append(cells[6]\n",
    "                  \n",
    "print (row())"
   ]
  },
  {
   "cell_type": "code",
   "execution_count": 171,
   "metadata": {
    "scrolled": true
   },
   "outputs": [
    {
     "data": {
      "text/plain": [
       "{<th>Team Name\n",
       " </th>: 0,\n",
       " <th>Wins\n",
       " </th>: 0,\n",
       " <th><abbr title=\"Percent change\">%±</abbr>\n",
       " </th>: 0,\n",
       " <th>Home attendance\n",
       " </th>: 0,\n",
       " <th><abbr title=\"Average Home Attendance Per Game\">Per Game</abbr>\n",
       " </th>: 0,\n",
       " <th>Est. Payroll\n",
       " </th>: 0}"
      ]
     },
     "execution_count": 171,
     "metadata": {},
     "output_type": "execute_result"
    }
   ],
   "source": [
    "d = dict([(x,0) for x in row_headers])\n",
    "d"
   ]
  },
  {
   "cell_type": "code",
   "execution_count": 166,
   "metadata": {},
   "outputs": [
    {
     "ename": "KeyError",
     "evalue": "'Est. Payroll'",
     "output_type": "error",
     "traceback": [
      "\u001b[1;31m---------------------------------------------------------------------------\u001b[0m",
      "\u001b[1;31mKeyError\u001b[0m                                  Traceback (most recent call last)",
      "\u001b[1;32m<ipython-input-166-aed00647d6a4>\u001b[0m in \u001b[0;36m<module>\u001b[1;34m\u001b[0m\n\u001b[0;32m      4\u001b[0m \u001b[0md\u001b[0m\u001b[1;33m[\u001b[0m\u001b[1;34m'Home attendance'\u001b[0m\u001b[1;33m]\u001b[0m \u001b[1;33m=\u001b[0m \u001b[0mc4\u001b[0m\u001b[1;33m\u001b[0m\u001b[1;33m\u001b[0m\u001b[0m\n\u001b[0;32m      5\u001b[0m \u001b[0md\u001b[0m\u001b[1;33m[\u001b[0m\u001b[1;34m'Average Home Attendance Per Game'\u001b[0m\u001b[1;33m]\u001b[0m \u001b[1;33m=\u001b[0m \u001b[0mc5\u001b[0m\u001b[1;33m\u001b[0m\u001b[1;33m\u001b[0m\u001b[0m\n\u001b[1;32m----> 6\u001b[1;33m \u001b[0mc6\u001b[0m \u001b[1;33m=\u001b[0m \u001b[0md\u001b[0m\u001b[1;33m[\u001b[0m\u001b[1;34m'Est. Payroll'\u001b[0m\u001b[1;33m]\u001b[0m\u001b[1;33m\u001b[0m\u001b[1;33m\u001b[0m\u001b[0m\n\u001b[0m",
      "\u001b[1;31mKeyError\u001b[0m: 'Est. Payroll'"
     ]
    }
   ],
   "source": [
    "d['Team Name'] = c1\n",
    "d['Wins'] = c2\n",
    "d['Percent change'] = c3\n",
    "d['Home attendance'] = c4\n",
    "d['Average Home Attendance Per Game'] = c5\n",
    "c6 = d['Est. Payroll']\n"
   ]
  },
  {
   "cell_type": "code",
   "execution_count": 160,
   "metadata": {},
   "outputs": [
    {
     "name": "stdout",
     "output_type": "stream",
     "text": [
      "{<th>Team Name\n",
      "</th>: 0, <th>Wins\n",
      "</th>: 0, <th><abbr title=\"Percent change\">%±</abbr>\n",
      "</th>: 0, <th>Home attendance\n",
      "</th>: 0, <th><abbr title=\"Average Home Attendance Per Game\">Per Game</abbr>\n",
      "</th>: 0, <th>Est. Payroll\n",
      "</th>: 0, 'Team Name': [], 'Wins': [], 'Percent change': [], 'Home attendance': [], 'Average Home Attendance Per Game': [], 'Est. Payroll': []}\n"
     ]
    }
   ],
   "source": [
    "print(d)"
   ]
  },
  {
   "cell_type": "code",
   "execution_count": 161,
   "metadata": {
    "scrolled": true
   },
   "outputs": [
    {
     "data": {
      "text/html": [
       "<div>\n",
       "<style scoped>\n",
       "    .dataframe tbody tr th:only-of-type {\n",
       "        vertical-align: middle;\n",
       "    }\n",
       "\n",
       "    .dataframe tbody tr th {\n",
       "        vertical-align: top;\n",
       "    }\n",
       "\n",
       "    .dataframe thead th {\n",
       "        text-align: right;\n",
       "    }\n",
       "</style>\n",
       "<table border=\"1\" class=\"dataframe\">\n",
       "  <thead>\n",
       "    <tr style=\"text-align: right;\">\n",
       "      <th></th>\n",
       "      <th>[Team Name\\n]</th>\n",
       "      <th>[Wins\\n]</th>\n",
       "      <th>[[%±], \\n]</th>\n",
       "      <th>[Home attendance\\n]</th>\n",
       "      <th>[[Per Game], \\n]</th>\n",
       "      <th>[Est. Payroll\\n]</th>\n",
       "      <th>Team Name</th>\n",
       "      <th>Wins</th>\n",
       "      <th>Percent change</th>\n",
       "      <th>Home attendance</th>\n",
       "      <th>Average Home Attendance Per Game</th>\n",
       "      <th>Est. Payroll</th>\n",
       "    </tr>\n",
       "  </thead>\n",
       "  <tbody>\n",
       "  </tbody>\n",
       "</table>\n",
       "</div>"
      ],
      "text/plain": [
       "Empty DataFrame\n",
       "Columns: [[Team Name\n",
       "], [Wins\n",
       "], [[%±], \n",
       "], [Home attendance\n",
       "], [[Per Game], \n",
       "], [Est. Payroll\n",
       "], Team Name, Wins, Percent change, Home attendance, Average Home Attendance Per Game, Est. Payroll]\n",
       "Index: []"
      ]
     },
     "execution_count": 161,
     "metadata": {},
     "output_type": "execute_result"
    }
   ],
   "source": [
    "df_table = pd.DataFrame(d)\n",
    "df_table.head(5)"
   ]
  }
 ],
 "metadata": {
  "kernelspec": {
   "display_name": "Python 3",
   "language": "python",
   "name": "python3"
  },
  "language_info": {
   "codemirror_mode": {
    "name": "ipython",
    "version": 3
   },
   "file_extension": ".py",
   "mimetype": "text/x-python",
   "name": "python",
   "nbconvert_exporter": "python",
   "pygments_lexer": "ipython3",
   "version": "3.7.6"
  }
 },
 "nbformat": 4,
 "nbformat_minor": 4
}
