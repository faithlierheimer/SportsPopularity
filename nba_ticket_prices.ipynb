{
 "cells": [
  {
   "cell_type": "code",
   "execution_count": 3,
   "metadata": {},
   "outputs": [],
   "source": [
    "#Dependencies \n",
    "import pandas as pd \n",
    "import sqlalchemy\n",
    "from sqlalchemy.ext.automap import automap_base\n",
    "from sqlalchemy.orm import Session\n",
    "from sqlalchemy import create_engine, func\n",
    "import requests\n",
    "import json\n",
    "import time\n",
    "import csv"
   ]
  },
  {
   "cell_type": "code",
   "execution_count": 4,
   "metadata": {},
   "outputs": [
    {
     "data": {
      "text/html": [
       "<div>\n",
       "<style scoped>\n",
       "    .dataframe tbody tr th:only-of-type {\n",
       "        vertical-align: middle;\n",
       "    }\n",
       "\n",
       "    .dataframe tbody tr th {\n",
       "        vertical-align: top;\n",
       "    }\n",
       "\n",
       "    .dataframe thead th {\n",
       "        text-align: right;\n",
       "    }\n",
       "</style>\n",
       "<table border=\"1\" class=\"dataframe\">\n",
       "  <thead>\n",
       "    <tr style=\"text-align: right;\">\n",
       "      <th></th>\n",
       "      <th>team</th>\n",
       "      <th>Average Ticket Price</th>\n",
       "      <th>Arena</th>\n",
       "      <th>lat</th>\n",
       "      <th>long</th>\n",
       "    </tr>\n",
       "  </thead>\n",
       "  <tbody>\n",
       "    <tr>\n",
       "      <th>0</th>\n",
       "      <td>76ers</td>\n",
       "      <td>$81.00</td>\n",
       "      <td>Wells Fargo Center</td>\n",
       "      <td>39.9012</td>\n",
       "      <td>-75.1720</td>\n",
       "    </tr>\n",
       "    <tr>\n",
       "      <th>1</th>\n",
       "      <td>Blazers</td>\n",
       "      <td>$92.00</td>\n",
       "      <td>Moda Center</td>\n",
       "      <td>45.5316</td>\n",
       "      <td>-122.6670</td>\n",
       "    </tr>\n",
       "    <tr>\n",
       "      <th>2</th>\n",
       "      <td>Bucks</td>\n",
       "      <td>$60.00</td>\n",
       "      <td>Fiserv Forum</td>\n",
       "      <td>43.0451</td>\n",
       "      <td>-87.9174</td>\n",
       "    </tr>\n",
       "    <tr>\n",
       "      <th>3</th>\n",
       "      <td>Bulls</td>\n",
       "      <td>$165.00</td>\n",
       "      <td>United Center</td>\n",
       "      <td>41.8807</td>\n",
       "      <td>-87.6742</td>\n",
       "    </tr>\n",
       "    <tr>\n",
       "      <th>4</th>\n",
       "      <td>Cavaliers</td>\n",
       "      <td>$42.00</td>\n",
       "      <td>Rocket Mortgage FieldHouse</td>\n",
       "      <td>41.4966</td>\n",
       "      <td>-81.6881</td>\n",
       "    </tr>\n",
       "  </tbody>\n",
       "</table>\n",
       "</div>"
      ],
      "text/plain": [
       "        team Average Ticket Price                        Arena      lat  \\\n",
       "0      76ers               $81.00           Wells Fargo Center  39.9012   \n",
       "1    Blazers               $92.00                  Moda Center  45.5316   \n",
       "2      Bucks               $60.00                 Fiserv Forum  43.0451   \n",
       "3      Bulls              $165.00                United Center  41.8807   \n",
       "4  Cavaliers               $42.00   Rocket Mortgage FieldHouse  41.4966   \n",
       "\n",
       "       long  \n",
       "0  -75.1720  \n",
       "1 -122.6670  \n",
       "2  -87.9174  \n",
       "3  -87.6742  \n",
       "4  -81.6881  "
      ]
     },
     "execution_count": 4,
     "metadata": {},
     "output_type": "execute_result"
    }
   ],
   "source": [
    "# File to Load\n",
    "import csv\n",
    "load_file = \"nba_ticket_prices.csv\"\n",
    "nba_ticket_prices = pd.read_csv(load_file, encoding= 'unicode_escape')\n",
    "nba_ticket_prices.head()"
   ]
  },
  {
   "cell_type": "code",
   "execution_count": 5,
   "metadata": {},
   "outputs": [
    {
     "name": "stdout",
     "output_type": "stream",
     "text": [
      "2020-10-17 16:23:12,858 INFO sqlalchemy.engine.base.Engine SELECT CAST('test plain returns' AS VARCHAR(60)) AS anon_1\n",
      "2020-10-17 16:23:12,862 INFO sqlalchemy.engine.base.Engine ()\n",
      "2020-10-17 16:23:12,863 INFO sqlalchemy.engine.base.Engine SELECT CAST('test unicode returns' AS VARCHAR(60)) AS anon_1\n",
      "2020-10-17 16:23:12,864 INFO sqlalchemy.engine.base.Engine ()\n"
     ]
    }
   ],
   "source": [
    "## create engine\n",
    "engine = create_engine('sqlite:///sports.db', echo = True)\n",
    "sqlite_connection = engine.connect()"
   ]
  },
  {
   "cell_type": "code",
   "execution_count": 6,
   "metadata": {},
   "outputs": [
    {
     "name": "stdout",
     "output_type": "stream",
     "text": [
      "2020-10-17 16:23:17,841 INFO sqlalchemy.engine.base.Engine SELECT name FROM sqlite_master WHERE type='table' ORDER BY name\n",
      "2020-10-17 16:23:17,842 INFO sqlalchemy.engine.base.Engine ()\n",
      "2020-10-17 16:23:17,845 INFO sqlalchemy.engine.base.Engine PRAGMA main.table_xinfo(\"mlb_ticket_price\")\n",
      "2020-10-17 16:23:17,846 INFO sqlalchemy.engine.base.Engine ()\n",
      "2020-10-17 16:23:17,849 INFO sqlalchemy.engine.base.Engine SELECT sql FROM  (SELECT * FROM sqlite_master UNION ALL   SELECT * FROM sqlite_temp_master) WHERE name = 'mlb_ticket_price' AND type = 'table'\n",
      "2020-10-17 16:23:17,851 INFO sqlalchemy.engine.base.Engine ()\n",
      "2020-10-17 16:23:17,853 INFO sqlalchemy.engine.base.Engine PRAGMA main.foreign_key_list(\"mlb_ticket_price\")\n",
      "2020-10-17 16:23:17,855 INFO sqlalchemy.engine.base.Engine ()\n",
      "2020-10-17 16:23:17,856 INFO sqlalchemy.engine.base.Engine PRAGMA temp.foreign_key_list(\"mlb_ticket_price\")\n",
      "2020-10-17 16:23:17,858 INFO sqlalchemy.engine.base.Engine ()\n",
      "2020-10-17 16:23:17,859 INFO sqlalchemy.engine.base.Engine SELECT sql FROM  (SELECT * FROM sqlite_master UNION ALL   SELECT * FROM sqlite_temp_master) WHERE name = 'mlb_ticket_price' AND type = 'table'\n",
      "2020-10-17 16:23:17,861 INFO sqlalchemy.engine.base.Engine ()\n",
      "2020-10-17 16:23:17,865 INFO sqlalchemy.engine.base.Engine PRAGMA main.index_list(\"mlb_ticket_price\")\n",
      "2020-10-17 16:23:17,866 INFO sqlalchemy.engine.base.Engine ()\n",
      "2020-10-17 16:23:17,867 INFO sqlalchemy.engine.base.Engine PRAGMA main.index_list(\"mlb_ticket_price\")\n",
      "2020-10-17 16:23:17,868 INFO sqlalchemy.engine.base.Engine ()\n",
      "2020-10-17 16:23:17,870 INFO sqlalchemy.engine.base.Engine PRAGMA main.index_info(\"sqlite_autoindex_mlb_ticket_price_1\")\n",
      "2020-10-17 16:23:17,871 INFO sqlalchemy.engine.base.Engine ()\n",
      "2020-10-17 16:23:17,872 INFO sqlalchemy.engine.base.Engine SELECT sql FROM  (SELECT * FROM sqlite_master UNION ALL   SELECT * FROM sqlite_temp_master) WHERE name = 'mlb_ticket_price' AND type = 'table'\n",
      "2020-10-17 16:23:17,873 INFO sqlalchemy.engine.base.Engine ()\n",
      "2020-10-17 16:23:17,878 INFO sqlalchemy.engine.base.Engine PRAGMA main.table_xinfo(\"nba_ticket_price\")\n",
      "2020-10-17 16:23:17,879 INFO sqlalchemy.engine.base.Engine ()\n",
      "2020-10-17 16:23:17,882 INFO sqlalchemy.engine.base.Engine SELECT sql FROM  (SELECT * FROM sqlite_master UNION ALL   SELECT * FROM sqlite_temp_master) WHERE name = 'nba_ticket_price' AND type = 'table'\n",
      "2020-10-17 16:23:17,883 INFO sqlalchemy.engine.base.Engine ()\n",
      "2020-10-17 16:23:17,886 INFO sqlalchemy.engine.base.Engine PRAGMA main.foreign_key_list(\"nba_ticket_price\")\n",
      "2020-10-17 16:23:17,886 INFO sqlalchemy.engine.base.Engine ()\n",
      "2020-10-17 16:23:17,888 INFO sqlalchemy.engine.base.Engine PRAGMA temp.foreign_key_list(\"nba_ticket_price\")\n",
      "2020-10-17 16:23:17,889 INFO sqlalchemy.engine.base.Engine ()\n",
      "2020-10-17 16:23:17,890 INFO sqlalchemy.engine.base.Engine SELECT sql FROM  (SELECT * FROM sqlite_master UNION ALL   SELECT * FROM sqlite_temp_master) WHERE name = 'nba_ticket_price' AND type = 'table'\n",
      "2020-10-17 16:23:17,891 INFO sqlalchemy.engine.base.Engine ()\n",
      "2020-10-17 16:23:17,893 INFO sqlalchemy.engine.base.Engine PRAGMA main.index_list(\"nba_ticket_price\")\n",
      "2020-10-17 16:23:17,894 INFO sqlalchemy.engine.base.Engine ()\n",
      "2020-10-17 16:23:17,895 INFO sqlalchemy.engine.base.Engine PRAGMA main.index_list(\"nba_ticket_price\")\n",
      "2020-10-17 16:23:17,897 INFO sqlalchemy.engine.base.Engine ()\n",
      "2020-10-17 16:23:17,899 INFO sqlalchemy.engine.base.Engine PRAGMA main.index_info(\"sqlite_autoindex_nba_ticket_price_1\")\n",
      "2020-10-17 16:23:17,900 INFO sqlalchemy.engine.base.Engine ()\n",
      "2020-10-17 16:23:17,902 INFO sqlalchemy.engine.base.Engine SELECT sql FROM  (SELECT * FROM sqlite_master UNION ALL   SELECT * FROM sqlite_temp_master) WHERE name = 'nba_ticket_price' AND type = 'table'\n",
      "2020-10-17 16:23:17,903 INFO sqlalchemy.engine.base.Engine ()\n",
      "2020-10-17 16:23:17,905 INFO sqlalchemy.engine.base.Engine PRAGMA main.table_xinfo(\"nba_ticket_prices\")\n",
      "2020-10-17 16:23:17,906 INFO sqlalchemy.engine.base.Engine ()\n",
      "2020-10-17 16:23:17,908 INFO sqlalchemy.engine.base.Engine SELECT sql FROM  (SELECT * FROM sqlite_master UNION ALL   SELECT * FROM sqlite_temp_master) WHERE name = 'nba_ticket_prices' AND type = 'table'\n",
      "2020-10-17 16:23:17,909 INFO sqlalchemy.engine.base.Engine ()\n",
      "2020-10-17 16:23:17,911 INFO sqlalchemy.engine.base.Engine PRAGMA main.foreign_key_list(\"nba_ticket_prices\")\n",
      "2020-10-17 16:23:17,911 INFO sqlalchemy.engine.base.Engine ()\n",
      "2020-10-17 16:23:17,913 INFO sqlalchemy.engine.base.Engine PRAGMA temp.foreign_key_list(\"nba_ticket_prices\")\n",
      "2020-10-17 16:23:17,913 INFO sqlalchemy.engine.base.Engine ()\n",
      "2020-10-17 16:23:17,914 INFO sqlalchemy.engine.base.Engine SELECT sql FROM  (SELECT * FROM sqlite_master UNION ALL   SELECT * FROM sqlite_temp_master) WHERE name = 'nba_ticket_prices' AND type = 'table'\n",
      "2020-10-17 16:23:17,915 INFO sqlalchemy.engine.base.Engine ()\n",
      "2020-10-17 16:23:17,917 INFO sqlalchemy.engine.base.Engine PRAGMA main.index_list(\"nba_ticket_prices\")\n",
      "2020-10-17 16:23:17,919 INFO sqlalchemy.engine.base.Engine ()\n",
      "2020-10-17 16:23:17,921 INFO sqlalchemy.engine.base.Engine PRAGMA main.index_info(\"ix_nba_ticket_prices_index\")\n",
      "2020-10-17 16:23:17,921 INFO sqlalchemy.engine.base.Engine ()\n",
      "2020-10-17 16:23:17,923 INFO sqlalchemy.engine.base.Engine PRAGMA main.index_list(\"nba_ticket_prices\")\n",
      "2020-10-17 16:23:17,925 INFO sqlalchemy.engine.base.Engine ()\n",
      "2020-10-17 16:23:17,926 INFO sqlalchemy.engine.base.Engine PRAGMA main.index_info(\"ix_nba_ticket_prices_index\")\n",
      "2020-10-17 16:23:17,927 INFO sqlalchemy.engine.base.Engine ()\n",
      "2020-10-17 16:23:17,929 INFO sqlalchemy.engine.base.Engine SELECT sql FROM  (SELECT * FROM sqlite_master UNION ALL   SELECT * FROM sqlite_temp_master) WHERE name = 'nba_ticket_prices' AND type = 'table'\n",
      "2020-10-17 16:23:17,929 INFO sqlalchemy.engine.base.Engine ()\n",
      "2020-10-17 16:23:17,933 INFO sqlalchemy.engine.base.Engine PRAGMA main.table_xinfo(\"nfl_ticket_price\")\n",
      "2020-10-17 16:23:17,934 INFO sqlalchemy.engine.base.Engine ()\n",
      "2020-10-17 16:23:17,937 INFO sqlalchemy.engine.base.Engine SELECT sql FROM  (SELECT * FROM sqlite_master UNION ALL   SELECT * FROM sqlite_temp_master) WHERE name = 'nfl_ticket_price' AND type = 'table'\n",
      "2020-10-17 16:23:17,938 INFO sqlalchemy.engine.base.Engine ()\n",
      "2020-10-17 16:23:17,939 INFO sqlalchemy.engine.base.Engine PRAGMA main.foreign_key_list(\"nfl_ticket_price\")\n",
      "2020-10-17 16:23:17,941 INFO sqlalchemy.engine.base.Engine ()\n",
      "2020-10-17 16:23:17,942 INFO sqlalchemy.engine.base.Engine PRAGMA temp.foreign_key_list(\"nfl_ticket_price\")\n",
      "2020-10-17 16:23:17,943 INFO sqlalchemy.engine.base.Engine ()\n",
      "2020-10-17 16:23:17,945 INFO sqlalchemy.engine.base.Engine SELECT sql FROM  (SELECT * FROM sqlite_master UNION ALL   SELECT * FROM sqlite_temp_master) WHERE name = 'nfl_ticket_price' AND type = 'table'\n",
      "2020-10-17 16:23:17,946 INFO sqlalchemy.engine.base.Engine ()\n",
      "2020-10-17 16:23:17,950 INFO sqlalchemy.engine.base.Engine PRAGMA main.index_list(\"nfl_ticket_price\")\n",
      "2020-10-17 16:23:17,951 INFO sqlalchemy.engine.base.Engine ()\n",
      "2020-10-17 16:23:17,953 INFO sqlalchemy.engine.base.Engine PRAGMA main.index_list(\"nfl_ticket_price\")\n",
      "2020-10-17 16:23:17,954 INFO sqlalchemy.engine.base.Engine ()\n",
      "2020-10-17 16:23:17,955 INFO sqlalchemy.engine.base.Engine PRAGMA main.index_info(\"sqlite_autoindex_nfl_ticket_price_1\")\n",
      "2020-10-17 16:23:17,956 INFO sqlalchemy.engine.base.Engine ()\n",
      "2020-10-17 16:23:17,958 INFO sqlalchemy.engine.base.Engine SELECT sql FROM  (SELECT * FROM sqlite_master UNION ALL   SELECT * FROM sqlite_temp_master) WHERE name = 'nfl_ticket_price' AND type = 'table'\n",
      "2020-10-17 16:23:17,958 INFO sqlalchemy.engine.base.Engine ()\n"
     ]
    },
    {
     "data": {
      "text/plain": [
       "['mlb_ticket_price', 'nba_ticket_price', 'nfl_ticket_price']"
      ]
     },
     "execution_count": 6,
     "metadata": {},
     "output_type": "execute_result"
    }
   ],
   "source": [
    "Base=automap_base()\n",
    "Base.prepare(sqlite_connection, reflect=True)\n",
    "Base.classes.keys()"
   ]
  },
  {
   "cell_type": "code",
   "execution_count": 7,
   "metadata": {},
   "outputs": [
    {
     "name": "stdout",
     "output_type": "stream",
     "text": [
      "2020-10-17 16:24:03,827 INFO sqlalchemy.engine.base.Engine PRAGMA main.table_info(\"nba_ticket_prices\")\n",
      "2020-10-17 16:24:03,829 INFO sqlalchemy.engine.base.Engine ()\n"
     ]
    },
    {
     "ename": "ValueError",
     "evalue": "Table 'nba_ticket_prices' already exists.",
     "output_type": "error",
     "traceback": [
      "\u001b[1;31m---------------------------------------------------------------------------\u001b[0m",
      "\u001b[1;31mValueError\u001b[0m                                Traceback (most recent call last)",
      "\u001b[1;32m<ipython-input-7-00e71212b66e>\u001b[0m in \u001b[0;36m<module>\u001b[1;34m\u001b[0m\n\u001b[0;32m      1\u001b[0m \u001b[1;31m#Set name of table to create\u001b[0m\u001b[1;33m\u001b[0m\u001b[1;33m\u001b[0m\u001b[1;33m\u001b[0m\u001b[0m\n\u001b[0;32m      2\u001b[0m \u001b[0mnba_tickets\u001b[0m \u001b[1;33m=\u001b[0m \u001b[1;34m\"nba_ticket_prices\"\u001b[0m\u001b[1;33m\u001b[0m\u001b[1;33m\u001b[0m\u001b[0m\n\u001b[1;32m----> 3\u001b[1;33m \u001b[0mnba_ticket_prices\u001b[0m\u001b[1;33m.\u001b[0m\u001b[0mto_sql\u001b[0m\u001b[1;33m(\u001b[0m\u001b[0mnba_tickets\u001b[0m\u001b[1;33m,\u001b[0m \u001b[0msqlite_connection\u001b[0m\u001b[1;33m,\u001b[0m \u001b[0mif_exists\u001b[0m \u001b[1;33m=\u001b[0m \u001b[1;34m'fail'\u001b[0m\u001b[1;33m)\u001b[0m\u001b[1;33m\u001b[0m\u001b[1;33m\u001b[0m\u001b[0m\n\u001b[0m",
      "\u001b[1;32m~\\anaconda3\\lib\\site-packages\\pandas\\core\\generic.py\u001b[0m in \u001b[0;36mto_sql\u001b[1;34m(self, name, con, schema, if_exists, index, index_label, chunksize, dtype, method)\u001b[0m\n\u001b[0;32m   2651\u001b[0m         \u001b[1;32mfrom\u001b[0m \u001b[0mpandas\u001b[0m\u001b[1;33m.\u001b[0m\u001b[0mio\u001b[0m \u001b[1;32mimport\u001b[0m \u001b[0msql\u001b[0m\u001b[1;33m\u001b[0m\u001b[1;33m\u001b[0m\u001b[0m\n\u001b[0;32m   2652\u001b[0m \u001b[1;33m\u001b[0m\u001b[0m\n\u001b[1;32m-> 2653\u001b[1;33m         sql.to_sql(\n\u001b[0m\u001b[0;32m   2654\u001b[0m             \u001b[0mself\u001b[0m\u001b[1;33m,\u001b[0m\u001b[1;33m\u001b[0m\u001b[1;33m\u001b[0m\u001b[0m\n\u001b[0;32m   2655\u001b[0m             \u001b[0mname\u001b[0m\u001b[1;33m,\u001b[0m\u001b[1;33m\u001b[0m\u001b[1;33m\u001b[0m\u001b[0m\n",
      "\u001b[1;32m~\\anaconda3\\lib\\site-packages\\pandas\\io\\sql.py\u001b[0m in \u001b[0;36mto_sql\u001b[1;34m(frame, name, con, schema, if_exists, index, index_label, chunksize, dtype, method)\u001b[0m\n\u001b[0;32m    510\u001b[0m         )\n\u001b[0;32m    511\u001b[0m \u001b[1;33m\u001b[0m\u001b[0m\n\u001b[1;32m--> 512\u001b[1;33m     pandas_sql.to_sql(\n\u001b[0m\u001b[0;32m    513\u001b[0m         \u001b[0mframe\u001b[0m\u001b[1;33m,\u001b[0m\u001b[1;33m\u001b[0m\u001b[1;33m\u001b[0m\u001b[0m\n\u001b[0;32m    514\u001b[0m         \u001b[0mname\u001b[0m\u001b[1;33m,\u001b[0m\u001b[1;33m\u001b[0m\u001b[1;33m\u001b[0m\u001b[0m\n",
      "\u001b[1;32m~\\anaconda3\\lib\\site-packages\\pandas\\io\\sql.py\u001b[0m in \u001b[0;36mto_sql\u001b[1;34m(self, frame, name, if_exists, index, index_label, schema, chunksize, dtype, method)\u001b[0m\n\u001b[0;32m   1314\u001b[0m             \u001b[0mdtype\u001b[0m\u001b[1;33m=\u001b[0m\u001b[0mdtype\u001b[0m\u001b[1;33m,\u001b[0m\u001b[1;33m\u001b[0m\u001b[1;33m\u001b[0m\u001b[0m\n\u001b[0;32m   1315\u001b[0m         )\n\u001b[1;32m-> 1316\u001b[1;33m         \u001b[0mtable\u001b[0m\u001b[1;33m.\u001b[0m\u001b[0mcreate\u001b[0m\u001b[1;33m(\u001b[0m\u001b[1;33m)\u001b[0m\u001b[1;33m\u001b[0m\u001b[1;33m\u001b[0m\u001b[0m\n\u001b[0m\u001b[0;32m   1317\u001b[0m         \u001b[0mtable\u001b[0m\u001b[1;33m.\u001b[0m\u001b[0minsert\u001b[0m\u001b[1;33m(\u001b[0m\u001b[0mchunksize\u001b[0m\u001b[1;33m,\u001b[0m \u001b[0mmethod\u001b[0m\u001b[1;33m=\u001b[0m\u001b[0mmethod\u001b[0m\u001b[1;33m)\u001b[0m\u001b[1;33m\u001b[0m\u001b[1;33m\u001b[0m\u001b[0m\n\u001b[0;32m   1318\u001b[0m         \u001b[1;32mif\u001b[0m \u001b[1;32mnot\u001b[0m \u001b[0mname\u001b[0m\u001b[1;33m.\u001b[0m\u001b[0misdigit\u001b[0m\u001b[1;33m(\u001b[0m\u001b[1;33m)\u001b[0m \u001b[1;32mand\u001b[0m \u001b[1;32mnot\u001b[0m \u001b[0mname\u001b[0m\u001b[1;33m.\u001b[0m\u001b[0mislower\u001b[0m\u001b[1;33m(\u001b[0m\u001b[1;33m)\u001b[0m\u001b[1;33m:\u001b[0m\u001b[1;33m\u001b[0m\u001b[1;33m\u001b[0m\u001b[0m\n",
      "\u001b[1;32m~\\anaconda3\\lib\\site-packages\\pandas\\io\\sql.py\u001b[0m in \u001b[0;36mcreate\u001b[1;34m(self)\u001b[0m\n\u001b[0;32m    644\u001b[0m         \u001b[1;32mif\u001b[0m \u001b[0mself\u001b[0m\u001b[1;33m.\u001b[0m\u001b[0mexists\u001b[0m\u001b[1;33m(\u001b[0m\u001b[1;33m)\u001b[0m\u001b[1;33m:\u001b[0m\u001b[1;33m\u001b[0m\u001b[1;33m\u001b[0m\u001b[0m\n\u001b[0;32m    645\u001b[0m             \u001b[1;32mif\u001b[0m \u001b[0mself\u001b[0m\u001b[1;33m.\u001b[0m\u001b[0mif_exists\u001b[0m \u001b[1;33m==\u001b[0m \u001b[1;34m\"fail\"\u001b[0m\u001b[1;33m:\u001b[0m\u001b[1;33m\u001b[0m\u001b[1;33m\u001b[0m\u001b[0m\n\u001b[1;32m--> 646\u001b[1;33m                 \u001b[1;32mraise\u001b[0m \u001b[0mValueError\u001b[0m\u001b[1;33m(\u001b[0m\u001b[1;34mf\"Table '{self.name}' already exists.\"\u001b[0m\u001b[1;33m)\u001b[0m\u001b[1;33m\u001b[0m\u001b[1;33m\u001b[0m\u001b[0m\n\u001b[0m\u001b[0;32m    647\u001b[0m             \u001b[1;32melif\u001b[0m \u001b[0mself\u001b[0m\u001b[1;33m.\u001b[0m\u001b[0mif_exists\u001b[0m \u001b[1;33m==\u001b[0m \u001b[1;34m\"replace\"\u001b[0m\u001b[1;33m:\u001b[0m\u001b[1;33m\u001b[0m\u001b[1;33m\u001b[0m\u001b[0m\n\u001b[0;32m    648\u001b[0m                 \u001b[0mself\u001b[0m\u001b[1;33m.\u001b[0m\u001b[0mpd_sql\u001b[0m\u001b[1;33m.\u001b[0m\u001b[0mdrop_table\u001b[0m\u001b[1;33m(\u001b[0m\u001b[0mself\u001b[0m\u001b[1;33m.\u001b[0m\u001b[0mname\u001b[0m\u001b[1;33m,\u001b[0m \u001b[0mself\u001b[0m\u001b[1;33m.\u001b[0m\u001b[0mschema\u001b[0m\u001b[1;33m)\u001b[0m\u001b[1;33m\u001b[0m\u001b[1;33m\u001b[0m\u001b[0m\n",
      "\u001b[1;31mValueError\u001b[0m: Table 'nba_ticket_prices' already exists."
     ]
    }
   ],
   "source": [
    "#Set name of table to create\n",
    "nba_tickets = \"nba_ticket_prices\"\n",
    "nba_ticket_prices.to_sql(nba_tickets, sqlite_connection, if_exists = 'fail')"
   ]
  },
  {
   "cell_type": "code",
   "execution_count": 44,
   "metadata": {},
   "outputs": [
    {
     "name": "stdout",
     "output_type": "stream",
     "text": [
      "2020-10-17 16:12:06,925 INFO sqlalchemy.engine.base.Engine create table nba_ticket_price (id_num bigint primary key,team text,Average Ticket Price bigint,Arena text,lat double,long double);\n",
      "2020-10-17 16:12:06,927 INFO sqlalchemy.engine.base.Engine ()\n",
      "2020-10-17 16:12:06,933 INFO sqlalchemy.engine.base.Engine COMMIT\n"
     ]
    },
    {
     "data": {
      "text/plain": [
       "<sqlalchemy.engine.result.ResultProxy at 0x258dbfd1790>"
      ]
     },
     "execution_count": 44,
     "metadata": {},
     "output_type": "execute_result"
    }
   ],
   "source": [
    "#Putting primary key into ticket price table\n",
    "create_query_sql='create table nba_ticket_price (\\\n",
    "id_num bigint primary key,\\\n",
    "team text,\\\n",
    "Average Ticket Price bigint,\\\n",
    "Arena text,\\\n",
    "lat double,\\\n",
    "long double\\\n",
    ");'\n",
    "sqlite_connection.execute(create_query_sql)"
   ]
  },
  {
   "cell_type": "code",
   "execution_count": 45,
   "metadata": {},
   "outputs": [
    {
     "name": "stdout",
     "output_type": "stream",
     "text": [
      "2020-10-17 16:12:28,788 INFO sqlalchemy.engine.base.Engine insert into nba_ticket_price select * from nba_ticket_prices\n",
      "2020-10-17 16:12:28,789 INFO sqlalchemy.engine.base.Engine ()\n",
      "2020-10-17 16:12:28,792 INFO sqlalchemy.engine.base.Engine COMMIT\n"
     ]
    },
    {
     "data": {
      "text/plain": [
       "<sqlalchemy.engine.result.ResultProxy at 0x258dbd69940>"
      ]
     },
     "execution_count": 45,
     "metadata": {},
     "output_type": "execute_result"
    }
   ],
   "source": [
    "sqlite_connection.execute('insert into nba_ticket_price select * from nba_ticket_prices')"
   ]
  },
  {
   "cell_type": "code",
   "execution_count": 8,
   "metadata": {},
   "outputs": [
    {
     "name": "stdout",
     "output_type": "stream",
     "text": [
      "2020-10-17 16:24:13,026 INFO sqlalchemy.engine.base.Engine select * from nba_ticket_price\n",
      "2020-10-17 16:24:13,028 INFO sqlalchemy.engine.base.Engine ()\n"
     ]
    },
    {
     "data": {
      "text/plain": [
       "[(0, '76ers', '$81.00 ', 'Wells Fargo Center', 39.9012, -75.172),\n",
       " (1, 'Blazers', '$92.00 ', 'Moda Center', 45.5316, -122.667),\n",
       " (2, 'Bucks', '$60.00 ', 'Fiserv Forum', 43.0451, -87.9174),\n",
       " (3, 'Bulls', '$165.00 ', 'United Center', 41.8807, -87.6742),\n",
       " (4, 'Cavaliers', '$42.00 ', 'Rocket Mortgage FieldHouse', 41.4966, -81.6881),\n",
       " (5, 'Celtics', '$85.00 ', 'TD Garden', 42.3662, -71.0621),\n",
       " (6, 'Clippers', '$130.00 ', 'Staples Center', 34.043, -118.26700000000001),\n",
       " (7, 'Grizzlies', '$55.00 ', 'FedExForum', 35.1381, -90.0506),\n",
       " (8, 'Hawks', '$111.00 ', 'State Farm Arena', 33.7573, -84.3963),\n",
       " (9, 'Heat', '$155.00 ', 'American Airlines Arena', 25.7814, -80.187),\n",
       " (10, 'Hornets', '$89.00 ', 'Spectrum Center', 35.2252, -80.8394),\n",
       " (11, 'Jazz', '$76.00 ', 'Vivint Smart Home Arena', 40.7683, -111.90100000000001),\n",
       " (12, 'Kings', '$75.00 ', 'Golden 1 Center', 38.5802, -121.5),\n",
       " (13, 'Knicks', '$200.00 ', 'Madison Square Garden', 40.7505, -73.9934),\n",
       " (14, 'Lakers', '$180.00 ', 'Staples Center', 34.043, -118.26700000000001),\n",
       " (15, 'Magic', '$95.00 ', 'Amway Center', 28.5392, -81.3839),\n",
       " (16, 'Mavericks', '$52.00 ', 'American Airlines Center', 32.7903, -96.8101),\n",
       " (17, 'Nets', '$127.00 ', 'Barclays Center', 40.6826, -73.9754),\n",
       " (18, 'Nuggets', '$60.00 ', 'Pepsi Center', 39.7487, -105.007),\n",
       " (19, 'Pacers', '$55.00 ', 'Bankers Life Fieldhouse', 39.764, -86.1555),\n",
       " (20, 'Pelicans', '$60.00 ', 'Smoothie King Center', 29.949, -90.0821),\n",
       " (21, 'Pistons', '$74.00 ', 'Little Caesars Arena', 42.3411, -83.0553),\n",
       " (22, 'Raptors', '$110.00 ', 'Scotiabank Arena', 43.6435, -79.3791),\n",
       " (23, 'Rockets', '$120.00 ', 'Toyota Center', 29.7508, -95.3621),\n",
       " (24, 'Spurs', '$59.00 ', 'AT&T Center', 29.4272, -98.4375),\n",
       " (25, 'Suns', '$95.00 ', 'Talking Stick Resort Arena', 33.4457, -112.071),\n",
       " (26, 'Thunder', '$170.00 ', 'Chesapeake Energy Arena', 35.4634, -97.5151),\n",
       " (27, 'Timberwolves', '$65.00 ', 'Target Center', 44.9795, -93.2761),\n",
       " (28, 'Warriors', '$95.00 ', 'Chase Center', 37.7704, -122.387),\n",
       " (29, 'Wizards', '$64.00 ', 'Capital One Arena', 38.8981, -77.0208)]"
      ]
     },
     "execution_count": 8,
     "metadata": {},
     "output_type": "execute_result"
    }
   ],
   "source": [
    "#Make fetch happen, check work \n",
    "sqlite_connection.execute('select * from nba_ticket_price').fetchall()"
   ]
  },
  {
   "cell_type": "code",
   "execution_count": null,
   "metadata": {},
   "outputs": [],
   "source": []
  }
 ],
 "metadata": {
  "kernelspec": {
   "display_name": "Python 3",
   "language": "python",
   "name": "python3"
  },
  "language_info": {
   "codemirror_mode": {
    "name": "ipython",
    "version": 3
   },
   "file_extension": ".py",
   "mimetype": "text/x-python",
   "name": "python",
   "nbconvert_exporter": "python",
   "pygments_lexer": "ipython3",
   "version": "3.8.3"
  }
 },
 "nbformat": 4,
 "nbformat_minor": 4
}
