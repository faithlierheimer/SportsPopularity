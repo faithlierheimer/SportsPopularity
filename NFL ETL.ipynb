{
 "cells": [
  {
   "cell_type": "code",
   "execution_count": 1,
   "metadata": {},
   "outputs": [],
   "source": [
    "#Dependencies \n",
    "import pandas as pd \n",
    "import sqlalchemy\n",
    "from sqlalchemy.ext.automap import automap_base\n",
    "from sqlalchemy.orm import Session\n",
    "from sqlalchemy import create_engine, func\n",
    "from api_keys import g_key\n",
    "import requests\n",
    "import json\n",
    "import time\n",
    "from bs4 import BeautifulSoup as bs"
   ]
  },
  {
   "cell_type": "markdown",
   "metadata": {},
   "source": [
    "### NFL ETL AND DATABASE STUFF\n"
   ]
  },
  {
   "cell_type": "code",
   "execution_count": 2,
   "metadata": {},
   "outputs": [],
   "source": [
    "##save data URL for nfl attendance, read w/pandas web scraping\n",
    "data = \"https://www.pro-football-reference.com/years/2018/attendance.htm\"\n",
    "nfl_attendance = pd.read_html(data)"
   ]
  },
  {
   "cell_type": "code",
   "execution_count": 3,
   "metadata": {},
   "outputs": [
    {
     "output_type": "stream",
     "name": "stdout",
     "text": [
      "Tm\nTotal\nHome\nAway\nWeek 1\nWeek 2\nWeek 3\nWeek 4\nWeek 5\nWeek 6\nWeek 7\nWeek 8\nWeek 9\nWeek 10\nWeek 11\nWeek 12\nWeek 13\nWeek 14\nWeek 15\nWeek 16\nWeek 17\n"
     ]
    }
   ],
   "source": [
    "#see what columns we have\n",
    "nfl_attendance = nfl_attendance[0]\n",
    "for col in nfl_attendance.columns:\n",
    "    print(col)"
   ]
  },
  {
   "cell_type": "code",
   "execution_count": 4,
   "metadata": {},
   "outputs": [
    {
     "output_type": "execute_result",
     "data": {
      "text/plain": [
       "                  Tm    Total      Home      Away\n",
       "0  Arizona Cardinals  1018127  496111.0  522016.0\n",
       "1    Atlanta Falcons  1119143  583184.0  535959.0\n",
       "2   Baltimore Ravens  1053383  563451.0  489932.0\n",
       "3      Buffalo Bills  1072899  519695.0  553204.0\n",
       "4  Carolina Panthers  1102756  590182.0  512574.0"
      ],
      "text/html": "<div>\n<style scoped>\n    .dataframe tbody tr th:only-of-type {\n        vertical-align: middle;\n    }\n\n    .dataframe tbody tr th {\n        vertical-align: top;\n    }\n\n    .dataframe thead th {\n        text-align: right;\n    }\n</style>\n<table border=\"1\" class=\"dataframe\">\n  <thead>\n    <tr style=\"text-align: right;\">\n      <th></th>\n      <th>Tm</th>\n      <th>Total</th>\n      <th>Home</th>\n      <th>Away</th>\n    </tr>\n  </thead>\n  <tbody>\n    <tr>\n      <th>0</th>\n      <td>Arizona Cardinals</td>\n      <td>1018127</td>\n      <td>496111.0</td>\n      <td>522016.0</td>\n    </tr>\n    <tr>\n      <th>1</th>\n      <td>Atlanta Falcons</td>\n      <td>1119143</td>\n      <td>583184.0</td>\n      <td>535959.0</td>\n    </tr>\n    <tr>\n      <th>2</th>\n      <td>Baltimore Ravens</td>\n      <td>1053383</td>\n      <td>563451.0</td>\n      <td>489932.0</td>\n    </tr>\n    <tr>\n      <th>3</th>\n      <td>Buffalo Bills</td>\n      <td>1072899</td>\n      <td>519695.0</td>\n      <td>553204.0</td>\n    </tr>\n    <tr>\n      <th>4</th>\n      <td>Carolina Panthers</td>\n      <td>1102756</td>\n      <td>590182.0</td>\n      <td>512574.0</td>\n    </tr>\n  </tbody>\n</table>\n</div>"
     },
     "metadata": {},
     "execution_count": 4
    }
   ],
   "source": [
    "#Drop weekly columns, keep total only\n",
    "nfl_attendance = nfl_attendance.drop([col for col in nfl_attendance.columns if 'Week' in col],axis=1)\n",
    "nfl_attendance.head()"
   ]
  },
  {
   "cell_type": "code",
   "execution_count": 5,
   "metadata": {},
   "outputs": [
    {
     "output_type": "execute_result",
     "data": {
      "text/plain": [
       "                  Tm    Total\n",
       "0  Arizona Cardinals  1018127\n",
       "1    Atlanta Falcons  1119143\n",
       "2   Baltimore Ravens  1053383\n",
       "3      Buffalo Bills  1072899\n",
       "4  Carolina Panthers  1102756"
      ],
      "text/html": "<div>\n<style scoped>\n    .dataframe tbody tr th:only-of-type {\n        vertical-align: middle;\n    }\n\n    .dataframe tbody tr th {\n        vertical-align: top;\n    }\n\n    .dataframe thead th {\n        text-align: right;\n    }\n</style>\n<table border=\"1\" class=\"dataframe\">\n  <thead>\n    <tr style=\"text-align: right;\">\n      <th></th>\n      <th>Tm</th>\n      <th>Total</th>\n    </tr>\n  </thead>\n  <tbody>\n    <tr>\n      <th>0</th>\n      <td>Arizona Cardinals</td>\n      <td>1018127</td>\n    </tr>\n    <tr>\n      <th>1</th>\n      <td>Atlanta Falcons</td>\n      <td>1119143</td>\n    </tr>\n    <tr>\n      <th>2</th>\n      <td>Baltimore Ravens</td>\n      <td>1053383</td>\n    </tr>\n    <tr>\n      <th>3</th>\n      <td>Buffalo Bills</td>\n      <td>1072899</td>\n    </tr>\n    <tr>\n      <th>4</th>\n      <td>Carolina Panthers</td>\n      <td>1102756</td>\n    </tr>\n  </tbody>\n</table>\n</div>"
     },
     "metadata": {},
     "execution_count": 5
    }
   ],
   "source": [
    "#Drop home and away columns, keep team and total attendance only\n",
    "nfl_attendance = nfl_attendance.drop([\"Home\", \"Away\"], axis = 1)\n",
    "nfl_attendance.head()"
   ]
  },
  {
   "cell_type": "code",
   "execution_count": 6,
   "metadata": {},
   "outputs": [
    {
     "output_type": "execute_result",
     "data": {
      "text/plain": [
       "                team  total_attendance\n",
       "0  Arizona Cardinals           1018127\n",
       "1    Atlanta Falcons           1119143\n",
       "2   Baltimore Ravens           1053383\n",
       "3      Buffalo Bills           1072899\n",
       "4  Carolina Panthers           1102756"
      ],
      "text/html": "<div>\n<style scoped>\n    .dataframe tbody tr th:only-of-type {\n        vertical-align: middle;\n    }\n\n    .dataframe tbody tr th {\n        vertical-align: top;\n    }\n\n    .dataframe thead th {\n        text-align: right;\n    }\n</style>\n<table border=\"1\" class=\"dataframe\">\n  <thead>\n    <tr style=\"text-align: right;\">\n      <th></th>\n      <th>team</th>\n      <th>total_attendance</th>\n    </tr>\n  </thead>\n  <tbody>\n    <tr>\n      <th>0</th>\n      <td>Arizona Cardinals</td>\n      <td>1018127</td>\n    </tr>\n    <tr>\n      <th>1</th>\n      <td>Atlanta Falcons</td>\n      <td>1119143</td>\n    </tr>\n    <tr>\n      <th>2</th>\n      <td>Baltimore Ravens</td>\n      <td>1053383</td>\n    </tr>\n    <tr>\n      <th>3</th>\n      <td>Buffalo Bills</td>\n      <td>1072899</td>\n    </tr>\n    <tr>\n      <th>4</th>\n      <td>Carolina Panthers</td>\n      <td>1102756</td>\n    </tr>\n  </tbody>\n</table>\n</div>"
     },
     "metadata": {},
     "execution_count": 6
    }
   ],
   "source": [
    "#Rename columns for easier ETL\n",
    "nfl_attendance.columns = [\"team\", \"total_attendance\"]\n",
    "nfl_attendance.head()"
   ]
  },
  {
   "cell_type": "code",
   "execution_count": 7,
   "metadata": {},
   "outputs": [
    {
     "output_type": "execute_result",
     "data": {
      "text/plain": [
       "                    team  total_attendance\n",
       "0      Arizona Cardinals           1018127\n",
       "1        Atlanta Falcons           1119143\n",
       "2       Baltimore Ravens           1053383\n",
       "3          Buffalo Bills           1072899\n",
       "4      Carolina Panthers           1102756\n",
       "5          Chicago Bears           1045568\n",
       "6     Cincinnati Bengals            911289\n",
       "7       Cleveland Browns           1045441\n",
       "8         Dallas Cowboys           1303393\n",
       "9         Denver Broncos           1092324\n",
       "10         Detroit Lions           1054328\n",
       "11     Green Bay Packers           1163842\n",
       "12        Houston Texans           1112480\n",
       "13    Indianapolis Colts           1006361\n",
       "14  Jacksonville Jaguars           1109899\n",
       "15    Kansas City Chiefs           1107376\n",
       "16  Los Angeles Chargers            803556\n",
       "17      Los Angeles Rams           1102409\n",
       "18        Miami Dolphins           1062180\n",
       "19     Minnesota Vikings           1090834\n",
       "20  New England Patriots           1068530\n",
       "21    New Orleans Saints           1147700\n",
       "22       New York Giants           1183132\n",
       "23         New York Jets           1130823\n",
       "24       Oakland Raiders            955258\n",
       "25   Philadelphia Eagles           1149737\n",
       "26   Pittsburgh Steelers           1040509\n",
       "27   San Francisco 49ers           1052454\n",
       "28      Seattle Seahawks           1114327\n",
       "29  Tampa Bay Buccaneers            999843\n",
       "30      Tennessee Titans           1092094\n",
       "31   Washington Redskins           1043167\n",
       "32                   NaN          17177581"
      ],
      "text/html": "<div>\n<style scoped>\n    .dataframe tbody tr th:only-of-type {\n        vertical-align: middle;\n    }\n\n    .dataframe tbody tr th {\n        vertical-align: top;\n    }\n\n    .dataframe thead th {\n        text-align: right;\n    }\n</style>\n<table border=\"1\" class=\"dataframe\">\n  <thead>\n    <tr style=\"text-align: right;\">\n      <th></th>\n      <th>team</th>\n      <th>total_attendance</th>\n    </tr>\n  </thead>\n  <tbody>\n    <tr>\n      <th>0</th>\n      <td>Arizona Cardinals</td>\n      <td>1018127</td>\n    </tr>\n    <tr>\n      <th>1</th>\n      <td>Atlanta Falcons</td>\n      <td>1119143</td>\n    </tr>\n    <tr>\n      <th>2</th>\n      <td>Baltimore Ravens</td>\n      <td>1053383</td>\n    </tr>\n    <tr>\n      <th>3</th>\n      <td>Buffalo Bills</td>\n      <td>1072899</td>\n    </tr>\n    <tr>\n      <th>4</th>\n      <td>Carolina Panthers</td>\n      <td>1102756</td>\n    </tr>\n    <tr>\n      <th>5</th>\n      <td>Chicago Bears</td>\n      <td>1045568</td>\n    </tr>\n    <tr>\n      <th>6</th>\n      <td>Cincinnati Bengals</td>\n      <td>911289</td>\n    </tr>\n    <tr>\n      <th>7</th>\n      <td>Cleveland Browns</td>\n      <td>1045441</td>\n    </tr>\n    <tr>\n      <th>8</th>\n      <td>Dallas Cowboys</td>\n      <td>1303393</td>\n    </tr>\n    <tr>\n      <th>9</th>\n      <td>Denver Broncos</td>\n      <td>1092324</td>\n    </tr>\n    <tr>\n      <th>10</th>\n      <td>Detroit Lions</td>\n      <td>1054328</td>\n    </tr>\n    <tr>\n      <th>11</th>\n      <td>Green Bay Packers</td>\n      <td>1163842</td>\n    </tr>\n    <tr>\n      <th>12</th>\n      <td>Houston Texans</td>\n      <td>1112480</td>\n    </tr>\n    <tr>\n      <th>13</th>\n      <td>Indianapolis Colts</td>\n      <td>1006361</td>\n    </tr>\n    <tr>\n      <th>14</th>\n      <td>Jacksonville Jaguars</td>\n      <td>1109899</td>\n    </tr>\n    <tr>\n      <th>15</th>\n      <td>Kansas City Chiefs</td>\n      <td>1107376</td>\n    </tr>\n    <tr>\n      <th>16</th>\n      <td>Los Angeles Chargers</td>\n      <td>803556</td>\n    </tr>\n    <tr>\n      <th>17</th>\n      <td>Los Angeles Rams</td>\n      <td>1102409</td>\n    </tr>\n    <tr>\n      <th>18</th>\n      <td>Miami Dolphins</td>\n      <td>1062180</td>\n    </tr>\n    <tr>\n      <th>19</th>\n      <td>Minnesota Vikings</td>\n      <td>1090834</td>\n    </tr>\n    <tr>\n      <th>20</th>\n      <td>New England Patriots</td>\n      <td>1068530</td>\n    </tr>\n    <tr>\n      <th>21</th>\n      <td>New Orleans Saints</td>\n      <td>1147700</td>\n    </tr>\n    <tr>\n      <th>22</th>\n      <td>New York Giants</td>\n      <td>1183132</td>\n    </tr>\n    <tr>\n      <th>23</th>\n      <td>New York Jets</td>\n      <td>1130823</td>\n    </tr>\n    <tr>\n      <th>24</th>\n      <td>Oakland Raiders</td>\n      <td>955258</td>\n    </tr>\n    <tr>\n      <th>25</th>\n      <td>Philadelphia Eagles</td>\n      <td>1149737</td>\n    </tr>\n    <tr>\n      <th>26</th>\n      <td>Pittsburgh Steelers</td>\n      <td>1040509</td>\n    </tr>\n    <tr>\n      <th>27</th>\n      <td>San Francisco 49ers</td>\n      <td>1052454</td>\n    </tr>\n    <tr>\n      <th>28</th>\n      <td>Seattle Seahawks</td>\n      <td>1114327</td>\n    </tr>\n    <tr>\n      <th>29</th>\n      <td>Tampa Bay Buccaneers</td>\n      <td>999843</td>\n    </tr>\n    <tr>\n      <th>30</th>\n      <td>Tennessee Titans</td>\n      <td>1092094</td>\n    </tr>\n    <tr>\n      <th>31</th>\n      <td>Washington Redskins</td>\n      <td>1043167</td>\n    </tr>\n    <tr>\n      <th>32</th>\n      <td>NaN</td>\n      <td>17177581</td>\n    </tr>\n  </tbody>\n</table>\n</div>"
     },
     "metadata": {},
     "execution_count": 7
    }
   ],
   "source": [
    "#This is already in alphabetical order\n",
    "nfl_attendance"
   ]
  },
  {
   "cell_type": "code",
   "execution_count": 8,
   "metadata": {},
   "outputs": [
    {
     "output_type": "execute_result",
     "data": {
      "text/plain": [
       "                                0                     1         2           3  \\\n",
       "0                            Name               Team(s)  Capacity      Opened   \n",
       "1                   Lambeau Field     Green Bay Packers     80735   9/29/1957   \n",
       "2            RingCentral Coliseum       Oakland Raiders     53250   9/18/1966   \n",
       "3               Arrowhead Stadium    Kansas City Chiefs     76416   8/12/1972   \n",
       "4                   New Era Field         Buffalo Bills     73967   8/17/1973   \n",
       "5                       Superdome    New Orleans Saints     76468   9/28/1975   \n",
       "6               Hard Rock Stadium        Miami Dolphins     65326   8/16/1987   \n",
       "7                 TIAA Bank Field  Jacksonville Jaguars     67264   8/18/1995   \n",
       "8         Bank of America Stadium     Carolina Panthers     73778   9/14/1996   \n",
       "9                     FedEx Field   Washington Redskins     79000   9/14/1997   \n",
       "10               M&T Bank Stadium      Baltimore Ravens     71008    9/6/1998   \n",
       "11          Raymond James Stadium  Tampa Bay Buccaneers     65890   9/20/1998   \n",
       "12            FirstEnergy Stadium      Cleveland Browns     68000   9/12/1999   \n",
       "13                 Nissan Stadium      Tennessee Titans     69143   9/12/1999   \n",
       "14             Paul Brown Stadium    Cincinnati Bengals     65515   9/10/2000   \n",
       "15                  Empower Field        Denver Broncos     76125   9/10/2001   \n",
       "16                    Heinz Field   Pittsburgh Steelers     65500   10/7/2001   \n",
       "17                    NRG Stadium        Houston Texans     71500    9/8/2002   \n",
       "18               Gillette Stadium  New England Patriots     68756    9/9/2002   \n",
       "19              CenturyLink Field      Seattle Seahawks     67000   9/15/2002   \n",
       "20                     Ford Field         Detroit Lions     65000   9/22/2002   \n",
       "21        Lincoln Financial Field   Philadelphia Eagles     69176    9/8/2003   \n",
       "22                  Soldier Field         Chicago Bears     61500   9/29/2003   \n",
       "23  University of Phoenix Stadium     Arizona Cardinals     63400   9/10/2006   \n",
       "24              Lucas Oil Stadium    Indianapolis Colts     63000    9/7/2008   \n",
       "25                   AT&T Stadium        Dallas Cowboys     80000   9/20/2009   \n",
       "26                MetLife Stadium  New York Giants/Jets     82500   9/12/2010   \n",
       "27                 Levi’s Stadium   San Francisco 49ers     68500   9/14/2014   \n",
       "28           Los Angeles Coliseum      Los Angeles Rams     77500   9/18/2016   \n",
       "29                US Bank Stadium     Minnesota Vikings     66200   9/18/2016   \n",
       "30                 StubHub Center  Los Angeles Chargers     30000   9/17/2017   \n",
       "31          Mercedes Benz Stadium       Atlanta Falcons     71000  9/217/2017   \n",
       "32                            NaN                   NaN       NaN         NaN   \n",
       "\n",
       "            4              5  \n",
       "0        Turf           Cost  \n",
       "1       Grass       $960,000  \n",
       "2       Grass  $25.5 Million  \n",
       "3       Grass    $43 Million  \n",
       "4   FieldTurf    $22 Million  \n",
       "5   FieldTurf   $134 Million  \n",
       "6       Grass   $115 Million  \n",
       "7       Grass   $134 Million  \n",
       "8       Grass   $242 Million  \n",
       "9       Grass   $250 Million  \n",
       "10  Fieldturf   $220 Million  \n",
       "11      Grass   $194 Million  \n",
       "12      Grass   $290 Million  \n",
       "13      Grass   $290 Million  \n",
       "14  Fieldturf   $450 Million  \n",
       "15      Grass   $364 Million  \n",
       "16      Grass   $281 Million  \n",
       "17      Grass   $449 Million  \n",
       "18  Fieldturf   $325 Million  \n",
       "19  FieldTurf   $360 Million  \n",
       "20  FieldTurf   $430 Million  \n",
       "21      Grass   $518 Million  \n",
       "22      Grass   $600 Million  \n",
       "23      Grass   $455 Million  \n",
       "24  Fieldturf   $720 Million  \n",
       "25  FieldTurf   $1.3 Billion  \n",
       "26  FieldTurf   $1.6 Billion  \n",
       "27      Grass   $1.3 Billion  \n",
       "28      Grass       $954,872  \n",
       "29  Fieldturf   $1.1 Billion  \n",
       "30      Grass   $150 Million  \n",
       "31  Fieldturf   $1.5 Billion  \n",
       "32        NaN            NaN  "
      ],
      "text/html": "<div>\n<style scoped>\n    .dataframe tbody tr th:only-of-type {\n        vertical-align: middle;\n    }\n\n    .dataframe tbody tr th {\n        vertical-align: top;\n    }\n\n    .dataframe thead th {\n        text-align: right;\n    }\n</style>\n<table border=\"1\" class=\"dataframe\">\n  <thead>\n    <tr style=\"text-align: right;\">\n      <th></th>\n      <th>0</th>\n      <th>1</th>\n      <th>2</th>\n      <th>3</th>\n      <th>4</th>\n      <th>5</th>\n    </tr>\n  </thead>\n  <tbody>\n    <tr>\n      <th>0</th>\n      <td>Name</td>\n      <td>Team(s)</td>\n      <td>Capacity</td>\n      <td>Opened</td>\n      <td>Turf</td>\n      <td>Cost</td>\n    </tr>\n    <tr>\n      <th>1</th>\n      <td>Lambeau Field</td>\n      <td>Green Bay Packers</td>\n      <td>80735</td>\n      <td>9/29/1957</td>\n      <td>Grass</td>\n      <td>$960,000</td>\n    </tr>\n    <tr>\n      <th>2</th>\n      <td>RingCentral Coliseum</td>\n      <td>Oakland Raiders</td>\n      <td>53250</td>\n      <td>9/18/1966</td>\n      <td>Grass</td>\n      <td>$25.5 Million</td>\n    </tr>\n    <tr>\n      <th>3</th>\n      <td>Arrowhead Stadium</td>\n      <td>Kansas City Chiefs</td>\n      <td>76416</td>\n      <td>8/12/1972</td>\n      <td>Grass</td>\n      <td>$43 Million</td>\n    </tr>\n    <tr>\n      <th>4</th>\n      <td>New Era Field</td>\n      <td>Buffalo Bills</td>\n      <td>73967</td>\n      <td>8/17/1973</td>\n      <td>FieldTurf</td>\n      <td>$22 Million</td>\n    </tr>\n    <tr>\n      <th>5</th>\n      <td>Superdome</td>\n      <td>New Orleans Saints</td>\n      <td>76468</td>\n      <td>9/28/1975</td>\n      <td>FieldTurf</td>\n      <td>$134 Million</td>\n    </tr>\n    <tr>\n      <th>6</th>\n      <td>Hard Rock Stadium</td>\n      <td>Miami Dolphins</td>\n      <td>65326</td>\n      <td>8/16/1987</td>\n      <td>Grass</td>\n      <td>$115 Million</td>\n    </tr>\n    <tr>\n      <th>7</th>\n      <td>TIAA Bank Field</td>\n      <td>Jacksonville Jaguars</td>\n      <td>67264</td>\n      <td>8/18/1995</td>\n      <td>Grass</td>\n      <td>$134 Million</td>\n    </tr>\n    <tr>\n      <th>8</th>\n      <td>Bank of America Stadium</td>\n      <td>Carolina Panthers</td>\n      <td>73778</td>\n      <td>9/14/1996</td>\n      <td>Grass</td>\n      <td>$242 Million</td>\n    </tr>\n    <tr>\n      <th>9</th>\n      <td>FedEx Field</td>\n      <td>Washington Redskins</td>\n      <td>79000</td>\n      <td>9/14/1997</td>\n      <td>Grass</td>\n      <td>$250 Million</td>\n    </tr>\n    <tr>\n      <th>10</th>\n      <td>M&amp;T Bank Stadium</td>\n      <td>Baltimore Ravens</td>\n      <td>71008</td>\n      <td>9/6/1998</td>\n      <td>Fieldturf</td>\n      <td>$220 Million</td>\n    </tr>\n    <tr>\n      <th>11</th>\n      <td>Raymond James Stadium</td>\n      <td>Tampa Bay Buccaneers</td>\n      <td>65890</td>\n      <td>9/20/1998</td>\n      <td>Grass</td>\n      <td>$194 Million</td>\n    </tr>\n    <tr>\n      <th>12</th>\n      <td>FirstEnergy Stadium</td>\n      <td>Cleveland Browns</td>\n      <td>68000</td>\n      <td>9/12/1999</td>\n      <td>Grass</td>\n      <td>$290 Million</td>\n    </tr>\n    <tr>\n      <th>13</th>\n      <td>Nissan Stadium</td>\n      <td>Tennessee Titans</td>\n      <td>69143</td>\n      <td>9/12/1999</td>\n      <td>Grass</td>\n      <td>$290 Million</td>\n    </tr>\n    <tr>\n      <th>14</th>\n      <td>Paul Brown Stadium</td>\n      <td>Cincinnati Bengals</td>\n      <td>65515</td>\n      <td>9/10/2000</td>\n      <td>Fieldturf</td>\n      <td>$450 Million</td>\n    </tr>\n    <tr>\n      <th>15</th>\n      <td>Empower Field</td>\n      <td>Denver Broncos</td>\n      <td>76125</td>\n      <td>9/10/2001</td>\n      <td>Grass</td>\n      <td>$364 Million</td>\n    </tr>\n    <tr>\n      <th>16</th>\n      <td>Heinz Field</td>\n      <td>Pittsburgh Steelers</td>\n      <td>65500</td>\n      <td>10/7/2001</td>\n      <td>Grass</td>\n      <td>$281 Million</td>\n    </tr>\n    <tr>\n      <th>17</th>\n      <td>NRG Stadium</td>\n      <td>Houston Texans</td>\n      <td>71500</td>\n      <td>9/8/2002</td>\n      <td>Grass</td>\n      <td>$449 Million</td>\n    </tr>\n    <tr>\n      <th>18</th>\n      <td>Gillette Stadium</td>\n      <td>New England Patriots</td>\n      <td>68756</td>\n      <td>9/9/2002</td>\n      <td>Fieldturf</td>\n      <td>$325 Million</td>\n    </tr>\n    <tr>\n      <th>19</th>\n      <td>CenturyLink Field</td>\n      <td>Seattle Seahawks</td>\n      <td>67000</td>\n      <td>9/15/2002</td>\n      <td>FieldTurf</td>\n      <td>$360 Million</td>\n    </tr>\n    <tr>\n      <th>20</th>\n      <td>Ford Field</td>\n      <td>Detroit Lions</td>\n      <td>65000</td>\n      <td>9/22/2002</td>\n      <td>FieldTurf</td>\n      <td>$430 Million</td>\n    </tr>\n    <tr>\n      <th>21</th>\n      <td>Lincoln Financial Field</td>\n      <td>Philadelphia Eagles</td>\n      <td>69176</td>\n      <td>9/8/2003</td>\n      <td>Grass</td>\n      <td>$518 Million</td>\n    </tr>\n    <tr>\n      <th>22</th>\n      <td>Soldier Field</td>\n      <td>Chicago Bears</td>\n      <td>61500</td>\n      <td>9/29/2003</td>\n      <td>Grass</td>\n      <td>$600 Million</td>\n    </tr>\n    <tr>\n      <th>23</th>\n      <td>University of Phoenix Stadium</td>\n      <td>Arizona Cardinals</td>\n      <td>63400</td>\n      <td>9/10/2006</td>\n      <td>Grass</td>\n      <td>$455 Million</td>\n    </tr>\n    <tr>\n      <th>24</th>\n      <td>Lucas Oil Stadium</td>\n      <td>Indianapolis Colts</td>\n      <td>63000</td>\n      <td>9/7/2008</td>\n      <td>Fieldturf</td>\n      <td>$720 Million</td>\n    </tr>\n    <tr>\n      <th>25</th>\n      <td>AT&amp;T Stadium</td>\n      <td>Dallas Cowboys</td>\n      <td>80000</td>\n      <td>9/20/2009</td>\n      <td>FieldTurf</td>\n      <td>$1.3 Billion</td>\n    </tr>\n    <tr>\n      <th>26</th>\n      <td>MetLife Stadium</td>\n      <td>New York Giants/Jets</td>\n      <td>82500</td>\n      <td>9/12/2010</td>\n      <td>FieldTurf</td>\n      <td>$1.6 Billion</td>\n    </tr>\n    <tr>\n      <th>27</th>\n      <td>Levi’s Stadium</td>\n      <td>San Francisco 49ers</td>\n      <td>68500</td>\n      <td>9/14/2014</td>\n      <td>Grass</td>\n      <td>$1.3 Billion</td>\n    </tr>\n    <tr>\n      <th>28</th>\n      <td>Los Angeles Coliseum</td>\n      <td>Los Angeles Rams</td>\n      <td>77500</td>\n      <td>9/18/2016</td>\n      <td>Grass</td>\n      <td>$954,872</td>\n    </tr>\n    <tr>\n      <th>29</th>\n      <td>US Bank Stadium</td>\n      <td>Minnesota Vikings</td>\n      <td>66200</td>\n      <td>9/18/2016</td>\n      <td>Fieldturf</td>\n      <td>$1.1 Billion</td>\n    </tr>\n    <tr>\n      <th>30</th>\n      <td>StubHub Center</td>\n      <td>Los Angeles Chargers</td>\n      <td>30000</td>\n      <td>9/17/2017</td>\n      <td>Grass</td>\n      <td>$150 Million</td>\n    </tr>\n    <tr>\n      <th>31</th>\n      <td>Mercedes Benz Stadium</td>\n      <td>Atlanta Falcons</td>\n      <td>71000</td>\n      <td>9/217/2017</td>\n      <td>Fieldturf</td>\n      <td>$1.5 Billion</td>\n    </tr>\n    <tr>\n      <th>32</th>\n      <td>NaN</td>\n      <td>NaN</td>\n      <td>NaN</td>\n      <td>NaN</td>\n      <td>NaN</td>\n      <td>NaN</td>\n    </tr>\n  </tbody>\n</table>\n</div>"
     },
     "metadata": {},
     "execution_count": 8
    }
   ],
   "source": [
    "#Data is extracted and ready to be loaded...doesn't need transforming atm\n",
    "#now do the capacity data! and merge! \n",
    "url = \"https://www.stadiumsofprofootball.com/comparisons/\"\n",
    "nfl_capacities = pd.read_html(url)\n",
    "nfl_capacities = nfl_capacities[0]\n",
    "nfl_capacities"
   ]
  },
  {
   "cell_type": "code",
   "execution_count": 9,
   "metadata": {},
   "outputs": [
    {
     "output_type": "stream",
     "name": "stdout",
     "text": [
      "<class 'int'>\n<class 'int'>\n<class 'int'>\n<class 'int'>\n<class 'int'>\n<class 'int'>\n"
     ]
    }
   ],
   "source": [
    "for col in nfl_capacities.columns:\n",
    "    print(type(col))"
   ]
  },
  {
   "cell_type": "code",
   "execution_count": 10,
   "metadata": {},
   "outputs": [
    {
     "output_type": "execute_result",
     "data": {
      "text/plain": [
       "                      0                   1         2\n",
       "0                  Name             Team(s)  Capacity\n",
       "1         Lambeau Field   Green Bay Packers     80735\n",
       "2  RingCentral Coliseum     Oakland Raiders     53250\n",
       "3     Arrowhead Stadium  Kansas City Chiefs     76416\n",
       "4         New Era Field       Buffalo Bills     73967"
      ],
      "text/html": "<div>\n<style scoped>\n    .dataframe tbody tr th:only-of-type {\n        vertical-align: middle;\n    }\n\n    .dataframe tbody tr th {\n        vertical-align: top;\n    }\n\n    .dataframe thead th {\n        text-align: right;\n    }\n</style>\n<table border=\"1\" class=\"dataframe\">\n  <thead>\n    <tr style=\"text-align: right;\">\n      <th></th>\n      <th>0</th>\n      <th>1</th>\n      <th>2</th>\n    </tr>\n  </thead>\n  <tbody>\n    <tr>\n      <th>0</th>\n      <td>Name</td>\n      <td>Team(s)</td>\n      <td>Capacity</td>\n    </tr>\n    <tr>\n      <th>1</th>\n      <td>Lambeau Field</td>\n      <td>Green Bay Packers</td>\n      <td>80735</td>\n    </tr>\n    <tr>\n      <th>2</th>\n      <td>RingCentral Coliseum</td>\n      <td>Oakland Raiders</td>\n      <td>53250</td>\n    </tr>\n    <tr>\n      <th>3</th>\n      <td>Arrowhead Stadium</td>\n      <td>Kansas City Chiefs</td>\n      <td>76416</td>\n    </tr>\n    <tr>\n      <th>4</th>\n      <td>New Era Field</td>\n      <td>Buffalo Bills</td>\n      <td>73967</td>\n    </tr>\n  </tbody>\n</table>\n</div>"
     },
     "metadata": {},
     "execution_count": 10
    }
   ],
   "source": [
    "#Drop unneccessary columns--and stadium name, doesn't matter\n",
    "nfl_capacities = nfl_capacities.drop([3, 4, 5], axis = 1)\n",
    "nfl_capacities.head()"
   ]
  },
  {
   "cell_type": "code",
   "execution_count": 11,
   "metadata": {},
   "outputs": [
    {
     "output_type": "execute_result",
     "data": {
      "text/plain": [
       "                stadium                team stadium_capacity\n",
       "0                  Name             Team(s)         Capacity\n",
       "1         Lambeau Field   Green Bay Packers            80735\n",
       "2  RingCentral Coliseum     Oakland Raiders            53250\n",
       "3     Arrowhead Stadium  Kansas City Chiefs            76416\n",
       "4         New Era Field       Buffalo Bills            73967"
      ],
      "text/html": "<div>\n<style scoped>\n    .dataframe tbody tr th:only-of-type {\n        vertical-align: middle;\n    }\n\n    .dataframe tbody tr th {\n        vertical-align: top;\n    }\n\n    .dataframe thead th {\n        text-align: right;\n    }\n</style>\n<table border=\"1\" class=\"dataframe\">\n  <thead>\n    <tr style=\"text-align: right;\">\n      <th></th>\n      <th>stadium</th>\n      <th>team</th>\n      <th>stadium_capacity</th>\n    </tr>\n  </thead>\n  <tbody>\n    <tr>\n      <th>0</th>\n      <td>Name</td>\n      <td>Team(s)</td>\n      <td>Capacity</td>\n    </tr>\n    <tr>\n      <th>1</th>\n      <td>Lambeau Field</td>\n      <td>Green Bay Packers</td>\n      <td>80735</td>\n    </tr>\n    <tr>\n      <th>2</th>\n      <td>RingCentral Coliseum</td>\n      <td>Oakland Raiders</td>\n      <td>53250</td>\n    </tr>\n    <tr>\n      <th>3</th>\n      <td>Arrowhead Stadium</td>\n      <td>Kansas City Chiefs</td>\n      <td>76416</td>\n    </tr>\n    <tr>\n      <th>4</th>\n      <td>New Era Field</td>\n      <td>Buffalo Bills</td>\n      <td>73967</td>\n    </tr>\n  </tbody>\n</table>\n</div>"
     },
     "metadata": {},
     "execution_count": 11
    }
   ],
   "source": [
    "#Change column names\n",
    "nfl_capacities.columns = [\"stadium\", \"team\", \"stadium_capacity\"]\n",
    "nfl_capacities.head()"
   ]
  },
  {
   "cell_type": "code",
   "execution_count": 12,
   "metadata": {},
   "outputs": [
    {
     "output_type": "execute_result",
     "data": {
      "text/plain": [
       "                          stadium                  team stadium_capacity\n",
       "1                   Lambeau Field     Green Bay Packers            80735\n",
       "2            RingCentral Coliseum       Oakland Raiders            53250\n",
       "3               Arrowhead Stadium    Kansas City Chiefs            76416\n",
       "4                   New Era Field         Buffalo Bills            73967\n",
       "5                       Superdome    New Orleans Saints            76468\n",
       "6               Hard Rock Stadium        Miami Dolphins            65326\n",
       "7                 TIAA Bank Field  Jacksonville Jaguars            67264\n",
       "8         Bank of America Stadium     Carolina Panthers            73778\n",
       "9                     FedEx Field   Washington Redskins            79000\n",
       "10               M&T Bank Stadium      Baltimore Ravens            71008\n",
       "11          Raymond James Stadium  Tampa Bay Buccaneers            65890\n",
       "12            FirstEnergy Stadium      Cleveland Browns            68000\n",
       "13                 Nissan Stadium      Tennessee Titans            69143\n",
       "14             Paul Brown Stadium    Cincinnati Bengals            65515\n",
       "15                  Empower Field        Denver Broncos            76125\n",
       "16                    Heinz Field   Pittsburgh Steelers            65500\n",
       "17                    NRG Stadium        Houston Texans            71500\n",
       "18               Gillette Stadium  New England Patriots            68756\n",
       "19              CenturyLink Field      Seattle Seahawks            67000\n",
       "20                     Ford Field         Detroit Lions            65000\n",
       "21        Lincoln Financial Field   Philadelphia Eagles            69176\n",
       "22                  Soldier Field         Chicago Bears            61500\n",
       "23  University of Phoenix Stadium     Arizona Cardinals            63400\n",
       "24              Lucas Oil Stadium    Indianapolis Colts            63000\n",
       "25                   AT&T Stadium        Dallas Cowboys            80000\n",
       "26                MetLife Stadium  New York Giants/Jets            82500\n",
       "27                 Levi’s Stadium   San Francisco 49ers            68500\n",
       "28           Los Angeles Coliseum      Los Angeles Rams            77500\n",
       "29                US Bank Stadium     Minnesota Vikings            66200\n",
       "30                 StubHub Center  Los Angeles Chargers            30000\n",
       "31          Mercedes Benz Stadium       Atlanta Falcons            71000\n",
       "32                            NaN                   NaN              NaN"
      ],
      "text/html": "<div>\n<style scoped>\n    .dataframe tbody tr th:only-of-type {\n        vertical-align: middle;\n    }\n\n    .dataframe tbody tr th {\n        vertical-align: top;\n    }\n\n    .dataframe thead th {\n        text-align: right;\n    }\n</style>\n<table border=\"1\" class=\"dataframe\">\n  <thead>\n    <tr style=\"text-align: right;\">\n      <th></th>\n      <th>stadium</th>\n      <th>team</th>\n      <th>stadium_capacity</th>\n    </tr>\n  </thead>\n  <tbody>\n    <tr>\n      <th>1</th>\n      <td>Lambeau Field</td>\n      <td>Green Bay Packers</td>\n      <td>80735</td>\n    </tr>\n    <tr>\n      <th>2</th>\n      <td>RingCentral Coliseum</td>\n      <td>Oakland Raiders</td>\n      <td>53250</td>\n    </tr>\n    <tr>\n      <th>3</th>\n      <td>Arrowhead Stadium</td>\n      <td>Kansas City Chiefs</td>\n      <td>76416</td>\n    </tr>\n    <tr>\n      <th>4</th>\n      <td>New Era Field</td>\n      <td>Buffalo Bills</td>\n      <td>73967</td>\n    </tr>\n    <tr>\n      <th>5</th>\n      <td>Superdome</td>\n      <td>New Orleans Saints</td>\n      <td>76468</td>\n    </tr>\n    <tr>\n      <th>6</th>\n      <td>Hard Rock Stadium</td>\n      <td>Miami Dolphins</td>\n      <td>65326</td>\n    </tr>\n    <tr>\n      <th>7</th>\n      <td>TIAA Bank Field</td>\n      <td>Jacksonville Jaguars</td>\n      <td>67264</td>\n    </tr>\n    <tr>\n      <th>8</th>\n      <td>Bank of America Stadium</td>\n      <td>Carolina Panthers</td>\n      <td>73778</td>\n    </tr>\n    <tr>\n      <th>9</th>\n      <td>FedEx Field</td>\n      <td>Washington Redskins</td>\n      <td>79000</td>\n    </tr>\n    <tr>\n      <th>10</th>\n      <td>M&amp;T Bank Stadium</td>\n      <td>Baltimore Ravens</td>\n      <td>71008</td>\n    </tr>\n    <tr>\n      <th>11</th>\n      <td>Raymond James Stadium</td>\n      <td>Tampa Bay Buccaneers</td>\n      <td>65890</td>\n    </tr>\n    <tr>\n      <th>12</th>\n      <td>FirstEnergy Stadium</td>\n      <td>Cleveland Browns</td>\n      <td>68000</td>\n    </tr>\n    <tr>\n      <th>13</th>\n      <td>Nissan Stadium</td>\n      <td>Tennessee Titans</td>\n      <td>69143</td>\n    </tr>\n    <tr>\n      <th>14</th>\n      <td>Paul Brown Stadium</td>\n      <td>Cincinnati Bengals</td>\n      <td>65515</td>\n    </tr>\n    <tr>\n      <th>15</th>\n      <td>Empower Field</td>\n      <td>Denver Broncos</td>\n      <td>76125</td>\n    </tr>\n    <tr>\n      <th>16</th>\n      <td>Heinz Field</td>\n      <td>Pittsburgh Steelers</td>\n      <td>65500</td>\n    </tr>\n    <tr>\n      <th>17</th>\n      <td>NRG Stadium</td>\n      <td>Houston Texans</td>\n      <td>71500</td>\n    </tr>\n    <tr>\n      <th>18</th>\n      <td>Gillette Stadium</td>\n      <td>New England Patriots</td>\n      <td>68756</td>\n    </tr>\n    <tr>\n      <th>19</th>\n      <td>CenturyLink Field</td>\n      <td>Seattle Seahawks</td>\n      <td>67000</td>\n    </tr>\n    <tr>\n      <th>20</th>\n      <td>Ford Field</td>\n      <td>Detroit Lions</td>\n      <td>65000</td>\n    </tr>\n    <tr>\n      <th>21</th>\n      <td>Lincoln Financial Field</td>\n      <td>Philadelphia Eagles</td>\n      <td>69176</td>\n    </tr>\n    <tr>\n      <th>22</th>\n      <td>Soldier Field</td>\n      <td>Chicago Bears</td>\n      <td>61500</td>\n    </tr>\n    <tr>\n      <th>23</th>\n      <td>University of Phoenix Stadium</td>\n      <td>Arizona Cardinals</td>\n      <td>63400</td>\n    </tr>\n    <tr>\n      <th>24</th>\n      <td>Lucas Oil Stadium</td>\n      <td>Indianapolis Colts</td>\n      <td>63000</td>\n    </tr>\n    <tr>\n      <th>25</th>\n      <td>AT&amp;T Stadium</td>\n      <td>Dallas Cowboys</td>\n      <td>80000</td>\n    </tr>\n    <tr>\n      <th>26</th>\n      <td>MetLife Stadium</td>\n      <td>New York Giants/Jets</td>\n      <td>82500</td>\n    </tr>\n    <tr>\n      <th>27</th>\n      <td>Levi’s Stadium</td>\n      <td>San Francisco 49ers</td>\n      <td>68500</td>\n    </tr>\n    <tr>\n      <th>28</th>\n      <td>Los Angeles Coliseum</td>\n      <td>Los Angeles Rams</td>\n      <td>77500</td>\n    </tr>\n    <tr>\n      <th>29</th>\n      <td>US Bank Stadium</td>\n      <td>Minnesota Vikings</td>\n      <td>66200</td>\n    </tr>\n    <tr>\n      <th>30</th>\n      <td>StubHub Center</td>\n      <td>Los Angeles Chargers</td>\n      <td>30000</td>\n    </tr>\n    <tr>\n      <th>31</th>\n      <td>Mercedes Benz Stadium</td>\n      <td>Atlanta Falcons</td>\n      <td>71000</td>\n    </tr>\n    <tr>\n      <th>32</th>\n      <td>NaN</td>\n      <td>NaN</td>\n      <td>NaN</td>\n    </tr>\n  </tbody>\n</table>\n</div>"
     },
     "metadata": {},
     "execution_count": 12
    }
   ],
   "source": [
    "#Drop first row, it's repetitive \n",
    "nfl_capacities = nfl_capacities.iloc[1:]\n",
    "nfl_capacities"
   ]
  },
  {
   "cell_type": "code",
   "execution_count": 13,
   "metadata": {},
   "outputs": [
    {
     "output_type": "execute_result",
     "data": {
      "text/plain": [
       "   stadium_capacity                        stadium\n",
       "0             63400  University of Phoenix Stadium\n",
       "1             71000          Mercedes Benz Stadium\n",
       "2             71008               M&T Bank Stadium\n",
       "3             73967                  New Era Field\n",
       "4             73778        Bank of America Stadium\n",
       "5             61500                  Soldier Field\n",
       "6             65515             Paul Brown Stadium\n",
       "7             68000            FirstEnergy Stadium\n",
       "8             80000                   AT&T Stadium\n",
       "9             76125                  Empower Field\n",
       "10            65000                     Ford Field\n",
       "11            80735                  Lambeau Field\n",
       "12            71500                    NRG Stadium\n",
       "13            63000              Lucas Oil Stadium\n",
       "14            67264                TIAA Bank Field\n",
       "15            76416              Arrowhead Stadium\n",
       "16            30000                 StubHub Center\n",
       "17            77500           Los Angeles Coliseum\n",
       "18            65326              Hard Rock Stadium\n",
       "19            66200                US Bank Stadium\n",
       "20            68756               Gillette Stadium\n",
       "21            76468                      Superdome\n",
       "22            82500                MetLife Stadium\n",
       "23            53250           RingCentral Coliseum\n",
       "24            69176        Lincoln Financial Field\n",
       "25            65500                    Heinz Field\n",
       "26            68500                 Levi’s Stadium\n",
       "27            67000              CenturyLink Field\n",
       "28            65890          Raymond James Stadium\n",
       "29            69143                 Nissan Stadium\n",
       "30            79000                    FedEx Field\n",
       "31              NaN                            NaN"
      ],
      "text/html": "<div>\n<style scoped>\n    .dataframe tbody tr th:only-of-type {\n        vertical-align: middle;\n    }\n\n    .dataframe tbody tr th {\n        vertical-align: top;\n    }\n\n    .dataframe thead th {\n        text-align: right;\n    }\n</style>\n<table border=\"1\" class=\"dataframe\">\n  <thead>\n    <tr style=\"text-align: right;\">\n      <th></th>\n      <th>stadium_capacity</th>\n      <th>stadium</th>\n    </tr>\n  </thead>\n  <tbody>\n    <tr>\n      <th>0</th>\n      <td>63400</td>\n      <td>University of Phoenix Stadium</td>\n    </tr>\n    <tr>\n      <th>1</th>\n      <td>71000</td>\n      <td>Mercedes Benz Stadium</td>\n    </tr>\n    <tr>\n      <th>2</th>\n      <td>71008</td>\n      <td>M&amp;T Bank Stadium</td>\n    </tr>\n    <tr>\n      <th>3</th>\n      <td>73967</td>\n      <td>New Era Field</td>\n    </tr>\n    <tr>\n      <th>4</th>\n      <td>73778</td>\n      <td>Bank of America Stadium</td>\n    </tr>\n    <tr>\n      <th>5</th>\n      <td>61500</td>\n      <td>Soldier Field</td>\n    </tr>\n    <tr>\n      <th>6</th>\n      <td>65515</td>\n      <td>Paul Brown Stadium</td>\n    </tr>\n    <tr>\n      <th>7</th>\n      <td>68000</td>\n      <td>FirstEnergy Stadium</td>\n    </tr>\n    <tr>\n      <th>8</th>\n      <td>80000</td>\n      <td>AT&amp;T Stadium</td>\n    </tr>\n    <tr>\n      <th>9</th>\n      <td>76125</td>\n      <td>Empower Field</td>\n    </tr>\n    <tr>\n      <th>10</th>\n      <td>65000</td>\n      <td>Ford Field</td>\n    </tr>\n    <tr>\n      <th>11</th>\n      <td>80735</td>\n      <td>Lambeau Field</td>\n    </tr>\n    <tr>\n      <th>12</th>\n      <td>71500</td>\n      <td>NRG Stadium</td>\n    </tr>\n    <tr>\n      <th>13</th>\n      <td>63000</td>\n      <td>Lucas Oil Stadium</td>\n    </tr>\n    <tr>\n      <th>14</th>\n      <td>67264</td>\n      <td>TIAA Bank Field</td>\n    </tr>\n    <tr>\n      <th>15</th>\n      <td>76416</td>\n      <td>Arrowhead Stadium</td>\n    </tr>\n    <tr>\n      <th>16</th>\n      <td>30000</td>\n      <td>StubHub Center</td>\n    </tr>\n    <tr>\n      <th>17</th>\n      <td>77500</td>\n      <td>Los Angeles Coliseum</td>\n    </tr>\n    <tr>\n      <th>18</th>\n      <td>65326</td>\n      <td>Hard Rock Stadium</td>\n    </tr>\n    <tr>\n      <th>19</th>\n      <td>66200</td>\n      <td>US Bank Stadium</td>\n    </tr>\n    <tr>\n      <th>20</th>\n      <td>68756</td>\n      <td>Gillette Stadium</td>\n    </tr>\n    <tr>\n      <th>21</th>\n      <td>76468</td>\n      <td>Superdome</td>\n    </tr>\n    <tr>\n      <th>22</th>\n      <td>82500</td>\n      <td>MetLife Stadium</td>\n    </tr>\n    <tr>\n      <th>23</th>\n      <td>53250</td>\n      <td>RingCentral Coliseum</td>\n    </tr>\n    <tr>\n      <th>24</th>\n      <td>69176</td>\n      <td>Lincoln Financial Field</td>\n    </tr>\n    <tr>\n      <th>25</th>\n      <td>65500</td>\n      <td>Heinz Field</td>\n    </tr>\n    <tr>\n      <th>26</th>\n      <td>68500</td>\n      <td>Levi’s Stadium</td>\n    </tr>\n    <tr>\n      <th>27</th>\n      <td>67000</td>\n      <td>CenturyLink Field</td>\n    </tr>\n    <tr>\n      <th>28</th>\n      <td>65890</td>\n      <td>Raymond James Stadium</td>\n    </tr>\n    <tr>\n      <th>29</th>\n      <td>69143</td>\n      <td>Nissan Stadium</td>\n    </tr>\n    <tr>\n      <th>30</th>\n      <td>79000</td>\n      <td>FedEx Field</td>\n    </tr>\n    <tr>\n      <th>31</th>\n      <td>NaN</td>\n      <td>NaN</td>\n    </tr>\n  </tbody>\n</table>\n</div>"
     },
     "metadata": {},
     "execution_count": 13
    }
   ],
   "source": [
    "#Sort capacity data\n",
    "nfl_capacities = nfl_capacities.sort_values(by = ['team']).reset_index()\n",
    "nfl_capacities_cap = nfl_capacities[[\"stadium_capacity\", \"stadium\"]]\n",
    "nfl_capacities_cap"
   ]
  },
  {
   "cell_type": "code",
   "execution_count": 14,
   "metadata": {
    "scrolled": true
   },
   "outputs": [
    {
     "output_type": "execute_result",
     "data": {
      "text/plain": [
       "                    team  total_attendance stadium_capacity  \\\n",
       "0      Arizona Cardinals           1018127            63400   \n",
       "1        Atlanta Falcons           1119143            71000   \n",
       "2       Baltimore Ravens           1053383            71008   \n",
       "3          Buffalo Bills           1072899            73967   \n",
       "4      Carolina Panthers           1102756            73778   \n",
       "5          Chicago Bears           1045568            61500   \n",
       "6     Cincinnati Bengals            911289            65515   \n",
       "7       Cleveland Browns           1045441            68000   \n",
       "8         Dallas Cowboys           1303393            80000   \n",
       "9         Denver Broncos           1092324            76125   \n",
       "10         Detroit Lions           1054328            65000   \n",
       "11     Green Bay Packers           1163842            80735   \n",
       "12        Houston Texans           1112480            71500   \n",
       "13    Indianapolis Colts           1006361            63000   \n",
       "14  Jacksonville Jaguars           1109899            67264   \n",
       "15    Kansas City Chiefs           1107376            76416   \n",
       "16  Los Angeles Chargers            803556            30000   \n",
       "17      Los Angeles Rams           1102409            77500   \n",
       "18        Miami Dolphins           1062180            65326   \n",
       "19     Minnesota Vikings           1090834            66200   \n",
       "20  New England Patriots           1068530            68756   \n",
       "21    New Orleans Saints           1147700            76468   \n",
       "22       New York Giants           1183132            82500   \n",
       "23         New York Jets           1130823            53250   \n",
       "24       Oakland Raiders            955258            69176   \n",
       "25   Philadelphia Eagles           1149737            65500   \n",
       "26   Pittsburgh Steelers           1040509            68500   \n",
       "27   San Francisco 49ers           1052454            67000   \n",
       "28      Seattle Seahawks           1114327            65890   \n",
       "29  Tampa Bay Buccaneers            999843            69143   \n",
       "30      Tennessee Titans           1092094            79000   \n",
       "31   Washington Redskins           1043167              NaN   \n",
       "32                   NaN          17177581              NaN   \n",
       "\n",
       "                          stadium  \n",
       "0   University of Phoenix Stadium  \n",
       "1           Mercedes Benz Stadium  \n",
       "2                M&T Bank Stadium  \n",
       "3                   New Era Field  \n",
       "4         Bank of America Stadium  \n",
       "5                   Soldier Field  \n",
       "6              Paul Brown Stadium  \n",
       "7             FirstEnergy Stadium  \n",
       "8                    AT&T Stadium  \n",
       "9                   Empower Field  \n",
       "10                     Ford Field  \n",
       "11                  Lambeau Field  \n",
       "12                    NRG Stadium  \n",
       "13              Lucas Oil Stadium  \n",
       "14                TIAA Bank Field  \n",
       "15              Arrowhead Stadium  \n",
       "16                 StubHub Center  \n",
       "17           Los Angeles Coliseum  \n",
       "18              Hard Rock Stadium  \n",
       "19                US Bank Stadium  \n",
       "20               Gillette Stadium  \n",
       "21                      Superdome  \n",
       "22                MetLife Stadium  \n",
       "23           RingCentral Coliseum  \n",
       "24        Lincoln Financial Field  \n",
       "25                    Heinz Field  \n",
       "26                 Levi’s Stadium  \n",
       "27              CenturyLink Field  \n",
       "28          Raymond James Stadium  \n",
       "29                 Nissan Stadium  \n",
       "30                    FedEx Field  \n",
       "31                            NaN  \n",
       "32                            NaN  "
      ],
      "text/html": "<div>\n<style scoped>\n    .dataframe tbody tr th:only-of-type {\n        vertical-align: middle;\n    }\n\n    .dataframe tbody tr th {\n        vertical-align: top;\n    }\n\n    .dataframe thead th {\n        text-align: right;\n    }\n</style>\n<table border=\"1\" class=\"dataframe\">\n  <thead>\n    <tr style=\"text-align: right;\">\n      <th></th>\n      <th>team</th>\n      <th>total_attendance</th>\n      <th>stadium_capacity</th>\n      <th>stadium</th>\n    </tr>\n  </thead>\n  <tbody>\n    <tr>\n      <th>0</th>\n      <td>Arizona Cardinals</td>\n      <td>1018127</td>\n      <td>63400</td>\n      <td>University of Phoenix Stadium</td>\n    </tr>\n    <tr>\n      <th>1</th>\n      <td>Atlanta Falcons</td>\n      <td>1119143</td>\n      <td>71000</td>\n      <td>Mercedes Benz Stadium</td>\n    </tr>\n    <tr>\n      <th>2</th>\n      <td>Baltimore Ravens</td>\n      <td>1053383</td>\n      <td>71008</td>\n      <td>M&amp;T Bank Stadium</td>\n    </tr>\n    <tr>\n      <th>3</th>\n      <td>Buffalo Bills</td>\n      <td>1072899</td>\n      <td>73967</td>\n      <td>New Era Field</td>\n    </tr>\n    <tr>\n      <th>4</th>\n      <td>Carolina Panthers</td>\n      <td>1102756</td>\n      <td>73778</td>\n      <td>Bank of America Stadium</td>\n    </tr>\n    <tr>\n      <th>5</th>\n      <td>Chicago Bears</td>\n      <td>1045568</td>\n      <td>61500</td>\n      <td>Soldier Field</td>\n    </tr>\n    <tr>\n      <th>6</th>\n      <td>Cincinnati Bengals</td>\n      <td>911289</td>\n      <td>65515</td>\n      <td>Paul Brown Stadium</td>\n    </tr>\n    <tr>\n      <th>7</th>\n      <td>Cleveland Browns</td>\n      <td>1045441</td>\n      <td>68000</td>\n      <td>FirstEnergy Stadium</td>\n    </tr>\n    <tr>\n      <th>8</th>\n      <td>Dallas Cowboys</td>\n      <td>1303393</td>\n      <td>80000</td>\n      <td>AT&amp;T Stadium</td>\n    </tr>\n    <tr>\n      <th>9</th>\n      <td>Denver Broncos</td>\n      <td>1092324</td>\n      <td>76125</td>\n      <td>Empower Field</td>\n    </tr>\n    <tr>\n      <th>10</th>\n      <td>Detroit Lions</td>\n      <td>1054328</td>\n      <td>65000</td>\n      <td>Ford Field</td>\n    </tr>\n    <tr>\n      <th>11</th>\n      <td>Green Bay Packers</td>\n      <td>1163842</td>\n      <td>80735</td>\n      <td>Lambeau Field</td>\n    </tr>\n    <tr>\n      <th>12</th>\n      <td>Houston Texans</td>\n      <td>1112480</td>\n      <td>71500</td>\n      <td>NRG Stadium</td>\n    </tr>\n    <tr>\n      <th>13</th>\n      <td>Indianapolis Colts</td>\n      <td>1006361</td>\n      <td>63000</td>\n      <td>Lucas Oil Stadium</td>\n    </tr>\n    <tr>\n      <th>14</th>\n      <td>Jacksonville Jaguars</td>\n      <td>1109899</td>\n      <td>67264</td>\n      <td>TIAA Bank Field</td>\n    </tr>\n    <tr>\n      <th>15</th>\n      <td>Kansas City Chiefs</td>\n      <td>1107376</td>\n      <td>76416</td>\n      <td>Arrowhead Stadium</td>\n    </tr>\n    <tr>\n      <th>16</th>\n      <td>Los Angeles Chargers</td>\n      <td>803556</td>\n      <td>30000</td>\n      <td>StubHub Center</td>\n    </tr>\n    <tr>\n      <th>17</th>\n      <td>Los Angeles Rams</td>\n      <td>1102409</td>\n      <td>77500</td>\n      <td>Los Angeles Coliseum</td>\n    </tr>\n    <tr>\n      <th>18</th>\n      <td>Miami Dolphins</td>\n      <td>1062180</td>\n      <td>65326</td>\n      <td>Hard Rock Stadium</td>\n    </tr>\n    <tr>\n      <th>19</th>\n      <td>Minnesota Vikings</td>\n      <td>1090834</td>\n      <td>66200</td>\n      <td>US Bank Stadium</td>\n    </tr>\n    <tr>\n      <th>20</th>\n      <td>New England Patriots</td>\n      <td>1068530</td>\n      <td>68756</td>\n      <td>Gillette Stadium</td>\n    </tr>\n    <tr>\n      <th>21</th>\n      <td>New Orleans Saints</td>\n      <td>1147700</td>\n      <td>76468</td>\n      <td>Superdome</td>\n    </tr>\n    <tr>\n      <th>22</th>\n      <td>New York Giants</td>\n      <td>1183132</td>\n      <td>82500</td>\n      <td>MetLife Stadium</td>\n    </tr>\n    <tr>\n      <th>23</th>\n      <td>New York Jets</td>\n      <td>1130823</td>\n      <td>53250</td>\n      <td>RingCentral Coliseum</td>\n    </tr>\n    <tr>\n      <th>24</th>\n      <td>Oakland Raiders</td>\n      <td>955258</td>\n      <td>69176</td>\n      <td>Lincoln Financial Field</td>\n    </tr>\n    <tr>\n      <th>25</th>\n      <td>Philadelphia Eagles</td>\n      <td>1149737</td>\n      <td>65500</td>\n      <td>Heinz Field</td>\n    </tr>\n    <tr>\n      <th>26</th>\n      <td>Pittsburgh Steelers</td>\n      <td>1040509</td>\n      <td>68500</td>\n      <td>Levi’s Stadium</td>\n    </tr>\n    <tr>\n      <th>27</th>\n      <td>San Francisco 49ers</td>\n      <td>1052454</td>\n      <td>67000</td>\n      <td>CenturyLink Field</td>\n    </tr>\n    <tr>\n      <th>28</th>\n      <td>Seattle Seahawks</td>\n      <td>1114327</td>\n      <td>65890</td>\n      <td>Raymond James Stadium</td>\n    </tr>\n    <tr>\n      <th>29</th>\n      <td>Tampa Bay Buccaneers</td>\n      <td>999843</td>\n      <td>69143</td>\n      <td>Nissan Stadium</td>\n    </tr>\n    <tr>\n      <th>30</th>\n      <td>Tennessee Titans</td>\n      <td>1092094</td>\n      <td>79000</td>\n      <td>FedEx Field</td>\n    </tr>\n    <tr>\n      <th>31</th>\n      <td>Washington Redskins</td>\n      <td>1043167</td>\n      <td>NaN</td>\n      <td>NaN</td>\n    </tr>\n    <tr>\n      <th>32</th>\n      <td>NaN</td>\n      <td>17177581</td>\n      <td>NaN</td>\n      <td>NaN</td>\n    </tr>\n  </tbody>\n</table>\n</div>"
     },
     "metadata": {},
     "execution_count": 14
    }
   ],
   "source": [
    "nfl_attendance['stadium_capacity'] = nfl_capacities_cap['stadium_capacity']\n",
    "nfl_attendance['stadium'] = nfl_capacities_cap['stadium']\n",
    "nfl_attendance"
   ]
  },
  {
   "cell_type": "code",
   "execution_count": 15,
   "metadata": {},
   "outputs": [
    {
     "output_type": "execute_result",
     "data": {
      "text/plain": [
       "                team  total_attendance stadium_capacity  \\\n",
       "0  Arizona Cardinals           1018127            63400   \n",
       "1    Atlanta Falcons           1119143            71000   \n",
       "2   Baltimore Ravens           1053383            71008   \n",
       "3      Buffalo Bills           1072899            73967   \n",
       "4  Carolina Panthers           1102756            73778   \n",
       "\n",
       "                         stadium  \n",
       "0  University of Phoenix Stadium  \n",
       "1          Mercedes Benz Stadium  \n",
       "2               M&T Bank Stadium  \n",
       "3                  New Era Field  \n",
       "4        Bank of America Stadium  "
      ],
      "text/html": "<div>\n<style scoped>\n    .dataframe tbody tr th:only-of-type {\n        vertical-align: middle;\n    }\n\n    .dataframe tbody tr th {\n        vertical-align: top;\n    }\n\n    .dataframe thead th {\n        text-align: right;\n    }\n</style>\n<table border=\"1\" class=\"dataframe\">\n  <thead>\n    <tr style=\"text-align: right;\">\n      <th></th>\n      <th>team</th>\n      <th>total_attendance</th>\n      <th>stadium_capacity</th>\n      <th>stadium</th>\n    </tr>\n  </thead>\n  <tbody>\n    <tr>\n      <th>0</th>\n      <td>Arizona Cardinals</td>\n      <td>1018127</td>\n      <td>63400</td>\n      <td>University of Phoenix Stadium</td>\n    </tr>\n    <tr>\n      <th>1</th>\n      <td>Atlanta Falcons</td>\n      <td>1119143</td>\n      <td>71000</td>\n      <td>Mercedes Benz Stadium</td>\n    </tr>\n    <tr>\n      <th>2</th>\n      <td>Baltimore Ravens</td>\n      <td>1053383</td>\n      <td>71008</td>\n      <td>M&amp;T Bank Stadium</td>\n    </tr>\n    <tr>\n      <th>3</th>\n      <td>Buffalo Bills</td>\n      <td>1072899</td>\n      <td>73967</td>\n      <td>New Era Field</td>\n    </tr>\n    <tr>\n      <th>4</th>\n      <td>Carolina Panthers</td>\n      <td>1102756</td>\n      <td>73778</td>\n      <td>Bank of America Stadium</td>\n    </tr>\n  </tbody>\n</table>\n</div>"
     },
     "metadata": {},
     "execution_count": 15
    }
   ],
   "source": [
    "nfl_attendance.head()"
   ]
  },
  {
   "cell_type": "code",
   "execution_count": 16,
   "metadata": {},
   "outputs": [
    {
     "output_type": "execute_result",
     "data": {
      "text/plain": [
       "                    team  total_attendance stadium_capacity  \\\n",
       "0      Arizona Cardinals           1018127            63400   \n",
       "1        Atlanta Falcons           1119143            71000   \n",
       "2       Baltimore Ravens           1053383            71008   \n",
       "3          Buffalo Bills           1072899            73967   \n",
       "4      Carolina Panthers           1102756            73778   \n",
       "5          Chicago Bears           1045568            61500   \n",
       "6     Cincinnati Bengals            911289            65515   \n",
       "7       Cleveland Browns           1045441            68000   \n",
       "8         Dallas Cowboys           1303393            80000   \n",
       "9         Denver Broncos           1092324            76125   \n",
       "10         Detroit Lions           1054328            65000   \n",
       "11     Green Bay Packers           1163842            80735   \n",
       "12        Houston Texans           1112480            71500   \n",
       "13    Indianapolis Colts           1006361            63000   \n",
       "14  Jacksonville Jaguars           1109899            67264   \n",
       "15    Kansas City Chiefs           1107376            76416   \n",
       "16  Los Angeles Chargers            803556            30000   \n",
       "17      Los Angeles Rams           1102409            77500   \n",
       "18        Miami Dolphins           1062180            65326   \n",
       "19     Minnesota Vikings           1090834            66200   \n",
       "20  New England Patriots           1068530            68756   \n",
       "21    New Orleans Saints           1147700            76468   \n",
       "22       New York Giants           1183132            82500   \n",
       "23         New York Jets           1130823            53250   \n",
       "24       Oakland Raiders            955258            69176   \n",
       "25   Philadelphia Eagles           1149737            65500   \n",
       "26   Pittsburgh Steelers           1040509            68500   \n",
       "27   San Francisco 49ers           1052454            67000   \n",
       "28      Seattle Seahawks           1114327            65890   \n",
       "29  Tampa Bay Buccaneers            999843            69143   \n",
       "30      Tennessee Titans           1092094            79000   \n",
       "31   Washington Redskins           1043167              NaN   \n",
       "32                   NaN          17177581              NaN   \n",
       "\n",
       "                          stadium lat long  \n",
       "0   University of Phoenix Stadium           \n",
       "1           Mercedes Benz Stadium           \n",
       "2                M&T Bank Stadium           \n",
       "3                   New Era Field           \n",
       "4         Bank of America Stadium           \n",
       "5                   Soldier Field           \n",
       "6              Paul Brown Stadium           \n",
       "7             FirstEnergy Stadium           \n",
       "8                    AT&T Stadium           \n",
       "9                   Empower Field           \n",
       "10                     Ford Field           \n",
       "11                  Lambeau Field           \n",
       "12                    NRG Stadium           \n",
       "13              Lucas Oil Stadium           \n",
       "14                TIAA Bank Field           \n",
       "15              Arrowhead Stadium           \n",
       "16                 StubHub Center           \n",
       "17           Los Angeles Coliseum           \n",
       "18              Hard Rock Stadium           \n",
       "19                US Bank Stadium           \n",
       "20               Gillette Stadium           \n",
       "21                      Superdome           \n",
       "22                MetLife Stadium           \n",
       "23           RingCentral Coliseum           \n",
       "24        Lincoln Financial Field           \n",
       "25                    Heinz Field           \n",
       "26                 Levi’s Stadium           \n",
       "27              CenturyLink Field           \n",
       "28          Raymond James Stadium           \n",
       "29                 Nissan Stadium           \n",
       "30                    FedEx Field           \n",
       "31                            NaN           \n",
       "32                            NaN           "
      ],
      "text/html": "<div>\n<style scoped>\n    .dataframe tbody tr th:only-of-type {\n        vertical-align: middle;\n    }\n\n    .dataframe tbody tr th {\n        vertical-align: top;\n    }\n\n    .dataframe thead th {\n        text-align: right;\n    }\n</style>\n<table border=\"1\" class=\"dataframe\">\n  <thead>\n    <tr style=\"text-align: right;\">\n      <th></th>\n      <th>team</th>\n      <th>total_attendance</th>\n      <th>stadium_capacity</th>\n      <th>stadium</th>\n      <th>lat</th>\n      <th>long</th>\n    </tr>\n  </thead>\n  <tbody>\n    <tr>\n      <th>0</th>\n      <td>Arizona Cardinals</td>\n      <td>1018127</td>\n      <td>63400</td>\n      <td>University of Phoenix Stadium</td>\n      <td></td>\n      <td></td>\n    </tr>\n    <tr>\n      <th>1</th>\n      <td>Atlanta Falcons</td>\n      <td>1119143</td>\n      <td>71000</td>\n      <td>Mercedes Benz Stadium</td>\n      <td></td>\n      <td></td>\n    </tr>\n    <tr>\n      <th>2</th>\n      <td>Baltimore Ravens</td>\n      <td>1053383</td>\n      <td>71008</td>\n      <td>M&amp;T Bank Stadium</td>\n      <td></td>\n      <td></td>\n    </tr>\n    <tr>\n      <th>3</th>\n      <td>Buffalo Bills</td>\n      <td>1072899</td>\n      <td>73967</td>\n      <td>New Era Field</td>\n      <td></td>\n      <td></td>\n    </tr>\n    <tr>\n      <th>4</th>\n      <td>Carolina Panthers</td>\n      <td>1102756</td>\n      <td>73778</td>\n      <td>Bank of America Stadium</td>\n      <td></td>\n      <td></td>\n    </tr>\n    <tr>\n      <th>5</th>\n      <td>Chicago Bears</td>\n      <td>1045568</td>\n      <td>61500</td>\n      <td>Soldier Field</td>\n      <td></td>\n      <td></td>\n    </tr>\n    <tr>\n      <th>6</th>\n      <td>Cincinnati Bengals</td>\n      <td>911289</td>\n      <td>65515</td>\n      <td>Paul Brown Stadium</td>\n      <td></td>\n      <td></td>\n    </tr>\n    <tr>\n      <th>7</th>\n      <td>Cleveland Browns</td>\n      <td>1045441</td>\n      <td>68000</td>\n      <td>FirstEnergy Stadium</td>\n      <td></td>\n      <td></td>\n    </tr>\n    <tr>\n      <th>8</th>\n      <td>Dallas Cowboys</td>\n      <td>1303393</td>\n      <td>80000</td>\n      <td>AT&amp;T Stadium</td>\n      <td></td>\n      <td></td>\n    </tr>\n    <tr>\n      <th>9</th>\n      <td>Denver Broncos</td>\n      <td>1092324</td>\n      <td>76125</td>\n      <td>Empower Field</td>\n      <td></td>\n      <td></td>\n    </tr>\n    <tr>\n      <th>10</th>\n      <td>Detroit Lions</td>\n      <td>1054328</td>\n      <td>65000</td>\n      <td>Ford Field</td>\n      <td></td>\n      <td></td>\n    </tr>\n    <tr>\n      <th>11</th>\n      <td>Green Bay Packers</td>\n      <td>1163842</td>\n      <td>80735</td>\n      <td>Lambeau Field</td>\n      <td></td>\n      <td></td>\n    </tr>\n    <tr>\n      <th>12</th>\n      <td>Houston Texans</td>\n      <td>1112480</td>\n      <td>71500</td>\n      <td>NRG Stadium</td>\n      <td></td>\n      <td></td>\n    </tr>\n    <tr>\n      <th>13</th>\n      <td>Indianapolis Colts</td>\n      <td>1006361</td>\n      <td>63000</td>\n      <td>Lucas Oil Stadium</td>\n      <td></td>\n      <td></td>\n    </tr>\n    <tr>\n      <th>14</th>\n      <td>Jacksonville Jaguars</td>\n      <td>1109899</td>\n      <td>67264</td>\n      <td>TIAA Bank Field</td>\n      <td></td>\n      <td></td>\n    </tr>\n    <tr>\n      <th>15</th>\n      <td>Kansas City Chiefs</td>\n      <td>1107376</td>\n      <td>76416</td>\n      <td>Arrowhead Stadium</td>\n      <td></td>\n      <td></td>\n    </tr>\n    <tr>\n      <th>16</th>\n      <td>Los Angeles Chargers</td>\n      <td>803556</td>\n      <td>30000</td>\n      <td>StubHub Center</td>\n      <td></td>\n      <td></td>\n    </tr>\n    <tr>\n      <th>17</th>\n      <td>Los Angeles Rams</td>\n      <td>1102409</td>\n      <td>77500</td>\n      <td>Los Angeles Coliseum</td>\n      <td></td>\n      <td></td>\n    </tr>\n    <tr>\n      <th>18</th>\n      <td>Miami Dolphins</td>\n      <td>1062180</td>\n      <td>65326</td>\n      <td>Hard Rock Stadium</td>\n      <td></td>\n      <td></td>\n    </tr>\n    <tr>\n      <th>19</th>\n      <td>Minnesota Vikings</td>\n      <td>1090834</td>\n      <td>66200</td>\n      <td>US Bank Stadium</td>\n      <td></td>\n      <td></td>\n    </tr>\n    <tr>\n      <th>20</th>\n      <td>New England Patriots</td>\n      <td>1068530</td>\n      <td>68756</td>\n      <td>Gillette Stadium</td>\n      <td></td>\n      <td></td>\n    </tr>\n    <tr>\n      <th>21</th>\n      <td>New Orleans Saints</td>\n      <td>1147700</td>\n      <td>76468</td>\n      <td>Superdome</td>\n      <td></td>\n      <td></td>\n    </tr>\n    <tr>\n      <th>22</th>\n      <td>New York Giants</td>\n      <td>1183132</td>\n      <td>82500</td>\n      <td>MetLife Stadium</td>\n      <td></td>\n      <td></td>\n    </tr>\n    <tr>\n      <th>23</th>\n      <td>New York Jets</td>\n      <td>1130823</td>\n      <td>53250</td>\n      <td>RingCentral Coliseum</td>\n      <td></td>\n      <td></td>\n    </tr>\n    <tr>\n      <th>24</th>\n      <td>Oakland Raiders</td>\n      <td>955258</td>\n      <td>69176</td>\n      <td>Lincoln Financial Field</td>\n      <td></td>\n      <td></td>\n    </tr>\n    <tr>\n      <th>25</th>\n      <td>Philadelphia Eagles</td>\n      <td>1149737</td>\n      <td>65500</td>\n      <td>Heinz Field</td>\n      <td></td>\n      <td></td>\n    </tr>\n    <tr>\n      <th>26</th>\n      <td>Pittsburgh Steelers</td>\n      <td>1040509</td>\n      <td>68500</td>\n      <td>Levi’s Stadium</td>\n      <td></td>\n      <td></td>\n    </tr>\n    <tr>\n      <th>27</th>\n      <td>San Francisco 49ers</td>\n      <td>1052454</td>\n      <td>67000</td>\n      <td>CenturyLink Field</td>\n      <td></td>\n      <td></td>\n    </tr>\n    <tr>\n      <th>28</th>\n      <td>Seattle Seahawks</td>\n      <td>1114327</td>\n      <td>65890</td>\n      <td>Raymond James Stadium</td>\n      <td></td>\n      <td></td>\n    </tr>\n    <tr>\n      <th>29</th>\n      <td>Tampa Bay Buccaneers</td>\n      <td>999843</td>\n      <td>69143</td>\n      <td>Nissan Stadium</td>\n      <td></td>\n      <td></td>\n    </tr>\n    <tr>\n      <th>30</th>\n      <td>Tennessee Titans</td>\n      <td>1092094</td>\n      <td>79000</td>\n      <td>FedEx Field</td>\n      <td></td>\n      <td></td>\n    </tr>\n    <tr>\n      <th>31</th>\n      <td>Washington Redskins</td>\n      <td>1043167</td>\n      <td>NaN</td>\n      <td>NaN</td>\n      <td></td>\n      <td></td>\n    </tr>\n    <tr>\n      <th>32</th>\n      <td>NaN</td>\n      <td>17177581</td>\n      <td>NaN</td>\n      <td>NaN</td>\n      <td></td>\n      <td></td>\n    </tr>\n  </tbody>\n</table>\n</div>"
     },
     "metadata": {},
     "execution_count": 16
    }
   ],
   "source": [
    "#Add empty columns for lat/long \n",
    "nfl_attendance[\"lat\"] = \"\"\n",
    "nfl_attendance[\"long\"] = \"\"\n",
    "nfl_attendance"
   ]
  },
  {
   "cell_type": "code",
   "execution_count": 17,
   "metadata": {},
   "outputs": [
    {
     "output_type": "stream",
     "name": "stdout",
     "text": [
      "Complete\n"
     ]
    }
   ],
   "source": [
    "##Get lat/long of each stadium \n",
    "params = {\"key\": g_key}\n",
    "for index,row in nfl_attendance.iterrows():\n",
    "    base_url = \"https://maps.googleapis.com/maps/api/geocode/json\"\n",
    "    arena = row[\"stadium\"]\n",
    "    params[\"address\"]=arena\n",
    "    result = requests.get(base_url, params = params)\n",
    "    result = result.json()\n",
    "    try:\n",
    "        nfl_attendance.loc[index, \"lat\"] = result[\"results\"][0][\"geometry\"][\"location\"][\"lat\"]\n",
    "        nfl_attendance.loc[index, \"long\"] = result[\"results\"][0][\"geometry\"][\"location\"][\"lng\"]\n",
    "        time.sleep(1)\n",
    "    except (IndexError, KeyError):\n",
    "        print(\"results not found...skipping\")\n",
    "        time.sleep(1)\n",
    "print(\"Complete\")"
   ]
  },
  {
   "cell_type": "code",
   "execution_count": 18,
   "metadata": {},
   "outputs": [
    {
     "output_type": "execute_result",
     "data": {
      "text/plain": [
       "                    team  total_attendance stadium_capacity  \\\n",
       "0      Arizona Cardinals           1018127            63400   \n",
       "1        Atlanta Falcons           1119143            71000   \n",
       "2       Baltimore Ravens           1053383            71008   \n",
       "3          Buffalo Bills           1072899            73967   \n",
       "4      Carolina Panthers           1102756            73778   \n",
       "5          Chicago Bears           1045568            61500   \n",
       "6     Cincinnati Bengals            911289            65515   \n",
       "7       Cleveland Browns           1045441            68000   \n",
       "8         Dallas Cowboys           1303393            80000   \n",
       "9         Denver Broncos           1092324            76125   \n",
       "10         Detroit Lions           1054328            65000   \n",
       "11     Green Bay Packers           1163842            80735   \n",
       "12        Houston Texans           1112480            71500   \n",
       "13    Indianapolis Colts           1006361            63000   \n",
       "14  Jacksonville Jaguars           1109899            67264   \n",
       "15    Kansas City Chiefs           1107376            76416   \n",
       "16  Los Angeles Chargers            803556            30000   \n",
       "17      Los Angeles Rams           1102409            77500   \n",
       "18        Miami Dolphins           1062180            65326   \n",
       "19     Minnesota Vikings           1090834            66200   \n",
       "20  New England Patriots           1068530            68756   \n",
       "21    New Orleans Saints           1147700            76468   \n",
       "22       New York Giants           1183132            82500   \n",
       "23         New York Jets           1130823            53250   \n",
       "24       Oakland Raiders            955258            69176   \n",
       "25   Philadelphia Eagles           1149737            65500   \n",
       "26   Pittsburgh Steelers           1040509            68500   \n",
       "27   San Francisco 49ers           1052454            67000   \n",
       "28      Seattle Seahawks           1114327            65890   \n",
       "29  Tampa Bay Buccaneers            999843            69143   \n",
       "30      Tennessee Titans           1092094            79000   \n",
       "31   Washington Redskins           1043167              NaN   \n",
       "32                   NaN          17177581              NaN   \n",
       "\n",
       "                          stadium      lat     long  \n",
       "0   University of Phoenix Stadium  33.5276 -112.263  \n",
       "1           Mercedes Benz Stadium  33.7554 -84.4009  \n",
       "2                M&T Bank Stadium   39.278 -76.6227  \n",
       "3                   New Era Field  42.7738  -78.787  \n",
       "4         Bank of America Stadium  35.2258 -80.8528  \n",
       "5                   Soldier Field  41.8623 -87.6167  \n",
       "6              Paul Brown Stadium  39.0955 -84.5161  \n",
       "7             FirstEnergy Stadium  41.5061 -81.6995  \n",
       "8                    AT&T Stadium  32.7473 -97.0945  \n",
       "9                   Empower Field  39.7439  -105.02  \n",
       "10                     Ford Field    42.34 -83.0456  \n",
       "11                  Lambeau Field  44.5013 -88.0622  \n",
       "12                    NRG Stadium  29.6847 -95.4107  \n",
       "13              Lucas Oil Stadium  39.7601 -86.1639  \n",
       "14                TIAA Bank Field   30.324 -81.6373  \n",
       "15              Arrowhead Stadium  39.0489 -94.4839  \n",
       "16                 StubHub Center  33.8644 -118.261  \n",
       "17           Los Angeles Coliseum  34.0141 -118.288  \n",
       "18              Hard Rock Stadium   25.958 -80.2389  \n",
       "19                US Bank Stadium  44.9736 -93.2575  \n",
       "20               Gillette Stadium  42.0909 -71.2643  \n",
       "21                      Superdome  29.9511 -90.0812  \n",
       "22                MetLife Stadium  40.8135 -74.0745  \n",
       "23           RingCentral Coliseum  37.7516 -122.201  \n",
       "24        Lincoln Financial Field  39.9008 -75.1674  \n",
       "25                    Heinz Field  40.4468 -80.0158  \n",
       "26                 Levi’s Stadium  37.4034 -121.969  \n",
       "27              CenturyLink Field  47.5952 -122.332  \n",
       "28          Raymond James Stadium  27.9759 -82.5033  \n",
       "29                 Nissan Stadium  36.1665 -86.7713  \n",
       "30                    FedEx Field  38.9076 -76.8645  \n",
       "31                            NaN  45.5222 -122.986  \n",
       "32                            NaN  45.5222 -122.986  "
      ],
      "text/html": "<div>\n<style scoped>\n    .dataframe tbody tr th:only-of-type {\n        vertical-align: middle;\n    }\n\n    .dataframe tbody tr th {\n        vertical-align: top;\n    }\n\n    .dataframe thead th {\n        text-align: right;\n    }\n</style>\n<table border=\"1\" class=\"dataframe\">\n  <thead>\n    <tr style=\"text-align: right;\">\n      <th></th>\n      <th>team</th>\n      <th>total_attendance</th>\n      <th>stadium_capacity</th>\n      <th>stadium</th>\n      <th>lat</th>\n      <th>long</th>\n    </tr>\n  </thead>\n  <tbody>\n    <tr>\n      <th>0</th>\n      <td>Arizona Cardinals</td>\n      <td>1018127</td>\n      <td>63400</td>\n      <td>University of Phoenix Stadium</td>\n      <td>33.5276</td>\n      <td>-112.263</td>\n    </tr>\n    <tr>\n      <th>1</th>\n      <td>Atlanta Falcons</td>\n      <td>1119143</td>\n      <td>71000</td>\n      <td>Mercedes Benz Stadium</td>\n      <td>33.7554</td>\n      <td>-84.4009</td>\n    </tr>\n    <tr>\n      <th>2</th>\n      <td>Baltimore Ravens</td>\n      <td>1053383</td>\n      <td>71008</td>\n      <td>M&amp;T Bank Stadium</td>\n      <td>39.278</td>\n      <td>-76.6227</td>\n    </tr>\n    <tr>\n      <th>3</th>\n      <td>Buffalo Bills</td>\n      <td>1072899</td>\n      <td>73967</td>\n      <td>New Era Field</td>\n      <td>42.7738</td>\n      <td>-78.787</td>\n    </tr>\n    <tr>\n      <th>4</th>\n      <td>Carolina Panthers</td>\n      <td>1102756</td>\n      <td>73778</td>\n      <td>Bank of America Stadium</td>\n      <td>35.2258</td>\n      <td>-80.8528</td>\n    </tr>\n    <tr>\n      <th>5</th>\n      <td>Chicago Bears</td>\n      <td>1045568</td>\n      <td>61500</td>\n      <td>Soldier Field</td>\n      <td>41.8623</td>\n      <td>-87.6167</td>\n    </tr>\n    <tr>\n      <th>6</th>\n      <td>Cincinnati Bengals</td>\n      <td>911289</td>\n      <td>65515</td>\n      <td>Paul Brown Stadium</td>\n      <td>39.0955</td>\n      <td>-84.5161</td>\n    </tr>\n    <tr>\n      <th>7</th>\n      <td>Cleveland Browns</td>\n      <td>1045441</td>\n      <td>68000</td>\n      <td>FirstEnergy Stadium</td>\n      <td>41.5061</td>\n      <td>-81.6995</td>\n    </tr>\n    <tr>\n      <th>8</th>\n      <td>Dallas Cowboys</td>\n      <td>1303393</td>\n      <td>80000</td>\n      <td>AT&amp;T Stadium</td>\n      <td>32.7473</td>\n      <td>-97.0945</td>\n    </tr>\n    <tr>\n      <th>9</th>\n      <td>Denver Broncos</td>\n      <td>1092324</td>\n      <td>76125</td>\n      <td>Empower Field</td>\n      <td>39.7439</td>\n      <td>-105.02</td>\n    </tr>\n    <tr>\n      <th>10</th>\n      <td>Detroit Lions</td>\n      <td>1054328</td>\n      <td>65000</td>\n      <td>Ford Field</td>\n      <td>42.34</td>\n      <td>-83.0456</td>\n    </tr>\n    <tr>\n      <th>11</th>\n      <td>Green Bay Packers</td>\n      <td>1163842</td>\n      <td>80735</td>\n      <td>Lambeau Field</td>\n      <td>44.5013</td>\n      <td>-88.0622</td>\n    </tr>\n    <tr>\n      <th>12</th>\n      <td>Houston Texans</td>\n      <td>1112480</td>\n      <td>71500</td>\n      <td>NRG Stadium</td>\n      <td>29.6847</td>\n      <td>-95.4107</td>\n    </tr>\n    <tr>\n      <th>13</th>\n      <td>Indianapolis Colts</td>\n      <td>1006361</td>\n      <td>63000</td>\n      <td>Lucas Oil Stadium</td>\n      <td>39.7601</td>\n      <td>-86.1639</td>\n    </tr>\n    <tr>\n      <th>14</th>\n      <td>Jacksonville Jaguars</td>\n      <td>1109899</td>\n      <td>67264</td>\n      <td>TIAA Bank Field</td>\n      <td>30.324</td>\n      <td>-81.6373</td>\n    </tr>\n    <tr>\n      <th>15</th>\n      <td>Kansas City Chiefs</td>\n      <td>1107376</td>\n      <td>76416</td>\n      <td>Arrowhead Stadium</td>\n      <td>39.0489</td>\n      <td>-94.4839</td>\n    </tr>\n    <tr>\n      <th>16</th>\n      <td>Los Angeles Chargers</td>\n      <td>803556</td>\n      <td>30000</td>\n      <td>StubHub Center</td>\n      <td>33.8644</td>\n      <td>-118.261</td>\n    </tr>\n    <tr>\n      <th>17</th>\n      <td>Los Angeles Rams</td>\n      <td>1102409</td>\n      <td>77500</td>\n      <td>Los Angeles Coliseum</td>\n      <td>34.0141</td>\n      <td>-118.288</td>\n    </tr>\n    <tr>\n      <th>18</th>\n      <td>Miami Dolphins</td>\n      <td>1062180</td>\n      <td>65326</td>\n      <td>Hard Rock Stadium</td>\n      <td>25.958</td>\n      <td>-80.2389</td>\n    </tr>\n    <tr>\n      <th>19</th>\n      <td>Minnesota Vikings</td>\n      <td>1090834</td>\n      <td>66200</td>\n      <td>US Bank Stadium</td>\n      <td>44.9736</td>\n      <td>-93.2575</td>\n    </tr>\n    <tr>\n      <th>20</th>\n      <td>New England Patriots</td>\n      <td>1068530</td>\n      <td>68756</td>\n      <td>Gillette Stadium</td>\n      <td>42.0909</td>\n      <td>-71.2643</td>\n    </tr>\n    <tr>\n      <th>21</th>\n      <td>New Orleans Saints</td>\n      <td>1147700</td>\n      <td>76468</td>\n      <td>Superdome</td>\n      <td>29.9511</td>\n      <td>-90.0812</td>\n    </tr>\n    <tr>\n      <th>22</th>\n      <td>New York Giants</td>\n      <td>1183132</td>\n      <td>82500</td>\n      <td>MetLife Stadium</td>\n      <td>40.8135</td>\n      <td>-74.0745</td>\n    </tr>\n    <tr>\n      <th>23</th>\n      <td>New York Jets</td>\n      <td>1130823</td>\n      <td>53250</td>\n      <td>RingCentral Coliseum</td>\n      <td>37.7516</td>\n      <td>-122.201</td>\n    </tr>\n    <tr>\n      <th>24</th>\n      <td>Oakland Raiders</td>\n      <td>955258</td>\n      <td>69176</td>\n      <td>Lincoln Financial Field</td>\n      <td>39.9008</td>\n      <td>-75.1674</td>\n    </tr>\n    <tr>\n      <th>25</th>\n      <td>Philadelphia Eagles</td>\n      <td>1149737</td>\n      <td>65500</td>\n      <td>Heinz Field</td>\n      <td>40.4468</td>\n      <td>-80.0158</td>\n    </tr>\n    <tr>\n      <th>26</th>\n      <td>Pittsburgh Steelers</td>\n      <td>1040509</td>\n      <td>68500</td>\n      <td>Levi’s Stadium</td>\n      <td>37.4034</td>\n      <td>-121.969</td>\n    </tr>\n    <tr>\n      <th>27</th>\n      <td>San Francisco 49ers</td>\n      <td>1052454</td>\n      <td>67000</td>\n      <td>CenturyLink Field</td>\n      <td>47.5952</td>\n      <td>-122.332</td>\n    </tr>\n    <tr>\n      <th>28</th>\n      <td>Seattle Seahawks</td>\n      <td>1114327</td>\n      <td>65890</td>\n      <td>Raymond James Stadium</td>\n      <td>27.9759</td>\n      <td>-82.5033</td>\n    </tr>\n    <tr>\n      <th>29</th>\n      <td>Tampa Bay Buccaneers</td>\n      <td>999843</td>\n      <td>69143</td>\n      <td>Nissan Stadium</td>\n      <td>36.1665</td>\n      <td>-86.7713</td>\n    </tr>\n    <tr>\n      <th>30</th>\n      <td>Tennessee Titans</td>\n      <td>1092094</td>\n      <td>79000</td>\n      <td>FedEx Field</td>\n      <td>38.9076</td>\n      <td>-76.8645</td>\n    </tr>\n    <tr>\n      <th>31</th>\n      <td>Washington Redskins</td>\n      <td>1043167</td>\n      <td>NaN</td>\n      <td>NaN</td>\n      <td>45.5222</td>\n      <td>-122.986</td>\n    </tr>\n    <tr>\n      <th>32</th>\n      <td>NaN</td>\n      <td>17177581</td>\n      <td>NaN</td>\n      <td>NaN</td>\n      <td>45.5222</td>\n      <td>-122.986</td>\n    </tr>\n  </tbody>\n</table>\n</div>"
     },
     "metadata": {},
     "execution_count": 18
    }
   ],
   "source": [
    "nfl_attendance"
   ]
  },
  {
   "cell_type": "code",
   "execution_count": 19,
   "metadata": {
    "scrolled": true
   },
   "outputs": [
    {
     "output_type": "execute_result",
     "data": {
      "text/plain": [
       "                    team  total_attendance stadium_capacity  \\\n",
       "0      Arizona Cardinals           1018127            63400   \n",
       "1        Atlanta Falcons           1119143            71000   \n",
       "2       Baltimore Ravens           1053383            71008   \n",
       "3          Buffalo Bills           1072899            73967   \n",
       "4      Carolina Panthers           1102756            73778   \n",
       "5          Chicago Bears           1045568            61500   \n",
       "6     Cincinnati Bengals            911289            65515   \n",
       "7       Cleveland Browns           1045441            68000   \n",
       "8         Dallas Cowboys           1303393            80000   \n",
       "9         Denver Broncos           1092324            76125   \n",
       "10         Detroit Lions           1054328            65000   \n",
       "11     Green Bay Packers           1163842            80735   \n",
       "12        Houston Texans           1112480            71500   \n",
       "13    Indianapolis Colts           1006361            63000   \n",
       "14  Jacksonville Jaguars           1109899            67264   \n",
       "15    Kansas City Chiefs           1107376            76416   \n",
       "16  Los Angeles Chargers            803556            30000   \n",
       "17      Los Angeles Rams           1102409            77500   \n",
       "18        Miami Dolphins           1062180            65326   \n",
       "19     Minnesota Vikings           1090834            66200   \n",
       "20  New England Patriots           1068530            68756   \n",
       "21    New Orleans Saints           1147700            76468   \n",
       "22       New York Giants           1183132            82500   \n",
       "23         New York Jets           1130823            53250   \n",
       "24       Oakland Raiders            955258            69176   \n",
       "25   Philadelphia Eagles           1149737            65500   \n",
       "26   Pittsburgh Steelers           1040509            68500   \n",
       "27   San Francisco 49ers           1052454            67000   \n",
       "28      Seattle Seahawks           1114327            65890   \n",
       "29  Tampa Bay Buccaneers            999843            69143   \n",
       "30      Tennessee Titans           1092094            79000   \n",
       "\n",
       "                          stadium      lat     long  \n",
       "0   University of Phoenix Stadium  33.5276 -112.263  \n",
       "1           Mercedes Benz Stadium  33.7554 -84.4009  \n",
       "2                M&T Bank Stadium   39.278 -76.6227  \n",
       "3                   New Era Field  42.7738  -78.787  \n",
       "4         Bank of America Stadium  35.2258 -80.8528  \n",
       "5                   Soldier Field  41.8623 -87.6167  \n",
       "6              Paul Brown Stadium  39.0955 -84.5161  \n",
       "7             FirstEnergy Stadium  41.5061 -81.6995  \n",
       "8                    AT&T Stadium  32.7473 -97.0945  \n",
       "9                   Empower Field  39.7439  -105.02  \n",
       "10                     Ford Field    42.34 -83.0456  \n",
       "11                  Lambeau Field  44.5013 -88.0622  \n",
       "12                    NRG Stadium  29.6847 -95.4107  \n",
       "13              Lucas Oil Stadium  39.7601 -86.1639  \n",
       "14                TIAA Bank Field   30.324 -81.6373  \n",
       "15              Arrowhead Stadium  39.0489 -94.4839  \n",
       "16                 StubHub Center  33.8644 -118.261  \n",
       "17           Los Angeles Coliseum  34.0141 -118.288  \n",
       "18              Hard Rock Stadium   25.958 -80.2389  \n",
       "19                US Bank Stadium  44.9736 -93.2575  \n",
       "20               Gillette Stadium  42.0909 -71.2643  \n",
       "21                      Superdome  29.9511 -90.0812  \n",
       "22                MetLife Stadium  40.8135 -74.0745  \n",
       "23           RingCentral Coliseum  37.7516 -122.201  \n",
       "24        Lincoln Financial Field  39.9008 -75.1674  \n",
       "25                    Heinz Field  40.4468 -80.0158  \n",
       "26                 Levi’s Stadium  37.4034 -121.969  \n",
       "27                  Levis Stadium  47.5952 -122.332  \n",
       "28          Raymond James Stadium  27.9759 -82.5033  \n",
       "29                 Nissan Stadium  36.1665 -86.7713  \n",
       "30                    FedEx Field  38.9076 -76.8645  "
      ],
      "text/html": "<div>\n<style scoped>\n    .dataframe tbody tr th:only-of-type {\n        vertical-align: middle;\n    }\n\n    .dataframe tbody tr th {\n        vertical-align: top;\n    }\n\n    .dataframe thead th {\n        text-align: right;\n    }\n</style>\n<table border=\"1\" class=\"dataframe\">\n  <thead>\n    <tr style=\"text-align: right;\">\n      <th></th>\n      <th>team</th>\n      <th>total_attendance</th>\n      <th>stadium_capacity</th>\n      <th>stadium</th>\n      <th>lat</th>\n      <th>long</th>\n    </tr>\n  </thead>\n  <tbody>\n    <tr>\n      <th>0</th>\n      <td>Arizona Cardinals</td>\n      <td>1018127</td>\n      <td>63400</td>\n      <td>University of Phoenix Stadium</td>\n      <td>33.5276</td>\n      <td>-112.263</td>\n    </tr>\n    <tr>\n      <th>1</th>\n      <td>Atlanta Falcons</td>\n      <td>1119143</td>\n      <td>71000</td>\n      <td>Mercedes Benz Stadium</td>\n      <td>33.7554</td>\n      <td>-84.4009</td>\n    </tr>\n    <tr>\n      <th>2</th>\n      <td>Baltimore Ravens</td>\n      <td>1053383</td>\n      <td>71008</td>\n      <td>M&amp;T Bank Stadium</td>\n      <td>39.278</td>\n      <td>-76.6227</td>\n    </tr>\n    <tr>\n      <th>3</th>\n      <td>Buffalo Bills</td>\n      <td>1072899</td>\n      <td>73967</td>\n      <td>New Era Field</td>\n      <td>42.7738</td>\n      <td>-78.787</td>\n    </tr>\n    <tr>\n      <th>4</th>\n      <td>Carolina Panthers</td>\n      <td>1102756</td>\n      <td>73778</td>\n      <td>Bank of America Stadium</td>\n      <td>35.2258</td>\n      <td>-80.8528</td>\n    </tr>\n    <tr>\n      <th>5</th>\n      <td>Chicago Bears</td>\n      <td>1045568</td>\n      <td>61500</td>\n      <td>Soldier Field</td>\n      <td>41.8623</td>\n      <td>-87.6167</td>\n    </tr>\n    <tr>\n      <th>6</th>\n      <td>Cincinnati Bengals</td>\n      <td>911289</td>\n      <td>65515</td>\n      <td>Paul Brown Stadium</td>\n      <td>39.0955</td>\n      <td>-84.5161</td>\n    </tr>\n    <tr>\n      <th>7</th>\n      <td>Cleveland Browns</td>\n      <td>1045441</td>\n      <td>68000</td>\n      <td>FirstEnergy Stadium</td>\n      <td>41.5061</td>\n      <td>-81.6995</td>\n    </tr>\n    <tr>\n      <th>8</th>\n      <td>Dallas Cowboys</td>\n      <td>1303393</td>\n      <td>80000</td>\n      <td>AT&amp;T Stadium</td>\n      <td>32.7473</td>\n      <td>-97.0945</td>\n    </tr>\n    <tr>\n      <th>9</th>\n      <td>Denver Broncos</td>\n      <td>1092324</td>\n      <td>76125</td>\n      <td>Empower Field</td>\n      <td>39.7439</td>\n      <td>-105.02</td>\n    </tr>\n    <tr>\n      <th>10</th>\n      <td>Detroit Lions</td>\n      <td>1054328</td>\n      <td>65000</td>\n      <td>Ford Field</td>\n      <td>42.34</td>\n      <td>-83.0456</td>\n    </tr>\n    <tr>\n      <th>11</th>\n      <td>Green Bay Packers</td>\n      <td>1163842</td>\n      <td>80735</td>\n      <td>Lambeau Field</td>\n      <td>44.5013</td>\n      <td>-88.0622</td>\n    </tr>\n    <tr>\n      <th>12</th>\n      <td>Houston Texans</td>\n      <td>1112480</td>\n      <td>71500</td>\n      <td>NRG Stadium</td>\n      <td>29.6847</td>\n      <td>-95.4107</td>\n    </tr>\n    <tr>\n      <th>13</th>\n      <td>Indianapolis Colts</td>\n      <td>1006361</td>\n      <td>63000</td>\n      <td>Lucas Oil Stadium</td>\n      <td>39.7601</td>\n      <td>-86.1639</td>\n    </tr>\n    <tr>\n      <th>14</th>\n      <td>Jacksonville Jaguars</td>\n      <td>1109899</td>\n      <td>67264</td>\n      <td>TIAA Bank Field</td>\n      <td>30.324</td>\n      <td>-81.6373</td>\n    </tr>\n    <tr>\n      <th>15</th>\n      <td>Kansas City Chiefs</td>\n      <td>1107376</td>\n      <td>76416</td>\n      <td>Arrowhead Stadium</td>\n      <td>39.0489</td>\n      <td>-94.4839</td>\n    </tr>\n    <tr>\n      <th>16</th>\n      <td>Los Angeles Chargers</td>\n      <td>803556</td>\n      <td>30000</td>\n      <td>StubHub Center</td>\n      <td>33.8644</td>\n      <td>-118.261</td>\n    </tr>\n    <tr>\n      <th>17</th>\n      <td>Los Angeles Rams</td>\n      <td>1102409</td>\n      <td>77500</td>\n      <td>Los Angeles Coliseum</td>\n      <td>34.0141</td>\n      <td>-118.288</td>\n    </tr>\n    <tr>\n      <th>18</th>\n      <td>Miami Dolphins</td>\n      <td>1062180</td>\n      <td>65326</td>\n      <td>Hard Rock Stadium</td>\n      <td>25.958</td>\n      <td>-80.2389</td>\n    </tr>\n    <tr>\n      <th>19</th>\n      <td>Minnesota Vikings</td>\n      <td>1090834</td>\n      <td>66200</td>\n      <td>US Bank Stadium</td>\n      <td>44.9736</td>\n      <td>-93.2575</td>\n    </tr>\n    <tr>\n      <th>20</th>\n      <td>New England Patriots</td>\n      <td>1068530</td>\n      <td>68756</td>\n      <td>Gillette Stadium</td>\n      <td>42.0909</td>\n      <td>-71.2643</td>\n    </tr>\n    <tr>\n      <th>21</th>\n      <td>New Orleans Saints</td>\n      <td>1147700</td>\n      <td>76468</td>\n      <td>Superdome</td>\n      <td>29.9511</td>\n      <td>-90.0812</td>\n    </tr>\n    <tr>\n      <th>22</th>\n      <td>New York Giants</td>\n      <td>1183132</td>\n      <td>82500</td>\n      <td>MetLife Stadium</td>\n      <td>40.8135</td>\n      <td>-74.0745</td>\n    </tr>\n    <tr>\n      <th>23</th>\n      <td>New York Jets</td>\n      <td>1130823</td>\n      <td>53250</td>\n      <td>RingCentral Coliseum</td>\n      <td>37.7516</td>\n      <td>-122.201</td>\n    </tr>\n    <tr>\n      <th>24</th>\n      <td>Oakland Raiders</td>\n      <td>955258</td>\n      <td>69176</td>\n      <td>Lincoln Financial Field</td>\n      <td>39.9008</td>\n      <td>-75.1674</td>\n    </tr>\n    <tr>\n      <th>25</th>\n      <td>Philadelphia Eagles</td>\n      <td>1149737</td>\n      <td>65500</td>\n      <td>Heinz Field</td>\n      <td>40.4468</td>\n      <td>-80.0158</td>\n    </tr>\n    <tr>\n      <th>26</th>\n      <td>Pittsburgh Steelers</td>\n      <td>1040509</td>\n      <td>68500</td>\n      <td>Levi’s Stadium</td>\n      <td>37.4034</td>\n      <td>-121.969</td>\n    </tr>\n    <tr>\n      <th>27</th>\n      <td>San Francisco 49ers</td>\n      <td>1052454</td>\n      <td>67000</td>\n      <td>Levis Stadium</td>\n      <td>47.5952</td>\n      <td>-122.332</td>\n    </tr>\n    <tr>\n      <th>28</th>\n      <td>Seattle Seahawks</td>\n      <td>1114327</td>\n      <td>65890</td>\n      <td>Raymond James Stadium</td>\n      <td>27.9759</td>\n      <td>-82.5033</td>\n    </tr>\n    <tr>\n      <th>29</th>\n      <td>Tampa Bay Buccaneers</td>\n      <td>999843</td>\n      <td>69143</td>\n      <td>Nissan Stadium</td>\n      <td>36.1665</td>\n      <td>-86.7713</td>\n    </tr>\n    <tr>\n      <th>30</th>\n      <td>Tennessee Titans</td>\n      <td>1092094</td>\n      <td>79000</td>\n      <td>FedEx Field</td>\n      <td>38.9076</td>\n      <td>-76.8645</td>\n    </tr>\n  </tbody>\n</table>\n</div>"
     },
     "metadata": {},
     "execution_count": 19
    }
   ],
   "source": [
    "# A few values in this are wrong--gonna fix them manually\n",
    "#first, delete last two rows, not enough data to be usable\n",
    "nfl_attendance_clean = nfl_attendance.iloc[:31]\n",
    "nfl_attendance_clean.at[27, 'stadium'] = 'Levis Stadium'\n",
    "nfl_attendance_clean"
   ]
  },
  {
   "cell_type": "code",
   "execution_count": 20,
   "metadata": {},
   "outputs": [
    {
     "output_type": "execute_result",
     "data": {
      "text/plain": [
       "                    team  total_attendance stadium_capacity  \\\n",
       "0      Arizona Cardinals           1018127            63400   \n",
       "1        Atlanta Falcons           1119143            71000   \n",
       "2       Baltimore Ravens           1053383            71008   \n",
       "3          Buffalo Bills           1072899            73967   \n",
       "4      Carolina Panthers           1102756            73778   \n",
       "5          Chicago Bears           1045568            61500   \n",
       "6     Cincinnati Bengals            911289            65515   \n",
       "7       Cleveland Browns           1045441            68000   \n",
       "8         Dallas Cowboys           1303393            80000   \n",
       "9         Denver Broncos           1092324            76125   \n",
       "10         Detroit Lions           1054328            65000   \n",
       "11     Green Bay Packers           1163842            80735   \n",
       "12        Houston Texans           1112480            71500   \n",
       "13    Indianapolis Colts           1006361            63000   \n",
       "14  Jacksonville Jaguars           1109899            67264   \n",
       "15    Kansas City Chiefs           1107376            76416   \n",
       "16  Los Angeles Chargers            803556            30000   \n",
       "17      Los Angeles Rams           1102409            77500   \n",
       "18        Miami Dolphins           1062180            65326   \n",
       "19     Minnesota Vikings           1090834            66200   \n",
       "20  New England Patriots           1068530            68756   \n",
       "21    New Orleans Saints           1147700            76468   \n",
       "22       New York Giants           1183132            82500   \n",
       "23         New York Jets           1130823            53250   \n",
       "24       Oakland Raiders            955258            69176   \n",
       "25   Philadelphia Eagles           1149737            65500   \n",
       "26   Pittsburgh Steelers           1040509            68500   \n",
       "27   San Francisco 49ers           1052454            67000   \n",
       "28      Seattle Seahawks           1114327            65890   \n",
       "29  Tampa Bay Buccaneers            999843            69143   \n",
       "30      Tennessee Titans           1092094            79000   \n",
       "\n",
       "                          stadium      lat     long  \n",
       "0   University of Phoenix Stadium  33.5276 -112.263  \n",
       "1           Mercedes Benz Stadium  33.7554 -84.4009  \n",
       "2                M&T Bank Stadium   39.278 -76.6227  \n",
       "3                   New Era Field  42.7738  -78.787  \n",
       "4         Bank of America Stadium  35.2258 -80.8528  \n",
       "5                   Soldier Field  41.8623 -87.6167  \n",
       "6              Paul Brown Stadium  39.0955 -84.5161  \n",
       "7             FirstEnergy Stadium  41.5061 -81.6995  \n",
       "8                    AT&T Stadium  32.7473 -97.0945  \n",
       "9                   Empower Field  39.7439  -105.02  \n",
       "10                     Ford Field    42.34 -83.0456  \n",
       "11                  Lambeau Field  44.5013 -88.0622  \n",
       "12                    NRG Stadium  29.6847 -95.4107  \n",
       "13              Lucas Oil Stadium  39.7601 -86.1639  \n",
       "14                TIAA Bank Field   30.324 -81.6373  \n",
       "15              Arrowhead Stadium  39.0489 -94.4839  \n",
       "16                 StubHub Center  33.8644 -118.261  \n",
       "17           Los Angeles Coliseum  34.0141 -118.288  \n",
       "18              Hard Rock Stadium   25.958 -80.2389  \n",
       "19                US Bank Stadium  44.9736 -93.2575  \n",
       "20               Gillette Stadium  42.0909 -71.2643  \n",
       "21                      Superdome  29.9511 -90.0812  \n",
       "22                MetLife Stadium  40.8135 -74.0745  \n",
       "23           RingCentral Coliseum  37.7516 -122.201  \n",
       "24        Lincoln Financial Field  39.9008 -75.1674  \n",
       "25                    Heinz Field  40.4468 -80.0158  \n",
       "26                 Levi’s Stadium  37.4034 -121.969  \n",
       "27                  Levis Stadium  37.4034 -121.969  \n",
       "28          Raymond James Stadium  27.9759 -82.5033  \n",
       "29                 Nissan Stadium  36.1665 -86.7713  \n",
       "30                    FedEx Field  38.9076 -76.8645  "
      ],
      "text/html": "<div>\n<style scoped>\n    .dataframe tbody tr th:only-of-type {\n        vertical-align: middle;\n    }\n\n    .dataframe tbody tr th {\n        vertical-align: top;\n    }\n\n    .dataframe thead th {\n        text-align: right;\n    }\n</style>\n<table border=\"1\" class=\"dataframe\">\n  <thead>\n    <tr style=\"text-align: right;\">\n      <th></th>\n      <th>team</th>\n      <th>total_attendance</th>\n      <th>stadium_capacity</th>\n      <th>stadium</th>\n      <th>lat</th>\n      <th>long</th>\n    </tr>\n  </thead>\n  <tbody>\n    <tr>\n      <th>0</th>\n      <td>Arizona Cardinals</td>\n      <td>1018127</td>\n      <td>63400</td>\n      <td>University of Phoenix Stadium</td>\n      <td>33.5276</td>\n      <td>-112.263</td>\n    </tr>\n    <tr>\n      <th>1</th>\n      <td>Atlanta Falcons</td>\n      <td>1119143</td>\n      <td>71000</td>\n      <td>Mercedes Benz Stadium</td>\n      <td>33.7554</td>\n      <td>-84.4009</td>\n    </tr>\n    <tr>\n      <th>2</th>\n      <td>Baltimore Ravens</td>\n      <td>1053383</td>\n      <td>71008</td>\n      <td>M&amp;T Bank Stadium</td>\n      <td>39.278</td>\n      <td>-76.6227</td>\n    </tr>\n    <tr>\n      <th>3</th>\n      <td>Buffalo Bills</td>\n      <td>1072899</td>\n      <td>73967</td>\n      <td>New Era Field</td>\n      <td>42.7738</td>\n      <td>-78.787</td>\n    </tr>\n    <tr>\n      <th>4</th>\n      <td>Carolina Panthers</td>\n      <td>1102756</td>\n      <td>73778</td>\n      <td>Bank of America Stadium</td>\n      <td>35.2258</td>\n      <td>-80.8528</td>\n    </tr>\n    <tr>\n      <th>5</th>\n      <td>Chicago Bears</td>\n      <td>1045568</td>\n      <td>61500</td>\n      <td>Soldier Field</td>\n      <td>41.8623</td>\n      <td>-87.6167</td>\n    </tr>\n    <tr>\n      <th>6</th>\n      <td>Cincinnati Bengals</td>\n      <td>911289</td>\n      <td>65515</td>\n      <td>Paul Brown Stadium</td>\n      <td>39.0955</td>\n      <td>-84.5161</td>\n    </tr>\n    <tr>\n      <th>7</th>\n      <td>Cleveland Browns</td>\n      <td>1045441</td>\n      <td>68000</td>\n      <td>FirstEnergy Stadium</td>\n      <td>41.5061</td>\n      <td>-81.6995</td>\n    </tr>\n    <tr>\n      <th>8</th>\n      <td>Dallas Cowboys</td>\n      <td>1303393</td>\n      <td>80000</td>\n      <td>AT&amp;T Stadium</td>\n      <td>32.7473</td>\n      <td>-97.0945</td>\n    </tr>\n    <tr>\n      <th>9</th>\n      <td>Denver Broncos</td>\n      <td>1092324</td>\n      <td>76125</td>\n      <td>Empower Field</td>\n      <td>39.7439</td>\n      <td>-105.02</td>\n    </tr>\n    <tr>\n      <th>10</th>\n      <td>Detroit Lions</td>\n      <td>1054328</td>\n      <td>65000</td>\n      <td>Ford Field</td>\n      <td>42.34</td>\n      <td>-83.0456</td>\n    </tr>\n    <tr>\n      <th>11</th>\n      <td>Green Bay Packers</td>\n      <td>1163842</td>\n      <td>80735</td>\n      <td>Lambeau Field</td>\n      <td>44.5013</td>\n      <td>-88.0622</td>\n    </tr>\n    <tr>\n      <th>12</th>\n      <td>Houston Texans</td>\n      <td>1112480</td>\n      <td>71500</td>\n      <td>NRG Stadium</td>\n      <td>29.6847</td>\n      <td>-95.4107</td>\n    </tr>\n    <tr>\n      <th>13</th>\n      <td>Indianapolis Colts</td>\n      <td>1006361</td>\n      <td>63000</td>\n      <td>Lucas Oil Stadium</td>\n      <td>39.7601</td>\n      <td>-86.1639</td>\n    </tr>\n    <tr>\n      <th>14</th>\n      <td>Jacksonville Jaguars</td>\n      <td>1109899</td>\n      <td>67264</td>\n      <td>TIAA Bank Field</td>\n      <td>30.324</td>\n      <td>-81.6373</td>\n    </tr>\n    <tr>\n      <th>15</th>\n      <td>Kansas City Chiefs</td>\n      <td>1107376</td>\n      <td>76416</td>\n      <td>Arrowhead Stadium</td>\n      <td>39.0489</td>\n      <td>-94.4839</td>\n    </tr>\n    <tr>\n      <th>16</th>\n      <td>Los Angeles Chargers</td>\n      <td>803556</td>\n      <td>30000</td>\n      <td>StubHub Center</td>\n      <td>33.8644</td>\n      <td>-118.261</td>\n    </tr>\n    <tr>\n      <th>17</th>\n      <td>Los Angeles Rams</td>\n      <td>1102409</td>\n      <td>77500</td>\n      <td>Los Angeles Coliseum</td>\n      <td>34.0141</td>\n      <td>-118.288</td>\n    </tr>\n    <tr>\n      <th>18</th>\n      <td>Miami Dolphins</td>\n      <td>1062180</td>\n      <td>65326</td>\n      <td>Hard Rock Stadium</td>\n      <td>25.958</td>\n      <td>-80.2389</td>\n    </tr>\n    <tr>\n      <th>19</th>\n      <td>Minnesota Vikings</td>\n      <td>1090834</td>\n      <td>66200</td>\n      <td>US Bank Stadium</td>\n      <td>44.9736</td>\n      <td>-93.2575</td>\n    </tr>\n    <tr>\n      <th>20</th>\n      <td>New England Patriots</td>\n      <td>1068530</td>\n      <td>68756</td>\n      <td>Gillette Stadium</td>\n      <td>42.0909</td>\n      <td>-71.2643</td>\n    </tr>\n    <tr>\n      <th>21</th>\n      <td>New Orleans Saints</td>\n      <td>1147700</td>\n      <td>76468</td>\n      <td>Superdome</td>\n      <td>29.9511</td>\n      <td>-90.0812</td>\n    </tr>\n    <tr>\n      <th>22</th>\n      <td>New York Giants</td>\n      <td>1183132</td>\n      <td>82500</td>\n      <td>MetLife Stadium</td>\n      <td>40.8135</td>\n      <td>-74.0745</td>\n    </tr>\n    <tr>\n      <th>23</th>\n      <td>New York Jets</td>\n      <td>1130823</td>\n      <td>53250</td>\n      <td>RingCentral Coliseum</td>\n      <td>37.7516</td>\n      <td>-122.201</td>\n    </tr>\n    <tr>\n      <th>24</th>\n      <td>Oakland Raiders</td>\n      <td>955258</td>\n      <td>69176</td>\n      <td>Lincoln Financial Field</td>\n      <td>39.9008</td>\n      <td>-75.1674</td>\n    </tr>\n    <tr>\n      <th>25</th>\n      <td>Philadelphia Eagles</td>\n      <td>1149737</td>\n      <td>65500</td>\n      <td>Heinz Field</td>\n      <td>40.4468</td>\n      <td>-80.0158</td>\n    </tr>\n    <tr>\n      <th>26</th>\n      <td>Pittsburgh Steelers</td>\n      <td>1040509</td>\n      <td>68500</td>\n      <td>Levi’s Stadium</td>\n      <td>37.4034</td>\n      <td>-121.969</td>\n    </tr>\n    <tr>\n      <th>27</th>\n      <td>San Francisco 49ers</td>\n      <td>1052454</td>\n      <td>67000</td>\n      <td>Levis Stadium</td>\n      <td>37.4034</td>\n      <td>-121.969</td>\n    </tr>\n    <tr>\n      <th>28</th>\n      <td>Seattle Seahawks</td>\n      <td>1114327</td>\n      <td>65890</td>\n      <td>Raymond James Stadium</td>\n      <td>27.9759</td>\n      <td>-82.5033</td>\n    </tr>\n    <tr>\n      <th>29</th>\n      <td>Tampa Bay Buccaneers</td>\n      <td>999843</td>\n      <td>69143</td>\n      <td>Nissan Stadium</td>\n      <td>36.1665</td>\n      <td>-86.7713</td>\n    </tr>\n    <tr>\n      <th>30</th>\n      <td>Tennessee Titans</td>\n      <td>1092094</td>\n      <td>79000</td>\n      <td>FedEx Field</td>\n      <td>38.9076</td>\n      <td>-76.8645</td>\n    </tr>\n  </tbody>\n</table>\n</div>"
     },
     "metadata": {},
     "execution_count": 20
    }
   ],
   "source": [
    "nfl_attendance_clean.at[27, 'lat'] = 37.4034    \n",
    "nfl_attendance_clean.at[27, 'long'] = -121.9694\n",
    "nfl_attendance_clean"
   ]
  },
  {
   "cell_type": "code",
   "execution_count": 21,
   "metadata": {},
   "outputs": [
    {
     "output_type": "execute_result",
     "data": {
      "text/plain": [
       "                    team  total_attendance stadium_capacity  \\\n",
       "0      Arizona Cardinals           1018127            63400   \n",
       "1        Atlanta Falcons           1119143            71000   \n",
       "2       Baltimore Ravens           1053383            71008   \n",
       "3          Buffalo Bills           1072899            73967   \n",
       "4      Carolina Panthers           1102756            73778   \n",
       "5          Chicago Bears           1045568            61500   \n",
       "6     Cincinnati Bengals            911289            65515   \n",
       "7       Cleveland Browns           1045441            68000   \n",
       "8         Dallas Cowboys           1303393            80000   \n",
       "9         Denver Broncos           1092324            76125   \n",
       "10         Detroit Lions           1054328            65000   \n",
       "11     Green Bay Packers           1163842            80735   \n",
       "12        Houston Texans           1112480            71500   \n",
       "13    Indianapolis Colts           1006361            63000   \n",
       "14  Jacksonville Jaguars           1109899            67264   \n",
       "15    Kansas City Chiefs           1107376            76416   \n",
       "16  Los Angeles Chargers            803556            30000   \n",
       "17      Los Angeles Rams           1102409            77500   \n",
       "18        Miami Dolphins           1062180            65326   \n",
       "19     Minnesota Vikings           1090834            66200   \n",
       "20  New England Patriots           1068530            68756   \n",
       "21    New Orleans Saints           1147700            76468   \n",
       "22       New York Giants           1183132            82500   \n",
       "23         New York Jets           1130823            53250   \n",
       "24       Oakland Raiders            955258            69176   \n",
       "25   Philadelphia Eagles           1149737            65500   \n",
       "26   Pittsburgh Steelers           1040509            68500   \n",
       "27   San Francisco 49ers           1052454            67000   \n",
       "28      Seattle Seahawks           1114327            65890   \n",
       "29  Tampa Bay Buccaneers            999843            69143   \n",
       "30      Tennessee Titans           1092094            79000   \n",
       "\n",
       "                          stadium      lat     long  \n",
       "0   University of Phoenix Stadium  33.5276 -112.263  \n",
       "1           Mercedes Benz Stadium  33.7554 -84.4009  \n",
       "2                M&T Bank Stadium   39.278 -76.6227  \n",
       "3                   New Era Field  42.7738  -78.787  \n",
       "4         Bank of America Stadium  35.2258 -80.8528  \n",
       "5                   Soldier Field  41.8623 -87.6167  \n",
       "6              Paul Brown Stadium  39.0955 -84.5161  \n",
       "7             FirstEnergy Stadium  41.5061 -81.6995  \n",
       "8                    AT&T Stadium  32.7473 -97.0945  \n",
       "9                   Empower Field  39.7439  -105.02  \n",
       "10                     Ford Field    42.34 -83.0456  \n",
       "11                  Lambeau Field  44.5013 -88.0622  \n",
       "12                    NRG Stadium  29.6847 -95.4107  \n",
       "13              Lucas Oil Stadium  39.7601 -86.1639  \n",
       "14                TIAA Bank Field   30.324 -81.6373  \n",
       "15              Arrowhead Stadium  39.0489 -94.4839  \n",
       "16                 StubHub Center  33.8644 -118.261  \n",
       "17           Los Angeles Coliseum  34.0141 -118.288  \n",
       "18              Hard Rock Stadium   25.958 -80.2389  \n",
       "19                US Bank Stadium  44.9736 -93.2575  \n",
       "20               Gillette Stadium  42.0909 -71.2643  \n",
       "21                      Superdome  29.9511 -90.0812  \n",
       "22                MetLife Stadium  40.8135 -74.0745  \n",
       "23           RingCentral Coliseum  37.7516 -122.201  \n",
       "24        Lincoln Financial Field  39.9008 -75.1674  \n",
       "25                    Heinz Field  40.4468 -80.0158  \n",
       "26                    Heinz Field  40.4468 -80.0158  \n",
       "27                  Levis Stadium  37.4034 -121.969  \n",
       "28          Raymond James Stadium  27.9759 -82.5033  \n",
       "29                 Nissan Stadium  36.1665 -86.7713  \n",
       "30                    FedEx Field  38.9076 -76.8645  "
      ],
      "text/html": "<div>\n<style scoped>\n    .dataframe tbody tr th:only-of-type {\n        vertical-align: middle;\n    }\n\n    .dataframe tbody tr th {\n        vertical-align: top;\n    }\n\n    .dataframe thead th {\n        text-align: right;\n    }\n</style>\n<table border=\"1\" class=\"dataframe\">\n  <thead>\n    <tr style=\"text-align: right;\">\n      <th></th>\n      <th>team</th>\n      <th>total_attendance</th>\n      <th>stadium_capacity</th>\n      <th>stadium</th>\n      <th>lat</th>\n      <th>long</th>\n    </tr>\n  </thead>\n  <tbody>\n    <tr>\n      <th>0</th>\n      <td>Arizona Cardinals</td>\n      <td>1018127</td>\n      <td>63400</td>\n      <td>University of Phoenix Stadium</td>\n      <td>33.5276</td>\n      <td>-112.263</td>\n    </tr>\n    <tr>\n      <th>1</th>\n      <td>Atlanta Falcons</td>\n      <td>1119143</td>\n      <td>71000</td>\n      <td>Mercedes Benz Stadium</td>\n      <td>33.7554</td>\n      <td>-84.4009</td>\n    </tr>\n    <tr>\n      <th>2</th>\n      <td>Baltimore Ravens</td>\n      <td>1053383</td>\n      <td>71008</td>\n      <td>M&amp;T Bank Stadium</td>\n      <td>39.278</td>\n      <td>-76.6227</td>\n    </tr>\n    <tr>\n      <th>3</th>\n      <td>Buffalo Bills</td>\n      <td>1072899</td>\n      <td>73967</td>\n      <td>New Era Field</td>\n      <td>42.7738</td>\n      <td>-78.787</td>\n    </tr>\n    <tr>\n      <th>4</th>\n      <td>Carolina Panthers</td>\n      <td>1102756</td>\n      <td>73778</td>\n      <td>Bank of America Stadium</td>\n      <td>35.2258</td>\n      <td>-80.8528</td>\n    </tr>\n    <tr>\n      <th>5</th>\n      <td>Chicago Bears</td>\n      <td>1045568</td>\n      <td>61500</td>\n      <td>Soldier Field</td>\n      <td>41.8623</td>\n      <td>-87.6167</td>\n    </tr>\n    <tr>\n      <th>6</th>\n      <td>Cincinnati Bengals</td>\n      <td>911289</td>\n      <td>65515</td>\n      <td>Paul Brown Stadium</td>\n      <td>39.0955</td>\n      <td>-84.5161</td>\n    </tr>\n    <tr>\n      <th>7</th>\n      <td>Cleveland Browns</td>\n      <td>1045441</td>\n      <td>68000</td>\n      <td>FirstEnergy Stadium</td>\n      <td>41.5061</td>\n      <td>-81.6995</td>\n    </tr>\n    <tr>\n      <th>8</th>\n      <td>Dallas Cowboys</td>\n      <td>1303393</td>\n      <td>80000</td>\n      <td>AT&amp;T Stadium</td>\n      <td>32.7473</td>\n      <td>-97.0945</td>\n    </tr>\n    <tr>\n      <th>9</th>\n      <td>Denver Broncos</td>\n      <td>1092324</td>\n      <td>76125</td>\n      <td>Empower Field</td>\n      <td>39.7439</td>\n      <td>-105.02</td>\n    </tr>\n    <tr>\n      <th>10</th>\n      <td>Detroit Lions</td>\n      <td>1054328</td>\n      <td>65000</td>\n      <td>Ford Field</td>\n      <td>42.34</td>\n      <td>-83.0456</td>\n    </tr>\n    <tr>\n      <th>11</th>\n      <td>Green Bay Packers</td>\n      <td>1163842</td>\n      <td>80735</td>\n      <td>Lambeau Field</td>\n      <td>44.5013</td>\n      <td>-88.0622</td>\n    </tr>\n    <tr>\n      <th>12</th>\n      <td>Houston Texans</td>\n      <td>1112480</td>\n      <td>71500</td>\n      <td>NRG Stadium</td>\n      <td>29.6847</td>\n      <td>-95.4107</td>\n    </tr>\n    <tr>\n      <th>13</th>\n      <td>Indianapolis Colts</td>\n      <td>1006361</td>\n      <td>63000</td>\n      <td>Lucas Oil Stadium</td>\n      <td>39.7601</td>\n      <td>-86.1639</td>\n    </tr>\n    <tr>\n      <th>14</th>\n      <td>Jacksonville Jaguars</td>\n      <td>1109899</td>\n      <td>67264</td>\n      <td>TIAA Bank Field</td>\n      <td>30.324</td>\n      <td>-81.6373</td>\n    </tr>\n    <tr>\n      <th>15</th>\n      <td>Kansas City Chiefs</td>\n      <td>1107376</td>\n      <td>76416</td>\n      <td>Arrowhead Stadium</td>\n      <td>39.0489</td>\n      <td>-94.4839</td>\n    </tr>\n    <tr>\n      <th>16</th>\n      <td>Los Angeles Chargers</td>\n      <td>803556</td>\n      <td>30000</td>\n      <td>StubHub Center</td>\n      <td>33.8644</td>\n      <td>-118.261</td>\n    </tr>\n    <tr>\n      <th>17</th>\n      <td>Los Angeles Rams</td>\n      <td>1102409</td>\n      <td>77500</td>\n      <td>Los Angeles Coliseum</td>\n      <td>34.0141</td>\n      <td>-118.288</td>\n    </tr>\n    <tr>\n      <th>18</th>\n      <td>Miami Dolphins</td>\n      <td>1062180</td>\n      <td>65326</td>\n      <td>Hard Rock Stadium</td>\n      <td>25.958</td>\n      <td>-80.2389</td>\n    </tr>\n    <tr>\n      <th>19</th>\n      <td>Minnesota Vikings</td>\n      <td>1090834</td>\n      <td>66200</td>\n      <td>US Bank Stadium</td>\n      <td>44.9736</td>\n      <td>-93.2575</td>\n    </tr>\n    <tr>\n      <th>20</th>\n      <td>New England Patriots</td>\n      <td>1068530</td>\n      <td>68756</td>\n      <td>Gillette Stadium</td>\n      <td>42.0909</td>\n      <td>-71.2643</td>\n    </tr>\n    <tr>\n      <th>21</th>\n      <td>New Orleans Saints</td>\n      <td>1147700</td>\n      <td>76468</td>\n      <td>Superdome</td>\n      <td>29.9511</td>\n      <td>-90.0812</td>\n    </tr>\n    <tr>\n      <th>22</th>\n      <td>New York Giants</td>\n      <td>1183132</td>\n      <td>82500</td>\n      <td>MetLife Stadium</td>\n      <td>40.8135</td>\n      <td>-74.0745</td>\n    </tr>\n    <tr>\n      <th>23</th>\n      <td>New York Jets</td>\n      <td>1130823</td>\n      <td>53250</td>\n      <td>RingCentral Coliseum</td>\n      <td>37.7516</td>\n      <td>-122.201</td>\n    </tr>\n    <tr>\n      <th>24</th>\n      <td>Oakland Raiders</td>\n      <td>955258</td>\n      <td>69176</td>\n      <td>Lincoln Financial Field</td>\n      <td>39.9008</td>\n      <td>-75.1674</td>\n    </tr>\n    <tr>\n      <th>25</th>\n      <td>Philadelphia Eagles</td>\n      <td>1149737</td>\n      <td>65500</td>\n      <td>Heinz Field</td>\n      <td>40.4468</td>\n      <td>-80.0158</td>\n    </tr>\n    <tr>\n      <th>26</th>\n      <td>Pittsburgh Steelers</td>\n      <td>1040509</td>\n      <td>68500</td>\n      <td>Heinz Field</td>\n      <td>40.4468</td>\n      <td>-80.0158</td>\n    </tr>\n    <tr>\n      <th>27</th>\n      <td>San Francisco 49ers</td>\n      <td>1052454</td>\n      <td>67000</td>\n      <td>Levis Stadium</td>\n      <td>37.4034</td>\n      <td>-121.969</td>\n    </tr>\n    <tr>\n      <th>28</th>\n      <td>Seattle Seahawks</td>\n      <td>1114327</td>\n      <td>65890</td>\n      <td>Raymond James Stadium</td>\n      <td>27.9759</td>\n      <td>-82.5033</td>\n    </tr>\n    <tr>\n      <th>29</th>\n      <td>Tampa Bay Buccaneers</td>\n      <td>999843</td>\n      <td>69143</td>\n      <td>Nissan Stadium</td>\n      <td>36.1665</td>\n      <td>-86.7713</td>\n    </tr>\n    <tr>\n      <th>30</th>\n      <td>Tennessee Titans</td>\n      <td>1092094</td>\n      <td>79000</td>\n      <td>FedEx Field</td>\n      <td>38.9076</td>\n      <td>-76.8645</td>\n    </tr>\n  </tbody>\n</table>\n</div>"
     },
     "metadata": {},
     "execution_count": 21
    }
   ],
   "source": [
    "#Fix steelers row\n",
    "nfl_attendance_clean.at[26, 'lat'] = 40.4468    \n",
    "nfl_attendance_clean.at[26, 'long'] = -80.0158\n",
    "nfl_attendance_clean.at[26, 'stadium'] = 'Heinz Field'\n",
    "nfl_attendance_clean"
   ]
  },
  {
   "cell_type": "code",
   "execution_count": 22,
   "metadata": {},
   "outputs": [
    {
     "output_type": "execute_result",
     "data": {
      "text/plain": [
       "                    team  total_attendance stadium_capacity  \\\n",
       "0      Arizona Cardinals           1018127            63400   \n",
       "1        Atlanta Falcons           1119143            71000   \n",
       "2       Baltimore Ravens           1053383            71008   \n",
       "3          Buffalo Bills           1072899            73967   \n",
       "4      Carolina Panthers           1102756            73778   \n",
       "5          Chicago Bears           1045568            61500   \n",
       "6     Cincinnati Bengals            911289            65515   \n",
       "7       Cleveland Browns           1045441            68000   \n",
       "8         Dallas Cowboys           1303393            80000   \n",
       "9         Denver Broncos           1092324            76125   \n",
       "10         Detroit Lions           1054328            65000   \n",
       "11     Green Bay Packers           1163842            80735   \n",
       "12        Houston Texans           1112480            71500   \n",
       "13    Indianapolis Colts           1006361            63000   \n",
       "14  Jacksonville Jaguars           1109899            67264   \n",
       "15    Kansas City Chiefs           1107376            76416   \n",
       "16  Los Angeles Chargers            803556            30000   \n",
       "17      Los Angeles Rams           1102409            77500   \n",
       "18        Miami Dolphins           1062180            65326   \n",
       "19     Minnesota Vikings           1090834            66200   \n",
       "20  New England Patriots           1068530            68756   \n",
       "21    New Orleans Saints           1147700            76468   \n",
       "22       New York Giants           1183132            82500   \n",
       "23         New York Jets           1130823            53250   \n",
       "24       Oakland Raiders            955258            69176   \n",
       "25   Philadelphia Eagles           1149737            65500   \n",
       "26   Pittsburgh Steelers           1040509            68500   \n",
       "27   San Francisco 49ers           1052454            67000   \n",
       "28      Seattle Seahawks           1114327            65890   \n",
       "29  Tampa Bay Buccaneers            999843            69143   \n",
       "30      Tennessee Titans           1092094            79000   \n",
       "\n",
       "                          stadium      lat     long  \n",
       "0   University of Phoenix Stadium  33.5276 -112.263  \n",
       "1           Mercedes Benz Stadium  33.7554 -84.4009  \n",
       "2                M&T Bank Stadium   39.278 -76.6227  \n",
       "3                   New Era Field  42.7738  -78.787  \n",
       "4         Bank of America Stadium  35.2258 -80.8528  \n",
       "5                   Soldier Field  41.8623 -87.6167  \n",
       "6              Paul Brown Stadium  39.0955 -84.5161  \n",
       "7             FirstEnergy Stadium  41.5061 -81.6995  \n",
       "8                    AT&T Stadium  32.7473 -97.0945  \n",
       "9                   Empower Field  39.7439  -105.02  \n",
       "10                     Ford Field    42.34 -83.0456  \n",
       "11                  Lambeau Field  44.5013 -88.0622  \n",
       "12                    NRG Stadium  29.6847 -95.4107  \n",
       "13              Lucas Oil Stadium  39.7601 -86.1639  \n",
       "14                TIAA Bank Field   30.324 -81.6373  \n",
       "15              Arrowhead Stadium  39.0489 -94.4839  \n",
       "16                 StubHub Center  33.8644 -118.261  \n",
       "17           Los Angeles Coliseum  34.0141 -118.288  \n",
       "18              Hard Rock Stadium   25.958 -80.2389  \n",
       "19                US Bank Stadium  44.9736 -93.2575  \n",
       "20               Gillette Stadium  42.0909 -71.2643  \n",
       "21                      Superdome  29.9511 -90.0812  \n",
       "22                MetLife Stadium  40.8135 -74.0745  \n",
       "23                MetLife Stadium  40.8135 -74.0745  \n",
       "24           RingCentral Coliseum  37.7516 -122.201  \n",
       "25        Lincoln Financial Field  39.9008 -75.1674  \n",
       "26                    Heinz Field  40.4468 -80.0158  \n",
       "27                  Levis Stadium  37.4034 -121.969  \n",
       "28          Raymond James Stadium  27.9759 -82.5033  \n",
       "29                 Nissan Stadium  36.1665 -86.7713  \n",
       "30                    FedEx Field  38.9076 -76.8645  "
      ],
      "text/html": "<div>\n<style scoped>\n    .dataframe tbody tr th:only-of-type {\n        vertical-align: middle;\n    }\n\n    .dataframe tbody tr th {\n        vertical-align: top;\n    }\n\n    .dataframe thead th {\n        text-align: right;\n    }\n</style>\n<table border=\"1\" class=\"dataframe\">\n  <thead>\n    <tr style=\"text-align: right;\">\n      <th></th>\n      <th>team</th>\n      <th>total_attendance</th>\n      <th>stadium_capacity</th>\n      <th>stadium</th>\n      <th>lat</th>\n      <th>long</th>\n    </tr>\n  </thead>\n  <tbody>\n    <tr>\n      <th>0</th>\n      <td>Arizona Cardinals</td>\n      <td>1018127</td>\n      <td>63400</td>\n      <td>University of Phoenix Stadium</td>\n      <td>33.5276</td>\n      <td>-112.263</td>\n    </tr>\n    <tr>\n      <th>1</th>\n      <td>Atlanta Falcons</td>\n      <td>1119143</td>\n      <td>71000</td>\n      <td>Mercedes Benz Stadium</td>\n      <td>33.7554</td>\n      <td>-84.4009</td>\n    </tr>\n    <tr>\n      <th>2</th>\n      <td>Baltimore Ravens</td>\n      <td>1053383</td>\n      <td>71008</td>\n      <td>M&amp;T Bank Stadium</td>\n      <td>39.278</td>\n      <td>-76.6227</td>\n    </tr>\n    <tr>\n      <th>3</th>\n      <td>Buffalo Bills</td>\n      <td>1072899</td>\n      <td>73967</td>\n      <td>New Era Field</td>\n      <td>42.7738</td>\n      <td>-78.787</td>\n    </tr>\n    <tr>\n      <th>4</th>\n      <td>Carolina Panthers</td>\n      <td>1102756</td>\n      <td>73778</td>\n      <td>Bank of America Stadium</td>\n      <td>35.2258</td>\n      <td>-80.8528</td>\n    </tr>\n    <tr>\n      <th>5</th>\n      <td>Chicago Bears</td>\n      <td>1045568</td>\n      <td>61500</td>\n      <td>Soldier Field</td>\n      <td>41.8623</td>\n      <td>-87.6167</td>\n    </tr>\n    <tr>\n      <th>6</th>\n      <td>Cincinnati Bengals</td>\n      <td>911289</td>\n      <td>65515</td>\n      <td>Paul Brown Stadium</td>\n      <td>39.0955</td>\n      <td>-84.5161</td>\n    </tr>\n    <tr>\n      <th>7</th>\n      <td>Cleveland Browns</td>\n      <td>1045441</td>\n      <td>68000</td>\n      <td>FirstEnergy Stadium</td>\n      <td>41.5061</td>\n      <td>-81.6995</td>\n    </tr>\n    <tr>\n      <th>8</th>\n      <td>Dallas Cowboys</td>\n      <td>1303393</td>\n      <td>80000</td>\n      <td>AT&amp;T Stadium</td>\n      <td>32.7473</td>\n      <td>-97.0945</td>\n    </tr>\n    <tr>\n      <th>9</th>\n      <td>Denver Broncos</td>\n      <td>1092324</td>\n      <td>76125</td>\n      <td>Empower Field</td>\n      <td>39.7439</td>\n      <td>-105.02</td>\n    </tr>\n    <tr>\n      <th>10</th>\n      <td>Detroit Lions</td>\n      <td>1054328</td>\n      <td>65000</td>\n      <td>Ford Field</td>\n      <td>42.34</td>\n      <td>-83.0456</td>\n    </tr>\n    <tr>\n      <th>11</th>\n      <td>Green Bay Packers</td>\n      <td>1163842</td>\n      <td>80735</td>\n      <td>Lambeau Field</td>\n      <td>44.5013</td>\n      <td>-88.0622</td>\n    </tr>\n    <tr>\n      <th>12</th>\n      <td>Houston Texans</td>\n      <td>1112480</td>\n      <td>71500</td>\n      <td>NRG Stadium</td>\n      <td>29.6847</td>\n      <td>-95.4107</td>\n    </tr>\n    <tr>\n      <th>13</th>\n      <td>Indianapolis Colts</td>\n      <td>1006361</td>\n      <td>63000</td>\n      <td>Lucas Oil Stadium</td>\n      <td>39.7601</td>\n      <td>-86.1639</td>\n    </tr>\n    <tr>\n      <th>14</th>\n      <td>Jacksonville Jaguars</td>\n      <td>1109899</td>\n      <td>67264</td>\n      <td>TIAA Bank Field</td>\n      <td>30.324</td>\n      <td>-81.6373</td>\n    </tr>\n    <tr>\n      <th>15</th>\n      <td>Kansas City Chiefs</td>\n      <td>1107376</td>\n      <td>76416</td>\n      <td>Arrowhead Stadium</td>\n      <td>39.0489</td>\n      <td>-94.4839</td>\n    </tr>\n    <tr>\n      <th>16</th>\n      <td>Los Angeles Chargers</td>\n      <td>803556</td>\n      <td>30000</td>\n      <td>StubHub Center</td>\n      <td>33.8644</td>\n      <td>-118.261</td>\n    </tr>\n    <tr>\n      <th>17</th>\n      <td>Los Angeles Rams</td>\n      <td>1102409</td>\n      <td>77500</td>\n      <td>Los Angeles Coliseum</td>\n      <td>34.0141</td>\n      <td>-118.288</td>\n    </tr>\n    <tr>\n      <th>18</th>\n      <td>Miami Dolphins</td>\n      <td>1062180</td>\n      <td>65326</td>\n      <td>Hard Rock Stadium</td>\n      <td>25.958</td>\n      <td>-80.2389</td>\n    </tr>\n    <tr>\n      <th>19</th>\n      <td>Minnesota Vikings</td>\n      <td>1090834</td>\n      <td>66200</td>\n      <td>US Bank Stadium</td>\n      <td>44.9736</td>\n      <td>-93.2575</td>\n    </tr>\n    <tr>\n      <th>20</th>\n      <td>New England Patriots</td>\n      <td>1068530</td>\n      <td>68756</td>\n      <td>Gillette Stadium</td>\n      <td>42.0909</td>\n      <td>-71.2643</td>\n    </tr>\n    <tr>\n      <th>21</th>\n      <td>New Orleans Saints</td>\n      <td>1147700</td>\n      <td>76468</td>\n      <td>Superdome</td>\n      <td>29.9511</td>\n      <td>-90.0812</td>\n    </tr>\n    <tr>\n      <th>22</th>\n      <td>New York Giants</td>\n      <td>1183132</td>\n      <td>82500</td>\n      <td>MetLife Stadium</td>\n      <td>40.8135</td>\n      <td>-74.0745</td>\n    </tr>\n    <tr>\n      <th>23</th>\n      <td>New York Jets</td>\n      <td>1130823</td>\n      <td>53250</td>\n      <td>MetLife Stadium</td>\n      <td>40.8135</td>\n      <td>-74.0745</td>\n    </tr>\n    <tr>\n      <th>24</th>\n      <td>Oakland Raiders</td>\n      <td>955258</td>\n      <td>69176</td>\n      <td>RingCentral Coliseum</td>\n      <td>37.7516</td>\n      <td>-122.201</td>\n    </tr>\n    <tr>\n      <th>25</th>\n      <td>Philadelphia Eagles</td>\n      <td>1149737</td>\n      <td>65500</td>\n      <td>Lincoln Financial Field</td>\n      <td>39.9008</td>\n      <td>-75.1674</td>\n    </tr>\n    <tr>\n      <th>26</th>\n      <td>Pittsburgh Steelers</td>\n      <td>1040509</td>\n      <td>68500</td>\n      <td>Heinz Field</td>\n      <td>40.4468</td>\n      <td>-80.0158</td>\n    </tr>\n    <tr>\n      <th>27</th>\n      <td>San Francisco 49ers</td>\n      <td>1052454</td>\n      <td>67000</td>\n      <td>Levis Stadium</td>\n      <td>37.4034</td>\n      <td>-121.969</td>\n    </tr>\n    <tr>\n      <th>28</th>\n      <td>Seattle Seahawks</td>\n      <td>1114327</td>\n      <td>65890</td>\n      <td>Raymond James Stadium</td>\n      <td>27.9759</td>\n      <td>-82.5033</td>\n    </tr>\n    <tr>\n      <th>29</th>\n      <td>Tampa Bay Buccaneers</td>\n      <td>999843</td>\n      <td>69143</td>\n      <td>Nissan Stadium</td>\n      <td>36.1665</td>\n      <td>-86.7713</td>\n    </tr>\n    <tr>\n      <th>30</th>\n      <td>Tennessee Titans</td>\n      <td>1092094</td>\n      <td>79000</td>\n      <td>FedEx Field</td>\n      <td>38.9076</td>\n      <td>-76.8645</td>\n    </tr>\n  </tbody>\n</table>\n</div>"
     },
     "metadata": {},
     "execution_count": 22
    }
   ],
   "source": [
    "#Fix Eagles row\n",
    "nfl_attendance_clean.at[25, 'lat'] = 39.9008    \n",
    "nfl_attendance_clean.at[25, 'long'] = -75.1674\n",
    "nfl_attendance_clean.at[25, 'stadium'] = 'Lincoln Financial Field'\n",
    "\n",
    "#Fix Raiders row\n",
    "nfl_attendance_clean.at[24, 'lat'] = 37.7516    \n",
    "nfl_attendance_clean.at[24, 'long'] = -122.201\n",
    "nfl_attendance_clean.at[24, 'stadium'] = 'RingCentral Coliseum'\n",
    "\n",
    "#Fix Jets row--it is identical to Giants. \n",
    "nfl_attendance_clean.at[23, 'lat'] = 40.8135    \n",
    "nfl_attendance_clean.at[23, 'long'] = -74.0745\n",
    "nfl_attendance_clean.at[23, 'stadium'] = 'MetLife Stadium'\n",
    "\n",
    "nfl_attendance_clean"
   ]
  },
  {
   "cell_type": "code",
   "execution_count": 23,
   "metadata": {},
   "outputs": [
    {
     "output_type": "execute_result",
     "data": {
      "text/plain": [
       "                    team  total_attendance stadium_capacity  \\\n",
       "0      Arizona Cardinals           1018127            63400   \n",
       "1        Atlanta Falcons           1119143            71000   \n",
       "2       Baltimore Ravens           1053383            71008   \n",
       "3          Buffalo Bills           1072899            73967   \n",
       "4      Carolina Panthers           1102756            73778   \n",
       "5          Chicago Bears           1045568            61500   \n",
       "6     Cincinnati Bengals            911289            65515   \n",
       "7       Cleveland Browns           1045441            68000   \n",
       "8         Dallas Cowboys           1303393            80000   \n",
       "9         Denver Broncos           1092324            76125   \n",
       "10         Detroit Lions           1054328            65000   \n",
       "11     Green Bay Packers           1163842            80735   \n",
       "12        Houston Texans           1112480            71500   \n",
       "13    Indianapolis Colts           1006361            63000   \n",
       "14  Jacksonville Jaguars           1109899            67264   \n",
       "15    Kansas City Chiefs           1107376            76416   \n",
       "16  Los Angeles Chargers            803556            30000   \n",
       "17      Los Angeles Rams           1102409            77500   \n",
       "18        Miami Dolphins           1062180            65326   \n",
       "19     Minnesota Vikings           1090834            66200   \n",
       "20  New England Patriots           1068530            68756   \n",
       "21    New Orleans Saints           1147700            76468   \n",
       "22       New York Giants           1183132            82500   \n",
       "23         New York Jets           1130823            53250   \n",
       "24       Oakland Raiders            955258            69176   \n",
       "25   Philadelphia Eagles           1149737            65500   \n",
       "26   Pittsburgh Steelers           1040509            68500   \n",
       "27   San Francisco 49ers           1052454            67000   \n",
       "28      Seattle Seahawks           1114327            65890   \n",
       "29  Tampa Bay Buccaneers            999843            69143   \n",
       "30      Tennessee Titans           1092094            79000   \n",
       "\n",
       "                          stadium      lat     long  \n",
       "0   University of Phoenix Stadium  33.5276 -112.263  \n",
       "1           Mercedes Benz Stadium  33.7554 -84.4009  \n",
       "2                M&T Bank Stadium   39.278 -76.6227  \n",
       "3                   New Era Field  42.7738  -78.787  \n",
       "4         Bank of America Stadium  35.2258 -80.8528  \n",
       "5                   Soldier Field  41.8623 -87.6167  \n",
       "6              Paul Brown Stadium  39.0955 -84.5161  \n",
       "7             FirstEnergy Stadium  41.5061 -81.6995  \n",
       "8                    AT&T Stadium  32.7473 -97.0945  \n",
       "9                   Empower Field  39.7439  -105.02  \n",
       "10                     Ford Field    42.34 -83.0456  \n",
       "11                  Lambeau Field  44.5013 -88.0622  \n",
       "12                    NRG Stadium  29.6847 -95.4107  \n",
       "13              Lucas Oil Stadium  39.7601 -86.1639  \n",
       "14                TIAA Bank Field   30.324 -81.6373  \n",
       "15              Arrowhead Stadium  39.0489 -94.4839  \n",
       "16                 StubHub Center  33.8644 -118.261  \n",
       "17           Los Angeles Coliseum  34.0141 -118.288  \n",
       "18              Hard Rock Stadium   25.958 -80.2389  \n",
       "19                US Bank Stadium  44.9736 -93.2575  \n",
       "20               Gillette Stadium  42.0909 -71.2643  \n",
       "21                      Superdome  29.9511 -90.0812  \n",
       "22                MetLife Stadium  40.8135 -74.0745  \n",
       "23                MetLife Stadium  40.8135 -74.0745  \n",
       "24           RingCentral Coliseum  37.7516 -122.201  \n",
       "25        Lincoln Financial Field  39.9008 -75.1674  \n",
       "26                    Heinz Field  40.4468 -80.0158  \n",
       "27                  Levis Stadium  37.4034 -121.969  \n",
       "28              CenturyLink Field  47.5952 -122.332  \n",
       "29          Raymond James Stadium  27.9759 -82.5033  \n",
       "30                 Nissan Stadium  36.1665 -86.7713  "
      ],
      "text/html": "<div>\n<style scoped>\n    .dataframe tbody tr th:only-of-type {\n        vertical-align: middle;\n    }\n\n    .dataframe tbody tr th {\n        vertical-align: top;\n    }\n\n    .dataframe thead th {\n        text-align: right;\n    }\n</style>\n<table border=\"1\" class=\"dataframe\">\n  <thead>\n    <tr style=\"text-align: right;\">\n      <th></th>\n      <th>team</th>\n      <th>total_attendance</th>\n      <th>stadium_capacity</th>\n      <th>stadium</th>\n      <th>lat</th>\n      <th>long</th>\n    </tr>\n  </thead>\n  <tbody>\n    <tr>\n      <th>0</th>\n      <td>Arizona Cardinals</td>\n      <td>1018127</td>\n      <td>63400</td>\n      <td>University of Phoenix Stadium</td>\n      <td>33.5276</td>\n      <td>-112.263</td>\n    </tr>\n    <tr>\n      <th>1</th>\n      <td>Atlanta Falcons</td>\n      <td>1119143</td>\n      <td>71000</td>\n      <td>Mercedes Benz Stadium</td>\n      <td>33.7554</td>\n      <td>-84.4009</td>\n    </tr>\n    <tr>\n      <th>2</th>\n      <td>Baltimore Ravens</td>\n      <td>1053383</td>\n      <td>71008</td>\n      <td>M&amp;T Bank Stadium</td>\n      <td>39.278</td>\n      <td>-76.6227</td>\n    </tr>\n    <tr>\n      <th>3</th>\n      <td>Buffalo Bills</td>\n      <td>1072899</td>\n      <td>73967</td>\n      <td>New Era Field</td>\n      <td>42.7738</td>\n      <td>-78.787</td>\n    </tr>\n    <tr>\n      <th>4</th>\n      <td>Carolina Panthers</td>\n      <td>1102756</td>\n      <td>73778</td>\n      <td>Bank of America Stadium</td>\n      <td>35.2258</td>\n      <td>-80.8528</td>\n    </tr>\n    <tr>\n      <th>5</th>\n      <td>Chicago Bears</td>\n      <td>1045568</td>\n      <td>61500</td>\n      <td>Soldier Field</td>\n      <td>41.8623</td>\n      <td>-87.6167</td>\n    </tr>\n    <tr>\n      <th>6</th>\n      <td>Cincinnati Bengals</td>\n      <td>911289</td>\n      <td>65515</td>\n      <td>Paul Brown Stadium</td>\n      <td>39.0955</td>\n      <td>-84.5161</td>\n    </tr>\n    <tr>\n      <th>7</th>\n      <td>Cleveland Browns</td>\n      <td>1045441</td>\n      <td>68000</td>\n      <td>FirstEnergy Stadium</td>\n      <td>41.5061</td>\n      <td>-81.6995</td>\n    </tr>\n    <tr>\n      <th>8</th>\n      <td>Dallas Cowboys</td>\n      <td>1303393</td>\n      <td>80000</td>\n      <td>AT&amp;T Stadium</td>\n      <td>32.7473</td>\n      <td>-97.0945</td>\n    </tr>\n    <tr>\n      <th>9</th>\n      <td>Denver Broncos</td>\n      <td>1092324</td>\n      <td>76125</td>\n      <td>Empower Field</td>\n      <td>39.7439</td>\n      <td>-105.02</td>\n    </tr>\n    <tr>\n      <th>10</th>\n      <td>Detroit Lions</td>\n      <td>1054328</td>\n      <td>65000</td>\n      <td>Ford Field</td>\n      <td>42.34</td>\n      <td>-83.0456</td>\n    </tr>\n    <tr>\n      <th>11</th>\n      <td>Green Bay Packers</td>\n      <td>1163842</td>\n      <td>80735</td>\n      <td>Lambeau Field</td>\n      <td>44.5013</td>\n      <td>-88.0622</td>\n    </tr>\n    <tr>\n      <th>12</th>\n      <td>Houston Texans</td>\n      <td>1112480</td>\n      <td>71500</td>\n      <td>NRG Stadium</td>\n      <td>29.6847</td>\n      <td>-95.4107</td>\n    </tr>\n    <tr>\n      <th>13</th>\n      <td>Indianapolis Colts</td>\n      <td>1006361</td>\n      <td>63000</td>\n      <td>Lucas Oil Stadium</td>\n      <td>39.7601</td>\n      <td>-86.1639</td>\n    </tr>\n    <tr>\n      <th>14</th>\n      <td>Jacksonville Jaguars</td>\n      <td>1109899</td>\n      <td>67264</td>\n      <td>TIAA Bank Field</td>\n      <td>30.324</td>\n      <td>-81.6373</td>\n    </tr>\n    <tr>\n      <th>15</th>\n      <td>Kansas City Chiefs</td>\n      <td>1107376</td>\n      <td>76416</td>\n      <td>Arrowhead Stadium</td>\n      <td>39.0489</td>\n      <td>-94.4839</td>\n    </tr>\n    <tr>\n      <th>16</th>\n      <td>Los Angeles Chargers</td>\n      <td>803556</td>\n      <td>30000</td>\n      <td>StubHub Center</td>\n      <td>33.8644</td>\n      <td>-118.261</td>\n    </tr>\n    <tr>\n      <th>17</th>\n      <td>Los Angeles Rams</td>\n      <td>1102409</td>\n      <td>77500</td>\n      <td>Los Angeles Coliseum</td>\n      <td>34.0141</td>\n      <td>-118.288</td>\n    </tr>\n    <tr>\n      <th>18</th>\n      <td>Miami Dolphins</td>\n      <td>1062180</td>\n      <td>65326</td>\n      <td>Hard Rock Stadium</td>\n      <td>25.958</td>\n      <td>-80.2389</td>\n    </tr>\n    <tr>\n      <th>19</th>\n      <td>Minnesota Vikings</td>\n      <td>1090834</td>\n      <td>66200</td>\n      <td>US Bank Stadium</td>\n      <td>44.9736</td>\n      <td>-93.2575</td>\n    </tr>\n    <tr>\n      <th>20</th>\n      <td>New England Patriots</td>\n      <td>1068530</td>\n      <td>68756</td>\n      <td>Gillette Stadium</td>\n      <td>42.0909</td>\n      <td>-71.2643</td>\n    </tr>\n    <tr>\n      <th>21</th>\n      <td>New Orleans Saints</td>\n      <td>1147700</td>\n      <td>76468</td>\n      <td>Superdome</td>\n      <td>29.9511</td>\n      <td>-90.0812</td>\n    </tr>\n    <tr>\n      <th>22</th>\n      <td>New York Giants</td>\n      <td>1183132</td>\n      <td>82500</td>\n      <td>MetLife Stadium</td>\n      <td>40.8135</td>\n      <td>-74.0745</td>\n    </tr>\n    <tr>\n      <th>23</th>\n      <td>New York Jets</td>\n      <td>1130823</td>\n      <td>53250</td>\n      <td>MetLife Stadium</td>\n      <td>40.8135</td>\n      <td>-74.0745</td>\n    </tr>\n    <tr>\n      <th>24</th>\n      <td>Oakland Raiders</td>\n      <td>955258</td>\n      <td>69176</td>\n      <td>RingCentral Coliseum</td>\n      <td>37.7516</td>\n      <td>-122.201</td>\n    </tr>\n    <tr>\n      <th>25</th>\n      <td>Philadelphia Eagles</td>\n      <td>1149737</td>\n      <td>65500</td>\n      <td>Lincoln Financial Field</td>\n      <td>39.9008</td>\n      <td>-75.1674</td>\n    </tr>\n    <tr>\n      <th>26</th>\n      <td>Pittsburgh Steelers</td>\n      <td>1040509</td>\n      <td>68500</td>\n      <td>Heinz Field</td>\n      <td>40.4468</td>\n      <td>-80.0158</td>\n    </tr>\n    <tr>\n      <th>27</th>\n      <td>San Francisco 49ers</td>\n      <td>1052454</td>\n      <td>67000</td>\n      <td>Levis Stadium</td>\n      <td>37.4034</td>\n      <td>-121.969</td>\n    </tr>\n    <tr>\n      <th>28</th>\n      <td>Seattle Seahawks</td>\n      <td>1114327</td>\n      <td>65890</td>\n      <td>CenturyLink Field</td>\n      <td>47.5952</td>\n      <td>-122.332</td>\n    </tr>\n    <tr>\n      <th>29</th>\n      <td>Tampa Bay Buccaneers</td>\n      <td>999843</td>\n      <td>69143</td>\n      <td>Raymond James Stadium</td>\n      <td>27.9759</td>\n      <td>-82.5033</td>\n    </tr>\n    <tr>\n      <th>30</th>\n      <td>Tennessee Titans</td>\n      <td>1092094</td>\n      <td>79000</td>\n      <td>Nissan Stadium</td>\n      <td>36.1665</td>\n      <td>-86.7713</td>\n    </tr>\n  </tbody>\n</table>\n</div>"
     },
     "metadata": {},
     "execution_count": 23
    }
   ],
   "source": [
    "#Fix Titans row\n",
    "nfl_attendance_clean.at[30, 'lat'] = 36.1665    \n",
    "nfl_attendance_clean.at[30, 'long'] = -86.7713\n",
    "nfl_attendance_clean.at[30, 'stadium'] = 'Nissan Stadium'\n",
    "\n",
    "#Fix Tampa Bay row\n",
    "nfl_attendance_clean.at[29, 'lat'] = 27.9759   \n",
    "nfl_attendance_clean.at[29, 'long'] = -82.5033\n",
    "nfl_attendance_clean.at[29, 'stadium'] = 'Raymond James Stadium'\n",
    "\n",
    "#Fix Seahawks\n",
    "nfl_attendance_clean.at[28, 'lat'] = 47.5952    \n",
    "nfl_attendance_clean.at[28, 'long'] = -122.3316\n",
    "nfl_attendance_clean.at[28, 'stadium'] = 'CenturyLink Field'\n",
    "\n",
    "nfl_attendance_clean"
   ]
  },
  {
   "cell_type": "markdown",
   "metadata": {},
   "source": [
    "### Get MLB Data"
   ]
  },
  {
   "cell_type": "code",
   "execution_count": 24,
   "metadata": {},
   "outputs": [],
   "source": [
    "s = requests.Session()\n",
    "url = \"https://en.wikipedia.org/wiki/2019_Major_League_Baseball_season\""
   ]
  },
  {
   "cell_type": "code",
   "execution_count": 25,
   "metadata": {},
   "outputs": [],
   "source": [
    "response = requests.Session()\n",
    "url = \"https://en.wikipedia.org/wiki/2019_Major_League_Baseball_season\""
   ]
  },
  {
   "cell_type": "code",
   "execution_count": 26,
   "metadata": {},
   "outputs": [
    {
     "output_type": "execute_result",
     "data": {
      "text/plain": [
       "<Response [200]>"
      ]
     },
     "metadata": {},
     "execution_count": 26
    }
   ],
   "source": [
    "response = s.get(url, timeout=10)\n",
    "response"
   ]
  },
  {
   "cell_type": "code",
   "execution_count": 27,
   "metadata": {},
   "outputs": [],
   "source": [
    "\n",
    "soup = bs(response.text, 'html.parser')"
   ]
  },
  {
   "cell_type": "code",
   "execution_count": 28,
   "metadata": {},
   "outputs": [
    {
     "output_type": "stream",
     "name": "stdout",
     "text": [
      "2019 Major League Baseball season\n"
     ]
    }
   ],
   "source": [
    "# # testing scraping\n",
    "title = soup.find(id=\"firstHeading\")\n",
    "print(title.string)"
   ]
  },
  {
   "cell_type": "code",
   "execution_count": 29,
   "metadata": {},
   "outputs": [],
   "source": [
    "# Get attendance table\n",
    "attendance_table = soup.find('table', {'class': 'wikitable sortable'})\n",
    "# attendance_table()"
   ]
  },
  {
   "cell_type": "code",
   "execution_count": 30,
   "metadata": {},
   "outputs": [
    {
     "output_type": "execute_result",
     "data": {
      "text/plain": [
       "[]"
      ]
     },
     "metadata": {},
     "execution_count": 30
    }
   ],
   "source": [
    "#More on attendance table?\n",
    "table=soup.find('table', class_='sortable')\n",
    "table_rows=table.findAll('tr')\n",
    "all_data=[]\n",
    "for each_row in table_rows: \n",
    "    try: \n",
    "        all_data.append(each_row.findAll('td').text)\n",
    "    except: \n",
    "        pass\n",
    "all_data"
   ]
  },
  {
   "cell_type": "code",
   "execution_count": 31,
   "metadata": {},
   "outputs": [
    {
     "output_type": "stream",
     "name": "stdout",
     "text": [
      "0\nIndex(['2019 MLB season', '2019 MLB season.1'], dtype='object')\n1\nInt64Index([0, 1, 2, 3, 4, 5, 6], dtype='int64')\n2\nIndex(['vteAL East', 'W', 'L', 'Pct.', 'GB', 'Home', 'Road'], dtype='object')\n3\nIndex(['vteAL Central', 'W', 'L', 'Pct.', 'GB', 'Home', 'Road'], dtype='object')\n4\nIndex(['vteAL West', 'W', 'L', 'Pct.', 'GB', 'Home', 'Road'], dtype='object')\n5\nIndex(['vteNL East', 'W', 'L', 'Pct.', 'GB', 'Home', 'Road'], dtype='object')\n6\nIndex(['vteNL Central', 'W', 'L', 'Pct.', 'GB', 'Home', 'Road'], dtype='object')\n7\nIndex(['vteNL West', 'W', 'L', 'Pct.', 'GB', 'Home', 'Road'], dtype='object')\n8\nInt64Index([0, 1, 2, 3, 4, 5, 6, 7, 8, 9, 10, 11, 12, 13, 14, 15, 16, 17, 18,\n            19],\n           dtype='int64')\n9\nIndex(['Team', 'Former GM', 'Reason for leaving', 'New GM', 'Notes'], dtype='object')\n10\nIndex(['Date', 'Team', 'Former GM', 'Reason for leaving', 'New GM', 'Notes'], dtype='object')\n11\nIndex(['Team', 'Former manager', 'Interim manager', 'Reason for leaving',\n       'New Manager', 'Notes'],\n      dtype='object')\n12\nIndex(['Team', 'Former manager', 'Interim manager', 'Reason for leaving',\n       'New manager', 'Notes'],\n      dtype='object')\n13\nInt64Index([0, 1, 2], dtype='int64')\n14\nIndex(['Stat', 'Player', 'Total'], dtype='object')\n15\nIndex(['Stat', 'Player', 'Total'], dtype='object')\n16\nInt64Index([0, 1, 2], dtype='int64')\n17\nIndex(['Stat', 'Player', 'Total'], dtype='object')\n18\nIndex(['Stat', 'Player', 'Total'], dtype='object')\n19\nMultiIndex([('Baseball Writers' Association of America Awards', ...),\n            ('Baseball Writers' Association of America Awards', ...),\n            ('Baseball Writers' Association of America Awards', ...),\n            ('Baseball Writers' Association of America Awards', ...),\n            ('Baseball Writers' Association of America Awards', ...),\n            ('Baseball Writers' Association of America Awards', ...),\n            ('Baseball Writers' Association of America Awards', ...),\n            ('Baseball Writers' Association of America Awards', ...),\n            ('Baseball Writers' Association of America Awards', ...)],\n           )\n20\nMultiIndex([('All-MLB First Team',           'Position'),\n            ('All-MLB First Team',      'Player (Team)'),\n            ('All-MLB First Team', 'Unnamed: 2_level_1'),\n            ('All-MLB First Team', 'Unnamed: 3_level_1'),\n            ('All-MLB First Team', 'Unnamed: 4_level_1'),\n            ('All-MLB First Team', 'Unnamed: 5_level_1'),\n            ('All-MLB First Team', 'Unnamed: 6_level_1'),\n            ('All-MLB First Team', 'Unnamed: 7_level_1'),\n            ('All-MLB First Team', 'Unnamed: 8_level_1')],\n           )\n21\nMultiIndex([('Fielding Bible Awards',           'Position'),\n            ('Fielding Bible Awards',             'Player'),\n            ('Fielding Bible Awards', 'Unnamed: 2_level_1'),\n            ('Fielding Bible Awards', 'Unnamed: 3_level_1'),\n            ('Fielding Bible Awards', 'Unnamed: 4_level_1'),\n            ('Fielding Bible Awards', 'Unnamed: 5_level_1'),\n            ('Fielding Bible Awards', 'Unnamed: 6_level_1'),\n            ('Fielding Bible Awards', 'Unnamed: 7_level_1'),\n            ('Fielding Bible Awards', 'Unnamed: 8_level_1')],\n           )\n22\nInt64Index([0, 1, 2], dtype='int64')\n23\nIndex(['Month', 'American League', 'National League'], dtype='object')\n24\nIndex(['Month', 'American League', 'National League'], dtype='object')\n25\nIndex(['Month', 'American League', 'National League'], dtype='object')\n26\nIndex(['Team Name', 'Wins', '%±', 'Home attendance', '%±.1', 'Per Game',\n       'Est. Payroll', '%±.2'],\n      dtype='object')\n27\nIndex(['Team', 'Special occasion'], dtype='object')\n28\nInt64Index([0, 1], dtype='int64')\n29\nIndex(['vte2019 MLB season by team', 'vte2019 MLB season by team.1'], dtype='object')\n30\nInt64Index([0, 1], dtype='int64')\n31\nInt64Index([0, 1], dtype='int64')\n32\nInt64Index([0, 1], dtype='int64')\n33\nIndex(['vteMajor League Baseball seasons', 'vteMajor League Baseball seasons.1'], dtype='object')\n34\nInt64Index([0, 1], dtype='int64')\n35\nInt64Index([0, 1], dtype='int64')\n36\nIndex(['vte2019 Major League Baseball postseason', 'vte2019 Major League Baseball postseason.1'], dtype='object')\n"
     ]
    }
   ],
   "source": [
    "tables=pd.read_html(url)\n",
    "for idx, each_table in enumerate(tables): \n",
    "    print(idx)\n",
    "    print(each_table.columns)"
   ]
  },
  {
   "cell_type": "code",
   "execution_count": 32,
   "metadata": {},
   "outputs": [],
   "source": [
    "mlb_attendance = tables[26]"
   ]
  },
  {
   "cell_type": "code",
   "execution_count": 33,
   "metadata": {},
   "outputs": [
    {
     "output_type": "execute_result",
     "data": {
      "text/plain": [
       "0       Los Angeles Dodgers\n",
       "1       St. Louis Cardinals\n",
       "2          New York Yankees\n",
       "3              Chicago Cubs\n",
       "4        Los Angeles Angels\n",
       "5          Colorado Rockies\n",
       "6         Milwaukee Brewers\n",
       "7            Boston Red Sox\n",
       "8            Houston Astros\n",
       "9     Philadelphia Phillies\n",
       "10     San Francisco Giants\n",
       "11           Atlanta Braves\n",
       "12            New York Mets\n",
       "13         San Diego Padres\n",
       "14          Minnesota Twins\n",
       "15     Washington Nationals\n",
       "16     Arizona Diamondbacks\n",
       "17            Texas Rangers\n",
       "18          Cincinnati Reds\n",
       "19         Seattle Mariners\n",
       "20        Toronto Blue Jays\n",
       "21        Cleveland Indians\n",
       "22        Oakland Athletics\n",
       "23        Chicago White Sox\n",
       "24           Detroit Tigers\n",
       "25       Pittsburgh Pirates\n",
       "26       Kansas City Royals\n",
       "27        Baltimore Orioles\n",
       "28           Tampa Bay Rays\n",
       "29            Miami Marlins\n",
       "Name: Team Name, dtype: object"
      ]
     },
     "metadata": {},
     "execution_count": 33
    }
   ],
   "source": [
    "mlb_attendance = pd.DataFrame(mlb_attendance)\n",
    "TNC = mlb_attendance[\"Team Name\"].str[:-5]\n",
    "TNC"
   ]
  },
  {
   "cell_type": "code",
   "execution_count": 34,
   "metadata": {},
   "outputs": [],
   "source": [
    "mlb_attendance.insert(0,\"Team Names\",TNC)"
   ]
  },
  {
   "cell_type": "code",
   "execution_count": 35,
   "metadata": {
    "scrolled": true
   },
   "outputs": [
    {
     "output_type": "execute_result",
     "data": {
      "text/plain": [
       "               Team Names  Home attendance  Per Game\n",
       "0     Los Angeles Dodgers          3974309     49066\n",
       "1     St. Louis Cardinals          3480393     42968\n",
       "2        New York Yankees          3304404     40795\n",
       "3            Chicago Cubs          3094865     38208\n",
       "4      Los Angeles Angels          3023012     37321\n",
       "5        Colorado Rockies          2993244     36954\n",
       "6       Milwaukee Brewers          2923333     36091\n",
       "7          Boston Red Sox          2915502     35994\n",
       "8          Houston Astros          2857367     35276\n",
       "9   Philadelphia Phillies          2727421     33672\n",
       "10   San Francisco Giants          2707760     33429\n",
       "11         Atlanta Braves          2654920     32777\n",
       "12          New York Mets          2442532     30155\n",
       "13       San Diego Padres          2396399     29585\n",
       "14        Minnesota Twins          2303299     28436\n",
       "15   Washington Nationals          2259781     27899\n",
       "16   Arizona Diamondbacks          2135510     26364\n",
       "17          Texas Rangers          2132994     26333\n",
       "18        Cincinnati Reds          1809075     22334\n",
       "19       Seattle Mariners          1791109     22112\n",
       "20      Toronto Blue Jays          1750144     21607\n",
       "21      Cleveland Indians          1738642     21465\n",
       "22      Oakland Athletics          1670734     20626\n",
       "23      Chicago White Sox          1649775     20622\n",
       "24         Detroit Tigers          1501430     18536\n",
       "25     Pittsburgh Pirates          1491439     18413\n",
       "26     Kansas City Royals          1479659     18267\n",
       "27      Baltimore Orioles          1307807     16146\n",
       "28         Tampa Bay Rays          1178735     14552\n",
       "29          Miami Marlins           811302     10016"
      ],
      "text/html": "<div>\n<style scoped>\n    .dataframe tbody tr th:only-of-type {\n        vertical-align: middle;\n    }\n\n    .dataframe tbody tr th {\n        vertical-align: top;\n    }\n\n    .dataframe thead th {\n        text-align: right;\n    }\n</style>\n<table border=\"1\" class=\"dataframe\">\n  <thead>\n    <tr style=\"text-align: right;\">\n      <th></th>\n      <th>Team Names</th>\n      <th>Home attendance</th>\n      <th>Per Game</th>\n    </tr>\n  </thead>\n  <tbody>\n    <tr>\n      <th>0</th>\n      <td>Los Angeles Dodgers</td>\n      <td>3974309</td>\n      <td>49066</td>\n    </tr>\n    <tr>\n      <th>1</th>\n      <td>St. Louis Cardinals</td>\n      <td>3480393</td>\n      <td>42968</td>\n    </tr>\n    <tr>\n      <th>2</th>\n      <td>New York Yankees</td>\n      <td>3304404</td>\n      <td>40795</td>\n    </tr>\n    <tr>\n      <th>3</th>\n      <td>Chicago Cubs</td>\n      <td>3094865</td>\n      <td>38208</td>\n    </tr>\n    <tr>\n      <th>4</th>\n      <td>Los Angeles Angels</td>\n      <td>3023012</td>\n      <td>37321</td>\n    </tr>\n    <tr>\n      <th>5</th>\n      <td>Colorado Rockies</td>\n      <td>2993244</td>\n      <td>36954</td>\n    </tr>\n    <tr>\n      <th>6</th>\n      <td>Milwaukee Brewers</td>\n      <td>2923333</td>\n      <td>36091</td>\n    </tr>\n    <tr>\n      <th>7</th>\n      <td>Boston Red Sox</td>\n      <td>2915502</td>\n      <td>35994</td>\n    </tr>\n    <tr>\n      <th>8</th>\n      <td>Houston Astros</td>\n      <td>2857367</td>\n      <td>35276</td>\n    </tr>\n    <tr>\n      <th>9</th>\n      <td>Philadelphia Phillies</td>\n      <td>2727421</td>\n      <td>33672</td>\n    </tr>\n    <tr>\n      <th>10</th>\n      <td>San Francisco Giants</td>\n      <td>2707760</td>\n      <td>33429</td>\n    </tr>\n    <tr>\n      <th>11</th>\n      <td>Atlanta Braves</td>\n      <td>2654920</td>\n      <td>32777</td>\n    </tr>\n    <tr>\n      <th>12</th>\n      <td>New York Mets</td>\n      <td>2442532</td>\n      <td>30155</td>\n    </tr>\n    <tr>\n      <th>13</th>\n      <td>San Diego Padres</td>\n      <td>2396399</td>\n      <td>29585</td>\n    </tr>\n    <tr>\n      <th>14</th>\n      <td>Minnesota Twins</td>\n      <td>2303299</td>\n      <td>28436</td>\n    </tr>\n    <tr>\n      <th>15</th>\n      <td>Washington Nationals</td>\n      <td>2259781</td>\n      <td>27899</td>\n    </tr>\n    <tr>\n      <th>16</th>\n      <td>Arizona Diamondbacks</td>\n      <td>2135510</td>\n      <td>26364</td>\n    </tr>\n    <tr>\n      <th>17</th>\n      <td>Texas Rangers</td>\n      <td>2132994</td>\n      <td>26333</td>\n    </tr>\n    <tr>\n      <th>18</th>\n      <td>Cincinnati Reds</td>\n      <td>1809075</td>\n      <td>22334</td>\n    </tr>\n    <tr>\n      <th>19</th>\n      <td>Seattle Mariners</td>\n      <td>1791109</td>\n      <td>22112</td>\n    </tr>\n    <tr>\n      <th>20</th>\n      <td>Toronto Blue Jays</td>\n      <td>1750144</td>\n      <td>21607</td>\n    </tr>\n    <tr>\n      <th>21</th>\n      <td>Cleveland Indians</td>\n      <td>1738642</td>\n      <td>21465</td>\n    </tr>\n    <tr>\n      <th>22</th>\n      <td>Oakland Athletics</td>\n      <td>1670734</td>\n      <td>20626</td>\n    </tr>\n    <tr>\n      <th>23</th>\n      <td>Chicago White Sox</td>\n      <td>1649775</td>\n      <td>20622</td>\n    </tr>\n    <tr>\n      <th>24</th>\n      <td>Detroit Tigers</td>\n      <td>1501430</td>\n      <td>18536</td>\n    </tr>\n    <tr>\n      <th>25</th>\n      <td>Pittsburgh Pirates</td>\n      <td>1491439</td>\n      <td>18413</td>\n    </tr>\n    <tr>\n      <th>26</th>\n      <td>Kansas City Royals</td>\n      <td>1479659</td>\n      <td>18267</td>\n    </tr>\n    <tr>\n      <th>27</th>\n      <td>Baltimore Orioles</td>\n      <td>1307807</td>\n      <td>16146</td>\n    </tr>\n    <tr>\n      <th>28</th>\n      <td>Tampa Bay Rays</td>\n      <td>1178735</td>\n      <td>14552</td>\n    </tr>\n    <tr>\n      <th>29</th>\n      <td>Miami Marlins</td>\n      <td>811302</td>\n      <td>10016</td>\n    </tr>\n  </tbody>\n</table>\n</div>"
     },
     "metadata": {},
     "execution_count": 35
    }
   ],
   "source": [
    "mlb_attendance = mlb_attendance[['Team Names','Home attendance', 'Per Game']]\n",
    "mlb_attendance"
   ]
  },
  {
   "cell_type": "code",
   "execution_count": 37,
   "metadata": {
    "scrolled": false
   },
   "outputs": [
    {
     "output_type": "execute_result",
     "data": {
      "text/plain": [
       "               Team_Names  Home_attendance  Per_Game        Lat        Long\n",
       "0     Los Angeles Dodgers          3974309     49066  34.072437 -118.246879\n",
       "1     St. Louis Cardinals          3480393     42968  38.629683  -90.188247\n",
       "2        New York Yankees          3304404     40795  40.819782  -73.929939\n",
       "3            Chicago Cubs          3094865     38208  41.947201  -87.656413\n",
       "4      Los Angeles Angels          3023012     37321  33.799572 -117.889031\n",
       "5        Colorado Rockies          2993244     36954  39.756980 -104.965329\n",
       "6       Milwaukee Brewers          2923333     36091  43.042050  -87.905599\n",
       "7          Boston Red Sox          2915502     35994  42.346613  -71.098817\n",
       "8          Houston Astros          2857367     35276  29.760450  -95.369784\n",
       "9   Philadelphia Phillies          2727421     33672  39.952313  -75.162392\n",
       "10   San Francisco Giants          2707760     33429  37.779870 -122.389754\n",
       "11         Atlanta Braves          2654920     32777  33.746910  -84.391239\n",
       "12          New York Mets          2442532     30155  40.755350  -73.843219\n",
       "13       San Diego Padres          2396399     29585  32.752148 -117.143635\n",
       "14        Minnesota Twins          2303299     28436  44.974346  -93.259616\n",
       "15   Washington Nationals          2259781     27899  38.870000  -77.010000\n",
       "16   Arizona Diamondbacks          2135510     26364  33.452922 -112.038669\n",
       "17          Texas Rangers          2132994     26333  32.750156  -97.081117\n",
       "18        Cincinnati Reds          1809075     22334  39.107183  -84.507713\n",
       "19       Seattle Mariners          1791109     22112  47.601740 -122.330829\n",
       "20      Toronto Blue Jays          1750144     21607  43.641653  -79.391700\n",
       "21      Cleveland Indians          1738642     21465  41.495149  -81.687090\n",
       "22      Oakland Athletics          1670734     20626  37.749230 -122.196487\n",
       "23      Chicago White Sox          1649775     20622  41.830883  -87.635083\n",
       "24         Detroit Tigers          1501430     18536  42.346354  -83.059619\n",
       "25     Pittsburgh Pirates          1491439     18413  40.461503  -80.008924\n",
       "26     Kansas City Royals          1479659     18267  39.102220  -94.583559\n",
       "27      Baltimore Orioles          1307807     16146  39.285243  -76.620103\n",
       "28         Tampa Bay Rays          1178735     14552  27.768487  -82.648191\n",
       "29          Miami Marlins           811302     10016  25.954428  -80.238164"
      ],
      "text/html": "<div>\n<style scoped>\n    .dataframe tbody tr th:only-of-type {\n        vertical-align: middle;\n    }\n\n    .dataframe tbody tr th {\n        vertical-align: top;\n    }\n\n    .dataframe thead th {\n        text-align: right;\n    }\n</style>\n<table border=\"1\" class=\"dataframe\">\n  <thead>\n    <tr style=\"text-align: right;\">\n      <th></th>\n      <th>Team_Names</th>\n      <th>Home_attendance</th>\n      <th>Per_Game</th>\n      <th>Lat</th>\n      <th>Long</th>\n    </tr>\n  </thead>\n  <tbody>\n    <tr>\n      <th>0</th>\n      <td>Los Angeles Dodgers</td>\n      <td>3974309</td>\n      <td>49066</td>\n      <td>34.072437</td>\n      <td>-118.246879</td>\n    </tr>\n    <tr>\n      <th>1</th>\n      <td>St. Louis Cardinals</td>\n      <td>3480393</td>\n      <td>42968</td>\n      <td>38.629683</td>\n      <td>-90.188247</td>\n    </tr>\n    <tr>\n      <th>2</th>\n      <td>New York Yankees</td>\n      <td>3304404</td>\n      <td>40795</td>\n      <td>40.819782</td>\n      <td>-73.929939</td>\n    </tr>\n    <tr>\n      <th>3</th>\n      <td>Chicago Cubs</td>\n      <td>3094865</td>\n      <td>38208</td>\n      <td>41.947201</td>\n      <td>-87.656413</td>\n    </tr>\n    <tr>\n      <th>4</th>\n      <td>Los Angeles Angels</td>\n      <td>3023012</td>\n      <td>37321</td>\n      <td>33.799572</td>\n      <td>-117.889031</td>\n    </tr>\n    <tr>\n      <th>5</th>\n      <td>Colorado Rockies</td>\n      <td>2993244</td>\n      <td>36954</td>\n      <td>39.756980</td>\n      <td>-104.965329</td>\n    </tr>\n    <tr>\n      <th>6</th>\n      <td>Milwaukee Brewers</td>\n      <td>2923333</td>\n      <td>36091</td>\n      <td>43.042050</td>\n      <td>-87.905599</td>\n    </tr>\n    <tr>\n      <th>7</th>\n      <td>Boston Red Sox</td>\n      <td>2915502</td>\n      <td>35994</td>\n      <td>42.346613</td>\n      <td>-71.098817</td>\n    </tr>\n    <tr>\n      <th>8</th>\n      <td>Houston Astros</td>\n      <td>2857367</td>\n      <td>35276</td>\n      <td>29.760450</td>\n      <td>-95.369784</td>\n    </tr>\n    <tr>\n      <th>9</th>\n      <td>Philadelphia Phillies</td>\n      <td>2727421</td>\n      <td>33672</td>\n      <td>39.952313</td>\n      <td>-75.162392</td>\n    </tr>\n    <tr>\n      <th>10</th>\n      <td>San Francisco Giants</td>\n      <td>2707760</td>\n      <td>33429</td>\n      <td>37.779870</td>\n      <td>-122.389754</td>\n    </tr>\n    <tr>\n      <th>11</th>\n      <td>Atlanta Braves</td>\n      <td>2654920</td>\n      <td>32777</td>\n      <td>33.746910</td>\n      <td>-84.391239</td>\n    </tr>\n    <tr>\n      <th>12</th>\n      <td>New York Mets</td>\n      <td>2442532</td>\n      <td>30155</td>\n      <td>40.755350</td>\n      <td>-73.843219</td>\n    </tr>\n    <tr>\n      <th>13</th>\n      <td>San Diego Padres</td>\n      <td>2396399</td>\n      <td>29585</td>\n      <td>32.752148</td>\n      <td>-117.143635</td>\n    </tr>\n    <tr>\n      <th>14</th>\n      <td>Minnesota Twins</td>\n      <td>2303299</td>\n      <td>28436</td>\n      <td>44.974346</td>\n      <td>-93.259616</td>\n    </tr>\n    <tr>\n      <th>15</th>\n      <td>Washington Nationals</td>\n      <td>2259781</td>\n      <td>27899</td>\n      <td>38.870000</td>\n      <td>-77.010000</td>\n    </tr>\n    <tr>\n      <th>16</th>\n      <td>Arizona Diamondbacks</td>\n      <td>2135510</td>\n      <td>26364</td>\n      <td>33.452922</td>\n      <td>-112.038669</td>\n    </tr>\n    <tr>\n      <th>17</th>\n      <td>Texas Rangers</td>\n      <td>2132994</td>\n      <td>26333</td>\n      <td>32.750156</td>\n      <td>-97.081117</td>\n    </tr>\n    <tr>\n      <th>18</th>\n      <td>Cincinnati Reds</td>\n      <td>1809075</td>\n      <td>22334</td>\n      <td>39.107183</td>\n      <td>-84.507713</td>\n    </tr>\n    <tr>\n      <th>19</th>\n      <td>Seattle Mariners</td>\n      <td>1791109</td>\n      <td>22112</td>\n      <td>47.601740</td>\n      <td>-122.330829</td>\n    </tr>\n    <tr>\n      <th>20</th>\n      <td>Toronto Blue Jays</td>\n      <td>1750144</td>\n      <td>21607</td>\n      <td>43.641653</td>\n      <td>-79.391700</td>\n    </tr>\n    <tr>\n      <th>21</th>\n      <td>Cleveland Indians</td>\n      <td>1738642</td>\n      <td>21465</td>\n      <td>41.495149</td>\n      <td>-81.687090</td>\n    </tr>\n    <tr>\n      <th>22</th>\n      <td>Oakland Athletics</td>\n      <td>1670734</td>\n      <td>20626</td>\n      <td>37.749230</td>\n      <td>-122.196487</td>\n    </tr>\n    <tr>\n      <th>23</th>\n      <td>Chicago White Sox</td>\n      <td>1649775</td>\n      <td>20622</td>\n      <td>41.830883</td>\n      <td>-87.635083</td>\n    </tr>\n    <tr>\n      <th>24</th>\n      <td>Detroit Tigers</td>\n      <td>1501430</td>\n      <td>18536</td>\n      <td>42.346354</td>\n      <td>-83.059619</td>\n    </tr>\n    <tr>\n      <th>25</th>\n      <td>Pittsburgh Pirates</td>\n      <td>1491439</td>\n      <td>18413</td>\n      <td>40.461503</td>\n      <td>-80.008924</td>\n    </tr>\n    <tr>\n      <th>26</th>\n      <td>Kansas City Royals</td>\n      <td>1479659</td>\n      <td>18267</td>\n      <td>39.102220</td>\n      <td>-94.583559</td>\n    </tr>\n    <tr>\n      <th>27</th>\n      <td>Baltimore Orioles</td>\n      <td>1307807</td>\n      <td>16146</td>\n      <td>39.285243</td>\n      <td>-76.620103</td>\n    </tr>\n    <tr>\n      <th>28</th>\n      <td>Tampa Bay Rays</td>\n      <td>1178735</td>\n      <td>14552</td>\n      <td>27.768487</td>\n      <td>-82.648191</td>\n    </tr>\n    <tr>\n      <th>29</th>\n      <td>Miami Marlins</td>\n      <td>811302</td>\n      <td>10016</td>\n      <td>25.954428</td>\n      <td>-80.238164</td>\n    </tr>\n  </tbody>\n</table>\n</div>"
     },
     "metadata": {},
     "execution_count": 37
    }
   ],
   "source": [
    "import csv\n",
    "mlb_table = pd.read_csv(\"mlb_attendance.csv\")\n",
    "# mlb_table = mlb_table[['Team Names','Home attendance', 'Per Game', 'Lat', 'Long']]\n",
    "# mlb_table.drop([\"Unnamed: 0\"], axis = 1)\n",
    "del mlb_table[\"Unnamed: 0\"]\n",
    "mlb_table.columns\n",
    "# mlb_table\n",
    "mlb_table"
   ]
  },
  {
   "cell_type": "markdown",
   "metadata": {},
   "source": [
    "### Export NFL and MLB data to SQLite"
   ]
  },
  {
   "cell_type": "code",
   "execution_count": 38,
   "metadata": {},
   "outputs": [
    {
     "output_type": "stream",
     "name": "stdout",
     "text": [
      "2020-10-18 19:54:50,539 INFO sqlalchemy.engine.base.Engine SELECT CAST('test plain returns' AS VARCHAR(60)) AS anon_1\n",
      "2020-10-18 19:54:50,540 INFO sqlalchemy.engine.base.Engine ()\n",
      "2020-10-18 19:54:50,541 INFO sqlalchemy.engine.base.Engine SELECT CAST('test unicode returns' AS VARCHAR(60)) AS anon_1\n",
      "2020-10-18 19:54:50,543 INFO sqlalchemy.engine.base.Engine ()\n"
     ]
    }
   ],
   "source": [
    "##Export DF to sqlite\n",
    "\n",
    "## create engine\n",
    "engine = create_engine('sqlite:///sports.db', echo = True)\n",
    "sqlite_connection = engine.connect()"
   ]
  },
  {
   "cell_type": "code",
   "execution_count": 39,
   "metadata": {},
   "outputs": [
    {
     "output_type": "stream",
     "name": "stdout",
     "text": [
      "2020-10-18 19:54:50,571 INFO sqlalchemy.engine.base.Engine PRAGMA main.table_info(\"nfl_attendance_clean\")\n",
      "2020-10-18 19:54:50,572 INFO sqlalchemy.engine.base.Engine ()\n",
      "2020-10-18 19:54:50,573 INFO sqlalchemy.engine.base.Engine PRAGMA temp.table_info(\"nfl_attendance_clean\")\n",
      "2020-10-18 19:54:50,574 INFO sqlalchemy.engine.base.Engine ()\n",
      "2020-10-18 19:54:50,577 INFO sqlalchemy.engine.base.Engine \n",
      "CREATE TABLE nfl_attendance_clean (\n",
      "\t\"index\" BIGINT, \n",
      "\tteam TEXT, \n",
      "\ttotal_attendance BIGINT, \n",
      "\tstadium_capacity TEXT, \n",
      "\tstadium TEXT, \n",
      "\tlat FLOAT, \n",
      "\tlong FLOAT\n",
      ")\n",
      "\n",
      "\n",
      "2020-10-18 19:54:50,578 INFO sqlalchemy.engine.base.Engine ()\n",
      "2020-10-18 19:54:50,623 INFO sqlalchemy.engine.base.Engine COMMIT\n",
      "2020-10-18 19:54:50,625 INFO sqlalchemy.engine.base.Engine CREATE INDEX ix_nfl_attendance_clean_index ON nfl_attendance_clean (\"index\")\n",
      "2020-10-18 19:54:50,625 INFO sqlalchemy.engine.base.Engine ()\n",
      "2020-10-18 19:54:50,664 INFO sqlalchemy.engine.base.Engine COMMIT\n",
      "2020-10-18 19:54:50,666 INFO sqlalchemy.engine.base.Engine BEGIN (implicit)\n",
      "2020-10-18 19:54:50,669 INFO sqlalchemy.engine.base.Engine INSERT INTO nfl_attendance_clean (\"index\", team, total_attendance, stadium_capacity, stadium, lat, long) VALUES (?, ?, ?, ?, ?, ?, ?)\n",
      "2020-10-18 19:54:50,670 INFO sqlalchemy.engine.base.Engine ((0, 'Arizona Cardinals', 1018127, '63400', 'University of Phoenix Stadium', 33.5276247, -112.2625593), (1, 'Atlanta Falcons', 1119143, '71000', 'Mercedes Benz Stadium', 33.7554491, -84.40085119999999), (2, 'Baltimore Ravens', 1053383, '71008', 'M&T Bank Stadium', 39.2779876, -76.6227044), (3, 'Buffalo Bills', 1072899, '73967', 'New Era Field', 42.7737546, -78.7869723), (4, 'Carolina Panthers', 1102756, '73778', 'Bank of America Stadium', 35.2258108, -80.8528465), (5, 'Chicago Bears', 1045568, '61500', 'Soldier Field', 41.8623132, -87.6166884), (6, 'Cincinnati Bengals', 911289, '65515', 'Paul Brown Stadium', 39.0954576, -84.51605769999999), (7, 'Cleveland Browns', 1045441, '68000', 'FirstEnergy Stadium', 41.5060535, -81.6995481)  ... displaying 10 of 31 total bound parameter sets ...  (29, 'Tampa Bay Buccaneers', 999843, '69143', 'Raymond James Stadium', 27.9759, -82.5033), (30, 'Tennessee Titans', 1092094, '79000', 'Nissan Stadium', 36.1665, -86.7713))\n",
      "2020-10-18 19:54:50,674 INFO sqlalchemy.engine.base.Engine COMMIT\n"
     ]
    }
   ],
   "source": [
    "#Set name of table to create\n",
    "nfl_table = \"nfl_attendance_clean\"\n",
    "nfl_attendance_clean.to_sql(nfl_table, sqlite_connection, if_exists = 'fail')"
   ]
  },
  {
   "cell_type": "markdown",
   "metadata": {},
   "source": [
    "## MLB SQL"
   ]
  },
  {
   "cell_type": "code",
   "execution_count": 40,
   "metadata": {},
   "outputs": [
    {
     "output_type": "stream",
     "name": "stdout",
     "text": [
      "2020-10-18 19:54:50,717 INFO sqlalchemy.engine.base.Engine PRAGMA main.table_info(\"mlb_data\")\n",
      "2020-10-18 19:54:50,718 INFO sqlalchemy.engine.base.Engine ()\n",
      "2020-10-18 19:54:50,719 INFO sqlalchemy.engine.base.Engine PRAGMA temp.table_info(\"mlb_data\")\n",
      "2020-10-18 19:54:50,720 INFO sqlalchemy.engine.base.Engine ()\n",
      "2020-10-18 19:54:50,722 INFO sqlalchemy.engine.base.Engine \n",
      "CREATE TABLE mlb_data (\n",
      "\t\"index\" BIGINT, \n",
      "\t\"Team_Names\" TEXT, \n",
      "\t\"Home_attendance\" BIGINT, \n",
      "\t\"Per_Game\" BIGINT, \n",
      "\t\"Lat\" FLOAT, \n",
      "\t\"Long\" FLOAT\n",
      ")\n",
      "\n",
      "\n",
      "2020-10-18 19:54:50,723 INFO sqlalchemy.engine.base.Engine ()\n",
      "2020-10-18 19:54:50,776 INFO sqlalchemy.engine.base.Engine COMMIT\n",
      "2020-10-18 19:54:50,778 INFO sqlalchemy.engine.base.Engine CREATE INDEX ix_mlb_data_index ON mlb_data (\"index\")\n",
      "2020-10-18 19:54:50,778 INFO sqlalchemy.engine.base.Engine ()\n",
      "2020-10-18 19:54:50,815 INFO sqlalchemy.engine.base.Engine COMMIT\n",
      "2020-10-18 19:54:50,817 INFO sqlalchemy.engine.base.Engine BEGIN (implicit)\n",
      "2020-10-18 19:54:50,819 INFO sqlalchemy.engine.base.Engine INSERT INTO mlb_data (\"index\", \"Team_Names\", \"Home_attendance\", \"Per_Game\", \"Lat\", \"Long\") VALUES (?, ?, ?, ?, ?, ?)\n",
      "2020-10-18 19:54:50,820 INFO sqlalchemy.engine.base.Engine ((0, 'Los Angeles Dodgers', 3974309, 49066, 34.072437, -118.246879), (1, 'St. Louis Cardinals', 3480393, 42968, 38.629683, -90.188247), (2, 'New York Yankees', 3304404, 40795, 40.819782000000004, -73.929939), (3, 'Chicago Cubs', 3094865, 38208, 41.947201, -87.656413), (4, 'Los Angeles Angels', 3023012, 37321, 33.799572, -117.889031), (5, 'Colorado Rockies', 2993244, 36954, 39.75698, -104.965329), (6, 'Milwaukee Brewers', 2923333, 36091, 43.04205, -87.905599), (7, 'Boston Red Sox', 2915502, 35994, 42.346613, -71.09881700000001)  ... displaying 10 of 30 total bound parameter sets ...  (28, 'Tampa Bay Rays', 1178735, 14552, 27.768487, -82.648191), (29, 'Miami Marlins', 811302, 10016, 25.954428, -80.238164))\n",
      "2020-10-18 19:54:50,824 INFO sqlalchemy.engine.base.Engine COMMIT\n"
     ]
    }
   ],
   "source": [
    "#Establish MLB data as own table\n",
    "mlb_data = \"mlb_data\"\n",
    "mlb_table.to_sql(mlb_data, sqlite_connection, if_exists = 'fail')"
   ]
  },
  {
   "cell_type": "code",
   "execution_count": 41,
   "metadata": {
    "scrolled": true
   },
   "outputs": [
    {
     "output_type": "stream",
     "name": "stdout",
     "text": [
      "2020-10-18 19:54:50,869 INFO sqlalchemy.engine.base.Engine select * from mlb_data limit 5;\n",
      "2020-10-18 19:54:50,870 INFO sqlalchemy.engine.base.Engine ()\n"
     ]
    },
    {
     "output_type": "execute_result",
     "data": {
      "text/plain": [
       "[(0, 'Los Angeles Dodgers', 3974309, 49066, 34.072437, -118.246879),\n",
       " (1, 'St. Louis Cardinals', 3480393, 42968, 38.629683, -90.188247),\n",
       " (2, 'New York Yankees', 3304404, 40795, 40.819782000000004, -73.929939),\n",
       " (3, 'Chicago Cubs', 3094865, 38208, 41.947201, -87.656413),\n",
       " (4, 'Los Angeles Angels', 3023012, 37321, 33.799572, -117.889031)]"
      ]
     },
     "metadata": {},
     "execution_count": 41
    }
   ],
   "source": [
    "engine.execute('select * from mlb_data limit 5;').fetchall()"
   ]
  },
  {
   "cell_type": "code",
   "execution_count": 42,
   "metadata": {},
   "outputs": [
    {
     "output_type": "stream",
     "name": "stdout",
     "text": [
      "2020-10-18 19:54:50,908 INFO sqlalchemy.engine.base.Engine create table mlb3 (id_num bigint primary key,Team_Names text,Home_attendance\t bigint,Per_Game text,Lat double,Long double);\n",
      "2020-10-18 19:54:50,908 INFO sqlalchemy.engine.base.Engine ()\n",
      "2020-10-18 19:54:50,949 INFO sqlalchemy.engine.base.Engine COMMIT\n"
     ]
    },
    {
     "output_type": "execute_result",
     "data": {
      "text/plain": [
       "<sqlalchemy.engine.result.ResultProxy at 0x1f68e950e08>"
      ]
     },
     "metadata": {},
     "execution_count": 42
    }
   ],
   "source": [
    "#Putting primary key into MLB table\n",
    "create_query_sql='create table mlb3 (\\\n",
    "id_num bigint primary key,\\\n",
    "Team_Names text,\\\n",
    "Home_attendance\t bigint,\\\n",
    "Per_Game text,\\\n",
    "Lat double,\\\n",
    "Long double\\\n",
    ");'\n",
    "sqlite_connection.execute(create_query_sql)"
   ]
  },
  {
   "cell_type": "code",
   "execution_count": 43,
   "metadata": {},
   "outputs": [
    {
     "output_type": "stream",
     "name": "stdout",
     "text": [
      "2020-10-18 19:54:50,969 INFO sqlalchemy.engine.base.Engine insert into mlb3 select * from mlb_data\n",
      "2020-10-18 19:54:50,970 INFO sqlalchemy.engine.base.Engine ()\n",
      "2020-10-18 19:54:50,975 INFO sqlalchemy.engine.base.Engine COMMIT\n"
     ]
    },
    {
     "output_type": "execute_result",
     "data": {
      "text/plain": [
       "<sqlalchemy.engine.result.ResultProxy at 0x1f68ce301c8>"
      ]
     },
     "metadata": {},
     "execution_count": 43
    }
   ],
   "source": [
    "sqlite_connection.execute('insert into mlb3 select * from mlb_data')"
   ]
  },
  {
   "cell_type": "code",
   "execution_count": 44,
   "metadata": {},
   "outputs": [
    {
     "output_type": "stream",
     "name": "stdout",
     "text": [
      "2020-10-18 19:54:51,036 INFO sqlalchemy.engine.base.Engine select * from mlb3\n",
      "2020-10-18 19:54:51,037 INFO sqlalchemy.engine.base.Engine ()\n"
     ]
    },
    {
     "output_type": "execute_result",
     "data": {
      "text/plain": [
       "[(0, 'Los Angeles Dodgers', 3974309, '49066', 34.072437, -118.246879),\n",
       " (1, 'St. Louis Cardinals', 3480393, '42968', 38.629683, -90.188247),\n",
       " (2, 'New York Yankees', 3304404, '40795', 40.819782000000004, -73.929939),\n",
       " (3, 'Chicago Cubs', 3094865, '38208', 41.947201, -87.656413),\n",
       " (4, 'Los Angeles Angels', 3023012, '37321', 33.799572, -117.889031),\n",
       " (5, 'Colorado Rockies', 2993244, '36954', 39.75698, -104.965329),\n",
       " (6, 'Milwaukee Brewers', 2923333, '36091', 43.04205, -87.905599),\n",
       " (7, 'Boston Red Sox', 2915502, '35994', 42.346613, -71.09881700000001),\n",
       " (8, 'Houston Astros', 2857367, '35276', 29.76045, -95.369784),\n",
       " (9, 'Philadelphia Phillies', 2727421, '33672', 39.952313000000004, -75.16239200000001),\n",
       " (10, 'San Francisco Giants', 2707760, '33429', 37.77987, -122.38975400000001),\n",
       " (11, 'Atlanta Braves', 2654920, '32777', 33.74691, -84.391239),\n",
       " (12, 'New York Mets', 2442532, '30155', 40.75535, -73.84321899999999),\n",
       " (13, 'San Diego Padres', 2396399, '29585', 32.752148, -117.143635),\n",
       " (14, 'Minnesota Twins', 2303299, '28436', 44.974346000000004, -93.25961600000001),\n",
       " (15, 'Washington Nationals', 2259781, '27899', 38.87, -77.01),\n",
       " (16, 'Arizona Diamondbacks', 2135510, '26364', 33.452921999999994, -112.038669),\n",
       " (17, 'Texas Rangers', 2132994, '26333', 32.750156, -97.081117),\n",
       " (18, 'Cincinnati Reds', 1809075, '22334', 39.107183, -84.507713),\n",
       " (19, 'Seattle Mariners', 1791109, '22112', 47.60174, -122.33082900000001),\n",
       " (20, 'Toronto Blue Jays', 1750144, '21607', 43.641653000000005, -79.3917),\n",
       " (21, 'Cleveland Indians', 1738642, '21465', 41.495149, -81.68709),\n",
       " (22, 'Oakland Athletics', 1670734, '20626', 37.74923, -122.196487),\n",
       " (23, 'Chicago White Sox', 1649775, '20622', 41.830883, -87.635083),\n",
       " (24, 'Detroit Tigers', 1501430, '18536', 42.346354, -83.059619),\n",
       " (25, 'Pittsburgh Pirates', 1491439, '18413', 40.461503, -80.008924),\n",
       " (26, 'Kansas City Royals', 1479659, '18267', 39.10222, -94.583559),\n",
       " (27, 'Baltimore Orioles', 1307807, '16146', 39.285243, -76.620103),\n",
       " (28, 'Tampa Bay Rays', 1178735, '14552', 27.768487, -82.648191),\n",
       " (29, 'Miami Marlins', 811302, '10016', 25.954428, -80.238164)]"
      ]
     },
     "metadata": {},
     "execution_count": 44
    }
   ],
   "source": [
    "#Make fetch happen, check work \n",
    "sqlite_connection.execute('select * from mlb3').fetchall()\n"
   ]
  },
  {
   "cell_type": "code",
   "execution_count": 45,
   "metadata": {},
   "outputs": [
    {
     "output_type": "stream",
     "name": "stdout",
     "text": [
      "2020-10-18 19:54:51,071 INFO sqlalchemy.engine.base.Engine SELECT CAST('test plain returns' AS VARCHAR(60)) AS anon_1\n",
      "2020-10-18 19:54:51,072 INFO sqlalchemy.engine.base.Engine ()\n",
      "2020-10-18 19:54:51,073 INFO sqlalchemy.engine.base.Engine SELECT CAST('test unicode returns' AS VARCHAR(60)) AS anon_1\n",
      "2020-10-18 19:54:51,074 INFO sqlalchemy.engine.base.Engine ()\n"
     ]
    }
   ],
   "source": [
    "engine = create_engine('sqlite:///sports.db', echo = True)\n",
    "sqlite_connection = engine.connect()"
   ]
  },
  {
   "cell_type": "code",
   "execution_count": 46,
   "metadata": {},
   "outputs": [
    {
     "output_type": "stream",
     "name": "stdout",
     "text": [
      "2020-10-18 19:54:51,105 INFO sqlalchemy.engine.base.Engine select * from nfl_attendance_clean limit 5;\n",
      "2020-10-18 19:54:51,106 INFO sqlalchemy.engine.base.Engine ()\n"
     ]
    },
    {
     "output_type": "execute_result",
     "data": {
      "text/plain": [
       "[(0, 'Arizona Cardinals', 1018127, '63400', 'University of Phoenix Stadium', 33.5276247, -112.2625593),\n",
       " (1, 'Atlanta Falcons', 1119143, '71000', 'Mercedes Benz Stadium', 33.7554491, -84.40085119999999),\n",
       " (2, 'Baltimore Ravens', 1053383, '71008', 'M&T Bank Stadium', 39.2779876, -76.6227044),\n",
       " (3, 'Buffalo Bills', 1072899, '73967', 'New Era Field', 42.7737546, -78.7869723),\n",
       " (4, 'Carolina Panthers', 1102756, '73778', 'Bank of America Stadium', 35.2258108, -80.8528465)]"
      ]
     },
     "metadata": {},
     "execution_count": 46
    }
   ],
   "source": [
    "engine.execute('select * from nfl_attendance_clean limit 5;').fetchall()"
   ]
  },
  {
   "cell_type": "code",
   "execution_count": 47,
   "metadata": {
    "scrolled": true
   },
   "outputs": [
    {
     "output_type": "stream",
     "name": "stdout",
     "text": [
      "2020-10-18 19:54:51,138 INFO sqlalchemy.engine.base.Engine SELECT name FROM sqlite_master WHERE type='table' ORDER BY name\n",
      "2020-10-18 19:54:51,139 INFO sqlalchemy.engine.base.Engine ()\n",
      "2020-10-18 19:54:51,140 INFO sqlalchemy.engine.base.Engine PRAGMA main.table_info(\"mlb3\")\n",
      "2020-10-18 19:54:51,141 INFO sqlalchemy.engine.base.Engine ()\n",
      "2020-10-18 19:54:51,143 INFO sqlalchemy.engine.base.Engine SELECT sql FROM  (SELECT * FROM sqlite_master UNION ALL   SELECT * FROM sqlite_temp_master) WHERE name = 'mlb3' AND type = 'table'\n",
      "2020-10-18 19:54:51,144 INFO sqlalchemy.engine.base.Engine ()\n",
      "2020-10-18 19:54:51,146 INFO sqlalchemy.engine.base.Engine PRAGMA main.foreign_key_list(\"mlb3\")\n",
      "2020-10-18 19:54:51,147 INFO sqlalchemy.engine.base.Engine ()\n",
      "2020-10-18 19:54:51,149 INFO sqlalchemy.engine.base.Engine PRAGMA temp.foreign_key_list(\"mlb3\")\n",
      "2020-10-18 19:54:51,150 INFO sqlalchemy.engine.base.Engine ()\n",
      "2020-10-18 19:54:51,151 INFO sqlalchemy.engine.base.Engine SELECT sql FROM  (SELECT * FROM sqlite_master UNION ALL   SELECT * FROM sqlite_temp_master) WHERE name = 'mlb3' AND type = 'table'\n",
      "2020-10-18 19:54:51,151 INFO sqlalchemy.engine.base.Engine ()\n",
      "2020-10-18 19:54:51,154 INFO sqlalchemy.engine.base.Engine PRAGMA main.index_list(\"mlb3\")\n",
      "2020-10-18 19:54:51,155 INFO sqlalchemy.engine.base.Engine ()\n",
      "2020-10-18 19:54:51,156 INFO sqlalchemy.engine.base.Engine PRAGMA main.index_list(\"mlb3\")\n",
      "2020-10-18 19:54:51,157 INFO sqlalchemy.engine.base.Engine ()\n",
      "2020-10-18 19:54:51,158 INFO sqlalchemy.engine.base.Engine PRAGMA main.index_info(\"sqlite_autoindex_mlb3_1\")\n",
      "2020-10-18 19:54:51,159 INFO sqlalchemy.engine.base.Engine ()\n",
      "2020-10-18 19:54:51,161 INFO sqlalchemy.engine.base.Engine SELECT sql FROM  (SELECT * FROM sqlite_master UNION ALL   SELECT * FROM sqlite_temp_master) WHERE name = 'mlb3' AND type = 'table'\n",
      "2020-10-18 19:54:51,162 INFO sqlalchemy.engine.base.Engine ()\n",
      "2020-10-18 19:54:51,165 INFO sqlalchemy.engine.base.Engine PRAGMA main.table_info(\"mlb_data\")\n",
      "2020-10-18 19:54:51,166 INFO sqlalchemy.engine.base.Engine ()\n",
      "2020-10-18 19:54:51,168 INFO sqlalchemy.engine.base.Engine SELECT sql FROM  (SELECT * FROM sqlite_master UNION ALL   SELECT * FROM sqlite_temp_master) WHERE name = 'mlb_data' AND type = 'table'\n",
      "2020-10-18 19:54:51,169 INFO sqlalchemy.engine.base.Engine ()\n",
      "2020-10-18 19:54:51,170 INFO sqlalchemy.engine.base.Engine PRAGMA main.foreign_key_list(\"mlb_data\")\n",
      "2020-10-18 19:54:51,172 INFO sqlalchemy.engine.base.Engine ()\n",
      "2020-10-18 19:54:51,172 INFO sqlalchemy.engine.base.Engine PRAGMA temp.foreign_key_list(\"mlb_data\")\n",
      "2020-10-18 19:54:51,173 INFO sqlalchemy.engine.base.Engine ()\n",
      "2020-10-18 19:54:51,174 INFO sqlalchemy.engine.base.Engine SELECT sql FROM  (SELECT * FROM sqlite_master UNION ALL   SELECT * FROM sqlite_temp_master) WHERE name = 'mlb_data' AND type = 'table'\n",
      "2020-10-18 19:54:51,174 INFO sqlalchemy.engine.base.Engine ()\n",
      "2020-10-18 19:54:51,175 INFO sqlalchemy.engine.base.Engine PRAGMA main.index_list(\"mlb_data\")\n",
      "2020-10-18 19:54:51,176 INFO sqlalchemy.engine.base.Engine ()\n",
      "2020-10-18 19:54:51,178 INFO sqlalchemy.engine.base.Engine PRAGMA main.index_info(\"ix_mlb_data_index\")\n",
      "2020-10-18 19:54:51,178 INFO sqlalchemy.engine.base.Engine ()\n",
      "2020-10-18 19:54:51,180 INFO sqlalchemy.engine.base.Engine PRAGMA main.index_list(\"mlb_data\")\n",
      "2020-10-18 19:54:51,180 INFO sqlalchemy.engine.base.Engine ()\n",
      "2020-10-18 19:54:51,182 INFO sqlalchemy.engine.base.Engine PRAGMA main.index_info(\"ix_mlb_data_index\")\n",
      "2020-10-18 19:54:51,182 INFO sqlalchemy.engine.base.Engine ()\n",
      "2020-10-18 19:54:51,183 INFO sqlalchemy.engine.base.Engine SELECT sql FROM  (SELECT * FROM sqlite_master UNION ALL   SELECT * FROM sqlite_temp_master) WHERE name = 'mlb_data' AND type = 'table'\n",
      "2020-10-18 19:54:51,184 INFO sqlalchemy.engine.base.Engine ()\n",
      "2020-10-18 19:54:51,186 INFO sqlalchemy.engine.base.Engine PRAGMA main.table_info(\"nba_data\")\n",
      "2020-10-18 19:54:51,186 INFO sqlalchemy.engine.base.Engine ()\n",
      "2020-10-18 19:54:51,188 INFO sqlalchemy.engine.base.Engine SELECT sql FROM  (SELECT * FROM sqlite_master UNION ALL   SELECT * FROM sqlite_temp_master) WHERE name = 'nba_data' AND type = 'table'\n",
      "2020-10-18 19:54:51,189 INFO sqlalchemy.engine.base.Engine ()\n",
      "2020-10-18 19:54:51,190 INFO sqlalchemy.engine.base.Engine PRAGMA main.foreign_key_list(\"nba_data\")\n",
      "2020-10-18 19:54:51,191 INFO sqlalchemy.engine.base.Engine ()\n",
      "2020-10-18 19:54:51,192 INFO sqlalchemy.engine.base.Engine PRAGMA temp.foreign_key_list(\"nba_data\")\n",
      "2020-10-18 19:54:51,192 INFO sqlalchemy.engine.base.Engine ()\n",
      "2020-10-18 19:54:51,193 INFO sqlalchemy.engine.base.Engine SELECT sql FROM  (SELECT * FROM sqlite_master UNION ALL   SELECT * FROM sqlite_temp_master) WHERE name = 'nba_data' AND type = 'table'\n",
      "2020-10-18 19:54:51,194 INFO sqlalchemy.engine.base.Engine ()\n",
      "2020-10-18 19:54:51,195 INFO sqlalchemy.engine.base.Engine PRAGMA main.index_list(\"nba_data\")\n",
      "2020-10-18 19:54:51,196 INFO sqlalchemy.engine.base.Engine ()\n",
      "2020-10-18 19:54:51,197 INFO sqlalchemy.engine.base.Engine PRAGMA temp.index_list(\"nba_data\")\n",
      "2020-10-18 19:54:51,198 INFO sqlalchemy.engine.base.Engine ()\n",
      "2020-10-18 19:54:51,198 INFO sqlalchemy.engine.base.Engine PRAGMA main.index_list(\"nba_data\")\n",
      "2020-10-18 19:54:51,199 INFO sqlalchemy.engine.base.Engine ()\n",
      "2020-10-18 19:54:51,200 INFO sqlalchemy.engine.base.Engine PRAGMA temp.index_list(\"nba_data\")\n",
      "2020-10-18 19:54:51,201 INFO sqlalchemy.engine.base.Engine ()\n",
      "2020-10-18 19:54:51,202 INFO sqlalchemy.engine.base.Engine SELECT sql FROM  (SELECT * FROM sqlite_master UNION ALL   SELECT * FROM sqlite_temp_master) WHERE name = 'nba_data' AND type = 'table'\n",
      "2020-10-18 19:54:51,202 INFO sqlalchemy.engine.base.Engine ()\n",
      "2020-10-18 19:54:51,204 INFO sqlalchemy.engine.base.Engine PRAGMA main.table_info(\"nba_table\")\n",
      "2020-10-18 19:54:51,204 INFO sqlalchemy.engine.base.Engine ()\n",
      "2020-10-18 19:54:51,206 INFO sqlalchemy.engine.base.Engine SELECT sql FROM  (SELECT * FROM sqlite_master UNION ALL   SELECT * FROM sqlite_temp_master) WHERE name = 'nba_table' AND type = 'table'\n",
      "2020-10-18 19:54:51,207 INFO sqlalchemy.engine.base.Engine ()\n",
      "2020-10-18 19:54:51,209 INFO sqlalchemy.engine.base.Engine PRAGMA main.foreign_key_list(\"nba_table\")\n",
      "2020-10-18 19:54:51,209 INFO sqlalchemy.engine.base.Engine ()\n",
      "2020-10-18 19:54:51,214 INFO sqlalchemy.engine.base.Engine PRAGMA temp.foreign_key_list(\"nba_table\")\n",
      "2020-10-18 19:54:51,215 INFO sqlalchemy.engine.base.Engine ()\n",
      "2020-10-18 19:54:51,216 INFO sqlalchemy.engine.base.Engine SELECT sql FROM  (SELECT * FROM sqlite_master UNION ALL   SELECT * FROM sqlite_temp_master) WHERE name = 'nba_table' AND type = 'table'\n",
      "2020-10-18 19:54:51,217 INFO sqlalchemy.engine.base.Engine ()\n",
      "2020-10-18 19:54:51,218 INFO sqlalchemy.engine.base.Engine PRAGMA main.index_list(\"nba_table\")\n",
      "2020-10-18 19:54:51,219 INFO sqlalchemy.engine.base.Engine ()\n",
      "2020-10-18 19:54:51,220 INFO sqlalchemy.engine.base.Engine PRAGMA main.index_list(\"nba_table\")\n",
      "2020-10-18 19:54:51,221 INFO sqlalchemy.engine.base.Engine ()\n",
      "2020-10-18 19:54:51,222 INFO sqlalchemy.engine.base.Engine PRAGMA main.index_info(\"sqlite_autoindex_nba_table_1\")\n",
      "2020-10-18 19:54:51,223 INFO sqlalchemy.engine.base.Engine ()\n",
      "2020-10-18 19:54:51,224 INFO sqlalchemy.engine.base.Engine SELECT sql FROM  (SELECT * FROM sqlite_master UNION ALL   SELECT * FROM sqlite_temp_master) WHERE name = 'nba_table' AND type = 'table'\n",
      "2020-10-18 19:54:51,225 INFO sqlalchemy.engine.base.Engine ()\n",
      "2020-10-18 19:54:51,227 INFO sqlalchemy.engine.base.Engine PRAGMA main.table_info(\"nfl_attendance_clean\")\n",
      "2020-10-18 19:54:51,228 INFO sqlalchemy.engine.base.Engine ()\n",
      "2020-10-18 19:54:51,230 INFO sqlalchemy.engine.base.Engine SELECT sql FROM  (SELECT * FROM sqlite_master UNION ALL   SELECT * FROM sqlite_temp_master) WHERE name = 'nfl_attendance_clean' AND type = 'table'\n",
      "2020-10-18 19:54:51,231 INFO sqlalchemy.engine.base.Engine ()\n",
      "2020-10-18 19:54:51,232 INFO sqlalchemy.engine.base.Engine PRAGMA main.foreign_key_list(\"nfl_attendance_clean\")\n",
      "2020-10-18 19:54:51,233 INFO sqlalchemy.engine.base.Engine ()\n",
      "2020-10-18 19:54:51,234 INFO sqlalchemy.engine.base.Engine PRAGMA temp.foreign_key_list(\"nfl_attendance_clean\")\n",
      "2020-10-18 19:54:51,235 INFO sqlalchemy.engine.base.Engine ()\n",
      "2020-10-18 19:54:51,236 INFO sqlalchemy.engine.base.Engine SELECT sql FROM  (SELECT * FROM sqlite_master UNION ALL   SELECT * FROM sqlite_temp_master) WHERE name = 'nfl_attendance_clean' AND type = 'table'\n",
      "2020-10-18 19:54:51,236 INFO sqlalchemy.engine.base.Engine ()\n",
      "2020-10-18 19:54:51,237 INFO sqlalchemy.engine.base.Engine PRAGMA main.index_list(\"nfl_attendance_clean\")\n",
      "2020-10-18 19:54:51,238 INFO sqlalchemy.engine.base.Engine ()\n",
      "2020-10-18 19:54:51,249 INFO sqlalchemy.engine.base.Engine PRAGMA main.index_info(\"ix_nfl_attendance_clean_index\")\n",
      "2020-10-18 19:54:51,265 INFO sqlalchemy.engine.base.Engine ()\n",
      "2020-10-18 19:54:51,266 INFO sqlalchemy.engine.base.Engine PRAGMA main.index_list(\"nfl_attendance_clean\")\n",
      "2020-10-18 19:54:51,267 INFO sqlalchemy.engine.base.Engine ()\n",
      "2020-10-18 19:54:51,269 INFO sqlalchemy.engine.base.Engine PRAGMA main.index_info(\"ix_nfl_attendance_clean_index\")\n",
      "2020-10-18 19:54:51,270 INFO sqlalchemy.engine.base.Engine ()\n",
      "2020-10-18 19:54:51,273 INFO sqlalchemy.engine.base.Engine SELECT sql FROM  (SELECT * FROM sqlite_master UNION ALL   SELECT * FROM sqlite_temp_master) WHERE name = 'nfl_attendance_clean' AND type = 'table'\n",
      "2020-10-18 19:54:51,280 INFO sqlalchemy.engine.base.Engine ()\n"
     ]
    },
    {
     "output_type": "execute_result",
     "data": {
      "text/plain": [
       "['mlb3', 'nba_table']"
      ]
     },
     "metadata": {},
     "execution_count": 47
    }
   ],
   "source": [
    "Base=automap_base()\n",
    "Base.prepare(sqlite_connection, reflect=True)\n",
    "Base.classes.keys()"
   ]
  },
  {
   "cell_type": "code",
   "execution_count": 48,
   "metadata": {
    "scrolled": true
   },
   "outputs": [
    {
     "output_type": "stream",
     "name": "stdout",
     "text": [
      "2020-10-18 19:54:51,303 INFO sqlalchemy.engine.base.Engine pragma table_info(nfl_attendance_clean);\n",
      "2020-10-18 19:54:51,304 INFO sqlalchemy.engine.base.Engine ()\n"
     ]
    },
    {
     "output_type": "execute_result",
     "data": {
      "text/plain": [
       "[(0, 'index', 'BIGINT', 0, None, 0),\n",
       " (1, 'team', 'TEXT', 0, None, 0),\n",
       " (2, 'total_attendance', 'BIGINT', 0, None, 0),\n",
       " (3, 'stadium_capacity', 'TEXT', 0, None, 0),\n",
       " (4, 'stadium', 'TEXT', 0, None, 0),\n",
       " (5, 'lat', 'FLOAT', 0, None, 0),\n",
       " (6, 'long', 'FLOAT', 0, None, 0)]"
      ]
     },
     "metadata": {},
     "execution_count": 48
    }
   ],
   "source": [
    "sqlite_connection.execute('pragma table_info(nfl_attendance_clean);').fetchall()"
   ]
  },
  {
   "cell_type": "code",
   "execution_count": 49,
   "metadata": {},
   "outputs": [
    {
     "output_type": "stream",
     "name": "stdout",
     "text": [
      "2020-10-18 19:54:51,338 INFO sqlalchemy.engine.base.Engine create table nfl (id_num bigint primary key,team text,total_attendance bigint,stadium_capacity text,stadium text,lat double,long double);\n",
      "2020-10-18 19:54:51,339 INFO sqlalchemy.engine.base.Engine ()\n",
      "2020-10-18 19:54:51,396 INFO sqlalchemy.engine.base.Engine COMMIT\n"
     ]
    },
    {
     "output_type": "execute_result",
     "data": {
      "text/plain": [
       "<sqlalchemy.engine.result.ResultProxy at 0x1f68e9a0788>"
      ]
     },
     "metadata": {},
     "execution_count": 49
    }
   ],
   "source": [
    "create_query_sql='create table nfl (\\\n",
    "id_num bigint primary key,\\\n",
    "team text,\\\n",
    "total_attendance bigint,\\\n",
    "stadium_capacity text,\\\n",
    "stadium text,\\\n",
    "lat double,\\\n",
    "long double\\\n",
    ");'\n",
    "sqlite_connection.execute(create_query_sql)"
   ]
  },
  {
   "cell_type": "code",
   "execution_count": 50,
   "metadata": {},
   "outputs": [
    {
     "output_type": "stream",
     "name": "stdout",
     "text": [
      "2020-10-18 19:54:51,409 INFO sqlalchemy.engine.base.Engine SELECT name FROM sqlite_master WHERE type='table' ORDER BY name\n",
      "2020-10-18 19:54:51,410 INFO sqlalchemy.engine.base.Engine ()\n",
      "2020-10-18 19:54:51,412 INFO sqlalchemy.engine.base.Engine PRAGMA main.table_info(\"mlb3\")\n",
      "2020-10-18 19:54:51,413 INFO sqlalchemy.engine.base.Engine ()\n",
      "2020-10-18 19:54:51,414 INFO sqlalchemy.engine.base.Engine SELECT sql FROM  (SELECT * FROM sqlite_master UNION ALL   SELECT * FROM sqlite_temp_master) WHERE name = 'mlb3' AND type = 'table'\n",
      "2020-10-18 19:54:51,415 INFO sqlalchemy.engine.base.Engine ()\n",
      "2020-10-18 19:54:51,417 INFO sqlalchemy.engine.base.Engine PRAGMA main.foreign_key_list(\"mlb3\")\n",
      "2020-10-18 19:54:51,418 INFO sqlalchemy.engine.base.Engine ()\n",
      "2020-10-18 19:54:51,419 INFO sqlalchemy.engine.base.Engine PRAGMA temp.foreign_key_list(\"mlb3\")\n",
      "2020-10-18 19:54:51,420 INFO sqlalchemy.engine.base.Engine ()\n",
      "2020-10-18 19:54:51,420 INFO sqlalchemy.engine.base.Engine SELECT sql FROM  (SELECT * FROM sqlite_master UNION ALL   SELECT * FROM sqlite_temp_master) WHERE name = 'mlb3' AND type = 'table'\n",
      "2020-10-18 19:54:51,421 INFO sqlalchemy.engine.base.Engine ()\n",
      "2020-10-18 19:54:51,422 INFO sqlalchemy.engine.base.Engine PRAGMA main.index_list(\"mlb3\")\n",
      "2020-10-18 19:54:51,422 INFO sqlalchemy.engine.base.Engine ()\n",
      "2020-10-18 19:54:51,424 INFO sqlalchemy.engine.base.Engine PRAGMA main.index_list(\"mlb3\")\n",
      "2020-10-18 19:54:51,424 INFO sqlalchemy.engine.base.Engine ()\n",
      "2020-10-18 19:54:51,425 INFO sqlalchemy.engine.base.Engine PRAGMA main.index_info(\"sqlite_autoindex_mlb3_1\")\n",
      "2020-10-18 19:54:51,426 INFO sqlalchemy.engine.base.Engine ()\n",
      "2020-10-18 19:54:51,428 INFO sqlalchemy.engine.base.Engine SELECT sql FROM  (SELECT * FROM sqlite_master UNION ALL   SELECT * FROM sqlite_temp_master) WHERE name = 'mlb3' AND type = 'table'\n",
      "2020-10-18 19:54:51,429 INFO sqlalchemy.engine.base.Engine ()\n",
      "2020-10-18 19:54:51,430 INFO sqlalchemy.engine.base.Engine PRAGMA main.table_info(\"mlb_data\")\n",
      "2020-10-18 19:54:51,430 INFO sqlalchemy.engine.base.Engine ()\n",
      "2020-10-18 19:54:51,432 INFO sqlalchemy.engine.base.Engine SELECT sql FROM  (SELECT * FROM sqlite_master UNION ALL   SELECT * FROM sqlite_temp_master) WHERE name = 'mlb_data' AND type = 'table'\n",
      "2020-10-18 19:54:51,433 INFO sqlalchemy.engine.base.Engine ()\n",
      "2020-10-18 19:54:51,434 INFO sqlalchemy.engine.base.Engine PRAGMA main.foreign_key_list(\"mlb_data\")\n",
      "2020-10-18 19:54:51,435 INFO sqlalchemy.engine.base.Engine ()\n",
      "2020-10-18 19:54:51,436 INFO sqlalchemy.engine.base.Engine PRAGMA temp.foreign_key_list(\"mlb_data\")\n",
      "2020-10-18 19:54:51,437 INFO sqlalchemy.engine.base.Engine ()\n",
      "2020-10-18 19:54:51,438 INFO sqlalchemy.engine.base.Engine SELECT sql FROM  (SELECT * FROM sqlite_master UNION ALL   SELECT * FROM sqlite_temp_master) WHERE name = 'mlb_data' AND type = 'table'\n",
      "2020-10-18 19:54:51,438 INFO sqlalchemy.engine.base.Engine ()\n",
      "2020-10-18 19:54:51,439 INFO sqlalchemy.engine.base.Engine PRAGMA main.index_list(\"mlb_data\")\n",
      "2020-10-18 19:54:51,440 INFO sqlalchemy.engine.base.Engine ()\n",
      "2020-10-18 19:54:51,441 INFO sqlalchemy.engine.base.Engine PRAGMA main.index_info(\"ix_mlb_data_index\")\n",
      "2020-10-18 19:54:51,442 INFO sqlalchemy.engine.base.Engine ()\n",
      "2020-10-18 19:54:51,443 INFO sqlalchemy.engine.base.Engine PRAGMA main.index_list(\"mlb_data\")\n",
      "2020-10-18 19:54:51,444 INFO sqlalchemy.engine.base.Engine ()\n",
      "2020-10-18 19:54:51,445 INFO sqlalchemy.engine.base.Engine PRAGMA main.index_info(\"ix_mlb_data_index\")\n",
      "2020-10-18 19:54:51,446 INFO sqlalchemy.engine.base.Engine ()\n",
      "2020-10-18 19:54:51,447 INFO sqlalchemy.engine.base.Engine SELECT sql FROM  (SELECT * FROM sqlite_master UNION ALL   SELECT * FROM sqlite_temp_master) WHERE name = 'mlb_data' AND type = 'table'\n",
      "2020-10-18 19:54:51,448 INFO sqlalchemy.engine.base.Engine ()\n",
      "2020-10-18 19:54:51,449 INFO sqlalchemy.engine.base.Engine PRAGMA main.table_info(\"nba_data\")\n",
      "2020-10-18 19:54:51,450 INFO sqlalchemy.engine.base.Engine ()\n",
      "2020-10-18 19:54:51,452 INFO sqlalchemy.engine.base.Engine SELECT sql FROM  (SELECT * FROM sqlite_master UNION ALL   SELECT * FROM sqlite_temp_master) WHERE name = 'nba_data' AND type = 'table'\n",
      "2020-10-18 19:54:51,453 INFO sqlalchemy.engine.base.Engine ()\n",
      "2020-10-18 19:54:51,454 INFO sqlalchemy.engine.base.Engine PRAGMA main.foreign_key_list(\"nba_data\")\n",
      "2020-10-18 19:54:51,455 INFO sqlalchemy.engine.base.Engine ()\n",
      "2020-10-18 19:54:51,456 INFO sqlalchemy.engine.base.Engine PRAGMA temp.foreign_key_list(\"nba_data\")\n",
      "2020-10-18 19:54:51,457 INFO sqlalchemy.engine.base.Engine ()\n",
      "2020-10-18 19:54:51,457 INFO sqlalchemy.engine.base.Engine SELECT sql FROM  (SELECT * FROM sqlite_master UNION ALL   SELECT * FROM sqlite_temp_master) WHERE name = 'nba_data' AND type = 'table'\n",
      "2020-10-18 19:54:51,458 INFO sqlalchemy.engine.base.Engine ()\n",
      "2020-10-18 19:54:51,459 INFO sqlalchemy.engine.base.Engine PRAGMA main.index_list(\"nba_data\")\n",
      "2020-10-18 19:54:51,460 INFO sqlalchemy.engine.base.Engine ()\n",
      "2020-10-18 19:54:51,461 INFO sqlalchemy.engine.base.Engine PRAGMA temp.index_list(\"nba_data\")\n",
      "2020-10-18 19:54:51,461 INFO sqlalchemy.engine.base.Engine ()\n",
      "2020-10-18 19:54:51,462 INFO sqlalchemy.engine.base.Engine PRAGMA main.index_list(\"nba_data\")\n",
      "2020-10-18 19:54:51,463 INFO sqlalchemy.engine.base.Engine ()\n",
      "2020-10-18 19:54:51,464 INFO sqlalchemy.engine.base.Engine PRAGMA temp.index_list(\"nba_data\")\n",
      "2020-10-18 19:54:51,464 INFO sqlalchemy.engine.base.Engine ()\n",
      "2020-10-18 19:54:51,465 INFO sqlalchemy.engine.base.Engine SELECT sql FROM  (SELECT * FROM sqlite_master UNION ALL   SELECT * FROM sqlite_temp_master) WHERE name = 'nba_data' AND type = 'table'\n",
      "2020-10-18 19:54:51,466 INFO sqlalchemy.engine.base.Engine ()\n",
      "2020-10-18 19:54:51,467 INFO sqlalchemy.engine.base.Engine PRAGMA main.table_info(\"nba_table\")\n",
      "2020-10-18 19:54:51,468 INFO sqlalchemy.engine.base.Engine ()\n",
      "2020-10-18 19:54:51,470 INFO sqlalchemy.engine.base.Engine SELECT sql FROM  (SELECT * FROM sqlite_master UNION ALL   SELECT * FROM sqlite_temp_master) WHERE name = 'nba_table' AND type = 'table'\n",
      "2020-10-18 19:54:51,471 INFO sqlalchemy.engine.base.Engine ()\n",
      "2020-10-18 19:54:51,473 INFO sqlalchemy.engine.base.Engine PRAGMA main.foreign_key_list(\"nba_table\")\n",
      "2020-10-18 19:54:51,473 INFO sqlalchemy.engine.base.Engine ()\n",
      "2020-10-18 19:54:51,474 INFO sqlalchemy.engine.base.Engine PRAGMA temp.foreign_key_list(\"nba_table\")\n",
      "2020-10-18 19:54:51,475 INFO sqlalchemy.engine.base.Engine ()\n",
      "2020-10-18 19:54:51,475 INFO sqlalchemy.engine.base.Engine SELECT sql FROM  (SELECT * FROM sqlite_master UNION ALL   SELECT * FROM sqlite_temp_master) WHERE name = 'nba_table' AND type = 'table'\n",
      "2020-10-18 19:54:51,476 INFO sqlalchemy.engine.base.Engine ()\n",
      "2020-10-18 19:54:51,477 INFO sqlalchemy.engine.base.Engine PRAGMA main.index_list(\"nba_table\")\n",
      "2020-10-18 19:54:51,478 INFO sqlalchemy.engine.base.Engine ()\n",
      "2020-10-18 19:54:51,479 INFO sqlalchemy.engine.base.Engine PRAGMA main.index_list(\"nba_table\")\n",
      "2020-10-18 19:54:51,480 INFO sqlalchemy.engine.base.Engine ()\n",
      "2020-10-18 19:54:51,481 INFO sqlalchemy.engine.base.Engine PRAGMA main.index_info(\"sqlite_autoindex_nba_table_1\")\n",
      "2020-10-18 19:54:51,481 INFO sqlalchemy.engine.base.Engine ()\n",
      "2020-10-18 19:54:51,482 INFO sqlalchemy.engine.base.Engine SELECT sql FROM  (SELECT * FROM sqlite_master UNION ALL   SELECT * FROM sqlite_temp_master) WHERE name = 'nba_table' AND type = 'table'\n",
      "2020-10-18 19:54:51,483 INFO sqlalchemy.engine.base.Engine ()\n",
      "2020-10-18 19:54:51,484 INFO sqlalchemy.engine.base.Engine PRAGMA main.table_info(\"nfl\")\n",
      "2020-10-18 19:54:51,485 INFO sqlalchemy.engine.base.Engine ()\n",
      "2020-10-18 19:54:51,487 INFO sqlalchemy.engine.base.Engine SELECT sql FROM  (SELECT * FROM sqlite_master UNION ALL   SELECT * FROM sqlite_temp_master) WHERE name = 'nfl' AND type = 'table'\n",
      "2020-10-18 19:54:51,488 INFO sqlalchemy.engine.base.Engine ()\n",
      "2020-10-18 19:54:51,489 INFO sqlalchemy.engine.base.Engine PRAGMA main.foreign_key_list(\"nfl\")\n",
      "2020-10-18 19:54:51,490 INFO sqlalchemy.engine.base.Engine ()\n",
      "2020-10-18 19:54:51,491 INFO sqlalchemy.engine.base.Engine PRAGMA temp.foreign_key_list(\"nfl\")\n",
      "2020-10-18 19:54:51,491 INFO sqlalchemy.engine.base.Engine ()\n",
      "2020-10-18 19:54:51,492 INFO sqlalchemy.engine.base.Engine SELECT sql FROM  (SELECT * FROM sqlite_master UNION ALL   SELECT * FROM sqlite_temp_master) WHERE name = 'nfl' AND type = 'table'\n",
      "2020-10-18 19:54:51,493 INFO sqlalchemy.engine.base.Engine ()\n",
      "2020-10-18 19:54:51,495 INFO sqlalchemy.engine.base.Engine PRAGMA main.index_list(\"nfl\")\n",
      "2020-10-18 19:54:51,496 INFO sqlalchemy.engine.base.Engine ()\n",
      "2020-10-18 19:54:51,497 INFO sqlalchemy.engine.base.Engine PRAGMA main.index_list(\"nfl\")\n",
      "2020-10-18 19:54:51,498 INFO sqlalchemy.engine.base.Engine ()\n",
      "2020-10-18 19:54:51,499 INFO sqlalchemy.engine.base.Engine PRAGMA main.index_info(\"sqlite_autoindex_nfl_1\")\n",
      "2020-10-18 19:54:51,500 INFO sqlalchemy.engine.base.Engine ()\n",
      "2020-10-18 19:54:51,501 INFO sqlalchemy.engine.base.Engine SELECT sql FROM  (SELECT * FROM sqlite_master UNION ALL   SELECT * FROM sqlite_temp_master) WHERE name = 'nfl' AND type = 'table'\n",
      "2020-10-18 19:54:51,502 INFO sqlalchemy.engine.base.Engine ()\n",
      "2020-10-18 19:54:51,504 INFO sqlalchemy.engine.base.Engine PRAGMA main.table_info(\"nfl_attendance_clean\")\n",
      "2020-10-18 19:54:51,504 INFO sqlalchemy.engine.base.Engine ()\n",
      "2020-10-18 19:54:51,507 INFO sqlalchemy.engine.base.Engine SELECT sql FROM  (SELECT * FROM sqlite_master UNION ALL   SELECT * FROM sqlite_temp_master) WHERE name = 'nfl_attendance_clean' AND type = 'table'\n",
      "2020-10-18 19:54:51,508 INFO sqlalchemy.engine.base.Engine ()\n",
      "2020-10-18 19:54:51,509 INFO sqlalchemy.engine.base.Engine PRAGMA main.foreign_key_list(\"nfl_attendance_clean\")\n",
      "2020-10-18 19:54:51,510 INFO sqlalchemy.engine.base.Engine ()\n",
      "2020-10-18 19:54:51,511 INFO sqlalchemy.engine.base.Engine PRAGMA temp.foreign_key_list(\"nfl_attendance_clean\")\n",
      "2020-10-18 19:54:51,511 INFO sqlalchemy.engine.base.Engine ()\n",
      "2020-10-18 19:54:51,512 INFO sqlalchemy.engine.base.Engine SELECT sql FROM  (SELECT * FROM sqlite_master UNION ALL   SELECT * FROM sqlite_temp_master) WHERE name = 'nfl_attendance_clean' AND type = 'table'\n",
      "2020-10-18 19:54:51,513 INFO sqlalchemy.engine.base.Engine ()\n",
      "2020-10-18 19:54:51,514 INFO sqlalchemy.engine.base.Engine PRAGMA main.index_list(\"nfl_attendance_clean\")\n",
      "2020-10-18 19:54:51,515 INFO sqlalchemy.engine.base.Engine ()\n",
      "2020-10-18 19:54:51,516 INFO sqlalchemy.engine.base.Engine PRAGMA main.index_info(\"ix_nfl_attendance_clean_index\")\n",
      "2020-10-18 19:54:51,516 INFO sqlalchemy.engine.base.Engine ()\n",
      "2020-10-18 19:54:51,517 INFO sqlalchemy.engine.base.Engine PRAGMA main.index_list(\"nfl_attendance_clean\")\n",
      "2020-10-18 19:54:51,518 INFO sqlalchemy.engine.base.Engine ()\n",
      "2020-10-18 19:54:51,519 INFO sqlalchemy.engine.base.Engine PRAGMA main.index_info(\"ix_nfl_attendance_clean_index\")\n",
      "2020-10-18 19:54:51,520 INFO sqlalchemy.engine.base.Engine ()\n",
      "2020-10-18 19:54:51,521 INFO sqlalchemy.engine.base.Engine SELECT sql FROM  (SELECT * FROM sqlite_master UNION ALL   SELECT * FROM sqlite_temp_master) WHERE name = 'nfl_attendance_clean' AND type = 'table'\n",
      "2020-10-18 19:54:51,522 INFO sqlalchemy.engine.base.Engine ()\n"
     ]
    },
    {
     "output_type": "execute_result",
     "data": {
      "text/plain": [
       "['mlb3', 'nba_table', 'nfl']"
      ]
     },
     "metadata": {},
     "execution_count": 50
    }
   ],
   "source": [
    "Base=automap_base()\n",
    "Base.prepare(sqlite_connection, reflect=True)\n",
    "Base.classes.keys()"
   ]
  },
  {
   "cell_type": "code",
   "execution_count": 51,
   "metadata": {},
   "outputs": [
    {
     "output_type": "stream",
     "name": "stdout",
     "text": [
      "2020-10-18 19:54:51,562 INFO sqlalchemy.engine.base.Engine select * from nfl\n",
      "2020-10-18 19:54:51,563 INFO sqlalchemy.engine.base.Engine ()\n"
     ]
    },
    {
     "output_type": "execute_result",
     "data": {
      "text/plain": [
       "[]"
      ]
     },
     "metadata": {},
     "execution_count": 51
    }
   ],
   "source": [
    "# sqlite_connection.execute('insert into nfl select * from nfl_attendance_clean')\n",
    "sqlite_connection.execute('select * from nfl').fetchall()"
   ]
  },
  {
   "cell_type": "code",
   "execution_count": 52,
   "metadata": {},
   "outputs": [],
   "source": [
    "##Data is now cleaned and extracted & put into its own df. \n",
    "nfl_attendance.to_csv(\"nfl.csv\")"
   ]
  },
  {
   "cell_type": "code",
   "execution_count": null,
   "metadata": {},
   "outputs": [],
   "source": []
  }
 ],
 "metadata": {
  "kernelspec": {
   "display_name": "Python 3",
   "language": "python",
   "name": "python3"
  },
  "language_info": {
   "codemirror_mode": {
    "name": "ipython",
    "version": 3
   },
   "file_extension": ".py",
   "mimetype": "text/x-python",
   "name": "python",
   "nbconvert_exporter": "python",
   "pygments_lexer": "ipython3",
   "version": "3.7.6-final"
  }
 },
 "nbformat": 4,
 "nbformat_minor": 4
}