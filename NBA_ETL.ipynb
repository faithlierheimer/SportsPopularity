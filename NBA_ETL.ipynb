{
 "metadata": {
  "language_info": {
   "codemirror_mode": {
    "name": "ipython",
    "version": 3
   },
   "file_extension": ".py",
   "mimetype": "text/x-python",
   "name": "python",
   "nbconvert_exporter": "python",
   "pygments_lexer": "ipython3",
   "version": "3.7.6-final"
  },
  "orig_nbformat": 2,
  "kernelspec": {
   "name": "Python 3.7.6 64-bit ('base': conda)",
   "display_name": "Python 3.7.6 64-bit ('base': conda)",
   "metadata": {
    "interpreter": {
     "hash": "b1cd1f2db86307b85f4648316dd1b4551648f95fc030d08f93835ccad0fccc0b"
    }
   }
  }
 },
 "nbformat": 4,
 "nbformat_minor": 2,
 "cells": [
  {
   "cell_type": "code",
   "execution_count": 1,
   "metadata": {},
   "outputs": [],
   "source": [
    "#Dependencies \n",
    "import pandas as pd \n",
    "import sqlalchemy\n",
    "from sqlalchemy.ext.automap import automap_base\n",
    "from sqlalchemy.orm import Session\n",
    "from sqlalchemy import create_engine, func\n",
    "from config import gkey\n",
    "import requests\n",
    "import json\n",
    "import time"
   ]
  },
  {
   "cell_type": "code",
   "execution_count": 2,
   "metadata": {},
   "outputs": [],
   "source": [
    "data = \"http://www.espn.com/nba/attendance/_/year/2019\"\n",
    "nba_attendance = pd.read_html(data)"
   ]
  },
  {
   "cell_type": "code",
   "execution_count": 3,
   "metadata": {},
   "outputs": [
    {
     "output_type": "execute_result",
     "data": {
      "text/plain": [
       "             team total_attendance\n",
       "2           76ers           838092\n",
       "18          Bucks           721692\n",
       "3           Bulls           823475\n",
       "9       Cavaliers           793337\n",
       "12        Celtics           763584\n",
       "21       Clippers           710327\n",
       "27      Grizzlies           607564\n",
       "28          Hawks           628440\n",
       "6            Heat           805264\n",
       "24        Hornets           676570\n",
       "15           Jazz           750546\n",
       "22          Kings           700975\n",
       "11         Lakers           778877\n",
       "19          Magic           720024\n",
       "4       Mavericks           820569\n",
       "10      NY Knicks           779087\n",
       "31           Nets           612597\n",
       "13        Nuggets           756457\n",
       "23         Pacers           689310\n",
       "26       Pelicans           656183\n",
       "25        Pistons           675963\n",
       "5         Raptors           812822\n",
       "17        Rockets           740392\n",
       "14          Spurs           750616\n",
       "30           Suns           627023\n",
       "16        Thunder           746323\n",
       "29   Timberwolves           627543\n",
       "8   Trail Blazers           799345\n",
       "7        Warriors           803436\n",
       "20        Wizards           716996"
      ],
      "text/html": "<div>\n<style scoped>\n    .dataframe tbody tr th:only-of-type {\n        vertical-align: middle;\n    }\n\n    .dataframe tbody tr th {\n        vertical-align: top;\n    }\n\n    .dataframe thead th {\n        text-align: right;\n    }\n</style>\n<table border=\"1\" class=\"dataframe\">\n  <thead>\n    <tr style=\"text-align: right;\">\n      <th></th>\n      <th>team</th>\n      <th>total_attendance</th>\n    </tr>\n  </thead>\n  <tbody>\n    <tr>\n      <th>2</th>\n      <td>76ers</td>\n      <td>838092</td>\n    </tr>\n    <tr>\n      <th>18</th>\n      <td>Bucks</td>\n      <td>721692</td>\n    </tr>\n    <tr>\n      <th>3</th>\n      <td>Bulls</td>\n      <td>823475</td>\n    </tr>\n    <tr>\n      <th>9</th>\n      <td>Cavaliers</td>\n      <td>793337</td>\n    </tr>\n    <tr>\n      <th>12</th>\n      <td>Celtics</td>\n      <td>763584</td>\n    </tr>\n    <tr>\n      <th>21</th>\n      <td>Clippers</td>\n      <td>710327</td>\n    </tr>\n    <tr>\n      <th>27</th>\n      <td>Grizzlies</td>\n      <td>607564</td>\n    </tr>\n    <tr>\n      <th>28</th>\n      <td>Hawks</td>\n      <td>628440</td>\n    </tr>\n    <tr>\n      <th>6</th>\n      <td>Heat</td>\n      <td>805264</td>\n    </tr>\n    <tr>\n      <th>24</th>\n      <td>Hornets</td>\n      <td>676570</td>\n    </tr>\n    <tr>\n      <th>15</th>\n      <td>Jazz</td>\n      <td>750546</td>\n    </tr>\n    <tr>\n      <th>22</th>\n      <td>Kings</td>\n      <td>700975</td>\n    </tr>\n    <tr>\n      <th>11</th>\n      <td>Lakers</td>\n      <td>778877</td>\n    </tr>\n    <tr>\n      <th>19</th>\n      <td>Magic</td>\n      <td>720024</td>\n    </tr>\n    <tr>\n      <th>4</th>\n      <td>Mavericks</td>\n      <td>820569</td>\n    </tr>\n    <tr>\n      <th>10</th>\n      <td>NY Knicks</td>\n      <td>779087</td>\n    </tr>\n    <tr>\n      <th>31</th>\n      <td>Nets</td>\n      <td>612597</td>\n    </tr>\n    <tr>\n      <th>13</th>\n      <td>Nuggets</td>\n      <td>756457</td>\n    </tr>\n    <tr>\n      <th>23</th>\n      <td>Pacers</td>\n      <td>689310</td>\n    </tr>\n    <tr>\n      <th>26</th>\n      <td>Pelicans</td>\n      <td>656183</td>\n    </tr>\n    <tr>\n      <th>25</th>\n      <td>Pistons</td>\n      <td>675963</td>\n    </tr>\n    <tr>\n      <th>5</th>\n      <td>Raptors</td>\n      <td>812822</td>\n    </tr>\n    <tr>\n      <th>17</th>\n      <td>Rockets</td>\n      <td>740392</td>\n    </tr>\n    <tr>\n      <th>14</th>\n      <td>Spurs</td>\n      <td>750616</td>\n    </tr>\n    <tr>\n      <th>30</th>\n      <td>Suns</td>\n      <td>627023</td>\n    </tr>\n    <tr>\n      <th>16</th>\n      <td>Thunder</td>\n      <td>746323</td>\n    </tr>\n    <tr>\n      <th>29</th>\n      <td>Timberwolves</td>\n      <td>627543</td>\n    </tr>\n    <tr>\n      <th>8</th>\n      <td>Trail Blazers</td>\n      <td>799345</td>\n    </tr>\n    <tr>\n      <th>7</th>\n      <td>Warriors</td>\n      <td>803436</td>\n    </tr>\n    <tr>\n      <th>20</th>\n      <td>Wizards</td>\n      <td>716996</td>\n    </tr>\n  </tbody>\n</table>\n</div>"
     },
     "metadata": {},
     "execution_count": 3
    }
   ],
   "source": [
    "nba_attendance=nba_attendance[0].drop([0])\n",
    "nba_attendance.columns=nba_attendance.iloc[0]\n",
    "nba_attendance=nba_attendance.drop([1])\n",
    "nba_attendance=nba_attendance.drop(['GMS','AVG','PCT','RK'],axis=1)\n",
    "nba_attendance.columns = [\"team\", \"total_attendance\"]\n",
    "nba_attendance=nba_attendance.sort_values(\"team\")\n",
    "nba_attendance=nba_attendance[nba_attendance[\"total_attendance\"]!=\"0\"]\n",
    "nba_attendance"
   ]
  },
  {
   "cell_type": "code",
   "execution_count": 4,
   "metadata": {},
   "outputs": [],
   "source": [
    "url = \"https://en.wikipedia.org/wiki/List_of_National_Basketball_Association_arenas\"\n",
    "nba_capacities = pd.read_html(url)"
   ]
  },
  {
   "cell_type": "code",
   "execution_count": 5,
   "metadata": {},
   "outputs": [
    {
     "output_type": "execute_result",
     "data": {
      "text/plain": [
       "                         Arena                 Team(s)  Capacity Lat Lng\n",
       "0      American Airlines Arena              Miami Heat     19600        \n",
       "1     American Airlines Center        Dallas Mavericks     19200        \n",
       "2                 Amway Center           Orlando Magic     18846        \n",
       "3                  AT&T Center       San Antonio Spurs     18418        \n",
       "4      Bankers Life Fieldhouse          Indiana Pacers     17923        \n",
       "5              Barclays Center           Brooklyn Nets     17732        \n",
       "6            Capital One Arena      Washington Wizards     20356        \n",
       "7                 Chase Center   Golden State Warriors     18064        \n",
       "8      Chesapeake Energy Arena   Oklahoma City Thunder     18203        \n",
       "9                   FedExForum       Memphis Grizzlies     17794        \n",
       "10                Fiserv Forum         Milwaukee Bucks     17500        \n",
       "11             Golden 1 Center        Sacramento Kings     17583        \n",
       "12        Little Caesars Arena         Detroit Pistons     20332        \n",
       "13       Madison Square Garden         New York Knicks     19812        \n",
       "14                 Moda Center  Portland Trail Blazers     19441        \n",
       "15                Pepsi Center          Denver Nuggets     19520        \n",
       "16  Rocket Mortgage FieldHouse     Cleveland Cavaliers     19432        \n",
       "17            Scotiabank Arena         Toronto Raptors     19800        \n",
       "18        Smoothie King Center    New Orleans Pelicans     16867        \n",
       "19             Spectrum Center       Charlotte Hornets     19077        \n",
       "20              Staples Center    Los Angeles Clippers     19068        \n",
       "21              Staples Center      Los Angeles Lakers     18997        \n",
       "22            State Farm Arena           Atlanta Hawks     18118        \n",
       "23  Talking Stick Resort Arena            Phoenix Suns     18055        \n",
       "24               Target Center  Minnesota Timberwolves     18978        \n",
       "25                   TD Garden          Boston Celtics     18624        \n",
       "26               Toyota Center         Houston Rockets     18055        \n",
       "27               United Center           Chicago Bulls     20917        \n",
       "28     Vivint Smart Home Arena               Utah Jazz     18306        \n",
       "29          Wells Fargo Center      Philadelphia 76ers     20478        "
      ],
      "text/html": "<div>\n<style scoped>\n    .dataframe tbody tr th:only-of-type {\n        vertical-align: middle;\n    }\n\n    .dataframe tbody tr th {\n        vertical-align: top;\n    }\n\n    .dataframe thead th {\n        text-align: right;\n    }\n</style>\n<table border=\"1\" class=\"dataframe\">\n  <thead>\n    <tr style=\"text-align: right;\">\n      <th></th>\n      <th>Arena</th>\n      <th>Team(s)</th>\n      <th>Capacity</th>\n      <th>Lat</th>\n      <th>Lng</th>\n    </tr>\n  </thead>\n  <tbody>\n    <tr>\n      <th>0</th>\n      <td>American Airlines Arena</td>\n      <td>Miami Heat</td>\n      <td>19600</td>\n      <td></td>\n      <td></td>\n    </tr>\n    <tr>\n      <th>1</th>\n      <td>American Airlines Center</td>\n      <td>Dallas Mavericks</td>\n      <td>19200</td>\n      <td></td>\n      <td></td>\n    </tr>\n    <tr>\n      <th>2</th>\n      <td>Amway Center</td>\n      <td>Orlando Magic</td>\n      <td>18846</td>\n      <td></td>\n      <td></td>\n    </tr>\n    <tr>\n      <th>3</th>\n      <td>AT&amp;T Center</td>\n      <td>San Antonio Spurs</td>\n      <td>18418</td>\n      <td></td>\n      <td></td>\n    </tr>\n    <tr>\n      <th>4</th>\n      <td>Bankers Life Fieldhouse</td>\n      <td>Indiana Pacers</td>\n      <td>17923</td>\n      <td></td>\n      <td></td>\n    </tr>\n    <tr>\n      <th>5</th>\n      <td>Barclays Center</td>\n      <td>Brooklyn Nets</td>\n      <td>17732</td>\n      <td></td>\n      <td></td>\n    </tr>\n    <tr>\n      <th>6</th>\n      <td>Capital One Arena</td>\n      <td>Washington Wizards</td>\n      <td>20356</td>\n      <td></td>\n      <td></td>\n    </tr>\n    <tr>\n      <th>7</th>\n      <td>Chase Center</td>\n      <td>Golden State Warriors</td>\n      <td>18064</td>\n      <td></td>\n      <td></td>\n    </tr>\n    <tr>\n      <th>8</th>\n      <td>Chesapeake Energy Arena</td>\n      <td>Oklahoma City Thunder</td>\n      <td>18203</td>\n      <td></td>\n      <td></td>\n    </tr>\n    <tr>\n      <th>9</th>\n      <td>FedExForum</td>\n      <td>Memphis Grizzlies</td>\n      <td>17794</td>\n      <td></td>\n      <td></td>\n    </tr>\n    <tr>\n      <th>10</th>\n      <td>Fiserv Forum</td>\n      <td>Milwaukee Bucks</td>\n      <td>17500</td>\n      <td></td>\n      <td></td>\n    </tr>\n    <tr>\n      <th>11</th>\n      <td>Golden 1 Center</td>\n      <td>Sacramento Kings</td>\n      <td>17583</td>\n      <td></td>\n      <td></td>\n    </tr>\n    <tr>\n      <th>12</th>\n      <td>Little Caesars Arena</td>\n      <td>Detroit Pistons</td>\n      <td>20332</td>\n      <td></td>\n      <td></td>\n    </tr>\n    <tr>\n      <th>13</th>\n      <td>Madison Square Garden</td>\n      <td>New York Knicks</td>\n      <td>19812</td>\n      <td></td>\n      <td></td>\n    </tr>\n    <tr>\n      <th>14</th>\n      <td>Moda Center</td>\n      <td>Portland Trail Blazers</td>\n      <td>19441</td>\n      <td></td>\n      <td></td>\n    </tr>\n    <tr>\n      <th>15</th>\n      <td>Pepsi Center</td>\n      <td>Denver Nuggets</td>\n      <td>19520</td>\n      <td></td>\n      <td></td>\n    </tr>\n    <tr>\n      <th>16</th>\n      <td>Rocket Mortgage FieldHouse</td>\n      <td>Cleveland Cavaliers</td>\n      <td>19432</td>\n      <td></td>\n      <td></td>\n    </tr>\n    <tr>\n      <th>17</th>\n      <td>Scotiabank Arena</td>\n      <td>Toronto Raptors</td>\n      <td>19800</td>\n      <td></td>\n      <td></td>\n    </tr>\n    <tr>\n      <th>18</th>\n      <td>Smoothie King Center</td>\n      <td>New Orleans Pelicans</td>\n      <td>16867</td>\n      <td></td>\n      <td></td>\n    </tr>\n    <tr>\n      <th>19</th>\n      <td>Spectrum Center</td>\n      <td>Charlotte Hornets</td>\n      <td>19077</td>\n      <td></td>\n      <td></td>\n    </tr>\n    <tr>\n      <th>20</th>\n      <td>Staples Center</td>\n      <td>Los Angeles Clippers</td>\n      <td>19068</td>\n      <td></td>\n      <td></td>\n    </tr>\n    <tr>\n      <th>21</th>\n      <td>Staples Center</td>\n      <td>Los Angeles Lakers</td>\n      <td>18997</td>\n      <td></td>\n      <td></td>\n    </tr>\n    <tr>\n      <th>22</th>\n      <td>State Farm Arena</td>\n      <td>Atlanta Hawks</td>\n      <td>18118</td>\n      <td></td>\n      <td></td>\n    </tr>\n    <tr>\n      <th>23</th>\n      <td>Talking Stick Resort Arena</td>\n      <td>Phoenix Suns</td>\n      <td>18055</td>\n      <td></td>\n      <td></td>\n    </tr>\n    <tr>\n      <th>24</th>\n      <td>Target Center</td>\n      <td>Minnesota Timberwolves</td>\n      <td>18978</td>\n      <td></td>\n      <td></td>\n    </tr>\n    <tr>\n      <th>25</th>\n      <td>TD Garden</td>\n      <td>Boston Celtics</td>\n      <td>18624</td>\n      <td></td>\n      <td></td>\n    </tr>\n    <tr>\n      <th>26</th>\n      <td>Toyota Center</td>\n      <td>Houston Rockets</td>\n      <td>18055</td>\n      <td></td>\n      <td></td>\n    </tr>\n    <tr>\n      <th>27</th>\n      <td>United Center</td>\n      <td>Chicago Bulls</td>\n      <td>20917</td>\n      <td></td>\n      <td></td>\n    </tr>\n    <tr>\n      <th>28</th>\n      <td>Vivint Smart Home Arena</td>\n      <td>Utah Jazz</td>\n      <td>18306</td>\n      <td></td>\n      <td></td>\n    </tr>\n    <tr>\n      <th>29</th>\n      <td>Wells Fargo Center</td>\n      <td>Philadelphia 76ers</td>\n      <td>20478</td>\n      <td></td>\n      <td></td>\n    </tr>\n  </tbody>\n</table>\n</div>"
     },
     "metadata": {},
     "execution_count": 5
    }
   ],
   "source": [
    "nba_capacities = nba_capacities[0].drop(['Image','Location','Opened','Ref(s)'],axis=1)\n",
    "nba_capacities[\"Lat\"]=\"\"\n",
    "nba_capacities[\"Lng\"]=\"\"\n",
    "nba_capacities"
   ]
  },
  {
   "cell_type": "code",
   "execution_count": 6,
   "metadata": {},
   "outputs": [
    {
     "output_type": "stream",
     "name": "stdout",
     "text": [
      "Complete\n"
     ]
    }
   ],
   "source": [
    "params={\"key\":gkey}\n",
    "for index,row in nba_capacities.iterrows():\n",
    "    base_url=\"https://maps.googleapis.com/maps/api/geocode/json\"\n",
    "    arena=row[\"Arena\"]\n",
    "    params[\"address\"]=arena\n",
    "    result=requests.get(base_url, params=params)\n",
    "    result=result.json()\n",
    "    try:    \n",
    "        nba_capacities.loc[index, \"Lat\"] = result[\"results\"][0][\"geometry\"][\"location\"][\"lat\"]\n",
    "        nba_capacities.loc[index, \"Lng\"] = result[\"results\"][0][\"geometry\"][\"location\"][\"lng\"]\n",
    "        time.sleep(1)\n",
    "    except (IndexError, KeyError):\n",
    "        print(\"results not found...skipping\")\n",
    "        time.sleep(1)\n",
    "print(\"Complete\")"
   ]
  },
  {
   "cell_type": "code",
   "execution_count": 16,
   "metadata": {},
   "outputs": [
    {
     "output_type": "execute_result",
     "data": {
      "text/plain": [
       "               Arena            Team(s)  Capacity      Lat      Lng\n",
       "22  State Farm Arena      Atlanta Hawks     18118  33.7573 -84.3963\n",
       "25         TD Garden     Boston Celtics     18624  42.3662 -71.0621\n",
       "5    Barclays Center      Brooklyn Nets     17732  40.6826 -73.9754\n",
       "19   Spectrum Center  Charlotte Hornets     19077  35.2252 -80.8394\n",
       "27     United Center      Chicago Bulls     20917  41.8807 -87.6742"
      ],
      "text/html": "<div>\n<style scoped>\n    .dataframe tbody tr th:only-of-type {\n        vertical-align: middle;\n    }\n\n    .dataframe tbody tr th {\n        vertical-align: top;\n    }\n\n    .dataframe thead th {\n        text-align: right;\n    }\n</style>\n<table border=\"1\" class=\"dataframe\">\n  <thead>\n    <tr style=\"text-align: right;\">\n      <th></th>\n      <th>Arena</th>\n      <th>Team(s)</th>\n      <th>Capacity</th>\n      <th>Lat</th>\n      <th>Lng</th>\n    </tr>\n  </thead>\n  <tbody>\n    <tr>\n      <th>22</th>\n      <td>State Farm Arena</td>\n      <td>Atlanta Hawks</td>\n      <td>18118</td>\n      <td>33.7573</td>\n      <td>-84.3963</td>\n    </tr>\n    <tr>\n      <th>25</th>\n      <td>TD Garden</td>\n      <td>Boston Celtics</td>\n      <td>18624</td>\n      <td>42.3662</td>\n      <td>-71.0621</td>\n    </tr>\n    <tr>\n      <th>5</th>\n      <td>Barclays Center</td>\n      <td>Brooklyn Nets</td>\n      <td>17732</td>\n      <td>40.6826</td>\n      <td>-73.9754</td>\n    </tr>\n    <tr>\n      <th>19</th>\n      <td>Spectrum Center</td>\n      <td>Charlotte Hornets</td>\n      <td>19077</td>\n      <td>35.2252</td>\n      <td>-80.8394</td>\n    </tr>\n    <tr>\n      <th>27</th>\n      <td>United Center</td>\n      <td>Chicago Bulls</td>\n      <td>20917</td>\n      <td>41.8807</td>\n      <td>-87.6742</td>\n    </tr>\n  </tbody>\n</table>\n</div>"
     },
     "metadata": {},
     "execution_count": 16
    }
   ],
   "source": [
    "nba_capacities=nba_capacities.sort_values(\"Team(s)\")\n",
    "nba_capacities.head()\n"
   ]
  },
  {
   "cell_type": "code",
   "execution_count": 9,
   "metadata": {},
   "outputs": [
    {
     "output_type": "execute_result",
     "data": {
      "text/plain": [
       "         team total_attendance\n",
       "2       76ers           838092\n",
       "18      Bucks           721692\n",
       "3       Bulls           823475\n",
       "9   Cavaliers           793337\n",
       "12    Celtics           763584"
      ],
      "text/html": "<div>\n<style scoped>\n    .dataframe tbody tr th:only-of-type {\n        vertical-align: middle;\n    }\n\n    .dataframe tbody tr th {\n        vertical-align: top;\n    }\n\n    .dataframe thead th {\n        text-align: right;\n    }\n</style>\n<table border=\"1\" class=\"dataframe\">\n  <thead>\n    <tr style=\"text-align: right;\">\n      <th></th>\n      <th>team</th>\n      <th>total_attendance</th>\n    </tr>\n  </thead>\n  <tbody>\n    <tr>\n      <th>2</th>\n      <td>76ers</td>\n      <td>838092</td>\n    </tr>\n    <tr>\n      <th>18</th>\n      <td>Bucks</td>\n      <td>721692</td>\n    </tr>\n    <tr>\n      <th>3</th>\n      <td>Bulls</td>\n      <td>823475</td>\n    </tr>\n    <tr>\n      <th>9</th>\n      <td>Cavaliers</td>\n      <td>793337</td>\n    </tr>\n    <tr>\n      <th>12</th>\n      <td>Celtics</td>\n      <td>763584</td>\n    </tr>\n  </tbody>\n</table>\n</div>"
     },
     "metadata": {},
     "execution_count": 9
    }
   ],
   "source": [
    "nba_attendance.head()"
   ]
  },
  {
   "cell_type": "code",
   "execution_count": 18,
   "metadata": {},
   "outputs": [
    {
     "output_type": "error",
     "ename": "TypeError",
     "evalue": "No matching signature found",
     "traceback": [
      "\u001b[1;31m---------------------------------------------------------------------------\u001b[0m",
      "\u001b[1;31mTypeError\u001b[0m                                 Traceback (most recent call last)",
      "\u001b[1;32m<ipython-input-18-199ee0cef345>\u001b[0m in \u001b[0;36m<module>\u001b[1;34m\u001b[0m\n\u001b[1;32m----> 1\u001b[1;33m \u001b[0mnba_data\u001b[0m\u001b[1;33m=\u001b[0m\u001b[0mpd\u001b[0m\u001b[1;33m.\u001b[0m\u001b[0mmerge_asof\u001b[0m\u001b[1;33m(\u001b[0m\u001b[0mnba_capacities\u001b[0m\u001b[1;33m,\u001b[0m \u001b[0mnba_attendance\u001b[0m\u001b[1;33m,\u001b[0m \u001b[0mleft_on\u001b[0m\u001b[1;33m=\u001b[0m\u001b[1;34m\"Team(s)\"\u001b[0m\u001b[1;33m,\u001b[0m\u001b[0mright_on\u001b[0m\u001b[1;33m=\u001b[0m\u001b[1;34m\"team\"\u001b[0m\u001b[1;33m)\u001b[0m\u001b[1;33m\u001b[0m\u001b[1;33m\u001b[0m\u001b[0m\n\u001b[0m\u001b[0;32m      2\u001b[0m \u001b[0mnba_data\u001b[0m\u001b[1;33m\u001b[0m\u001b[1;33m\u001b[0m\u001b[0m\n",
      "\u001b[1;32m~\\anaconda3\\lib\\site-packages\\pandas\\core\\reshape\\merge.py\u001b[0m in \u001b[0;36mmerge_asof\u001b[1;34m(left, right, on, left_on, right_on, left_index, right_index, by, left_by, right_by, suffixes, tolerance, allow_exact_matches, direction)\u001b[0m\n\u001b[0;32m    539\u001b[0m         \u001b[0mdirection\u001b[0m\u001b[1;33m=\u001b[0m\u001b[0mdirection\u001b[0m\u001b[1;33m,\u001b[0m\u001b[1;33m\u001b[0m\u001b[1;33m\u001b[0m\u001b[0m\n\u001b[0;32m    540\u001b[0m     )\n\u001b[1;32m--> 541\u001b[1;33m     \u001b[1;32mreturn\u001b[0m \u001b[0mop\u001b[0m\u001b[1;33m.\u001b[0m\u001b[0mget_result\u001b[0m\u001b[1;33m(\u001b[0m\u001b[1;33m)\u001b[0m\u001b[1;33m\u001b[0m\u001b[1;33m\u001b[0m\u001b[0m\n\u001b[0m\u001b[0;32m    542\u001b[0m \u001b[1;33m\u001b[0m\u001b[0m\n\u001b[0;32m    543\u001b[0m \u001b[1;33m\u001b[0m\u001b[0m\n",
      "\u001b[1;32m~\\anaconda3\\lib\\site-packages\\pandas\\core\\reshape\\merge.py\u001b[0m in \u001b[0;36mget_result\u001b[1;34m(self)\u001b[0m\n\u001b[0;32m   1459\u001b[0m \u001b[1;33m\u001b[0m\u001b[0m\n\u001b[0;32m   1460\u001b[0m     \u001b[1;32mdef\u001b[0m \u001b[0mget_result\u001b[0m\u001b[1;33m(\u001b[0m\u001b[0mself\u001b[0m\u001b[1;33m)\u001b[0m\u001b[1;33m:\u001b[0m\u001b[1;33m\u001b[0m\u001b[1;33m\u001b[0m\u001b[0m\n\u001b[1;32m-> 1461\u001b[1;33m         \u001b[0mjoin_index\u001b[0m\u001b[1;33m,\u001b[0m \u001b[0mleft_indexer\u001b[0m\u001b[1;33m,\u001b[0m \u001b[0mright_indexer\u001b[0m \u001b[1;33m=\u001b[0m \u001b[0mself\u001b[0m\u001b[1;33m.\u001b[0m\u001b[0m_get_join_info\u001b[0m\u001b[1;33m(\u001b[0m\u001b[1;33m)\u001b[0m\u001b[1;33m\u001b[0m\u001b[1;33m\u001b[0m\u001b[0m\n\u001b[0m\u001b[0;32m   1462\u001b[0m \u001b[1;33m\u001b[0m\u001b[0m\n\u001b[0;32m   1463\u001b[0m         \u001b[1;31m# this is a bit kludgy\u001b[0m\u001b[1;33m\u001b[0m\u001b[1;33m\u001b[0m\u001b[1;33m\u001b[0m\u001b[0m\n",
      "\u001b[1;32m~\\anaconda3\\lib\\site-packages\\pandas\\core\\reshape\\merge.py\u001b[0m in \u001b[0;36m_get_join_info\u001b[1;34m(self)\u001b[0m\n\u001b[0;32m    860\u001b[0m             )\n\u001b[0;32m    861\u001b[0m         \u001b[1;32melse\u001b[0m\u001b[1;33m:\u001b[0m\u001b[1;33m\u001b[0m\u001b[1;33m\u001b[0m\u001b[0m\n\u001b[1;32m--> 862\u001b[1;33m             \u001b[1;33m(\u001b[0m\u001b[0mleft_indexer\u001b[0m\u001b[1;33m,\u001b[0m \u001b[0mright_indexer\u001b[0m\u001b[1;33m)\u001b[0m \u001b[1;33m=\u001b[0m \u001b[0mself\u001b[0m\u001b[1;33m.\u001b[0m\u001b[0m_get_join_indexers\u001b[0m\u001b[1;33m(\u001b[0m\u001b[1;33m)\u001b[0m\u001b[1;33m\u001b[0m\u001b[1;33m\u001b[0m\u001b[0m\n\u001b[0m\u001b[0;32m    863\u001b[0m \u001b[1;33m\u001b[0m\u001b[0m\n\u001b[0;32m    864\u001b[0m             \u001b[1;32mif\u001b[0m \u001b[0mself\u001b[0m\u001b[1;33m.\u001b[0m\u001b[0mright_index\u001b[0m\u001b[1;33m:\u001b[0m\u001b[1;33m\u001b[0m\u001b[1;33m\u001b[0m\u001b[0m\n",
      "\u001b[1;32m~\\anaconda3\\lib\\site-packages\\pandas\\core\\reshape\\merge.py\u001b[0m in \u001b[0;36m_get_join_indexers\u001b[1;34m(self)\u001b[0m\n\u001b[0;32m   1777\u001b[0m             \u001b[1;31m# choose appropriate function by type\u001b[0m\u001b[1;33m\u001b[0m\u001b[1;33m\u001b[0m\u001b[1;33m\u001b[0m\u001b[0m\n\u001b[0;32m   1778\u001b[0m             \u001b[0mfunc\u001b[0m \u001b[1;33m=\u001b[0m \u001b[0m_asof_function\u001b[0m\u001b[1;33m(\u001b[0m\u001b[0mself\u001b[0m\u001b[1;33m.\u001b[0m\u001b[0mdirection\u001b[0m\u001b[1;33m)\u001b[0m\u001b[1;33m\u001b[0m\u001b[1;33m\u001b[0m\u001b[0m\n\u001b[1;32m-> 1779\u001b[1;33m             \u001b[1;32mreturn\u001b[0m \u001b[0mfunc\u001b[0m\u001b[1;33m(\u001b[0m\u001b[0mleft_values\u001b[0m\u001b[1;33m,\u001b[0m \u001b[0mright_values\u001b[0m\u001b[1;33m,\u001b[0m \u001b[0mself\u001b[0m\u001b[1;33m.\u001b[0m\u001b[0mallow_exact_matches\u001b[0m\u001b[1;33m,\u001b[0m \u001b[0mtolerance\u001b[0m\u001b[1;33m)\u001b[0m\u001b[1;33m\u001b[0m\u001b[1;33m\u001b[0m\u001b[0m\n\u001b[0m\u001b[0;32m   1780\u001b[0m \u001b[1;33m\u001b[0m\u001b[0m\n\u001b[0;32m   1781\u001b[0m \u001b[1;33m\u001b[0m\u001b[0m\n",
      "\u001b[1;32mpandas\\_libs\\join.pyx\u001b[0m in \u001b[0;36mpandas._libs.join.__pyx_fused_cpdef\u001b[1;34m()\u001b[0m\n",
      "\u001b[1;31mTypeError\u001b[0m: No matching signature found"
     ]
    }
   ],
   "source": [
    "nba_data=pd.merge_asof(nba_capacities, nba_attendance, left_on=\"Team(s)\",right_on=\"team\")\n",
    "nba_data"
   ]
  }
 ]
}